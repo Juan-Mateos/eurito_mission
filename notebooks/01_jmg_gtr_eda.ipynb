{
 "cells": [
  {
   "cell_type": "markdown",
   "metadata": {},
   "source": [
    "# Mission pilot: GTR EDA\n",
    "\n",
    "In this pilot, we are developing indicators to evaluate the impact of innovation missions.\n",
    "\n",
    "We are doing this with Gateway to Research and Horizon 2020 data, and with two two missions in mind. They are:\n",
    "\n",
    "* Use of AI to diagnose, prevent and treat chronic diseases\n",
    "* Improve quality of life for an aging population\n",
    "\n",
    "We want to write a pipeline that more or less automatically takes keywords related to missions, queries the data and generates indicators and visualisations.\n",
    "\n",
    "The two datasets we are working with have similar structures (*projects linked to organisations and outcomes*) so it would be nice to write a pipeline that allows us to move between sources seamlessly.\n",
    "\n",
    "The output will be a methodology and preliminary findings for a EURITO working paper. Emerging findings will also be relevant for the project mapping innovation in Scotland.\n",
    "\n",
    "## Tasks\n",
    "\n",
    "1. Load and explore GtR data\n",
    "  * Link between projects and outcomes\n",
    "  * Coverage of outcomes\n",
    "  \n",
    "2. Process GtR data\n",
    "  * Classify projects into disciplines\n",
    "  * Label projects with TRLs (this will come from other team-members)\n",
    "\n",
    "3. Create mission fields\n",
    "  * Generate mission-related keywords\n",
    "  * Query the data\n",
    "\n",
    "4. Generate indicators\n",
    "  * Level of activity per mission\n",
    "  * Evolution of activity per mission (absolute and normalised)\n",
    "  * Network structure of mission\n",
    "    * Interdisciplinary activity and its evolution\n",
    "    * Communities involved\n",
    "    * % of relevant fields involved in mission (eg how much of total AI activity is about chronic diseases; how much of aging is about quality of life and well-being)?\n",
    "  * Technological maturity of fields\n",
    "    * Explore distribution of outcomes by mission area\n",
    "    * Generate lists of DOIs (papers) for cross-ref analysis\n",
    "    \n",
    "5. Report\n",
    "   \n",
    "\n",
    "\n",
    "\n",
    "\n",
    "\n",
    "\n",
    "\n"
   ]
  },
  {
   "cell_type": "markdown",
   "metadata": {},
   "source": [
    "### 0. Preamble"
   ]
  },
  {
   "cell_type": "markdown",
   "metadata": {},
   "source": [
    "#### Imports"
   ]
  },
  {
   "cell_type": "code",
   "execution_count": 1,
   "metadata": {},
   "outputs": [],
   "source": [
    "%matplotlib inline\n",
    "import matplotlib.pyplot as plt"
   ]
  },
  {
   "cell_type": "code",
   "execution_count": 55,
   "metadata": {},
   "outputs": [],
   "source": [
    "# Functions\n",
    "\n",
    "def missing_count(df,ax):\n",
    "    '''\n",
    "    Creates a barchart with share of missing values by variable in the data\n",
    "    \n",
    "    '''\n",
    "    \n",
    "    df.apply(lambda x: pd.isnull(x),axis=1).mean().sort_values(ascending=False).plot.bar(ax=ax,color='blue')\n",
    "    \n",
    "def get_year(date):\n",
    "    '''\n",
    "    Extracts years from GTR data. These are strings so we just get the first number\n",
    "    '''\n",
    "    \n",
    "    if pd.isnull(date)==False:\n",
    "        y = date.split('-')[0]\n",
    "        return(int(y))\n",
    "    \n",
    "    else:\n",
    "        return(np.nan)\n",
    "\n"
   ]
  },
  {
   "cell_type": "markdown",
   "metadata": {},
   "source": [
    "### 1. Load GtR data"
   ]
  },
  {
   "cell_type": "markdown",
   "metadata": {},
   "source": [
    "We will load the data in a different Notebook (we need a special environment to use the data getters)"
   ]
  },
  {
   "cell_type": "code",
   "execution_count": 56,
   "metadata": {},
   "outputs": [],
   "source": [
    "my_tables = ['_projects','_organisations','_products','_intellectualproperties','_publications',\n",
    "             'technicalproducts',\n",
    "             '_spinouts','_link_table']"
   ]
  },
  {
   "cell_type": "code",
   "execution_count": 58,
   "metadata": {},
   "outputs": [],
   "source": [
    "all_tables = os.listdir('../data/external/gtr/2019-01-24/')"
   ]
  },
  {
   "cell_type": "code",
   "execution_count": 63,
   "metadata": {},
   "outputs": [
    {
     "name": "stderr",
     "output_type": "stream",
     "text": [
      "/usr/local/lib/python3.7/site-packages/IPython/core/interactiveshell.py:2903: DtypeWarning: Columns (0) have mixed types. Specify dtype option on import or set low_memory=False.\n",
      "  if self.run_code(code, result):\n"
     ]
    }
   ],
   "source": [
    "all_tables = os.listdir('../data/external/gtr/2019-01-24/')\n",
    "\n",
    "#A dict where every item is a df with the key = table name. We do a bit of string manipulation to remove dates etc.\n",
    "my_data = {file.split('_')[-1][:-4]:pd.read_csv('../data/external/gtr/2019-01-24/'+file).iloc[:,1:] for file in all_tables if any(x in file for x in my_tables)}\n"
   ]
  },
  {
   "cell_type": "code",
   "execution_count": 64,
   "metadata": {},
   "outputs": [
    {
     "data": {
      "text/plain": [
       "dict_keys(['table', 'organisations', 'locations', 'intellectualproperties', 'products', 'publications', 'softwareandtechnicalproducts', 'spinouts', 'projects'])"
      ]
     },
     "execution_count": 64,
     "metadata": {},
     "output_type": "execute_result"
    }
   ],
   "source": [
    "my_data.keys()"
   ]
  },
  {
   "cell_type": "code",
   "execution_count": 65,
   "metadata": {},
   "outputs": [
    {
     "data": {
      "text/html": [
       "<div>\n",
       "<style scoped>\n",
       "    .dataframe tbody tr th:only-of-type {\n",
       "        vertical-align: middle;\n",
       "    }\n",
       "\n",
       "    .dataframe tbody tr th {\n",
       "        vertical-align: top;\n",
       "    }\n",
       "\n",
       "    .dataframe thead th {\n",
       "        text-align: right;\n",
       "    }\n",
       "</style>\n",
       "<table border=\"1\" class=\"dataframe\">\n",
       "  <thead>\n",
       "    <tr style=\"text-align: right;\">\n",
       "      <th></th>\n",
       "      <th>id</th>\n",
       "      <th>project_id</th>\n",
       "      <th>rel</th>\n",
       "      <th>table_name</th>\n",
       "    </tr>\n",
       "  </thead>\n",
       "  <tbody>\n",
       "    <tr>\n",
       "      <th>0</th>\n",
       "      <td>00000C13-59F1-419B-9204-77DAFFD2BC35</td>\n",
       "      <td>D80FFDA0-64E3-4DB9-AE0D-2ECEBBDF2081</td>\n",
       "      <td>PUBLICATION</td>\n",
       "      <td>gtr_outcomes_publications</td>\n",
       "    </tr>\n",
       "    <tr>\n",
       "      <th>1</th>\n",
       "      <td>00000D8A-3BFA-4D6C-BB58-8721DA8D36E1</td>\n",
       "      <td>F229B185-CBF1-40D3-94B5-D47996220858</td>\n",
       "      <td>PUBLICATION</td>\n",
       "      <td>gtr_outcomes_publications</td>\n",
       "    </tr>\n",
       "    <tr>\n",
       "      <th>2</th>\n",
       "      <td>00002A95-E2E9-4DBA-8963-5F06E950793D</td>\n",
       "      <td>0364672B-D798-44FA-BA07-0AF4653D32FE</td>\n",
       "      <td>FUND</td>\n",
       "      <td>gtr_funds</td>\n",
       "    </tr>\n",
       "    <tr>\n",
       "      <th>3</th>\n",
       "      <td>00002C86-98D2-4681-992A-E6F180D197C0</td>\n",
       "      <td>5237EE5C-D46C-43E1-92AA-C0C73F5B291B</td>\n",
       "      <td>PI_PER</td>\n",
       "      <td>gtr_persons</td>\n",
       "    </tr>\n",
       "    <tr>\n",
       "      <th>4</th>\n",
       "      <td>00002C86-98D2-4681-992A-E6F180D197C0</td>\n",
       "      <td>92491E00-537A-4072-8877-A9D155E7FA73</td>\n",
       "      <td>SUPER_PER</td>\n",
       "      <td>gtr_persons</td>\n",
       "    </tr>\n",
       "  </tbody>\n",
       "</table>\n",
       "</div>"
      ],
      "text/plain": [
       "                                     id                            project_id  \\\n",
       "0  00000C13-59F1-419B-9204-77DAFFD2BC35  D80FFDA0-64E3-4DB9-AE0D-2ECEBBDF2081   \n",
       "1  00000D8A-3BFA-4D6C-BB58-8721DA8D36E1  F229B185-CBF1-40D3-94B5-D47996220858   \n",
       "2  00002A95-E2E9-4DBA-8963-5F06E950793D  0364672B-D798-44FA-BA07-0AF4653D32FE   \n",
       "3  00002C86-98D2-4681-992A-E6F180D197C0  5237EE5C-D46C-43E1-92AA-C0C73F5B291B   \n",
       "4  00002C86-98D2-4681-992A-E6F180D197C0  92491E00-537A-4072-8877-A9D155E7FA73   \n",
       "\n",
       "           rel                 table_name  \n",
       "0  PUBLICATION  gtr_outcomes_publications  \n",
       "1  PUBLICATION  gtr_outcomes_publications  \n",
       "2         FUND                  gtr_funds  \n",
       "3       PI_PER                gtr_persons  \n",
       "4    SUPER_PER                gtr_persons  "
      ]
     },
     "execution_count": 65,
     "metadata": {},
     "output_type": "execute_result"
    }
   ],
   "source": [
    "#Load the linking file here because we will use it throughout\n",
    "link = my_data['table']\n",
    "\n",
    "link.head()"
   ]
  },
  {
   "cell_type": "markdown",
   "metadata": {},
   "source": [
    "### Projects"
   ]
  },
  {
   "cell_type": "code",
   "execution_count": 67,
   "metadata": {},
   "outputs": [
    {
     "data": {
      "text/html": [
       "<div>\n",
       "<style scoped>\n",
       "    .dataframe tbody tr th:only-of-type {\n",
       "        vertical-align: middle;\n",
       "    }\n",
       "\n",
       "    .dataframe tbody tr th {\n",
       "        vertical-align: top;\n",
       "    }\n",
       "\n",
       "    .dataframe thead th {\n",
       "        text-align: right;\n",
       "    }\n",
       "</style>\n",
       "<table border=\"1\" class=\"dataframe\">\n",
       "  <thead>\n",
       "    <tr style=\"text-align: right;\">\n",
       "      <th></th>\n",
       "      <th>id</th>\n",
       "      <th>end</th>\n",
       "      <th>title</th>\n",
       "      <th>status</th>\n",
       "      <th>grantCategory</th>\n",
       "      <th>leadFunder</th>\n",
       "      <th>abstractText</th>\n",
       "      <th>start</th>\n",
       "      <th>created</th>\n",
       "      <th>leadOrganisationDepartment</th>\n",
       "      <th>potentialImpact</th>\n",
       "      <th>techAbstractText</th>\n",
       "    </tr>\n",
       "  </thead>\n",
       "  <tbody>\n",
       "    <tr>\n",
       "      <th>0</th>\n",
       "      <td>00006CB7-61E0-4946-B7DB-DAE09ED63DE4</td>\n",
       "      <td>NaN</td>\n",
       "      <td>Construction Site Monitoring</td>\n",
       "      <td>Closed</td>\n",
       "      <td>Vouchers</td>\n",
       "      <td>Innovate UK</td>\n",
       "      <td>We take aerial photos of construction sites us...</td>\n",
       "      <td>NaN</td>\n",
       "      <td>2018-11-08 11:38:37</td>\n",
       "      <td>NaN</td>\n",
       "      <td>NaN</td>\n",
       "      <td>NaN</td>\n",
       "    </tr>\n",
       "    <tr>\n",
       "      <th>1</th>\n",
       "      <td>0003C360-5DB8-4930-8266-6218C633A504</td>\n",
       "      <td>NaN</td>\n",
       "      <td>The 'Authoritarian Turn' in Environmental Gove...</td>\n",
       "      <td>Active</td>\n",
       "      <td>Studentship</td>\n",
       "      <td>ESRC</td>\n",
       "      <td>This research will investigate the possibility...</td>\n",
       "      <td>NaN</td>\n",
       "      <td>2018-11-08 11:38:37</td>\n",
       "      <td>Architecture Planning and Landscape</td>\n",
       "      <td>NaN</td>\n",
       "      <td>NaN</td>\n",
       "    </tr>\n",
       "    <tr>\n",
       "      <th>2</th>\n",
       "      <td>000423DA-5A37-4E62-A698-703985CD4E6E</td>\n",
       "      <td>NaN</td>\n",
       "      <td>Proton-driven plasma wakefield acceleration---...</td>\n",
       "      <td>Closed</td>\n",
       "      <td>Research Grant</td>\n",
       "      <td>STFC</td>\n",
       "      <td>Over the last fifty years, accelerators of eve...</td>\n",
       "      <td>NaN</td>\n",
       "      <td>2018-11-08 11:38:37</td>\n",
       "      <td>Physics and Astronomy</td>\n",
       "      <td>This project is naturally a multi-disciplinary...</td>\n",
       "      <td>NaN</td>\n",
       "    </tr>\n",
       "    <tr>\n",
       "      <th>3</th>\n",
       "      <td>000424B1-378E-4AB6-BAEC-CD8607AE08A9</td>\n",
       "      <td>NaN</td>\n",
       "      <td>Mechanisms mediating axon outgrowth in the Dro...</td>\n",
       "      <td>Closed</td>\n",
       "      <td>Research Grant</td>\n",
       "      <td>BBSRC</td>\n",
       "      <td>We are dependent on our nervous system functio...</td>\n",
       "      <td>NaN</td>\n",
       "      <td>2018-11-08 11:38:37</td>\n",
       "      <td>Developmental Neurobiology</td>\n",
       "      <td>The research in this proposal will have a numb...</td>\n",
       "      <td>The formation of the nervous system requires t...</td>\n",
       "    </tr>\n",
       "    <tr>\n",
       "      <th>4</th>\n",
       "      <td>0004C698-0B51-4665-8593-1082BBF58C06</td>\n",
       "      <td>NaN</td>\n",
       "      <td>Ultrahigh resolution NMR: citius, altius, fortius</td>\n",
       "      <td>Active</td>\n",
       "      <td>Research Grant</td>\n",
       "      <td>EPSRC</td>\n",
       "      <td>Understanding the structures and behaviour of ...</td>\n",
       "      <td>NaN</td>\n",
       "      <td>2018-11-08 11:38:37</td>\n",
       "      <td>Chemistry</td>\n",
       "      <td>Who will benefit from this research?\\n\\nNMR is...</td>\n",
       "      <td>NaN</td>\n",
       "    </tr>\n",
       "  </tbody>\n",
       "</table>\n",
       "</div>"
      ],
      "text/plain": [
       "                                     id  end  \\\n",
       "0  00006CB7-61E0-4946-B7DB-DAE09ED63DE4  NaN   \n",
       "1  0003C360-5DB8-4930-8266-6218C633A504  NaN   \n",
       "2  000423DA-5A37-4E62-A698-703985CD4E6E  NaN   \n",
       "3  000424B1-378E-4AB6-BAEC-CD8607AE08A9  NaN   \n",
       "4  0004C698-0B51-4665-8593-1082BBF58C06  NaN   \n",
       "\n",
       "                                               title  status   grantCategory  \\\n",
       "0                       Construction Site Monitoring  Closed        Vouchers   \n",
       "1  The 'Authoritarian Turn' in Environmental Gove...  Active     Studentship   \n",
       "2  Proton-driven plasma wakefield acceleration---...  Closed  Research Grant   \n",
       "3  Mechanisms mediating axon outgrowth in the Dro...  Closed  Research Grant   \n",
       "4  Ultrahigh resolution NMR: citius, altius, fortius  Active  Research Grant   \n",
       "\n",
       "    leadFunder                                       abstractText start  \\\n",
       "0  Innovate UK  We take aerial photos of construction sites us...   NaN   \n",
       "1         ESRC  This research will investigate the possibility...   NaN   \n",
       "2         STFC  Over the last fifty years, accelerators of eve...   NaN   \n",
       "3        BBSRC  We are dependent on our nervous system functio...   NaN   \n",
       "4        EPSRC  Understanding the structures and behaviour of ...   NaN   \n",
       "\n",
       "               created           leadOrganisationDepartment  \\\n",
       "0  2018-11-08 11:38:37                                  NaN   \n",
       "1  2018-11-08 11:38:37  Architecture Planning and Landscape   \n",
       "2  2018-11-08 11:38:37                Physics and Astronomy   \n",
       "3  2018-11-08 11:38:37           Developmental Neurobiology   \n",
       "4  2018-11-08 11:38:37                            Chemistry   \n",
       "\n",
       "                                     potentialImpact  \\\n",
       "0                                                NaN   \n",
       "1                                                NaN   \n",
       "2  This project is naturally a multi-disciplinary...   \n",
       "3  The research in this proposal will have a numb...   \n",
       "4  Who will benefit from this research?\\n\\nNMR is...   \n",
       "\n",
       "                                    techAbstractText  \n",
       "0                                                NaN  \n",
       "1                                                NaN  \n",
       "2                                                NaN  \n",
       "3  The formation of the nervous system requires t...  \n",
       "4                                                NaN  "
      ]
     },
     "execution_count": 67,
     "metadata": {},
     "output_type": "execute_result"
    }
   ],
   "source": [
    "projects = my_data['projects']\n",
    "\n",
    "projects.head()"
   ]
  },
  {
   "cell_type": "markdown",
   "metadata": {},
   "source": [
    "Some rapid observations:\n",
    "\n",
    "* what does start mean?\n",
    "* What does created mean?\n",
    "* abstractText seems to be the main textual description"
   ]
  },
  {
   "cell_type": "code",
   "execution_count": 68,
   "metadata": {},
   "outputs": [
    {
     "data": {
      "text/plain": [
       "Text(0.5,1,'Missing values in Project GTR data')"
      ]
     },
     "execution_count": 68,
     "metadata": {},
     "output_type": "execute_result"
    },
    {
     "data": {
      "image/png": "[encoded data removed]",
      "text/plain": [
       "<Figure size 432x288 with 1 Axes>"
      ]
     },
     "metadata": {},
     "output_type": "display_data"
    }
   ],
   "source": [
    "fig,ax = plt.subplots()\n",
    "\n",
    "missing_count(projects,ax)\n",
    "\n",
    "ax.set_title('Missing values in Project GTR data')"
   ]
  },
  {
   "cell_type": "code",
   "execution_count": 69,
   "metadata": {},
   "outputs": [
    {
     "data": {
      "text/plain": [
       "2018.0    81136\n",
       "2019.0     2048\n",
       "Name: year_created, dtype: int64"
      ]
     },
     "execution_count": 69,
     "metadata": {},
     "output_type": "execute_result"
    }
   ],
   "source": [
    "projects['year_created'] = projects['created'].apply(lambda x: get_year(x))\n",
    "\n",
    "projects['year_created'].value_counts()"
   ]
  },
  {
   "cell_type": "markdown",
   "metadata": {},
   "source": [
    "Created is a data collection variable"
   ]
  },
  {
   "cell_type": "code",
   "execution_count": 70,
   "metadata": {},
   "outputs": [
    {
     "data": {
      "text/plain": [
       "<matplotlib.axes._subplots.AxesSubplot at 0x10b38bda0>"
      ]
     },
     "execution_count": 70,
     "metadata": {},
     "output_type": "execute_result"
    },
    {
     "data": {
      "image/png": "[encoded data removed]",
      "text/plain": [
       "<Figure size 432x288 with 1 Axes>"
      ]
     },
     "metadata": {},
     "output_type": "display_data"
    }
   ],
   "source": [
    "projects['year_started'] = projects['start'].apply(lambda x: get_year(x))\n",
    "\n",
    "projects['year_started'].value_counts().loc[np.arange(2006,2020)].plot.bar(color='blue',title='Started year')"
   ]
  },
  {
   "cell_type": "markdown",
   "metadata": {},
   "source": [
    "Not sure about what `year_stared` means but it doesn't cover many records"
   ]
  },
  {
   "cell_type": "code",
   "execution_count": 71,
   "metadata": {},
   "outputs": [
    {
     "data": {
      "text/plain": [
       "<matplotlib.axes._subplots.AxesSubplot at 0x1d150b2e8>"
      ]
     },
     "execution_count": 71,
     "metadata": {},
     "output_type": "execute_result"
    },
    {
     "data": {
      "image/png": "[encoded data removed]",
      "text/plain": [
       "<Figure size 432x288 with 1 Axes>"
      ]
     },
     "metadata": {},
     "output_type": "display_data"
    }
   ],
   "source": [
    "projects['leadFunder'].value_counts().plot.bar(color='blue',title='funder_distribution')"
   ]
  },
  {
   "cell_type": "markdown",
   "metadata": {},
   "source": [
    "EPSRC and Innovate UK are the most active organisations in the data"
   ]
  },
  {
   "cell_type": "code",
   "execution_count": 72,
   "metadata": {},
   "outputs": [
    {
     "data": {
      "text/plain": [
       "<matplotlib.axes._subplots.AxesSubplot at 0x1d1748940>"
      ]
     },
     "execution_count": 72,
     "metadata": {},
     "output_type": "execute_result"
    },
    {
     "data": {
      "image/png": "[encoded data removed]",
      "text/plain": [
       "<Figure size 432x288 with 1 Axes>"
      ]
     },
     "metadata": {},
     "output_type": "display_data"
    }
   ],
   "source": [
    "projects['grantCategory'].value_counts(normalize=True)[:10].plot.bar(color='blue',title='project types')"
   ]
  },
  {
   "cell_type": "markdown",
   "metadata": {},
   "source": [
    "Research grants are the main category with almost half of the observations"
   ]
  },
  {
   "cell_type": "markdown",
   "metadata": {},
   "source": [
    "##### Does the fund data contain the actual start and end date for the project?"
   ]
  },
  {
   "cell_type": "code",
   "execution_count": 73,
   "metadata": {},
   "outputs": [],
   "source": [
    "fund = pd.read_csv('../data/external/2019-01-18_gtr_funds.csv').iloc[:,1:]"
   ]
  },
  {
   "cell_type": "code",
   "execution_count": 74,
   "metadata": {},
   "outputs": [
    {
     "data": {
      "text/html": [
       "<div>\n",
       "<style scoped>\n",
       "    .dataframe tbody tr th:only-of-type {\n",
       "        vertical-align: middle;\n",
       "    }\n",
       "\n",
       "    .dataframe tbody tr th {\n",
       "        vertical-align: top;\n",
       "    }\n",
       "\n",
       "    .dataframe thead th {\n",
       "        text-align: right;\n",
       "    }\n",
       "</style>\n",
       "<table border=\"1\" class=\"dataframe\">\n",
       "  <thead>\n",
       "    <tr style=\"text-align: right;\">\n",
       "      <th></th>\n",
       "      <th>id</th>\n",
       "      <th>end</th>\n",
       "      <th>start</th>\n",
       "      <th>category</th>\n",
       "      <th>amount</th>\n",
       "      <th>currencyCode</th>\n",
       "    </tr>\n",
       "  </thead>\n",
       "  <tbody>\n",
       "    <tr>\n",
       "      <th>0</th>\n",
       "      <td>00006E7F-2E72-4CE6-81D4-2B603E5E4526</td>\n",
       "      <td>2018-09-30 01:00:00</td>\n",
       "      <td>2014-08-01 01:00:00</td>\n",
       "      <td>INCOME_ACTUAL</td>\n",
       "      <td>379758</td>\n",
       "      <td>GBP</td>\n",
       "    </tr>\n",
       "    <tr>\n",
       "      <th>1</th>\n",
       "      <td>00009856-0B8F-406E-ABC6-F56064AE88E4</td>\n",
       "      <td>2020-11-30 00:00:00</td>\n",
       "      <td>2018-08-01 01:00:00</td>\n",
       "      <td>INCOME_ACTUAL</td>\n",
       "      <td>110498</td>\n",
       "      <td>GBP</td>\n",
       "    </tr>\n",
       "    <tr>\n",
       "      <th>2</th>\n",
       "      <td>0000FBA5-BA5E-423A-8EAC-1EC4D3F03EB2</td>\n",
       "      <td>2020-04-30 01:00:00</td>\n",
       "      <td>2017-11-01 00:00:00</td>\n",
       "      <td>INCOME_ACTUAL</td>\n",
       "      <td>953077</td>\n",
       "      <td>GBP</td>\n",
       "    </tr>\n",
       "    <tr>\n",
       "      <th>3</th>\n",
       "      <td>0001442B-7B32-4198-A0A2-D0DC0A2C1076</td>\n",
       "      <td>2018-07-31 01:00:00</td>\n",
       "      <td>2015-05-01 01:00:00</td>\n",
       "      <td>INCOME_ACTUAL</td>\n",
       "      <td>617049</td>\n",
       "      <td>GBP</td>\n",
       "    </tr>\n",
       "    <tr>\n",
       "      <th>4</th>\n",
       "      <td>00043BED-0B22-4843-BE42-6A7F905AD78B</td>\n",
       "      <td>2012-12-31 00:00:00</td>\n",
       "      <td>2007-07-01 01:00:00</td>\n",
       "      <td>EXPENDITURE_PROJECTED</td>\n",
       "      <td>224395</td>\n",
       "      <td>GBP</td>\n",
       "    </tr>\n",
       "  </tbody>\n",
       "</table>\n",
       "</div>"
      ],
      "text/plain": [
       "                                     id                  end  \\\n",
       "0  00006E7F-2E72-4CE6-81D4-2B603E5E4526  2018-09-30 01:00:00   \n",
       "1  00009856-0B8F-406E-ABC6-F56064AE88E4  2020-11-30 00:00:00   \n",
       "2  0000FBA5-BA5E-423A-8EAC-1EC4D3F03EB2  2020-04-30 01:00:00   \n",
       "3  0001442B-7B32-4198-A0A2-D0DC0A2C1076  2018-07-31 01:00:00   \n",
       "4  00043BED-0B22-4843-BE42-6A7F905AD78B  2012-12-31 00:00:00   \n",
       "\n",
       "                 start               category  amount currencyCode  \n",
       "0  2014-08-01 01:00:00          INCOME_ACTUAL  379758          GBP  \n",
       "1  2018-08-01 01:00:00          INCOME_ACTUAL  110498          GBP  \n",
       "2  2017-11-01 00:00:00          INCOME_ACTUAL  953077          GBP  \n",
       "3  2015-05-01 01:00:00          INCOME_ACTUAL  617049          GBP  \n",
       "4  2007-07-01 01:00:00  EXPENDITURE_PROJECTED  224395          GBP  "
      ]
     },
     "execution_count": 74,
     "metadata": {},
     "output_type": "execute_result"
    }
   ],
   "source": [
    "fund.head()"
   ]
  },
  {
   "cell_type": "code",
   "execution_count": 75,
   "metadata": {},
   "outputs": [
    {
     "data": {
      "text/plain": [
       "(86904, 6)"
      ]
     },
     "execution_count": 75,
     "metadata": {},
     "output_type": "execute_result"
    }
   ],
   "source": [
    "fund.shape"
   ]
  },
  {
   "cell_type": "markdown",
   "metadata": {},
   "source": [
    "One fund per project. Bodes well"
   ]
  },
  {
   "cell_type": "code",
   "execution_count": 76,
   "metadata": {},
   "outputs": [
    {
     "data": {
      "text/plain": [
       "<matplotlib.axes._subplots.AxesSubplot at 0x1985a29b0>"
      ]
     },
     "execution_count": 76,
     "metadata": {},
     "output_type": "execute_result"
    },
    {
     "data": {
      "image/png": "[encoded data removed]",
      "text/plain": [
       "<Figure size 432x288 with 1 Axes>"
      ]
     },
     "metadata": {},
     "output_type": "display_data"
    }
   ],
   "source": [
    "fund['year'] = fund['start'].apply(lambda x: get_year(x))\n",
    "\n",
    "fund['year'].value_counts().loc[np.arange(2000,2020)].plot.bar(color='blue',title='Start date (funded data)')"
   ]
  },
  {
   "cell_type": "markdown",
   "metadata": {},
   "source": [
    "The dataset begins in 2016. What is the bump in 2017?"
   ]
  },
  {
   "cell_type": "code",
   "execution_count": 77,
   "metadata": {},
   "outputs": [
    {
     "data": {
      "text/plain": [
       "<matplotlib.axes._subplots.AxesSubplot at 0x197c38dd8>"
      ]
     },
     "execution_count": 77,
     "metadata": {},
     "output_type": "execute_result"
    },
    {
     "data": {
      "image/png": "[encoded data removed]",
      "text/plain": [
       "<Figure size 432x288 with 1 Axes>"
      ]
     },
     "metadata": {},
     "output_type": "display_data"
    }
   ],
   "source": [
    "pd.crosstab(fund['category'],fund['year'])[np.arange(2006,2020)].T.plot.bar(stacked=True,title='funding by category')"
   ]
  },
  {
   "cell_type": "markdown",
   "metadata": {},
   "source": [
    "Most of the funding levels in the data reflect income"
   ]
  },
  {
   "cell_type": "markdown",
   "metadata": {},
   "source": [
    "#### Merge funding with projects to get dates and funding by project\n",
    "\n",
    "`projects_f = projects merged w/ funding`"
   ]
  },
  {
   "cell_type": "code",
   "execution_count": 78,
   "metadata": {},
   "outputs": [],
   "source": [
    "#Merge everything. It works\n",
    "\n",
    "projects_f = pd.merge(\n",
    "    pd.merge(fund,link,left_on='id',right_on='id'),\n",
    "    projects,\n",
    "    left_on='project_id',right_on='id')"
   ]
  },
  {
   "cell_type": "code",
   "execution_count": 79,
   "metadata": {},
   "outputs": [
    {
     "data": {
      "text/html": [
       "<div>\n",
       "<style scoped>\n",
       "    .dataframe tbody tr th:only-of-type {\n",
       "        vertical-align: middle;\n",
       "    }\n",
       "\n",
       "    .dataframe tbody tr th {\n",
       "        vertical-align: top;\n",
       "    }\n",
       "\n",
       "    .dataframe thead th {\n",
       "        text-align: right;\n",
       "    }\n",
       "</style>\n",
       "<table border=\"1\" class=\"dataframe\">\n",
       "  <thead>\n",
       "    <tr style=\"text-align: right;\">\n",
       "      <th></th>\n",
       "      <th>id_x</th>\n",
       "      <th>end_x</th>\n",
       "      <th>start_x</th>\n",
       "      <th>category</th>\n",
       "      <th>amount</th>\n",
       "      <th>currencyCode</th>\n",
       "      <th>year</th>\n",
       "      <th>project_id</th>\n",
       "      <th>rel</th>\n",
       "      <th>table_name</th>\n",
       "      <th>...</th>\n",
       "      <th>grantCategory</th>\n",
       "      <th>leadFunder</th>\n",
       "      <th>abstractText</th>\n",
       "      <th>start_y</th>\n",
       "      <th>created</th>\n",
       "      <th>leadOrganisationDepartment</th>\n",
       "      <th>potentialImpact</th>\n",
       "      <th>techAbstractText</th>\n",
       "      <th>year_created</th>\n",
       "      <th>year_started</th>\n",
       "    </tr>\n",
       "  </thead>\n",
       "  <tbody>\n",
       "    <tr>\n",
       "      <th>0</th>\n",
       "      <td>00006E7F-2E72-4CE6-81D4-2B603E5E4526</td>\n",
       "      <td>2018-09-30 01:00:00</td>\n",
       "      <td>2014-08-01 01:00:00</td>\n",
       "      <td>INCOME_ACTUAL</td>\n",
       "      <td>379758</td>\n",
       "      <td>GBP</td>\n",
       "      <td>2014</td>\n",
       "      <td>82E47A5E-A4C6-4F70-9242-821EFC9456D7</td>\n",
       "      <td>FUND</td>\n",
       "      <td>gtr_funds</td>\n",
       "      <td>...</td>\n",
       "      <td>Research Grant</td>\n",
       "      <td>STFC</td>\n",
       "      <td>It is just over 100 years since Ernest Rutherf...</td>\n",
       "      <td>NaN</td>\n",
       "      <td>2018-11-08 11:38:37</td>\n",
       "      <td>School of Engineering</td>\n",
       "      <td>This STFC-funded research will have a consider...</td>\n",
       "      <td>NaN</td>\n",
       "      <td>2018.0</td>\n",
       "      <td>NaN</td>\n",
       "    </tr>\n",
       "    <tr>\n",
       "      <th>1</th>\n",
       "      <td>00009856-0B8F-406E-ABC6-F56064AE88E4</td>\n",
       "      <td>2020-11-30 00:00:00</td>\n",
       "      <td>2018-08-01 01:00:00</td>\n",
       "      <td>INCOME_ACTUAL</td>\n",
       "      <td>110498</td>\n",
       "      <td>GBP</td>\n",
       "      <td>2018</td>\n",
       "      <td>BF4F71FC-4282-48F9-97B5-BFBC1A2081F4</td>\n",
       "      <td>FUND</td>\n",
       "      <td>gtr_funds</td>\n",
       "      <td>...</td>\n",
       "      <td>Knowledge Transfer Partnership</td>\n",
       "      <td>Innovate UK</td>\n",
       "      <td>To develop, validate and implement statistical...</td>\n",
       "      <td>NaN</td>\n",
       "      <td>2018-11-08 11:38:37</td>\n",
       "      <td>NaN</td>\n",
       "      <td>NaN</td>\n",
       "      <td>NaN</td>\n",
       "      <td>2018.0</td>\n",
       "      <td>NaN</td>\n",
       "    </tr>\n",
       "    <tr>\n",
       "      <th>2</th>\n",
       "      <td>0000FBA5-BA5E-423A-8EAC-1EC4D3F03EB2</td>\n",
       "      <td>2020-04-30 01:00:00</td>\n",
       "      <td>2017-11-01 00:00:00</td>\n",
       "      <td>INCOME_ACTUAL</td>\n",
       "      <td>953077</td>\n",
       "      <td>GBP</td>\n",
       "      <td>2017</td>\n",
       "      <td>6A660023-1ACB-4804-9D46-424F7AD7F46A</td>\n",
       "      <td>FUND</td>\n",
       "      <td>gtr_funds</td>\n",
       "      <td>...</td>\n",
       "      <td>Research Grant</td>\n",
       "      <td>EPSRC</td>\n",
       "      <td>The technology of paper is so old and so ubiqu...</td>\n",
       "      <td>NaN</td>\n",
       "      <td>2018-11-08 11:38:37</td>\n",
       "      <td>Digital World Research Centre</td>\n",
       "      <td>A next generation paper (beyond '1GP') will op...</td>\n",
       "      <td>NaN</td>\n",
       "      <td>2018.0</td>\n",
       "      <td>NaN</td>\n",
       "    </tr>\n",
       "    <tr>\n",
       "      <th>3</th>\n",
       "      <td>0001442B-7B32-4198-A0A2-D0DC0A2C1076</td>\n",
       "      <td>2018-07-31 01:00:00</td>\n",
       "      <td>2015-05-01 01:00:00</td>\n",
       "      <td>INCOME_ACTUAL</td>\n",
       "      <td>617049</td>\n",
       "      <td>GBP</td>\n",
       "      <td>2015</td>\n",
       "      <td>3D74C63B-E591-4715-8588-27DE88A83BA2</td>\n",
       "      <td>FUND</td>\n",
       "      <td>gtr_funds</td>\n",
       "      <td>...</td>\n",
       "      <td>Research Grant</td>\n",
       "      <td>BBSRC</td>\n",
       "      <td>Photoreceptors transduce light into electrical...</td>\n",
       "      <td>NaN</td>\n",
       "      <td>2018-11-08 11:38:37</td>\n",
       "      <td>Physiology Development and Neuroscience</td>\n",
       "      <td>The immediate impact of the work in this propo...</td>\n",
       "      <td>Drosophila phototransduction is mediated by a ...</td>\n",
       "      <td>2018.0</td>\n",
       "      <td>NaN</td>\n",
       "    </tr>\n",
       "    <tr>\n",
       "      <th>4</th>\n",
       "      <td>00043BED-0B22-4843-BE42-6A7F905AD78B</td>\n",
       "      <td>2012-12-31 00:00:00</td>\n",
       "      <td>2007-07-01 01:00:00</td>\n",
       "      <td>EXPENDITURE_PROJECTED</td>\n",
       "      <td>224395</td>\n",
       "      <td>GBP</td>\n",
       "      <td>2007</td>\n",
       "      <td>D4BFE45F-51D8-4AD3-8F50-A3046D4C039F</td>\n",
       "      <td>FUND</td>\n",
       "      <td>gtr_funds</td>\n",
       "      <td>...</td>\n",
       "      <td>Intramural</td>\n",
       "      <td>BBSRC</td>\n",
       "      <td>The &amp;quot;Green Revolution&amp;quot; dwarfing (Rht...</td>\n",
       "      <td>NaN</td>\n",
       "      <td>2018-11-08 11:38:37</td>\n",
       "      <td>Contracts Office</td>\n",
       "      <td>NaN</td>\n",
       "      <td>NaN</td>\n",
       "      <td>2018.0</td>\n",
       "      <td>NaN</td>\n",
       "    </tr>\n",
       "  </tbody>\n",
       "</table>\n",
       "<p>5 rows × 24 columns</p>\n",
       "</div>"
      ],
      "text/plain": [
       "                                   id_x                end_x  \\\n",
       "0  00006E7F-2E72-4CE6-81D4-2B603E5E4526  2018-09-30 01:00:00   \n",
       "1  00009856-0B8F-406E-ABC6-F56064AE88E4  2020-11-30 00:00:00   \n",
       "2  0000FBA5-BA5E-423A-8EAC-1EC4D3F03EB2  2020-04-30 01:00:00   \n",
       "3  0001442B-7B32-4198-A0A2-D0DC0A2C1076  2018-07-31 01:00:00   \n",
       "4  00043BED-0B22-4843-BE42-6A7F905AD78B  2012-12-31 00:00:00   \n",
       "\n",
       "               start_x               category  amount currencyCode  year  \\\n",
       "0  2014-08-01 01:00:00          INCOME_ACTUAL  379758          GBP  2014   \n",
       "1  2018-08-01 01:00:00          INCOME_ACTUAL  110498          GBP  2018   \n",
       "2  2017-11-01 00:00:00          INCOME_ACTUAL  953077          GBP  2017   \n",
       "3  2015-05-01 01:00:00          INCOME_ACTUAL  617049          GBP  2015   \n",
       "4  2007-07-01 01:00:00  EXPENDITURE_PROJECTED  224395          GBP  2007   \n",
       "\n",
       "                             project_id   rel table_name     ...       \\\n",
       "0  82E47A5E-A4C6-4F70-9242-821EFC9456D7  FUND  gtr_funds     ...        \n",
       "1  BF4F71FC-4282-48F9-97B5-BFBC1A2081F4  FUND  gtr_funds     ...        \n",
       "2  6A660023-1ACB-4804-9D46-424F7AD7F46A  FUND  gtr_funds     ...        \n",
       "3  3D74C63B-E591-4715-8588-27DE88A83BA2  FUND  gtr_funds     ...        \n",
       "4  D4BFE45F-51D8-4AD3-8F50-A3046D4C039F  FUND  gtr_funds     ...        \n",
       "\n",
       "                    grantCategory   leadFunder  \\\n",
       "0                  Research Grant         STFC   \n",
       "1  Knowledge Transfer Partnership  Innovate UK   \n",
       "2                  Research Grant        EPSRC   \n",
       "3                  Research Grant        BBSRC   \n",
       "4                      Intramural        BBSRC   \n",
       "\n",
       "                                        abstractText start_y  \\\n",
       "0  It is just over 100 years since Ernest Rutherf...     NaN   \n",
       "1  To develop, validate and implement statistical...     NaN   \n",
       "2  The technology of paper is so old and so ubiqu...     NaN   \n",
       "3  Photoreceptors transduce light into electrical...     NaN   \n",
       "4  The &quot;Green Revolution&quot; dwarfing (Rht...     NaN   \n",
       "\n",
       "               created               leadOrganisationDepartment  \\\n",
       "0  2018-11-08 11:38:37                    School of Engineering   \n",
       "1  2018-11-08 11:38:37                                      NaN   \n",
       "2  2018-11-08 11:38:37            Digital World Research Centre   \n",
       "3  2018-11-08 11:38:37  Physiology Development and Neuroscience   \n",
       "4  2018-11-08 11:38:37                         Contracts Office   \n",
       "\n",
       "                                     potentialImpact  \\\n",
       "0  This STFC-funded research will have a consider...   \n",
       "1                                                NaN   \n",
       "2  A next generation paper (beyond '1GP') will op...   \n",
       "3  The immediate impact of the work in this propo...   \n",
       "4                                                NaN   \n",
       "\n",
       "                                    techAbstractText year_created year_started  \n",
       "0                                                NaN       2018.0          NaN  \n",
       "1                                                NaN       2018.0          NaN  \n",
       "2                                                NaN       2018.0          NaN  \n",
       "3  Drosophila phototransduction is mediated by a ...       2018.0          NaN  \n",
       "4                                                NaN       2018.0          NaN  \n",
       "\n",
       "[5 rows x 24 columns]"
      ]
     },
     "execution_count": 79,
     "metadata": {},
     "output_type": "execute_result"
    }
   ],
   "source": [
    "projects_f.head()"
   ]
  },
  {
   "cell_type": "markdown",
   "metadata": {},
   "source": [
    "Lots of guff there. I should tidy it up later"
   ]
  },
  {
   "cell_type": "markdown",
   "metadata": {},
   "source": [
    "#### Let's also check the Topics: does this refer to project keywords?"
   ]
  },
  {
   "cell_type": "code",
   "execution_count": 80,
   "metadata": {},
   "outputs": [
    {
     "data": {
      "text/html": [
       "<div>\n",
       "<style scoped>\n",
       "    .dataframe tbody tr th:only-of-type {\n",
       "        vertical-align: middle;\n",
       "    }\n",
       "\n",
       "    .dataframe tbody tr th {\n",
       "        vertical-align: top;\n",
       "    }\n",
       "\n",
       "    .dataframe thead th {\n",
       "        text-align: right;\n",
       "    }\n",
       "</style>\n",
       "<table border=\"1\" class=\"dataframe\">\n",
       "  <thead>\n",
       "    <tr style=\"text-align: right;\">\n",
       "      <th></th>\n",
       "      <th>id</th>\n",
       "      <th>text</th>\n",
       "      <th>topic_type</th>\n",
       "    </tr>\n",
       "  </thead>\n",
       "  <tbody>\n",
       "    <tr>\n",
       "      <th>0</th>\n",
       "      <td>006DC612-6329-4D37-A540-5FB2CA634720</td>\n",
       "      <td>5.5  Radiotherapy</td>\n",
       "      <td>researchActivity</td>\n",
       "    </tr>\n",
       "    <tr>\n",
       "      <th>1</th>\n",
       "      <td>008D950C-182A-427B-A7CB-4FD430D040B5</td>\n",
       "      <td>Physical Organic Chemistry</td>\n",
       "      <td>researchTopic</td>\n",
       "    </tr>\n",
       "    <tr>\n",
       "      <th>2</th>\n",
       "      <td>00C03EE8-351D-40B5-A0D4-06C45592BFF6</td>\n",
       "      <td>Nuclear structure</td>\n",
       "      <td>researchTopic</td>\n",
       "    </tr>\n",
       "    <tr>\n",
       "      <th>3</th>\n",
       "      <td>00E432A0-CF0E-42D0-BAF1-6872995B42EF</td>\n",
       "      <td>Part. Phys/Astron. Instrument.</td>\n",
       "      <td>researchTopic</td>\n",
       "    </tr>\n",
       "    <tr>\n",
       "      <th>4</th>\n",
       "      <td>01AC56BC-45B4-434D-B015-7C879327F09F</td>\n",
       "      <td>Parallel Computing</td>\n",
       "      <td>researchTopic</td>\n",
       "    </tr>\n",
       "  </tbody>\n",
       "</table>\n",
       "</div>"
      ],
      "text/plain": [
       "                                     id                            text  \\\n",
       "0  006DC612-6329-4D37-A540-5FB2CA634720               5.5  Radiotherapy   \n",
       "1  008D950C-182A-427B-A7CB-4FD430D040B5      Physical Organic Chemistry   \n",
       "2  00C03EE8-351D-40B5-A0D4-06C45592BFF6               Nuclear structure   \n",
       "3  00E432A0-CF0E-42D0-BAF1-6872995B42EF  Part. Phys/Astron. Instrument.   \n",
       "4  01AC56BC-45B4-434D-B015-7C879327F09F              Parallel Computing   \n",
       "\n",
       "         topic_type  \n",
       "0  researchActivity  \n",
       "1     researchTopic  \n",
       "2     researchTopic  \n",
       "3     researchTopic  \n",
       "4     researchTopic  "
      ]
     },
     "execution_count": 80,
     "metadata": {},
     "output_type": "execute_result"
    }
   ],
   "source": [
    "topics = pd.read_csv('../data/external/gtr/2019-01-24/gtr_topic.csv').iloc[:,1:]\n",
    "\n",
    "topics.head()"
   ]
  },
  {
   "cell_type": "code",
   "execution_count": 81,
   "metadata": {},
   "outputs": [
    {
     "data": {
      "text/plain": [
       "researchTopic       594\n",
       "researchSubject      82\n",
       "researchActivity     49\n",
       "healthCategory       22\n",
       "rcukProgramme         2\n",
       "Name: topic_type, dtype: int64"
      ]
     },
     "execution_count": 81,
     "metadata": {},
     "output_type": "execute_result"
    }
   ],
   "source": [
    "topics['topic_type'].value_counts()"
   ]
  },
  {
   "cell_type": "markdown",
   "metadata": {},
   "source": [
    "Yes. What are their keys in the linked_table?"
   ]
  },
  {
   "cell_type": "code",
   "execution_count": 82,
   "metadata": {},
   "outputs": [
    {
     "data": {
      "text/plain": [
       "gtr_outcomes_publications                    1392608\n",
       "gtr_outcomes_disseminations                   454795\n",
       "gtr_organisations                             228991\n",
       "gtr_persons                                   192754\n",
       "gtr_outcomes_collaborations                   188683\n",
       "gtr_funds                                     173699\n",
       "gtr_outcomes_furtherfundings                  126405\n",
       "gtr_topic                                      61632\n",
       "gtr_outcomes_keyfindings                       54390\n",
       "gtr_outcomes_policyinfluences                  44544\n",
       "gtr_outcomes_impactsummaries                   37560\n",
       "gtr_outcomes_researchmaterials                 30774\n",
       "gtr_projects                                   21331\n",
       "gtr_outcomes_researchdatabaseandmodels         20151\n",
       "gtr_outcomes_artisticandcreativeproducts       13713\n",
       "gtr_outcomes_softwareandtechnicalproducts      12227\n",
       "gtr_outcomes_intellectualproperties             7749\n",
       "gtr_outcomes_products                           4095\n",
       "gtr_outcomes_spinouts                           1911\n",
       "Name: table_name, dtype: int64"
      ]
     },
     "execution_count": 82,
     "metadata": {},
     "output_type": "execute_result"
    }
   ],
   "source": [
    "link['table_name'].value_counts()"
   ]
  },
  {
   "cell_type": "markdown",
   "metadata": {},
   "source": [
    "We can loop over the projects and allocate them topics"
   ]
  },
  {
   "cell_type": "markdown",
   "metadata": {},
   "source": [
    "Create a research activity lookup and a research topic lookup."
   ]
  },
  {
   "cell_type": "code",
   "execution_count": 89,
   "metadata": {},
   "outputs": [],
   "source": [
    "res_activity_lookup,res_topic_lookup = [{this_id:text for this_id,text in zip(topics.loc[topics['topic_type']==topic_type,'id'],\n",
    "                                                                             topics.loc[topics['topic_type']==topic_type,'text'])} for\n",
    "                                        topic_type in ['researchActivity','researchTopic']]\n",
    "                                                                              "
   ]
  },
  {
   "cell_type": "code",
   "execution_count": 95,
   "metadata": {},
   "outputs": [
    {
     "data": {
      "text/plain": [
       "['5.5  Radiotherapy',\n",
       " '6.4  Surgery',\n",
       " '5.8  Complementary',\n",
       " 'HRCS Research Uncodeable',\n",
       " '6.2  Cellular and gene therapies',\n",
       " '1.4  Methodologies and measurements',\n",
       " '3.2  Interventions to alter physical and biological environmental risks',\n",
       " '1.5  Resources and infrastructure (underpinning)',\n",
       " '2.1  Biological and endogenous factors',\n",
       " '6.9  Resources and infrastructure (evaluation of treatments)']"
      ]
     },
     "execution_count": 95,
     "metadata": {},
     "output_type": "execute_result"
    }
   ],
   "source": [
    "list(res_activity_lookup.values())[:10]"
   ]
  },
  {
   "cell_type": "markdown",
   "metadata": {},
   "source": [
    "`researchActivity` is a medical set of subjects"
   ]
  },
  {
   "cell_type": "code",
   "execution_count": 96,
   "metadata": {},
   "outputs": [
    {
     "data": {
      "text/plain": [
       "['Physical Organic Chemistry',\n",
       " 'Nuclear structure',\n",
       " 'Part. Phys/Astron. Instrument.',\n",
       " 'Parallel Computing',\n",
       " 'Plant developmental biology',\n",
       " 'Chemical Biology',\n",
       " 'Continuum Mechanics',\n",
       " 'Time-Based Media HTP',\n",
       " 'Biophysics',\n",
       " 'Central Laser Facility']"
      ]
     },
     "execution_count": 96,
     "metadata": {},
     "output_type": "execute_result"
    }
   ],
   "source": [
    "list(res_topic_lookup.values())[:10]"
   ]
  },
  {
   "cell_type": "markdown",
   "metadata": {},
   "source": [
    "`researchTopics` is generic"
   ]
  },
  {
   "cell_type": "markdown",
   "metadata": {},
   "source": [
    "### Organisations\n"
   ]
  },
  {
   "cell_type": "code",
   "execution_count": 97,
   "metadata": {},
   "outputs": [
    {
     "data": {
      "text/html": [
       "<div>\n",
       "<style scoped>\n",
       "    .dataframe tbody tr th:only-of-type {\n",
       "        vertical-align: middle;\n",
       "    }\n",
       "\n",
       "    .dataframe tbody tr th {\n",
       "        vertical-align: top;\n",
       "    }\n",
       "\n",
       "    .dataframe thead th {\n",
       "        text-align: right;\n",
       "    }\n",
       "</style>\n",
       "<table border=\"1\" class=\"dataframe\">\n",
       "  <thead>\n",
       "    <tr style=\"text-align: right;\">\n",
       "      <th></th>\n",
       "      <th>id</th>\n",
       "      <th>name</th>\n",
       "      <th>addresses</th>\n",
       "      <th>projectCost</th>\n",
       "      <th>grantOffer</th>\n",
       "    </tr>\n",
       "  </thead>\n",
       "  <tbody>\n",
       "    <tr>\n",
       "      <th>0</th>\n",
       "      <td>0003EB78-07B9-400E-AE39-2AD612C28612</td>\n",
       "      <td>Wentworth Laboratories Ltd</td>\n",
       "      <td>{'address': {'id': '18A52282-3BCD-483D-A32F-F3...</td>\n",
       "      <td>NaN</td>\n",
       "      <td>NaN</td>\n",
       "    </tr>\n",
       "    <tr>\n",
       "      <th>1</th>\n",
       "      <td>0005728F-26ED-465D-8DCE-C49F181EDB2E</td>\n",
       "      <td>Duchy Parade Films</td>\n",
       "      <td>{'address': {'id': '1788E06A-79D8-492F-9988-62...</td>\n",
       "      <td>NaN</td>\n",
       "      <td>NaN</td>\n",
       "    </tr>\n",
       "    <tr>\n",
       "      <th>2</th>\n",
       "      <td>0005AEA8-B99E-4063-973E-FF16602F9CCF</td>\n",
       "      <td>German Mouse Clinic, Helmholtz Zentrum Münster</td>\n",
       "      <td>NaN</td>\n",
       "      <td>NaN</td>\n",
       "      <td>NaN</td>\n",
       "    </tr>\n",
       "    <tr>\n",
       "      <th>3</th>\n",
       "      <td>000775C1-64AC-4140-A8EC-9C4B337DB8EE</td>\n",
       "      <td>Dynamic Boosting Systems Limited</td>\n",
       "      <td>{'address': {'id': 'E143A689-8121-40FB-968D-46...</td>\n",
       "      <td>319806.0</td>\n",
       "      <td>143913.0</td>\n",
       "    </tr>\n",
       "    <tr>\n",
       "      <th>4</th>\n",
       "      <td>0007ED76-4B09-4B09-A39F-D4B75BD36486</td>\n",
       "      <td>Hildersham Village History Recorders</td>\n",
       "      <td>NaN</td>\n",
       "      <td>NaN</td>\n",
       "      <td>NaN</td>\n",
       "    </tr>\n",
       "  </tbody>\n",
       "</table>\n",
       "</div>"
      ],
      "text/plain": [
       "                                     id  \\\n",
       "0  0003EB78-07B9-400E-AE39-2AD612C28612   \n",
       "1  0005728F-26ED-465D-8DCE-C49F181EDB2E   \n",
       "2  0005AEA8-B99E-4063-973E-FF16602F9CCF   \n",
       "3  000775C1-64AC-4140-A8EC-9C4B337DB8EE   \n",
       "4  0007ED76-4B09-4B09-A39F-D4B75BD36486   \n",
       "\n",
       "                                             name  \\\n",
       "0                      Wentworth Laboratories Ltd   \n",
       "1                              Duchy Parade Films   \n",
       "2  German Mouse Clinic, Helmholtz Zentrum Münster   \n",
       "3                Dynamic Boosting Systems Limited   \n",
       "4            Hildersham Village History Recorders   \n",
       "\n",
       "                                           addresses  projectCost  grantOffer  \n",
       "0  {'address': {'id': '18A52282-3BCD-483D-A32F-F3...          NaN         NaN  \n",
       "1  {'address': {'id': '1788E06A-79D8-492F-9988-62...          NaN         NaN  \n",
       "2                                                NaN          NaN         NaN  \n",
       "3  {'address': {'id': 'E143A689-8121-40FB-968D-46...     319806.0    143913.0  \n",
       "4                                                NaN          NaN         NaN  "
      ]
     },
     "execution_count": 97,
     "metadata": {},
     "output_type": "execute_result"
    }
   ],
   "source": [
    "orgs = my_data['organisations']\n",
    "\n",
    "orgs.head()"
   ]
  },
  {
   "cell_type": "code",
   "execution_count": 98,
   "metadata": {},
   "outputs": [
    {
     "data": {
      "text/plain": [
       "(39349, 5)"
      ]
     },
     "execution_count": 98,
     "metadata": {},
     "output_type": "execute_result"
    }
   ],
   "source": [
    "orgs.shape"
   ]
  },
  {
   "cell_type": "markdown",
   "metadata": {},
   "source": [
    "This will be interesting to look at collaboration networks between organisations.\n",
    "\n",
    "Note that this is likely to over-estimate collaboration given that departments (which might be disconnected) will be subsumed under organisations. Maybe we could use the persons data to unpick that?"
   ]
  },
  {
   "cell_type": "markdown",
   "metadata": {},
   "source": [
    "### Outputs\n",
    "\n",
    "Brief exploration of the data and standardisation with a single schema (for merging with projects)"
   ]
  },
  {
   "cell_type": "markdown",
   "metadata": {},
   "source": [
    "#### Products"
   ]
  },
  {
   "cell_type": "code",
   "execution_count": 99,
   "metadata": {},
   "outputs": [],
   "source": [
    "products = my_data['products']"
   ]
  },
  {
   "cell_type": "code",
   "execution_count": 100,
   "metadata": {},
   "outputs": [
    {
     "data": {
      "text/html": [
       "<div>\n",
       "<style scoped>\n",
       "    .dataframe tbody tr th:only-of-type {\n",
       "        vertical-align: middle;\n",
       "    }\n",
       "\n",
       "    .dataframe tbody tr th {\n",
       "        vertical-align: top;\n",
       "    }\n",
       "\n",
       "    .dataframe thead th {\n",
       "        text-align: right;\n",
       "    }\n",
       "</style>\n",
       "<table border=\"1\" class=\"dataframe\">\n",
       "  <thead>\n",
       "    <tr style=\"text-align: right;\">\n",
       "      <th></th>\n",
       "      <th>id</th>\n",
       "      <th>title</th>\n",
       "      <th>description</th>\n",
       "      <th>type</th>\n",
       "      <th>stage</th>\n",
       "      <th>status</th>\n",
       "      <th>yearDevelopmentCompleted</th>\n",
       "      <th>impact</th>\n",
       "      <th>supportingUrl</th>\n",
       "    </tr>\n",
       "  </thead>\n",
       "  <tbody>\n",
       "    <tr>\n",
       "      <th>0</th>\n",
       "      <td>0001B33F-9572-4464-BF3B-9AC695F57C9D</td>\n",
       "      <td>Nat-His-MTM</td>\n",
       "      <td>Prospective longitudinal study of the natural ...</td>\n",
       "      <td>Management of Diseases and Conditions</td>\n",
       "      <td>Initial development</td>\n",
       "      <td>Under active development/distribution</td>\n",
       "      <td>2013.0</td>\n",
       "      <td>None as yet.</td>\n",
       "      <td>NaN</td>\n",
       "    </tr>\n",
       "    <tr>\n",
       "      <th>1</th>\n",
       "      <td>0003293D-247D-4BF1-9674-402A70504D64</td>\n",
       "      <td>Normothermic machine liver perfusion of discar...</td>\n",
       "      <td>Deaths from liver disease have soared by 40 pe...</td>\n",
       "      <td>Therapeutic Intervention - Medical Devices</td>\n",
       "      <td>Early clinical assessment</td>\n",
       "      <td>Under active development/distribution</td>\n",
       "      <td>2016.0</td>\n",
       "      <td>First human liver transplantation using a marg...</td>\n",
       "      <td>NaN</td>\n",
       "    </tr>\n",
       "    <tr>\n",
       "      <th>2</th>\n",
       "      <td>002C330E-54B9-48F7-B97E-82D25A7C4E8A</td>\n",
       "      <td>Public health intervention design</td>\n",
       "      <td>The public health intervention under developme...</td>\n",
       "      <td>Health and Social Care Services</td>\n",
       "      <td>Refinement.  Non-clinical</td>\n",
       "      <td>Under active development/distribution</td>\n",
       "      <td>2017.0</td>\n",
       "      <td>It is under refinement stage. It is not yet im...</td>\n",
       "      <td>NaN</td>\n",
       "    </tr>\n",
       "    <tr>\n",
       "      <th>3</th>\n",
       "      <td>0037AC05-B957-498A-96B6-2B2F732A2FDD</td>\n",
       "      <td>Insertion-and-deletion-derived tumour-specific...</td>\n",
       "      <td>Regarding the CPI predictive test technology, ...</td>\n",
       "      <td>Diagnostic Tool - Non-Imaging</td>\n",
       "      <td>Initial development</td>\n",
       "      <td>Under active development/distribution</td>\n",
       "      <td>2018.0</td>\n",
       "      <td>Despite the recent clinical success of immunot...</td>\n",
       "      <td>NaN</td>\n",
       "    </tr>\n",
       "    <tr>\n",
       "      <th>4</th>\n",
       "      <td>0047A6B5-2377-47A1-8D63-360B5400E5B9</td>\n",
       "      <td>Novel compounds with antibacterial activity</td>\n",
       "      <td>Dr. Andrews team has synthesised several novel...</td>\n",
       "      <td>Therapeutic Intervention - Drug</td>\n",
       "      <td>Initial development</td>\n",
       "      <td>Under active development/distribution</td>\n",
       "      <td>2016.0</td>\n",
       "      <td>Dr Andrews work takes a novel approach by incr...</td>\n",
       "      <td>NaN</td>\n",
       "    </tr>\n",
       "  </tbody>\n",
       "</table>\n",
       "</div>"
      ],
      "text/plain": [
       "                                     id  \\\n",
       "0  0001B33F-9572-4464-BF3B-9AC695F57C9D   \n",
       "1  0003293D-247D-4BF1-9674-402A70504D64   \n",
       "2  002C330E-54B9-48F7-B97E-82D25A7C4E8A   \n",
       "3  0037AC05-B957-498A-96B6-2B2F732A2FDD   \n",
       "4  0047A6B5-2377-47A1-8D63-360B5400E5B9   \n",
       "\n",
       "                                               title  \\\n",
       "0                                        Nat-His-MTM   \n",
       "1  Normothermic machine liver perfusion of discar...   \n",
       "2                  Public health intervention design   \n",
       "3  Insertion-and-deletion-derived tumour-specific...   \n",
       "4        Novel compounds with antibacterial activity   \n",
       "\n",
       "                                         description  \\\n",
       "0  Prospective longitudinal study of the natural ...   \n",
       "1  Deaths from liver disease have soared by 40 pe...   \n",
       "2  The public health intervention under developme...   \n",
       "3  Regarding the CPI predictive test technology, ...   \n",
       "4  Dr. Andrews team has synthesised several novel...   \n",
       "\n",
       "                                         type                      stage  \\\n",
       "0       Management of Diseases and Conditions        Initial development   \n",
       "1  Therapeutic Intervention - Medical Devices  Early clinical assessment   \n",
       "2             Health and Social Care Services  Refinement.  Non-clinical   \n",
       "3               Diagnostic Tool - Non-Imaging        Initial development   \n",
       "4             Therapeutic Intervention - Drug        Initial development   \n",
       "\n",
       "                                  status  yearDevelopmentCompleted  \\\n",
       "0  Under active development/distribution                    2013.0   \n",
       "1  Under active development/distribution                    2016.0   \n",
       "2  Under active development/distribution                    2017.0   \n",
       "3  Under active development/distribution                    2018.0   \n",
       "4  Under active development/distribution                    2016.0   \n",
       "\n",
       "                                              impact supportingUrl  \n",
       "0                                       None as yet.           NaN  \n",
       "1  First human liver transplantation using a marg...           NaN  \n",
       "2  It is under refinement stage. It is not yet im...           NaN  \n",
       "3  Despite the recent clinical success of immunot...           NaN  \n",
       "4  Dr Andrews work takes a novel approach by incr...           NaN  "
      ]
     },
     "execution_count": 100,
     "metadata": {},
     "output_type": "execute_result"
    }
   ],
   "source": [
    "products.head()"
   ]
  },
  {
   "cell_type": "code",
   "execution_count": 101,
   "metadata": {},
   "outputs": [
    {
     "data": {
      "text/plain": [
       "(4095, 9)"
      ]
     },
     "execution_count": 101,
     "metadata": {},
     "output_type": "execute_result"
    }
   ],
   "source": [
    "products.shape"
   ]
  },
  {
   "cell_type": "markdown",
   "metadata": {},
   "source": [
    "They seem to be primarily medical products"
   ]
  },
  {
   "cell_type": "code",
   "execution_count": 102,
   "metadata": {},
   "outputs": [
    {
     "data": {
      "text/plain": [
       "Initial development          1142\n",
       "Early clinical assessment    1004\n",
       "Late clinical evaluation      587\n",
       "Refinement.  Non-clinical     488\n",
       "Refinement.  Clinical         343\n",
       "Small-scale adoption          239\n",
       "Wide-scale adoption           149\n",
       "Market authorisation           82\n",
       "Name: stage, dtype: int64"
      ]
     },
     "execution_count": 102,
     "metadata": {},
     "output_type": "execute_result"
    }
   ],
   "source": [
    "products.stage.value_counts()"
   ]
  },
  {
   "cell_type": "code",
   "execution_count": 103,
   "metadata": {},
   "outputs": [
    {
     "data": {
      "text/plain": [
       "Therapeutic Intervention - Drug                                      1160\n",
       "Diagnostic Tool - Non-Imaging                                         617\n",
       "Therapeutic Intervention - Medical Devices                            331\n",
       "Diagnostic Tool - Imaging                                             255\n",
       "Therapeutic Intervention - Cellular and gene therapies                197\n",
       "Therapeutic Intervention - Vaccines                                   197\n",
       "Support Tool - For Medical Intervention                               194\n",
       "Preventative Intervention - Behavioural risk modification             191\n",
       "Management of Diseases and Conditions                                 184\n",
       "Support Tool - For Fundamental Research                               178\n",
       "Therapeutic Intervention - Psychological/Behavioural                  175\n",
       "Preventative Intervention - Nutrition and Chemoprevention              74\n",
       "Therapeutic Intervention - Surgery                                     62\n",
       "Health and Social Care Services                                        60\n",
       "Products with applications outside of medicine                         51\n",
       "Therapeutic Intervention - Psychological_Behavioural                   48\n",
       "Therapeutic Intervention - Physical                                    38\n",
       "Therapeutic Intervention - Radiotherapy                                36\n",
       "Preventative Intervention - Physical/Biological risk modification      35\n",
       "Therapeutic Intervention - Complementary                               10\n",
       "Name: type, dtype: int64"
      ]
     },
     "execution_count": 103,
     "metadata": {},
     "output_type": "execute_result"
    }
   ],
   "source": [
    "products.type.value_counts()"
   ]
  },
  {
   "cell_type": "markdown",
   "metadata": {},
   "source": [
    "Yes - this is clearly a medical database. We might use it for our two missions given their health focus"
   ]
  },
  {
   "cell_type": "markdown",
   "metadata": {},
   "source": [
    "#### Intellectual Property"
   ]
  },
  {
   "cell_type": "code",
   "execution_count": 104,
   "metadata": {},
   "outputs": [
    {
     "data": {
      "text/html": [
       "<div>\n",
       "<style scoped>\n",
       "    .dataframe tbody tr th:only-of-type {\n",
       "        vertical-align: middle;\n",
       "    }\n",
       "\n",
       "    .dataframe tbody tr th {\n",
       "        vertical-align: top;\n",
       "    }\n",
       "\n",
       "    .dataframe thead th {\n",
       "        text-align: right;\n",
       "    }\n",
       "</style>\n",
       "<table border=\"1\" class=\"dataframe\">\n",
       "  <thead>\n",
       "    <tr style=\"text-align: right;\">\n",
       "      <th></th>\n",
       "      <th>id</th>\n",
       "      <th>title</th>\n",
       "      <th>description</th>\n",
       "      <th>protection</th>\n",
       "      <th>patentId</th>\n",
       "      <th>yearProtectionGranted</th>\n",
       "      <th>impact</th>\n",
       "      <th>licensed</th>\n",
       "    </tr>\n",
       "  </thead>\n",
       "  <tbody>\n",
       "    <tr>\n",
       "      <th>0</th>\n",
       "      <td>00042331-9D9F-48B3-AF06-3546D8BAC01D</td>\n",
       "      <td>FBG strain sensor</td>\n",
       "      <td>Design of FBG-based sensor for monitoring corr...</td>\n",
       "      <td>Patent application published</td>\n",
       "      <td>GB2439993-2008-01-16</td>\n",
       "      <td>2008</td>\n",
       "      <td>This will make an impact in the construction i...</td>\n",
       "      <td>No</td>\n",
       "    </tr>\n",
       "    <tr>\n",
       "      <th>1</th>\n",
       "      <td>000670D2-9E0E-401F-96F8-594DF4599FD7</td>\n",
       "      <td>Analogs of alpha ceramide (IMM47) and uses the...</td>\n",
       "      <td>Analogs of alpha ceramide (IMM47) and uses the...</td>\n",
       "      <td>Patent granted</td>\n",
       "      <td>6836514.7</td>\n",
       "      <td>2007</td>\n",
       "      <td>In this patent, which underpinned my subsequen...</td>\n",
       "      <td>Yes</td>\n",
       "    </tr>\n",
       "    <tr>\n",
       "      <th>2</th>\n",
       "      <td>001A3285-86DE-4DEE-8D6B-C1D92BE6CDFC</td>\n",
       "      <td>IDENTIFICATION AND DISPLAY OF PEPTIDE LIGANDS</td>\n",
       "      <td>An in vitro drug discovery platform analogous ...</td>\n",
       "      <td>Patent application published</td>\n",
       "      <td>WO 2015/011467</td>\n",
       "      <td>2015</td>\n",
       "      <td>z</td>\n",
       "      <td>No</td>\n",
       "    </tr>\n",
       "    <tr>\n",
       "      <th>3</th>\n",
       "      <td>001F8DBA-72DA-49F6-8588-628088BCCCB1</td>\n",
       "      <td>LIST BASED PREFETCH</td>\n",
       "      <td>Invention of a pattern-recording gather prefet...</td>\n",
       "      <td>Patent granted</td>\n",
       "      <td>US8255633</td>\n",
       "      <td>2012</td>\n",
       "      <td>Used in IBM's HPC products</td>\n",
       "      <td>Com</td>\n",
       "    </tr>\n",
       "    <tr>\n",
       "      <th>4</th>\n",
       "      <td>0024B4B4-BB74-4AC1-8D68-F2771E80383B</td>\n",
       "      <td>Terahertz radiation detector focal plane array...</td>\n",
       "      <td>A CMOS based focal plane for terahertz imaging...</td>\n",
       "      <td>Patent granted</td>\n",
       "      <td>US9513171</td>\n",
       "      <td>2016</td>\n",
       "      <td>Collaboration with industry on photonics techn...</td>\n",
       "      <td>Com</td>\n",
       "    </tr>\n",
       "  </tbody>\n",
       "</table>\n",
       "</div>"
      ],
      "text/plain": [
       "                                     id  \\\n",
       "0  00042331-9D9F-48B3-AF06-3546D8BAC01D   \n",
       "1  000670D2-9E0E-401F-96F8-594DF4599FD7   \n",
       "2  001A3285-86DE-4DEE-8D6B-C1D92BE6CDFC   \n",
       "3  001F8DBA-72DA-49F6-8588-628088BCCCB1   \n",
       "4  0024B4B4-BB74-4AC1-8D68-F2771E80383B   \n",
       "\n",
       "                                               title  \\\n",
       "0                                  FBG strain sensor   \n",
       "1  Analogs of alpha ceramide (IMM47) and uses the...   \n",
       "2      IDENTIFICATION AND DISPLAY OF PEPTIDE LIGANDS   \n",
       "3                                LIST BASED PREFETCH   \n",
       "4  Terahertz radiation detector focal plane array...   \n",
       "\n",
       "                                         description  \\\n",
       "0  Design of FBG-based sensor for monitoring corr...   \n",
       "1  Analogs of alpha ceramide (IMM47) and uses the...   \n",
       "2  An in vitro drug discovery platform analogous ...   \n",
       "3  Invention of a pattern-recording gather prefet...   \n",
       "4  A CMOS based focal plane for terahertz imaging...   \n",
       "\n",
       "                     protection              patentId  yearProtectionGranted  \\\n",
       "0  Patent application published  GB2439993-2008-01-16                   2008   \n",
       "1                Patent granted             6836514.7                   2007   \n",
       "2  Patent application published        WO 2015/011467                   2015   \n",
       "3                Patent granted             US8255633                   2012   \n",
       "4                Patent granted             US9513171                   2016   \n",
       "\n",
       "                                              impact licensed  \n",
       "0  This will make an impact in the construction i...       No  \n",
       "1  In this patent, which underpinned my subsequen...      Yes  \n",
       "2                                                  z       No  \n",
       "3                         Used in IBM's HPC products      Com  \n",
       "4  Collaboration with industry on photonics techn...      Com  "
      ]
     },
     "execution_count": 104,
     "metadata": {},
     "output_type": "execute_result"
    }
   ],
   "source": [
    "ip = my_data['intellectualproperties']\n",
    "\n",
    "ip.head()"
   ]
  },
  {
   "cell_type": "code",
   "execution_count": 105,
   "metadata": {},
   "outputs": [
    {
     "data": {
      "text/plain": [
       "(7749, 8)"
      ]
     },
     "execution_count": 105,
     "metadata": {},
     "output_type": "execute_result"
    }
   ],
   "source": [
    "ip.shape"
   ]
  },
  {
   "cell_type": "code",
   "execution_count": 106,
   "metadata": {},
   "outputs": [
    {
     "data": {
      "text/plain": [
       "<matplotlib.axes._subplots.AxesSubplot at 0x10b5c0f60>"
      ]
     },
     "execution_count": 106,
     "metadata": {},
     "output_type": "execute_result"
    },
    {
     "data": {
      "image/png": "[encoded data removed]",
      "text/plain": [
       "<Figure size 432x288 with 1 Axes>"
      ]
     },
     "metadata": {},
     "output_type": "display_data"
    }
   ],
   "source": [
    "ip.protection.value_counts().plot.bar(color='blue',title='ip')"
   ]
  },
  {
   "cell_type": "markdown",
   "metadata": {},
   "source": [
    "Around 3000 patents and a bunch of random labels. We can use it perhaps to look at field maturity"
   ]
  },
  {
   "cell_type": "markdown",
   "metadata": {},
   "source": [
    "#### Technical products"
   ]
  },
  {
   "cell_type": "code",
   "execution_count": 107,
   "metadata": {},
   "outputs": [
    {
     "data": {
      "text/html": [
       "<div>\n",
       "<style scoped>\n",
       "    .dataframe tbody tr th:only-of-type {\n",
       "        vertical-align: middle;\n",
       "    }\n",
       "\n",
       "    .dataframe tbody tr th {\n",
       "        vertical-align: top;\n",
       "    }\n",
       "\n",
       "    .dataframe thead th {\n",
       "        text-align: right;\n",
       "    }\n",
       "</style>\n",
       "<table border=\"1\" class=\"dataframe\">\n",
       "  <thead>\n",
       "    <tr style=\"text-align: right;\">\n",
       "      <th></th>\n",
       "      <th>id</th>\n",
       "      <th>title</th>\n",
       "      <th>description</th>\n",
       "      <th>type</th>\n",
       "      <th>impact</th>\n",
       "      <th>softwareOpenSourced</th>\n",
       "      <th>yearFirstProvided</th>\n",
       "      <th>supportingUrl</th>\n",
       "    </tr>\n",
       "  </thead>\n",
       "  <tbody>\n",
       "    <tr>\n",
       "      <th>0</th>\n",
       "      <td>00043B35-DCD5-4C1C-B5FF-FD2B451AABF0</td>\n",
       "      <td>cath-cluster: A simple way to complete-linkage...</td>\n",
       "      <td>The software provides a fast implementation of...</td>\n",
       "      <td>Software</td>\n",
       "      <td>The software has increased visibility of our g...</td>\n",
       "      <td>True</td>\n",
       "      <td>2018.0</td>\n",
       "      <td>http://cath-tools.readthedocs.io/en/latest/too...</td>\n",
       "    </tr>\n",
       "    <tr>\n",
       "      <th>1</th>\n",
       "      <td>00050BA4-9FA9-405E-9210-6DB9C888DD4C</td>\n",
       "      <td>Submarine Canyons: guest post</td>\n",
       "      <td>website by Siddhi Joshi</td>\n",
       "      <td>Software</td>\n",
       "      <td>NaN</td>\n",
       "      <td>NaN</td>\n",
       "      <td>NaN</td>\n",
       "      <td>http://seabedhabitats.org/2013/06/24/submarine...</td>\n",
       "    </tr>\n",
       "    <tr>\n",
       "      <th>2</th>\n",
       "      <td>00079818-77E3-4CF2-AD5F-00283863AC3C</td>\n",
       "      <td>ICMplus</td>\n",
       "      <td>ICU monitoring software. Developed by Marek Cz...</td>\n",
       "      <td>Software</td>\n",
       "      <td>Take up internationally</td>\n",
       "      <td>NaN</td>\n",
       "      <td>NaN</td>\n",
       "      <td>NaN</td>\n",
       "    </tr>\n",
       "    <tr>\n",
       "      <th>3</th>\n",
       "      <td>0009EC96-A733-45BF-A5F2-369DFDD232FF</td>\n",
       "      <td>INRFlow - update needed</td>\n",
       "      <td>Interconnection network research flow-level ev...</td>\n",
       "      <td>Software</td>\n",
       "      <td>.</td>\n",
       "      <td>True</td>\n",
       "      <td>2016.0</td>\n",
       "      <td>NaN</td>\n",
       "    </tr>\n",
       "    <tr>\n",
       "      <th>4</th>\n",
       "      <td>0013CA23-C0A9-4537-80AE-641CEBD36AAC</td>\n",
       "      <td>AutoLens</td>\n",
       "      <td>AutoLens is a new piece of strong gravitationa...</td>\n",
       "      <td>Software</td>\n",
       "      <td>Expectations are that AutoLens or at least man...</td>\n",
       "      <td>NaN</td>\n",
       "      <td>2018.0</td>\n",
       "      <td>NaN</td>\n",
       "    </tr>\n",
       "  </tbody>\n",
       "</table>\n",
       "</div>"
      ],
      "text/plain": [
       "                                     id  \\\n",
       "0  00043B35-DCD5-4C1C-B5FF-FD2B451AABF0   \n",
       "1  00050BA4-9FA9-405E-9210-6DB9C888DD4C   \n",
       "2  00079818-77E3-4CF2-AD5F-00283863AC3C   \n",
       "3  0009EC96-A733-45BF-A5F2-369DFDD232FF   \n",
       "4  0013CA23-C0A9-4537-80AE-641CEBD36AAC   \n",
       "\n",
       "                                               title  \\\n",
       "0  cath-cluster: A simple way to complete-linkage...   \n",
       "1                      Submarine Canyons: guest post   \n",
       "2                                            ICMplus   \n",
       "3                            INRFlow - update needed   \n",
       "4                                           AutoLens   \n",
       "\n",
       "                                         description      type  \\\n",
       "0  The software provides a fast implementation of...  Software   \n",
       "1                            website by Siddhi Joshi  Software   \n",
       "2  ICU monitoring software. Developed by Marek Cz...  Software   \n",
       "3  Interconnection network research flow-level ev...  Software   \n",
       "4  AutoLens is a new piece of strong gravitationa...  Software   \n",
       "\n",
       "                                              impact softwareOpenSourced  \\\n",
       "0  The software has increased visibility of our g...                True   \n",
       "1                                                NaN                 NaN   \n",
       "2                            Take up internationally                 NaN   \n",
       "3                                                  .                True   \n",
       "4  Expectations are that AutoLens or at least man...                 NaN   \n",
       "\n",
       "   yearFirstProvided                                      supportingUrl  \n",
       "0             2018.0  http://cath-tools.readthedocs.io/en/latest/too...  \n",
       "1                NaN  http://seabedhabitats.org/2013/06/24/submarine...  \n",
       "2                NaN                                                NaN  \n",
       "3             2016.0                                                NaN  \n",
       "4             2018.0                                                NaN  "
      ]
     },
     "execution_count": 107,
     "metadata": {},
     "output_type": "execute_result"
    }
   ],
   "source": [
    "technical = my_data['softwareandtechnicalproducts']\n",
    "\n",
    "technical.head()"
   ]
  },
  {
   "cell_type": "code",
   "execution_count": 108,
   "metadata": {},
   "outputs": [
    {
     "data": {
      "text/plain": [
       "(12227, 8)"
      ]
     },
     "execution_count": 108,
     "metadata": {},
     "output_type": "execute_result"
    }
   ],
   "source": [
    "technical.shape"
   ]
  },
  {
   "cell_type": "code",
   "execution_count": 109,
   "metadata": {},
   "outputs": [
    {
     "data": {
      "text/plain": [
       "<matplotlib.axes._subplots.AxesSubplot at 0x10b5c0a90>"
      ]
     },
     "execution_count": 109,
     "metadata": {},
     "output_type": "execute_result"
    },
    {
     "data": {
      "image/png": "[encoded data removed]",
      "text/plain": [
       "<Figure size 432x288 with 1 Axes>"
      ]
     },
     "metadata": {},
     "output_type": "display_data"
    }
   ],
   "source": [
    "technical['type'].value_counts().plot.bar(color='blue',title='Technical outputs')"
   ]
  },
  {
   "cell_type": "markdown",
   "metadata": {},
   "source": [
    "Perhaps we could create a 'practical output' dummy for the field...\n",
    "\n",
    "Or query the application databases with project names once we have identified them?"
   ]
  },
  {
   "cell_type": "code",
   "execution_count": 110,
   "metadata": {},
   "outputs": [
    {
     "data": {
      "text/plain": [
       "1686"
      ]
     },
     "execution_count": 110,
     "metadata": {},
     "output_type": "execute_result"
    }
   ],
   "source": [
    "np.sum(['github' in x for x in technical.supportingUrl if pd.isnull(x)==False])"
   ]
  },
  {
   "cell_type": "markdown",
   "metadata": {},
   "source": [
    "1686 projects in GitHUb"
   ]
  },
  {
   "cell_type": "markdown",
   "metadata": {},
   "source": [
    "#### Spinouts"
   ]
  },
  {
   "cell_type": "code",
   "execution_count": 111,
   "metadata": {},
   "outputs": [
    {
     "data": {
      "text/html": [
       "<div>\n",
       "<style scoped>\n",
       "    .dataframe tbody tr th:only-of-type {\n",
       "        vertical-align: middle;\n",
       "    }\n",
       "\n",
       "    .dataframe tbody tr th {\n",
       "        vertical-align: top;\n",
       "    }\n",
       "\n",
       "    .dataframe thead th {\n",
       "        text-align: right;\n",
       "    }\n",
       "</style>\n",
       "<table border=\"1\" class=\"dataframe\">\n",
       "  <thead>\n",
       "    <tr style=\"text-align: right;\">\n",
       "      <th></th>\n",
       "      <th>id</th>\n",
       "      <th>description</th>\n",
       "      <th>companyName</th>\n",
       "      <th>impact</th>\n",
       "      <th>website</th>\n",
       "      <th>yearEstablished</th>\n",
       "    </tr>\n",
       "  </thead>\n",
       "  <tbody>\n",
       "    <tr>\n",
       "      <th>0</th>\n",
       "      <td>0052AC2C-FFC3-4E80-8D48-23D312BCCFB6</td>\n",
       "      <td>A special purpose vehicle set up to facilitate...</td>\n",
       "      <td>SPECIFIC Innovations Ltd</td>\n",
       "      <td>One technology licence has been granted to a c...</td>\n",
       "      <td>NaN</td>\n",
       "      <td>2014.0</td>\n",
       "    </tr>\n",
       "    <tr>\n",
       "      <th>1</th>\n",
       "      <td>00835229-1A18-4731-BA53-F13EFFF8C4C7</td>\n",
       "      <td>Scientific text mining</td>\n",
       "      <td>Scidiver</td>\n",
       "      <td>None so far.</td>\n",
       "      <td>NaN</td>\n",
       "      <td>2011.0</td>\n",
       "    </tr>\n",
       "    <tr>\n",
       "      <th>2</th>\n",
       "      <td>00911DF1-AF41-42EC-BB95-6FC28E86786C</td>\n",
       "      <td>Cognition Video is a platform for the automati...</td>\n",
       "      <td>Cognition Video Ltd.</td>\n",
       "      <td>Cognition Video won the Enterprise Software ca...</td>\n",
       "      <td>http://www.cognitionvideo.co.uk</td>\n",
       "      <td>2016.0</td>\n",
       "    </tr>\n",
       "    <tr>\n",
       "      <th>3</th>\n",
       "      <td>00958DA0-A15A-4DA0-B2EF-056E21C44BFE</td>\n",
       "      <td>To exploit the sensors and composites innovati...</td>\n",
       "      <td>Sensors and Composites Ltd</td>\n",
       "      <td>Incorporated in 2015.</td>\n",
       "      <td>NaN</td>\n",
       "      <td>2015.0</td>\n",
       "    </tr>\n",
       "    <tr>\n",
       "      <th>4</th>\n",
       "      <td>00CC435B-DCD1-407A-9BF5-3F82240703E3</td>\n",
       "      <td>The company specializes in the area of manufac...</td>\n",
       "      <td>VitriTech Ltd</td>\n",
       "      <td>Technology for laser gain manufacturing has be...</td>\n",
       "      <td>http://www.vitritech.co.uk/</td>\n",
       "      <td>2015.0</td>\n",
       "    </tr>\n",
       "  </tbody>\n",
       "</table>\n",
       "</div>"
      ],
      "text/plain": [
       "                                     id  \\\n",
       "0  0052AC2C-FFC3-4E80-8D48-23D312BCCFB6   \n",
       "1  00835229-1A18-4731-BA53-F13EFFF8C4C7   \n",
       "2  00911DF1-AF41-42EC-BB95-6FC28E86786C   \n",
       "3  00958DA0-A15A-4DA0-B2EF-056E21C44BFE   \n",
       "4  00CC435B-DCD1-407A-9BF5-3F82240703E3   \n",
       "\n",
       "                                         description  \\\n",
       "0  A special purpose vehicle set up to facilitate...   \n",
       "1                             Scientific text mining   \n",
       "2  Cognition Video is a platform for the automati...   \n",
       "3  To exploit the sensors and composites innovati...   \n",
       "4  The company specializes in the area of manufac...   \n",
       "\n",
       "                  companyName  \\\n",
       "0    SPECIFIC Innovations Ltd   \n",
       "1                    Scidiver   \n",
       "2        Cognition Video Ltd.   \n",
       "3  Sensors and Composites Ltd   \n",
       "4               VitriTech Ltd   \n",
       "\n",
       "                                              impact  \\\n",
       "0  One technology licence has been granted to a c...   \n",
       "1                                       None so far.   \n",
       "2  Cognition Video won the Enterprise Software ca...   \n",
       "3                              Incorporated in 2015.   \n",
       "4  Technology for laser gain manufacturing has be...   \n",
       "\n",
       "                           website  yearEstablished  \n",
       "0                              NaN           2014.0  \n",
       "1                              NaN           2011.0  \n",
       "2  http://www.cognitionvideo.co.uk           2016.0  \n",
       "3                              NaN           2015.0  \n",
       "4      http://www.vitritech.co.uk/           2015.0  "
      ]
     },
     "execution_count": 111,
     "metadata": {},
     "output_type": "execute_result"
    }
   ],
   "source": [
    "spinouts = my_data['spinouts']\n",
    "\n",
    "spinouts.head()"
   ]
  },
  {
   "cell_type": "code",
   "execution_count": 112,
   "metadata": {},
   "outputs": [
    {
     "name": "stderr",
     "output_type": "stream",
     "text": [
      "/usr/local/lib/python3.7/site-packages/ipykernel_launcher.py:1: FutureWarning: \n",
      "Passing list-likes to .loc or [] with any missing label will raise\n",
      "KeyError in the future, you can use .reindex() as an alternative.\n",
      "\n",
      "See the documentation here:\n",
      "https://pandas.pydata.org/pandas-docs/stable/indexing.html#deprecate-loc-reindex-listlike\n",
      "  \"\"\"Entry point for launching an IPython kernel.\n"
     ]
    },
    {
     "data": {
      "text/plain": [
       "<matplotlib.axes._subplots.AxesSubplot at 0x197123b38>"
      ]
     },
     "execution_count": 112,
     "metadata": {},
     "output_type": "execute_result"
    },
    {
     "data": {
      "image/png": "[encoded data removed]",
      "text/plain": [
       "<Figure size 432x288 with 1 Axes>"
      ]
     },
     "metadata": {},
     "output_type": "display_data"
    }
   ],
   "source": [
    "spinouts.yearEstablished.value_counts().loc[np.arange(2006,2020)].plot.bar(color='blue',title='spinout_year')"
   ]
  },
  {
   "cell_type": "markdown",
   "metadata": {},
   "source": [
    "#### Publications"
   ]
  },
  {
   "cell_type": "code",
   "execution_count": 113,
   "metadata": {},
   "outputs": [
    {
     "data": {
      "text/html": [
       "<div>\n",
       "<style scoped>\n",
       "    .dataframe tbody tr th:only-of-type {\n",
       "        vertical-align: middle;\n",
       "    }\n",
       "\n",
       "    .dataframe tbody tr th {\n",
       "        vertical-align: top;\n",
       "    }\n",
       "\n",
       "    .dataframe thead th {\n",
       "        text-align: right;\n",
       "    }\n",
       "</style>\n",
       "<table border=\"1\" class=\"dataframe\">\n",
       "  <thead>\n",
       "    <tr style=\"text-align: right;\">\n",
       "      <th></th>\n",
       "      <th>id</th>\n",
       "      <th>title</th>\n",
       "      <th>type</th>\n",
       "      <th>journalTitle</th>\n",
       "      <th>datePublished</th>\n",
       "      <th>publicationUrl</th>\n",
       "      <th>pubMedId</th>\n",
       "      <th>issn</th>\n",
       "      <th>volumeTitle</th>\n",
       "      <th>doi</th>\n",
       "      <th>issue</th>\n",
       "      <th>author</th>\n",
       "      <th>isbn</th>\n",
       "      <th>chapterTitle</th>\n",
       "      <th>pageReference</th>\n",
       "    </tr>\n",
       "  </thead>\n",
       "  <tbody>\n",
       "    <tr>\n",
       "      <th>0</th>\n",
       "      <td>00000C13-59F1-419B-9204-77DAFFD2BC35</td>\n",
       "      <td>Characteristics of EGRET Blazars in the VLBA I...</td>\n",
       "      <td>Journal Article/Review</td>\n",
       "      <td>The Astrophysical Journal</td>\n",
       "      <td>2007-01-01</td>\n",
       "      <td>http://dx.doi.org/10.1086/523264</td>\n",
       "      <td>NaN</td>\n",
       "      <td>NaN</td>\n",
       "      <td>NaN</td>\n",
       "      <td>http://dx.doi.org/10.1086/523264</td>\n",
       "      <td>2</td>\n",
       "      <td>Taylor G</td>\n",
       "      <td>NaN</td>\n",
       "      <td>NaN</td>\n",
       "      <td>NaN</td>\n",
       "    </tr>\n",
       "    <tr>\n",
       "      <th>1</th>\n",
       "      <td>00000D8A-3BFA-4D6C-BB58-8721DA8D36E1</td>\n",
       "      <td>The cytotoxicity and cell labelling efficacy o...</td>\n",
       "      <td>Working Paper</td>\n",
       "      <td>NaN</td>\n",
       "      <td>2013-01-01</td>\n",
       "      <td>NaN</td>\n",
       "      <td>NaN</td>\n",
       "      <td>NaN</td>\n",
       "      <td>NaN</td>\n",
       "      <td>NaN</td>\n",
       "      <td>NaN</td>\n",
       "      <td>Samantha Parsons (Author)</td>\n",
       "      <td>NaN</td>\n",
       "      <td>NaN</td>\n",
       "      <td>NaN</td>\n",
       "    </tr>\n",
       "    <tr>\n",
       "      <th>2</th>\n",
       "      <td>000030A0-2369-4D9A-8126-E68EE6FD653F</td>\n",
       "      <td>Altered receptor specificity and cell tropism ...</td>\n",
       "      <td>Journal Article/Review</td>\n",
       "      <td>Journal of virology</td>\n",
       "      <td>2010-01-01</td>\n",
       "      <td>http://europepmc.org/abstract/MED/20826688</td>\n",
       "      <td>20826688.0</td>\n",
       "      <td>0022-538X</td>\n",
       "      <td>84</td>\n",
       "      <td>http://dx.doi.org/10.1128/JVI.01639-10</td>\n",
       "      <td>22</td>\n",
       "      <td>Liu Y</td>\n",
       "      <td>NaN</td>\n",
       "      <td>NaN</td>\n",
       "      <td>NaN</td>\n",
       "    </tr>\n",
       "    <tr>\n",
       "      <th>3</th>\n",
       "      <td>0000428D-17F4-4E75-BD8A-8584675CAFAB</td>\n",
       "      <td>Nonlocal energy density functionals for pairin...</td>\n",
       "      <td>Journal Article/Review</td>\n",
       "      <td>Journal of Physics G: Nuclear and Particle Phy...</td>\n",
       "      <td>2017-01-01</td>\n",
       "      <td>http://dx.doi.org/10.1088/1361-6471/aa5fd7</td>\n",
       "      <td>NaN</td>\n",
       "      <td>NaN</td>\n",
       "      <td>NaN</td>\n",
       "      <td>http://dx.doi.org/10.1088/1361-6471/aa5fd7</td>\n",
       "      <td>4</td>\n",
       "      <td>Bennaceur K</td>\n",
       "      <td>NaN</td>\n",
       "      <td>NaN</td>\n",
       "      <td>NaN</td>\n",
       "    </tr>\n",
       "    <tr>\n",
       "      <th>4</th>\n",
       "      <td>00004300-5697-455F-A2A9-575AB7AA28E8</td>\n",
       "      <td>HCO (3)(-) secretion and CaCO3 precipitation p...</td>\n",
       "      <td>Journal Article/Review</td>\n",
       "      <td>American journal of physiology. Regulatory, in...</td>\n",
       "      <td>2010-01-01</td>\n",
       "      <td>http://europepmc.org/abstract/MED/20130226</td>\n",
       "      <td>20130226.0</td>\n",
       "      <td>0363-6119</td>\n",
       "      <td>298</td>\n",
       "      <td>http://dx.doi.org/10.1152/ajpregu.00545.2009</td>\n",
       "      <td>4</td>\n",
       "      <td>Whittamore JM</td>\n",
       "      <td>NaN</td>\n",
       "      <td>NaN</td>\n",
       "      <td>NaN</td>\n",
       "    </tr>\n",
       "  </tbody>\n",
       "</table>\n",
       "</div>"
      ],
      "text/plain": [
       "                                     id  \\\n",
       "0  00000C13-59F1-419B-9204-77DAFFD2BC35   \n",
       "1  00000D8A-3BFA-4D6C-BB58-8721DA8D36E1   \n",
       "2  000030A0-2369-4D9A-8126-E68EE6FD653F   \n",
       "3  0000428D-17F4-4E75-BD8A-8584675CAFAB   \n",
       "4  00004300-5697-455F-A2A9-575AB7AA28E8   \n",
       "\n",
       "                                               title                    type  \\\n",
       "0  Characteristics of EGRET Blazars in the VLBA I...  Journal Article/Review   \n",
       "1  The cytotoxicity and cell labelling efficacy o...           Working Paper   \n",
       "2  Altered receptor specificity and cell tropism ...  Journal Article/Review   \n",
       "3  Nonlocal energy density functionals for pairin...  Journal Article/Review   \n",
       "4  HCO (3)(-) secretion and CaCO3 precipitation p...  Journal Article/Review   \n",
       "\n",
       "                                        journalTitle datePublished  \\\n",
       "0                          The Astrophysical Journal    2007-01-01   \n",
       "1                                                NaN    2013-01-01   \n",
       "2                                Journal of virology    2010-01-01   \n",
       "3  Journal of Physics G: Nuclear and Particle Phy...    2017-01-01   \n",
       "4  American journal of physiology. Regulatory, in...    2010-01-01   \n",
       "\n",
       "                               publicationUrl    pubMedId       issn  \\\n",
       "0            http://dx.doi.org/10.1086/523264         NaN        NaN   \n",
       "1                                         NaN         NaN        NaN   \n",
       "2  http://europepmc.org/abstract/MED/20826688  20826688.0  0022-538X   \n",
       "3  http://dx.doi.org/10.1088/1361-6471/aa5fd7         NaN        NaN   \n",
       "4  http://europepmc.org/abstract/MED/20130226  20130226.0  0363-6119   \n",
       "\n",
       "  volumeTitle                                           doi issue  \\\n",
       "0         NaN              http://dx.doi.org/10.1086/523264     2   \n",
       "1         NaN                                           NaN   NaN   \n",
       "2          84        http://dx.doi.org/10.1128/JVI.01639-10    22   \n",
       "3         NaN    http://dx.doi.org/10.1088/1361-6471/aa5fd7     4   \n",
       "4         298  http://dx.doi.org/10.1152/ajpregu.00545.2009     4   \n",
       "\n",
       "                      author isbn chapterTitle pageReference  \n",
       "0                   Taylor G  NaN          NaN           NaN  \n",
       "1  Samantha Parsons (Author)  NaN          NaN           NaN  \n",
       "2                      Liu Y  NaN          NaN           NaN  \n",
       "3                Bennaceur K  NaN          NaN           NaN  \n",
       "4              Whittamore JM  NaN          NaN           NaN  "
      ]
     },
     "execution_count": 113,
     "metadata": {},
     "output_type": "execute_result"
    }
   ],
   "source": [
    "pubs = my_data['publications']\n",
    "\n",
    "pubs.head()"
   ]
  },
  {
   "cell_type": "code",
   "execution_count": 114,
   "metadata": {},
   "outputs": [
    {
     "data": {
      "text/plain": [
       "array([ 616103,  393213,  528397, ..., 1183334,  198910,  689996])"
      ]
     },
     "execution_count": 114,
     "metadata": {},
     "output_type": "execute_result"
    }
   ],
   "source": [
    "np.random.randint(0,len(pubs),40000)"
   ]
  },
  {
   "cell_type": "code",
   "execution_count": 115,
   "metadata": {},
   "outputs": [
    {
     "data": {
      "image/png": "[encoded data removed]",
      "text/plain": [
       "<Figure size 432x288 with 1 Axes>"
      ]
     },
     "metadata": {},
     "output_type": "display_data"
    }
   ],
   "source": [
    "#Get missing values for a random sample (10%) of the publications\n",
    "\n",
    "fig,ax = plt.subplots()\n",
    "\n",
    "pub_sample = pubs.loc[list(np.random.randint(0,len(pubs),70000)),:]\n",
    "\n",
    "missing_count(pub_sample,ax)\n"
   ]
  },
  {
   "cell_type": "markdown",
   "metadata": {},
   "source": [
    "80% have DOI"
   ]
  },
  {
   "cell_type": "code",
   "execution_count": 116,
   "metadata": {},
   "outputs": [
    {
     "data": {
      "text/plain": [
       "<matplotlib.axes._subplots.AxesSubplot at 0x142a10898>"
      ]
     },
     "execution_count": 116,
     "metadata": {},
     "output_type": "execute_result"
    },
    {
     "data": {
      "image/png": "[encoded data removed]",
      "text/plain": [
       "<Figure size 432x288 with 1 Axes>"
      ]
     },
     "metadata": {},
     "output_type": "display_data"
    }
   ],
   "source": [
    "pubs.type.value_counts().plot.bar(color='blue',title='Type of publication')"
   ]
  },
  {
   "cell_type": "code",
   "execution_count": 117,
   "metadata": {},
   "outputs": [],
   "source": [
    "pubs['year'] = pubs['datePublished'].apply(get_year)"
   ]
  },
  {
   "cell_type": "code",
   "execution_count": 118,
   "metadata": {},
   "outputs": [
    {
     "data": {
      "text/plain": [
       "<matplotlib.axes._subplots.AxesSubplot at 0x198f16128>"
      ]
     },
     "execution_count": 118,
     "metadata": {},
     "output_type": "execute_result"
    },
    {
     "data": {
      "image/png": "[encoded data removed]",
      "text/plain": [
       "<Figure size 432x288 with 1 Axes>"
      ]
     },
     "metadata": {},
     "output_type": "display_data"
    }
   ],
   "source": [
    "pubs['year'].value_counts().loc[np.arange(2006,2020)].plot.bar(color='blue',title='publication years')"
   ]
  },
  {
   "cell_type": "code",
   "execution_count": 119,
   "metadata": {},
   "outputs": [
    {
     "data": {
      "text/plain": [
       "Monthly Notices of the Royal Astronomical Society         45340\n",
       "Journal of High Energy Physics                            34476\n",
       "Physical Review D                                         33471\n",
       "Physical review letters                                   27722\n",
       "Physics Letters B                                         24943\n",
       "The Astrophysical Journal                                 20505\n",
       "PloS one                                                  19100\n",
       "The European physical journal. C, Particles and fields    12341\n",
       "Astronomy & Astrophysics                                  11514\n",
       "Scientific reports                                         8430\n",
       "Name: journalTitle, dtype: int64"
      ]
     },
     "execution_count": 119,
     "metadata": {},
     "output_type": "execute_result"
    }
   ],
   "source": [
    "pubs['journalTitle'].value_counts()[:10]"
   ]
  },
  {
   "cell_type": "markdown",
   "metadata": {},
   "source": [
    "### Discipline coverage check\n",
    "\n",
    "Here we run outputs vs projects to get who were the funders. We want to check how much cross-organisation coverage there is in the data\n",
    "\n",
    "We also identify projects that appear in different 'impact' databases"
   ]
  },
  {
   "cell_type": "code",
   "execution_count": 120,
   "metadata": {},
   "outputs": [],
   "source": [
    "#Containers for the data\n",
    "impactful_projects= []\n",
    "\n",
    "impact_funders = [projects['leadFunder'].value_counts()]\n",
    "\n",
    "impact_names = ['prods','ip','tech','spin','pubs']\n",
    "\n",
    "for name,data in zip(impact_names,[products,ip,technical,spinouts,pubs]):\n",
    "    \n",
    "    #Merges outputs and projects via the product file\n",
    "    \n",
    "    merged = pd.merge(\n",
    "        pd.merge(data,link,left_on='id',right_on='id'),\n",
    "        projects,left_on='project_id',right_on='id')\n",
    "    \n",
    "    #number of times that a project appears in an output df\n",
    "    project_counts = merged['project_id'].value_counts()\n",
    "    project_counts.name = name\n",
    "    \n",
    "    #Put it with the featured projects\n",
    "    impactful_projects.append(project_counts)\n",
    "    \n",
    "    \n",
    "    #Funder impact by project\n",
    "    funder_freqs = merged['leadFunder'].value_counts()\n",
    "    funder_freqs.name = name\n",
    "    \n",
    "    #Merges with the outpi\n",
    "    impact_funders.append(funder_freqs)\n",
    "    "
   ]
  },
  {
   "cell_type": "code",
   "execution_count": 121,
   "metadata": {},
   "outputs": [
    {
     "data": {
      "text/plain": [
       "<matplotlib.legend.Legend at 0x11c4ff9b0>"
      ]
     },
     "execution_count": 121,
     "metadata": {},
     "output_type": "execute_result"
    },
    {
     "data": {
      "image/png": "[encoded data removed]",
      "text/plain": [
       "<Figure size 576x360 with 1 Axes>"
      ]
     },
     "metadata": {},
     "output_type": "display_data"
    }
   ],
   "source": [
    "fig,ax = plt.subplots(figsize=(8,5))\n",
    "\n",
    "pd.concat(impact_funders,axis=1,sort=False).apply(lambda x: x/x.sum(),axis=0).T.plot.bar(stacked=True,ax=ax,width=0.8)\n",
    "\n",
    "ax.legend(bbox_to_anchor=(1,1))"
   ]
  },
  {
   "cell_type": "markdown",
   "metadata": {},
   "source": [
    "Some observations:\n",
    "* No output data for innovate UK\n",
    "* MRC over-represented in all outputs (not bad for the mission pilots)\n",
    "* STFC over-represented in publications(physics)"
   ]
  },
  {
   "cell_type": "code",
   "execution_count": 122,
   "metadata": {},
   "outputs": [
    {
     "name": "stderr",
     "output_type": "stream",
     "text": [
      "/usr/local/lib/python3.7/site-packages/ipykernel_launcher.py:7: FutureWarning: Sorting because non-concatenation axis is not aligned. A future version\n",
      "of pandas will change to not sort by default.\n",
      "\n",
      "To accept the future behavior, pass 'sort=False'.\n",
      "\n",
      "To retain the current behavior and silence the warning, pass 'sort=True'.\n",
      "\n",
      "  import sys\n"
     ]
    },
    {
     "data": {
      "text/plain": [
       "(86951, 28)"
      ]
     },
     "execution_count": 122,
     "metadata": {},
     "output_type": "execute_result"
    }
   ],
   "source": [
    "# And the impactful projects\n",
    "\n",
    "#Concatenate the previous outputs\n",
    "project_impacts = pd.concat(impactful_projects,axis=1,sort=True).fillna(0)\n",
    "\n",
    "#Concatenate with the projects file\n",
    "projects_imp = pd.concat([projects_f.set_index('project_id'),project_impacts],axis=1)\n",
    "\n",
    "projects_imp.shape"
   ]
  },
  {
   "cell_type": "markdown",
   "metadata": {},
   "source": [
    "Fillnas with 0s. \n",
    "Should drop innovate from follow-on analyses here given that they don't seem to be tracking the impact of their projects in the same way as research councils."
   ]
  },
  {
   "cell_type": "code",
   "execution_count": 123,
   "metadata": {},
   "outputs": [],
   "source": [
    "projects_imp[impact_names] = projects_imp[impact_names].fillna(0)"
   ]
  },
  {
   "cell_type": "code",
   "execution_count": 124,
   "metadata": {},
   "outputs": [],
   "source": [
    "import seaborn as sns"
   ]
  },
  {
   "cell_type": "code",
   "execution_count": 125,
   "metadata": {},
   "outputs": [
    {
     "data": {
      "text/html": [
       "<div>\n",
       "<style scoped>\n",
       "    .dataframe tbody tr th:only-of-type {\n",
       "        vertical-align: middle;\n",
       "    }\n",
       "\n",
       "    .dataframe tbody tr th {\n",
       "        vertical-align: top;\n",
       "    }\n",
       "\n",
       "    .dataframe thead th {\n",
       "        text-align: right;\n",
       "    }\n",
       "</style>\n",
       "<table border=\"1\" class=\"dataframe\">\n",
       "  <thead>\n",
       "    <tr style=\"text-align: right;\">\n",
       "      <th></th>\n",
       "      <th>prods</th>\n",
       "      <th>ip</th>\n",
       "      <th>tech</th>\n",
       "      <th>spin</th>\n",
       "      <th>pubs</th>\n",
       "      <th>amount</th>\n",
       "    </tr>\n",
       "  </thead>\n",
       "  <tbody>\n",
       "    <tr>\n",
       "      <th>prods</th>\n",
       "      <td>1.000000</td>\n",
       "      <td>0.145036</td>\n",
       "      <td>0.043660</td>\n",
       "      <td>0.084099</td>\n",
       "      <td>0.107019</td>\n",
       "      <td>0.041584</td>\n",
       "    </tr>\n",
       "    <tr>\n",
       "      <th>ip</th>\n",
       "      <td>0.145036</td>\n",
       "      <td>1.000000</td>\n",
       "      <td>0.044572</td>\n",
       "      <td>0.190560</td>\n",
       "      <td>0.089446</td>\n",
       "      <td>0.059108</td>\n",
       "    </tr>\n",
       "    <tr>\n",
       "      <th>tech</th>\n",
       "      <td>0.043660</td>\n",
       "      <td>0.044572</td>\n",
       "      <td>1.000000</td>\n",
       "      <td>0.085666</td>\n",
       "      <td>0.121309</td>\n",
       "      <td>0.050569</td>\n",
       "    </tr>\n",
       "    <tr>\n",
       "      <th>spin</th>\n",
       "      <td>0.084099</td>\n",
       "      <td>0.190560</td>\n",
       "      <td>0.085666</td>\n",
       "      <td>1.000000</td>\n",
       "      <td>0.117790</td>\n",
       "      <td>0.051819</td>\n",
       "    </tr>\n",
       "    <tr>\n",
       "      <th>pubs</th>\n",
       "      <td>0.107019</td>\n",
       "      <td>0.089446</td>\n",
       "      <td>0.121309</td>\n",
       "      <td>0.117790</td>\n",
       "      <td>1.000000</td>\n",
       "      <td>0.182485</td>\n",
       "    </tr>\n",
       "    <tr>\n",
       "      <th>amount</th>\n",
       "      <td>0.041584</td>\n",
       "      <td>0.059108</td>\n",
       "      <td>0.050569</td>\n",
       "      <td>0.051819</td>\n",
       "      <td>0.182485</td>\n",
       "      <td>1.000000</td>\n",
       "    </tr>\n",
       "  </tbody>\n",
       "</table>\n",
       "</div>"
      ],
      "text/plain": [
       "           prods        ip      tech      spin      pubs    amount\n",
       "prods   1.000000  0.145036  0.043660  0.084099  0.107019  0.041584\n",
       "ip      0.145036  1.000000  0.044572  0.190560  0.089446  0.059108\n",
       "tech    0.043660  0.044572  1.000000  0.085666  0.121309  0.050569\n",
       "spin    0.084099  0.190560  0.085666  1.000000  0.117790  0.051819\n",
       "pubs    0.107019  0.089446  0.121309  0.117790  1.000000  0.182485\n",
       "amount  0.041584  0.059108  0.050569  0.051819  0.182485  1.000000"
      ]
     },
     "execution_count": 125,
     "metadata": {},
     "output_type": "execute_result"
    }
   ],
   "source": [
    "#What is the correlation between different types of outputs...and level of funding?\n",
    "\n",
    "projects_imp[impact_names+['amount']].corr()"
   ]
  },
  {
   "cell_type": "markdown",
   "metadata": {},
   "source": [
    "Lots of potential confounders here - types of projects, disciplines..."
   ]
  },
  {
   "cell_type": "markdown",
   "metadata": {},
   "source": [
    "#### Some observations for next steps\n",
    "\n",
    "* Analysis focusing on 2006-2018\n",
    "* We need to integrate the topic data (new link file)?\n",
    "* Analyses of TRL/output by field will need to consider differences between disciplines in their outlets. To which extent are the disciplines in a mission field more or less productive than their constituent fields?\n",
    "* ...\n",
    "\n"
   ]
  },
  {
   "cell_type": "markdown",
   "metadata": {},
   "source": [
    "## 2. Process data"
   ]
  },
  {
   "cell_type": "markdown",
   "metadata": {},
   "source": [
    "* Classify projects into disciplines.\n",
    "  * I need the project topics for this labelling\n",
    "* Any TRL tags would go in here"
   ]
  },
  {
   "cell_type": "markdown",
   "metadata": {},
   "source": [
    "Add research activities and topics to the projects data"
   ]
  },
  {
   "cell_type": "code",
   "execution_count": 144,
   "metadata": {},
   "outputs": [],
   "source": [
    "topic_lookup = link.loc[link['table_name']=='gtr_topic',:]\n",
    "\n",
    "#We simply group by projects and run the names vs the research activity and topic lookup\n",
    "\n",
    "#Group\n",
    "res_topics_by_project = topic_lookup.groupby('project_id')\n",
    "\n",
    "#Extract lookups\n",
    "activity_project_lookup,topic_project_lookup = [res_topics_by_project['id'].apply(\n",
    "    lambda x: [lookup[el] for el in [t for t in x] if el in lookup.keys()]).to_dict() for lookup in [res_activity_lookup,res_topic_lookup]]"
   ]
  },
  {
   "cell_type": "code",
   "execution_count": 172,
   "metadata": {},
   "outputs": [],
   "source": [
    "#Add topics\n",
    "\n",
    "projects_imp['research_topics'],projects_imp['research_activities']= [[\n",
    "    lookup[x] if x in lookup.keys() else [] for x in projects_imp.index] for lookup in [\n",
    "    topic_project_lookup,activity_project_lookup]]\n",
    "\n",
    "projects_imp['has_topic'],projects_imp['has_activities'] = [[len(x)>0 for x in projects_imp[var]] for var in \n",
    "                                                            ['research_topics','research_activities']]\n",
    "                                                            "
   ]
  },
  {
   "cell_type": "code",
   "execution_count": 173,
   "metadata": {},
   "outputs": [
    {
     "data": {
      "text/plain": [
       "<matplotlib.axes._subplots.AxesSubplot at 0x1370ef518>"
      ]
     },
     "execution_count": 173,
     "metadata": {},
     "output_type": "execute_result"
    },
    {
     "data": {
      "image/png": "[encoded data removed]",
      "text/plain": [
       "<Figure size 432x288 with 1 Axes>"
      ]
     },
     "metadata": {},
     "output_type": "display_data"
    }
   ],
   "source": [
    "pd.crosstab(projects_imp.loc[projects_imp.grantCategory=='Research Grant','year'],\n",
    "            projects_imp.loc[projects_imp.grantCategory=='Research Grant','has_topic'],normalize=0).plot.bar(\n",
    "    stacked=True,title='Share of Research Grants with subject data')\n"
   ]
  },
  {
   "cell_type": "markdown",
   "metadata": {},
   "source": [
    "Only around 80% of the projects have topics. This is quite different from previous versions of the data which had many more topics.\n",
    "\n",
    "One to check with Joel"
   ]
  },
  {
   "cell_type": "code",
   "execution_count": 177,
   "metadata": {},
   "outputs": [
    {
     "data": {
      "text/plain": [
       "<matplotlib.axes._subplots.AxesSubplot at 0x14c70ea58>"
      ]
     },
     "execution_count": 177,
     "metadata": {},
     "output_type": "execute_result"
    },
    {
     "data": {
      "image/png": "[encoded data removed]",
      "text/plain": [
       "<Figure size 720x360 with 2 Axes>"
      ]
     },
     "metadata": {},
     "output_type": "display_data"
    }
   ],
   "source": [
    "fig,ax = plt.subplots(figsize=(10,5),ncols=2,sharey=True)\n",
    "\n",
    "pd.crosstab(projects_imp['leadFunder'],projects_imp['has_topics'],normalize=0).plot.barh(stacked=True,ax=ax[0],legend=False)\n",
    "pd.crosstab(projects_imp['leadFunder'],projects_imp['has_activities'],normalize=0).plot.barh(stacked=True,ax=ax[1])"
   ]
  },
  {
   "cell_type": "markdown",
   "metadata": {},
   "source": [
    "Almost no topics in MRC - because they label their projects with activities.\n",
    "\n",
    "For now we will use an older dataset with better topic coverage for labelling (see notebook `02_jmg_discipline_modelling`)"
   ]
  },
  {
   "cell_type": "markdown",
   "metadata": {},
   "source": [
    "### Discipline classifier"
   ]
  },
  {
   "cell_type": "markdown",
   "metadata": {},
   "source": [
    "Save data to train the model in the `02_jmg`... notebook"
   ]
  },
  {
   "cell_type": "code",
   "execution_count": 184,
   "metadata": {},
   "outputs": [],
   "source": [
    "gtr_for_pred = projects_imp.dropna(axis=0,subset=['abstractText'])\n",
    "\n",
    "gtr_for_pred.to_csv(f'../data/processed/{today_str}_gtr_for_prediction.csv',index_label=False)"
   ]
  },
  {
   "cell_type": "markdown",
   "metadata": {},
   "source": [
    "Load data after training"
   ]
  },
  {
   "cell_type": "code",
   "execution_count": 191,
   "metadata": {},
   "outputs": [],
   "source": [
    "gtr_predicted = pd.read_csv('../data/processed/24_1_2019_gtr_w_predicted_labels.csv',index_col=None).iloc[:,1:].set_index('index')"
   ]
  },
  {
   "cell_type": "markdown",
   "metadata": {},
   "source": [
    "### Create a clean dataset"
   ]
  },
  {
   "cell_type": "code",
   "execution_count": 194,
   "metadata": {},
   "outputs": [],
   "source": [
    "discs = ['biological_sciences', 'physics', 'engineering_technology',\n",
    "       'medical_sciences', 'social_sciences', 'mathematics_computing',\n",
    "       'environmental_sciences', 'arts_humanities']"
   ]
  },
  {
   "cell_type": "code",
   "execution_count": 205,
   "metadata": {},
   "outputs": [],
   "source": [
    "my_vars = ['title','year','abstractText','status','grantCategory','leadFunder','amount']\n",
    "rename_vars = ['title','year','abstract','status','grant_category','funder','amount']\n",
    "\n",
    "proj_labelled = pd.concat([projects_imp,gtr_predicted],axis=1,sort=False)[my_vars + discs + impact_names]\n",
    "\n",
    "\n",
    "proj_labelled.rename(columns={x:y for x,y in zip(my_vars,rename_vars)},inplace=True)"
   ]
  },
  {
   "cell_type": "code",
   "execution_count": 293,
   "metadata": {},
   "outputs": [],
   "source": [
    "#We will focus on projects with abstracts\n",
    "proj_abst = proj_labelled.loc[gtr_predicted.index,:]"
   ]
  },
  {
   "cell_type": "markdown",
   "metadata": {},
   "source": [
    "## 3. Query data"
   ]
  },
  {
   "cell_type": "markdown",
   "metadata": {},
   "source": [
    "### Word embeddings query / Clio query?\n",
    "\n",
    "To keep things simple, we will train a w2v model, identify synonyms for a set of seed terms and query the data for those"
   ]
  },
  {
   "cell_type": "code",
   "execution_count": 220,
   "metadata": {},
   "outputs": [],
   "source": [
    "# %load lda_pipeline.py\n",
    "from gensim import corpora, models\n",
    "from string import punctuation\n",
    "from string import digits\n",
    "import re\n",
    "import pandas as pd\n",
    "import numpy as np\n",
    "\n",
    "#Characters to drop\n",
    "drop_characters = re.sub('-','',punctuation)+digits\n",
    "\n",
    "#Stopwords\n",
    "from nltk.corpus import stopwords\n",
    "\n",
    "stop = stopwords.words('English')\n",
    "\n",
    "#Stem functions\n",
    "from nltk.stem import *\n",
    "stemmer = PorterStemmer()\n",
    "\n",
    "\n",
    "def clean_tokenise(string,drop_characters=drop_characters,stopwords=stop):\n",
    "    '''\n",
    "    Takes a string and cleans (makes lowercase and removes stopwords)\n",
    "    \n",
    "    '''\n",
    "    \n",
    "\n",
    "    #Lowercase\n",
    "    str_low = string.lower()\n",
    "    \n",
    "    \n",
    "    #Remove symbols and numbers\n",
    "    str_letters = re.sub('[{drop}]'.format(drop=drop_characters),'',str_low)\n",
    "    \n",
    "    \n",
    "    #Remove stopwords\n",
    "    clean = [x for x in str_letters.split(' ') if (x not in stop) & (x!='')]\n",
    "    \n",
    "    return(clean)\n",
    "\n",
    "\n",
    "class CleanTokenize():\n",
    "    '''\n",
    "    This class takes a list of strings and returns a tokenised, clean list of token lists ready\n",
    "    to be processed with the LdaPipeline\n",
    "    \n",
    "    It has a clean method to remove symbols and stopwords\n",
    "    \n",
    "    It has a bigram method to detect collocated words\n",
    "    \n",
    "    It has a stem method to stem words\n",
    "    \n",
    "    '''\n",
    "    \n",
    "    def __init__(self,corpus):\n",
    "        '''\n",
    "        Takes a corpus (list where each element is a string)\n",
    "        '''\n",
    "        \n",
    "        #Store\n",
    "        self.corpus = corpus\n",
    "        \n",
    "    def clean(self,drop=drop_characters,stopwords=stop):\n",
    "        '''\n",
    "        Removes strings and stopwords, \n",
    "        \n",
    "        '''\n",
    "        \n",
    "        cleaned = [clean_tokenise(doc,drop_characters=drop,stopwords=stop) for doc in self.corpus]\n",
    "        \n",
    "        self.tokenised = cleaned\n",
    "        return(self)\n",
    "    \n",
    "    def stem(self):\n",
    "        '''\n",
    "        Optional: stems words\n",
    "        \n",
    "        '''\n",
    "        #Stems each word in each tokenised sentence\n",
    "        stemmed = [[stemmer.stem(word) for word in sentence] for sentence in self.tokenised]\n",
    "    \n",
    "        self.tokenised = stemmed\n",
    "        return(self)\n",
    "        \n",
    "    \n",
    "    def bigram(self,threshold=10):\n",
    "        '''\n",
    "        Optional Create bigrams.\n",
    "        \n",
    "        '''\n",
    "        \n",
    "        #Colocation detector trained on the data\n",
    "        phrases = models.Phrases(self.tokenised,threshold=threshold)\n",
    "        \n",
    "        bigram = models.phrases.Phraser(phrases)\n",
    "        \n",
    "        self.tokenised = bigram[self.tokenised]\n",
    "        \n",
    "        return(self)\n",
    "        \n",
    "        \n",
    "        \n",
    "        \n",
    "\n",
    "class LdaPipeline():\n",
    "    '''\n",
    "    This class processes lists of keywords.\n",
    "    How does it work?\n",
    "    -It is initialised with a list where every element is a collection of keywords\n",
    "    -It has a method to filter keywords removing those that appear less than a set number of times\n",
    "    \n",
    "    -It has a method to process the filtered df into an object that gensim can work with\n",
    "    -It has a method to train the LDA model with the right parameters\n",
    "    -It has a method to predict the topics in a corpus\n",
    "    \n",
    "    '''\n",
    "    \n",
    "    def __init__(self,corpus):\n",
    "        '''\n",
    "        Takes the list of terms\n",
    "        '''\n",
    "        \n",
    "        #Store the corpus\n",
    "        self.tokenised = corpus\n",
    "        \n",
    "    def filter(self,minimum=5):\n",
    "        '''\n",
    "        Removes keywords that appear less than 5 times.\n",
    "        \n",
    "        '''\n",
    "        \n",
    "        #Load\n",
    "        tokenised = self.tokenised\n",
    "        \n",
    "        #Count tokens\n",
    "        token_counts = pd.Series([x for el in tokenised for x in el]).value_counts()\n",
    "        \n",
    "        #Tokens to keep\n",
    "        keep = token_counts.index[token_counts>minimum]\n",
    "        \n",
    "        #Filter\n",
    "        tokenised_filtered = [[x for x in el if x in keep] for el in tokenised]\n",
    "        \n",
    "        #Store\n",
    "        self.tokenised = tokenised_filtered\n",
    "        self.empty_groups = np.sum([len(x)==0 for x in tokenised_filtered])\n",
    "        \n",
    "        return(self)\n",
    "    \n",
    "    def clean(self):\n",
    "        '''\n",
    "        Remove symbols and numbers\n",
    "        \n",
    "        '''\n",
    "        \n",
    "        \n",
    "        \n",
    "    \n",
    "        \n",
    "    def process(self):\n",
    "        '''\n",
    "        This creates the bag of words we use in the gensim analysis\n",
    "        \n",
    "        '''\n",
    "        #Load the list of keywords\n",
    "        tokenised = self.tokenised\n",
    "        \n",
    "        #Create the dictionary\n",
    "        dictionary = corpora.Dictionary(tokenised)\n",
    "        \n",
    "        #Create the Bag of words. This converts keywords into ids\n",
    "        corpus = [dictionary.doc2bow(x) for x in tokenised]\n",
    "        \n",
    "        self.corpus = corpus\n",
    "        self.dictionary = dictionary\n",
    "        return(self)\n",
    "        \n",
    "    def tfidf(self):\n",
    "        '''\n",
    "        This is optional: We extract the term-frequency inverse document frequency of the words in\n",
    "        the corpus. The idea is to identify those keywords that are more salient in a document by normalising over\n",
    "        their frequency in the whole corpus\n",
    "        \n",
    "        '''\n",
    "        #Load the corpus\n",
    "        corpus = self.corpus\n",
    "        \n",
    "        #Fit a TFIDF model on the data\n",
    "        tfidf = models.TfidfModel(corpus)\n",
    "        \n",
    "        #Transform the corpus and save it\n",
    "        self.corpus = tfidf[corpus]\n",
    "        \n",
    "        return(self)\n",
    "    \n",
    "    def fit_lda(self,num_topics=20,passes=5,iterations=75,random_state=1803):\n",
    "        '''\n",
    "        \n",
    "        This fits the LDA model taking a set of keyword arguments.\n",
    "        #Number of passes, iterations and random state for reproducibility. We will have to consider\n",
    "        reproducibility eventually.\n",
    "        \n",
    "        '''\n",
    "        \n",
    "        #Load the corpus\n",
    "        corpus = self.corpus\n",
    "        \n",
    "        #Train the LDA model with the parameters we supplied\n",
    "        lda = models.LdaModel(corpus,id2word=self.dictionary,\n",
    "                              num_topics=num_topics,passes=passes,iterations=iterations,random_state=random_state)\n",
    "        \n",
    "        #Save the outputs\n",
    "        self.lda_model = lda\n",
    "        self.lda_topics = lda.show_topics(num_topics=num_topics)\n",
    "        \n",
    "\n",
    "        return(self)\n",
    "    \n",
    "    def predict_topics(self):\n",
    "        '''\n",
    "        This predicts the topic mix for every observation in the corpus\n",
    "        \n",
    "        '''\n",
    "        #Load the attributes we will be working with\n",
    "        lda = self.lda_model\n",
    "        corpus = self.corpus\n",
    "        \n",
    "        #Now we create a df\n",
    "        predicted = lda[corpus]\n",
    "        \n",
    "        #Convert this into a dataframe\n",
    "        predicted_df = pd.concat([pd.DataFrame({x[0]:x[1] for x in topics},\n",
    "                                              index=[num]) for num,topics in enumerate(predicted)]).fillna(0)\n",
    "        \n",
    "        self.predicted_df = predicted_df\n",
    "        \n",
    "        return(self)\n",
    "    "
   ]
  },
  {
   "cell_type": "code",
   "execution_count": 294,
   "metadata": {},
   "outputs": [],
   "source": [
    "#Create sentence corpus\n",
    "sentence_corpus = flatten_list([x.split('. ') for x in proj_abst['abstract']])\n",
    "\n",
    "\n",
    "#Tokenize etc using the classes above\n",
    "sentence_tokenised = CleanTokenize(sentence_corpus).clean().bigram()\n",
    "\n",
    "#Also tokenise by documents so we can query them later\n",
    "corpus_tokenised = CleanTokenize(proj_abst['abstract']).clean().bigram()\n"
   ]
  },
  {
   "cell_type": "code",
   "execution_count": 224,
   "metadata": {},
   "outputs": [],
   "source": [
    "#Training W2V\n",
    "w2v = Word2Vec(sentence_tokenised.tokenised)"
   ]
  },
  {
   "cell_type": "code",
   "execution_count": 227,
   "metadata": {},
   "outputs": [],
   "source": [
    "with open(f'../models/{today_str}_word_embeddings.p','wb') as outfile:\n",
    "    pickle.dump(w2v,outfile)"
   ]
  },
  {
   "cell_type": "code",
   "execution_count": 287,
   "metadata": {},
   "outputs": [],
   "source": [
    "def synonym_chaser(seed_list,model,similarity,occurrences=1):\n",
    "    '''\n",
    "    Takes a seed term and expands it with synonyms (above a certain similarity threshold)\n",
    "    \n",
    "    '''\n",
    "    \n",
    "    #All synonyms of the terms in the seed_list above a certain threshold\n",
    "    set_ws = flatten_list([[term[0] for term in model.most_similar(seed) if term[1]>similarity] for seed in seed_list])\n",
    "    \n",
    "    #return(set_ws)\n",
    "    \n",
    "    #This is the list of unique occurrences (what we want to return at the end)\n",
    "    set_ws_list = list(set(set_ws))\n",
    "    \n",
    "    #For each term, if it appears multiple times, we expand\n",
    "    for w in set_ws:\n",
    "        if set_ws.count(w)>occurrences:\n",
    "            \n",
    "            #As before\n",
    "            extra_words = [term[0] for term in model.most_similar(w) if term[1]>similarity]\n",
    "            \n",
    "            set_ws_list + extra_words\n",
    "            \n",
    "    #return(list(set(set_ws_list)))\n",
    "    return(set_ws_list)\n",
    "    \n",
    "\n",
    "    \n",
    "def querier(corpus,keywords):\n",
    "    '''\n",
    "    Loops over a tokenised corpus and returns the number of hits (number of times that any of the terms appears in the document)\n",
    "    \n",
    "    '''\n",
    "    #Intersection of tokens\n",
    "    out = [len(set(keywords) & set(document)) for document in corpus]\n",
    "    \n",
    "    return(out)\n",
    "    \n",
    "    "
   ]
  },
  {
   "cell_type": "markdown",
   "metadata": {},
   "source": [
    "### AI and Chronic diseases (crude keyword search-based)"
   ]
  },
  {
   "cell_type": "code",
   "execution_count": 310,
   "metadata": {},
   "outputs": [
    {
     "name": "stderr",
     "output_type": "stream",
     "text": [
      "/usr/local/lib/python3.7/site-packages/ipykernel_launcher.py:8: DeprecationWarning: Call to deprecated `most_similar` (Method will be removed in 4.0.0, use self.wv.most_similar() instead).\n",
      "  \n",
      "/usr/local/lib/python3.7/site-packages/gensim/matutils.py:737: FutureWarning: Conversion of the second argument of issubdtype from `int` to `np.signedinteger` is deprecated. In future, it will be treated as `np.int64 == np.dtype(int).type`.\n",
      "  if np.issubdtype(vec.dtype, np.int):\n",
      "/usr/local/lib/python3.7/site-packages/ipykernel_launcher.py:20: DeprecationWarning: Call to deprecated `most_similar` (Method will be removed in 4.0.0, use self.wv.most_similar() instead).\n"
     ]
    }
   ],
   "source": [
    "ai_expanded = synonym_chaser(seed_list=['machine_learning','artificial_intelligence','deep_learning','ai','machine_vision'],model=w2v,similarity=0.8)\n",
    "chronic_expanded = synonym_chaser(seed_list=['chronic_disease','chronic'],model=w2v,similarity=0.8)"
   ]
  },
  {
   "cell_type": "code",
   "execution_count": 319,
   "metadata": {},
   "outputs": [],
   "source": [
    "proj_abst['has_ai'],proj_abst['has_chronic'] = [querier(corpus_tokenised.tokenised,keys) for keys in [ai_expanded,chronic_expanded]]"
   ]
  },
  {
   "cell_type": "code",
   "execution_count": 320,
   "metadata": {},
   "outputs": [
    {
     "data": {
      "text/html": [
       "<div>\n",
       "<style scoped>\n",
       "    .dataframe tbody tr th:only-of-type {\n",
       "        vertical-align: middle;\n",
       "    }\n",
       "\n",
       "    .dataframe tbody tr th {\n",
       "        vertical-align: top;\n",
       "    }\n",
       "\n",
       "    .dataframe thead th {\n",
       "        text-align: right;\n",
       "    }\n",
       "</style>\n",
       "<table border=\"1\" class=\"dataframe\">\n",
       "  <thead>\n",
       "    <tr style=\"text-align: right;\">\n",
       "      <th>has_chronic</th>\n",
       "      <th>False</th>\n",
       "      <th>True</th>\n",
       "    </tr>\n",
       "    <tr>\n",
       "      <th>has_ai</th>\n",
       "      <th></th>\n",
       "      <th></th>\n",
       "    </tr>\n",
       "  </thead>\n",
       "  <tbody>\n",
       "    <tr>\n",
       "      <th>False</th>\n",
       "      <td>66642</td>\n",
       "      <td>2714</td>\n",
       "    </tr>\n",
       "    <tr>\n",
       "      <th>True</th>\n",
       "      <td>2926</td>\n",
       "      <td>74</td>\n",
       "    </tr>\n",
       "  </tbody>\n",
       "</table>\n",
       "</div>"
      ],
      "text/plain": [
       "has_chronic  False  True \n",
       "has_ai                   \n",
       "False        66642   2714\n",
       "True          2926     74"
      ]
     },
     "execution_count": 320,
     "metadata": {},
     "output_type": "execute_result"
    }
   ],
   "source": [
    "pd.crosstab(proj_abst['has_ai']>0,proj_abst['has_chronic']>0)"
   ]
  },
  {
   "cell_type": "code",
   "execution_count": 322,
   "metadata": {},
   "outputs": [
    {
     "data": {
      "text/html": [
       "<div>\n",
       "<style scoped>\n",
       "    .dataframe tbody tr th:only-of-type {\n",
       "        vertical-align: middle;\n",
       "    }\n",
       "\n",
       "    .dataframe tbody tr th {\n",
       "        vertical-align: top;\n",
       "    }\n",
       "\n",
       "    .dataframe thead th {\n",
       "        text-align: right;\n",
       "    }\n",
       "</style>\n",
       "<table border=\"1\" class=\"dataframe\">\n",
       "  <thead>\n",
       "    <tr style=\"text-align: right;\">\n",
       "      <th></th>\n",
       "      <th>title</th>\n",
       "      <th>year</th>\n",
       "      <th>abstract</th>\n",
       "      <th>status</th>\n",
       "      <th>grant_category</th>\n",
       "      <th>funder</th>\n",
       "      <th>amount</th>\n",
       "      <th>biological_sciences</th>\n",
       "      <th>physics</th>\n",
       "      <th>engineering_technology</th>\n",
       "      <th>...</th>\n",
       "      <th>prods</th>\n",
       "      <th>ip</th>\n",
       "      <th>tech</th>\n",
       "      <th>spin</th>\n",
       "      <th>pubs</th>\n",
       "      <th>ai_hits</th>\n",
       "      <th>has_ai</th>\n",
       "      <th>has_chronic</th>\n",
       "      <th>has_age</th>\n",
       "      <th>has_inclusion</th>\n",
       "    </tr>\n",
       "    <tr>\n",
       "      <th>index</th>\n",
       "      <th></th>\n",
       "      <th></th>\n",
       "      <th></th>\n",
       "      <th></th>\n",
       "      <th></th>\n",
       "      <th></th>\n",
       "      <th></th>\n",
       "      <th></th>\n",
       "      <th></th>\n",
       "      <th></th>\n",
       "      <th></th>\n",
       "      <th></th>\n",
       "      <th></th>\n",
       "      <th></th>\n",
       "      <th></th>\n",
       "      <th></th>\n",
       "      <th></th>\n",
       "      <th></th>\n",
       "      <th></th>\n",
       "      <th></th>\n",
       "      <th></th>\n",
       "    </tr>\n",
       "  </thead>\n",
       "  <tbody>\n",
       "    <tr>\n",
       "      <th>01255C59-FF2F-4ADA-A066-26138AC3B348</th>\n",
       "      <td>A Deep Learning Algorithm To Eliminate Errors ...</td>\n",
       "      <td>2017.0</td>\n",
       "      <td>Fractional Flow Reserve (FFR) is a leading inn...</td>\n",
       "      <td>Active</td>\n",
       "      <td>Feasibility Studies</td>\n",
       "      <td>Innovate UK</td>\n",
       "      <td>89491.0</td>\n",
       "      <td>0.001008</td>\n",
       "      <td>5.175687e-03</td>\n",
       "      <td>0.114699</td>\n",
       "      <td>...</td>\n",
       "      <td>0.0</td>\n",
       "      <td>0.0</td>\n",
       "      <td>0.0</td>\n",
       "      <td>0.0</td>\n",
       "      <td>0.0</td>\n",
       "      <td>1</td>\n",
       "      <td>1</td>\n",
       "      <td>1</td>\n",
       "      <td>0</td>\n",
       "      <td>0</td>\n",
       "    </tr>\n",
       "    <tr>\n",
       "      <th>01B6A723-34E3-4F13-9318-5257D1FC1D54</th>\n",
       "      <td>Non-invasive assessment and management of coro...</td>\n",
       "      <td>2018.0</td>\n",
       "      <td>The main aim is to improve and test software c...</td>\n",
       "      <td>Active</td>\n",
       "      <td>Fellowship</td>\n",
       "      <td>MRC</td>\n",
       "      <td>284559.0</td>\n",
       "      <td>0.000366</td>\n",
       "      <td>1.280349e-07</td>\n",
       "      <td>0.025036</td>\n",
       "      <td>...</td>\n",
       "      <td>0.0</td>\n",
       "      <td>0.0</td>\n",
       "      <td>0.0</td>\n",
       "      <td>0.0</td>\n",
       "      <td>0.0</td>\n",
       "      <td>1</td>\n",
       "      <td>1</td>\n",
       "      <td>1</td>\n",
       "      <td>0</td>\n",
       "      <td>0</td>\n",
       "    </tr>\n",
       "    <tr>\n",
       "      <th>0248EE56-D9BA-4D29-A438-BA2BD05A3168</th>\n",
       "      <td>Micromechanical measurements in living embryos</td>\n",
       "      <td>2013.0</td>\n",
       "      <td>The embryo is a complex system wherein local t...</td>\n",
       "      <td>Closed</td>\n",
       "      <td>Research Grant</td>\n",
       "      <td>BBSRC</td>\n",
       "      <td>585065.0</td>\n",
       "      <td>0.469256</td>\n",
       "      <td>2.409735e-09</td>\n",
       "      <td>0.169307</td>\n",
       "      <td>...</td>\n",
       "      <td>0.0</td>\n",
       "      <td>0.0</td>\n",
       "      <td>2.0</td>\n",
       "      <td>0.0</td>\n",
       "      <td>4.0</td>\n",
       "      <td>1</td>\n",
       "      <td>1</td>\n",
       "      <td>1</td>\n",
       "      <td>0</td>\n",
       "      <td>0</td>\n",
       "    </tr>\n",
       "    <tr>\n",
       "      <th>0283F735-409F-49A2-9DEB-2DCF4E8884D5</th>\n",
       "      <td>VIRTUAL REALITY ASSESSMENT AND REHABILITATION ...</td>\n",
       "      <td>2017.0</td>\n",
       "      <td>The proposed PhD project will use innovative, ...</td>\n",
       "      <td>Active</td>\n",
       "      <td>Studentship</td>\n",
       "      <td>EPSRC</td>\n",
       "      <td>0.0</td>\n",
       "      <td>0.000403</td>\n",
       "      <td>5.355883e-06</td>\n",
       "      <td>0.251407</td>\n",
       "      <td>...</td>\n",
       "      <td>0.0</td>\n",
       "      <td>0.0</td>\n",
       "      <td>0.0</td>\n",
       "      <td>0.0</td>\n",
       "      <td>0.0</td>\n",
       "      <td>1</td>\n",
       "      <td>1</td>\n",
       "      <td>1</td>\n",
       "      <td>0</td>\n",
       "      <td>0</td>\n",
       "    </tr>\n",
       "    <tr>\n",
       "      <th>0A62A025-8483-4E00-B724-7286B6DF772E</th>\n",
       "      <td>A Universal PAN Architecture for Monitoring Mu...</td>\n",
       "      <td>2008.0</td>\n",
       "      <td>People living with chronic medical conditions ...</td>\n",
       "      <td>Closed</td>\n",
       "      <td>Research Grant</td>\n",
       "      <td>EPSRC</td>\n",
       "      <td>179286.0</td>\n",
       "      <td>0.000147</td>\n",
       "      <td>3.143689e-04</td>\n",
       "      <td>0.013824</td>\n",
       "      <td>...</td>\n",
       "      <td>0.0</td>\n",
       "      <td>0.0</td>\n",
       "      <td>0.0</td>\n",
       "      <td>0.0</td>\n",
       "      <td>0.0</td>\n",
       "      <td>1</td>\n",
       "      <td>1</td>\n",
       "      <td>1</td>\n",
       "      <td>0</td>\n",
       "      <td>0</td>\n",
       "    </tr>\n",
       "  </tbody>\n",
       "</table>\n",
       "<p>5 rows × 25 columns</p>\n",
       "</div>"
      ],
      "text/plain": [
       "                                                                                  title  \\\n",
       "index                                                                                     \n",
       "01255C59-FF2F-4ADA-A066-26138AC3B348  A Deep Learning Algorithm To Eliminate Errors ...   \n",
       "01B6A723-34E3-4F13-9318-5257D1FC1D54  Non-invasive assessment and management of coro...   \n",
       "0248EE56-D9BA-4D29-A438-BA2BD05A3168     Micromechanical measurements in living embryos   \n",
       "0283F735-409F-49A2-9DEB-2DCF4E8884D5  VIRTUAL REALITY ASSESSMENT AND REHABILITATION ...   \n",
       "0A62A025-8483-4E00-B724-7286B6DF772E  A Universal PAN Architecture for Monitoring Mu...   \n",
       "\n",
       "                                        year  \\\n",
       "index                                          \n",
       "01255C59-FF2F-4ADA-A066-26138AC3B348  2017.0   \n",
       "01B6A723-34E3-4F13-9318-5257D1FC1D54  2018.0   \n",
       "0248EE56-D9BA-4D29-A438-BA2BD05A3168  2013.0   \n",
       "0283F735-409F-49A2-9DEB-2DCF4E8884D5  2017.0   \n",
       "0A62A025-8483-4E00-B724-7286B6DF772E  2008.0   \n",
       "\n",
       "                                                                               abstract  \\\n",
       "index                                                                                     \n",
       "01255C59-FF2F-4ADA-A066-26138AC3B348  Fractional Flow Reserve (FFR) is a leading inn...   \n",
       "01B6A723-34E3-4F13-9318-5257D1FC1D54  The main aim is to improve and test software c...   \n",
       "0248EE56-D9BA-4D29-A438-BA2BD05A3168  The embryo is a complex system wherein local t...   \n",
       "0283F735-409F-49A2-9DEB-2DCF4E8884D5  The proposed PhD project will use innovative, ...   \n",
       "0A62A025-8483-4E00-B724-7286B6DF772E  People living with chronic medical conditions ...   \n",
       "\n",
       "                                      status       grant_category  \\\n",
       "index                                                               \n",
       "01255C59-FF2F-4ADA-A066-26138AC3B348  Active  Feasibility Studies   \n",
       "01B6A723-34E3-4F13-9318-5257D1FC1D54  Active           Fellowship   \n",
       "0248EE56-D9BA-4D29-A438-BA2BD05A3168  Closed       Research Grant   \n",
       "0283F735-409F-49A2-9DEB-2DCF4E8884D5  Active          Studentship   \n",
       "0A62A025-8483-4E00-B724-7286B6DF772E  Closed       Research Grant   \n",
       "\n",
       "                                           funder    amount  \\\n",
       "index                                                         \n",
       "01255C59-FF2F-4ADA-A066-26138AC3B348  Innovate UK   89491.0   \n",
       "01B6A723-34E3-4F13-9318-5257D1FC1D54          MRC  284559.0   \n",
       "0248EE56-D9BA-4D29-A438-BA2BD05A3168        BBSRC  585065.0   \n",
       "0283F735-409F-49A2-9DEB-2DCF4E8884D5        EPSRC       0.0   \n",
       "0A62A025-8483-4E00-B724-7286B6DF772E        EPSRC  179286.0   \n",
       "\n",
       "                                      biological_sciences       physics  \\\n",
       "index                                                                     \n",
       "01255C59-FF2F-4ADA-A066-26138AC3B348             0.001008  5.175687e-03   \n",
       "01B6A723-34E3-4F13-9318-5257D1FC1D54             0.000366  1.280349e-07   \n",
       "0248EE56-D9BA-4D29-A438-BA2BD05A3168             0.469256  2.409735e-09   \n",
       "0283F735-409F-49A2-9DEB-2DCF4E8884D5             0.000403  5.355883e-06   \n",
       "0A62A025-8483-4E00-B724-7286B6DF772E             0.000147  3.143689e-04   \n",
       "\n",
       "                                      engineering_technology      ...        \\\n",
       "index                                                             ...         \n",
       "01255C59-FF2F-4ADA-A066-26138AC3B348                0.114699      ...         \n",
       "01B6A723-34E3-4F13-9318-5257D1FC1D54                0.025036      ...         \n",
       "0248EE56-D9BA-4D29-A438-BA2BD05A3168                0.169307      ...         \n",
       "0283F735-409F-49A2-9DEB-2DCF4E8884D5                0.251407      ...         \n",
       "0A62A025-8483-4E00-B724-7286B6DF772E                0.013824      ...         \n",
       "\n",
       "                                      prods   ip  tech  spin  pubs  ai_hits  \\\n",
       "index                                                                         \n",
       "01255C59-FF2F-4ADA-A066-26138AC3B348    0.0  0.0   0.0   0.0   0.0        1   \n",
       "01B6A723-34E3-4F13-9318-5257D1FC1D54    0.0  0.0   0.0   0.0   0.0        1   \n",
       "0248EE56-D9BA-4D29-A438-BA2BD05A3168    0.0  0.0   2.0   0.0   4.0        1   \n",
       "0283F735-409F-49A2-9DEB-2DCF4E8884D5    0.0  0.0   0.0   0.0   0.0        1   \n",
       "0A62A025-8483-4E00-B724-7286B6DF772E    0.0  0.0   0.0   0.0   0.0        1   \n",
       "\n",
       "                                      has_ai  has_chronic  has_age  \\\n",
       "index                                                                \n",
       "01255C59-FF2F-4ADA-A066-26138AC3B348       1            1        0   \n",
       "01B6A723-34E3-4F13-9318-5257D1FC1D54       1            1        0   \n",
       "0248EE56-D9BA-4D29-A438-BA2BD05A3168       1            1        0   \n",
       "0283F735-409F-49A2-9DEB-2DCF4E8884D5       1            1        0   \n",
       "0A62A025-8483-4E00-B724-7286B6DF772E       1            1        0   \n",
       "\n",
       "                                      has_inclusion  \n",
       "index                                                \n",
       "01255C59-FF2F-4ADA-A066-26138AC3B348              0  \n",
       "01B6A723-34E3-4F13-9318-5257D1FC1D54              0  \n",
       "0248EE56-D9BA-4D29-A438-BA2BD05A3168              0  \n",
       "0283F735-409F-49A2-9DEB-2DCF4E8884D5              0  \n",
       "0A62A025-8483-4E00-B724-7286B6DF772E              0  \n",
       "\n",
       "[5 rows x 25 columns]"
      ]
     },
     "execution_count": 322,
     "metadata": {},
     "output_type": "execute_result"
    }
   ],
   "source": [
    "proj_abst.loc[(proj_abst['has_ai']>0) & (proj_abst['has_chronic']>0)].head()"
   ]
  },
  {
   "cell_type": "markdown",
   "metadata": {},
   "source": [
    "### Ageing and inclusion/inequality (crude keyword search-based)"
   ]
  },
  {
   "cell_type": "code",
   "execution_count": 323,
   "metadata": {},
   "outputs": [
    {
     "name": "stderr",
     "output_type": "stream",
     "text": [
      "/usr/local/lib/python3.7/site-packages/ipykernel_launcher.py:8: DeprecationWarning: Call to deprecated `most_similar` (Method will be removed in 4.0.0, use self.wv.most_similar() instead).\n",
      "  \n",
      "/usr/local/lib/python3.7/site-packages/gensim/matutils.py:737: FutureWarning: Conversion of the second argument of issubdtype from `int` to `np.signedinteger` is deprecated. In future, it will be treated as `np.int64 == np.dtype(int).type`.\n",
      "  if np.issubdtype(vec.dtype, np.int):\n"
     ]
    }
   ],
   "source": [
    "age_expanded = synonym_chaser(seed_list=['ageing','aging'],model=w2v,similarity=0.8)\n",
    "inclusion_expanded = synonym_chaser(seed_list=['inclusion','inclusiveness','inclusive','inequality'],model=w2v,similarity=0.8)"
   ]
  },
  {
   "cell_type": "code",
   "execution_count": 324,
   "metadata": {},
   "outputs": [],
   "source": [
    "proj_abst['has_age'],proj_abst['has_inclusion'] = [querier(corpus_tokenised.tokenised,keys) for keys in [age_expanded,inclusion_expanded]]"
   ]
  },
  {
   "cell_type": "code",
   "execution_count": 325,
   "metadata": {},
   "outputs": [
    {
     "data": {
      "text/html": [
       "<div>\n",
       "<style scoped>\n",
       "    .dataframe tbody tr th:only-of-type {\n",
       "        vertical-align: middle;\n",
       "    }\n",
       "\n",
       "    .dataframe tbody tr th {\n",
       "        vertical-align: top;\n",
       "    }\n",
       "\n",
       "    .dataframe thead th {\n",
       "        text-align: right;\n",
       "    }\n",
       "</style>\n",
       "<table border=\"1\" class=\"dataframe\">\n",
       "  <thead>\n",
       "    <tr style=\"text-align: right;\">\n",
       "      <th>has_inclusion</th>\n",
       "      <th>False</th>\n",
       "      <th>True</th>\n",
       "    </tr>\n",
       "    <tr>\n",
       "      <th>has_age</th>\n",
       "      <th></th>\n",
       "      <th></th>\n",
       "    </tr>\n",
       "  </thead>\n",
       "  <tbody>\n",
       "    <tr>\n",
       "      <th>False</th>\n",
       "      <td>68594</td>\n",
       "      <td>1947</td>\n",
       "    </tr>\n",
       "    <tr>\n",
       "      <th>True</th>\n",
       "      <td>1779</td>\n",
       "      <td>36</td>\n",
       "    </tr>\n",
       "  </tbody>\n",
       "</table>\n",
       "</div>"
      ],
      "text/plain": [
       "has_inclusion  False  True \n",
       "has_age                    \n",
       "False          68594   1947\n",
       "True            1779     36"
      ]
     },
     "execution_count": 325,
     "metadata": {},
     "output_type": "execute_result"
    }
   ],
   "source": [
    "pd.crosstab(proj_abst['has_age']>0,proj_abst['has_inclusion']>0)"
   ]
  },
  {
   "cell_type": "code",
   "execution_count": 326,
   "metadata": {},
   "outputs": [
    {
     "data": {
      "text/html": [
       "<div>\n",
       "<style scoped>\n",
       "    .dataframe tbody tr th:only-of-type {\n",
       "        vertical-align: middle;\n",
       "    }\n",
       "\n",
       "    .dataframe tbody tr th {\n",
       "        vertical-align: top;\n",
       "    }\n",
       "\n",
       "    .dataframe thead th {\n",
       "        text-align: right;\n",
       "    }\n",
       "</style>\n",
       "<table border=\"1\" class=\"dataframe\">\n",
       "  <thead>\n",
       "    <tr style=\"text-align: right;\">\n",
       "      <th></th>\n",
       "      <th>title</th>\n",
       "      <th>year</th>\n",
       "      <th>abstract</th>\n",
       "      <th>status</th>\n",
       "      <th>grant_category</th>\n",
       "      <th>funder</th>\n",
       "      <th>amount</th>\n",
       "      <th>biological_sciences</th>\n",
       "      <th>physics</th>\n",
       "      <th>engineering_technology</th>\n",
       "      <th>...</th>\n",
       "      <th>prods</th>\n",
       "      <th>ip</th>\n",
       "      <th>tech</th>\n",
       "      <th>spin</th>\n",
       "      <th>pubs</th>\n",
       "      <th>ai_hits</th>\n",
       "      <th>has_ai</th>\n",
       "      <th>has_chronic</th>\n",
       "      <th>has_age</th>\n",
       "      <th>has_inclusion</th>\n",
       "    </tr>\n",
       "    <tr>\n",
       "      <th>index</th>\n",
       "      <th></th>\n",
       "      <th></th>\n",
       "      <th></th>\n",
       "      <th></th>\n",
       "      <th></th>\n",
       "      <th></th>\n",
       "      <th></th>\n",
       "      <th></th>\n",
       "      <th></th>\n",
       "      <th></th>\n",
       "      <th></th>\n",
       "      <th></th>\n",
       "      <th></th>\n",
       "      <th></th>\n",
       "      <th></th>\n",
       "      <th></th>\n",
       "      <th></th>\n",
       "      <th></th>\n",
       "      <th></th>\n",
       "      <th></th>\n",
       "      <th></th>\n",
       "    </tr>\n",
       "  </thead>\n",
       "  <tbody>\n",
       "    <tr>\n",
       "      <th>0AA6BCA6-50DD-4767-87B2-AFE0D7399233</th>\n",
       "      <td>Enabling Ongoingness: Content Creation &amp;amp; C...</td>\n",
       "      <td>2017.0</td>\n",
       "      <td>The 'oldest old' are the fastest growing age g...</td>\n",
       "      <td>Active</td>\n",
       "      <td>Research Grant</td>\n",
       "      <td>EPSRC</td>\n",
       "      <td>885437.0</td>\n",
       "      <td>2.876245e-05</td>\n",
       "      <td>1.483308e-09</td>\n",
       "      <td>5.217397e-05</td>\n",
       "      <td>...</td>\n",
       "      <td>0.0</td>\n",
       "      <td>0.0</td>\n",
       "      <td>0.0</td>\n",
       "      <td>0.0</td>\n",
       "      <td>0.0</td>\n",
       "      <td>0</td>\n",
       "      <td>0</td>\n",
       "      <td>0</td>\n",
       "      <td>1</td>\n",
       "      <td>1</td>\n",
       "    </tr>\n",
       "    <tr>\n",
       "      <th>1AA1A5E4-0CBA-4857-A8D4-3DAA0EFE42D3</th>\n",
       "      <td>Brain Machine Interfaces based on Subcortical ...</td>\n",
       "      <td>2017.0</td>\n",
       "      <td>Recovering upper limb function will offer a ce...</td>\n",
       "      <td>Active</td>\n",
       "      <td>Research Grant</td>\n",
       "      <td>MRC</td>\n",
       "      <td>506448.0</td>\n",
       "      <td>1.326592e-02</td>\n",
       "      <td>2.154712e-12</td>\n",
       "      <td>1.184507e-04</td>\n",
       "      <td>...</td>\n",
       "      <td>0.0</td>\n",
       "      <td>0.0</td>\n",
       "      <td>0.0</td>\n",
       "      <td>0.0</td>\n",
       "      <td>18.0</td>\n",
       "      <td>0</td>\n",
       "      <td>0</td>\n",
       "      <td>1</td>\n",
       "      <td>1</td>\n",
       "      <td>1</td>\n",
       "    </tr>\n",
       "    <tr>\n",
       "      <th>21AEB923-82FB-4DA3-863B-1DFD9E5A15B9</th>\n",
       "      <td>Community violence and adolescent mental healt...</td>\n",
       "      <td>2018.0</td>\n",
       "      <td>In Brazil, child and adolescent mental health ...</td>\n",
       "      <td>Active</td>\n",
       "      <td>Intramural</td>\n",
       "      <td>MRC</td>\n",
       "      <td>194453.0</td>\n",
       "      <td>7.495770e-07</td>\n",
       "      <td>5.862781e-14</td>\n",
       "      <td>2.479230e-08</td>\n",
       "      <td>...</td>\n",
       "      <td>0.0</td>\n",
       "      <td>0.0</td>\n",
       "      <td>0.0</td>\n",
       "      <td>0.0</td>\n",
       "      <td>0.0</td>\n",
       "      <td>0</td>\n",
       "      <td>0</td>\n",
       "      <td>0</td>\n",
       "      <td>1</td>\n",
       "      <td>1</td>\n",
       "    </tr>\n",
       "    <tr>\n",
       "      <th>27E22B78-1328-4874-B4A1-A2BBD48F00D7</th>\n",
       "      <td>Causes of heterogeneity in ageing - the Whiteh...</td>\n",
       "      <td>2010.0</td>\n",
       "      <td>When the Whitehall II study started in 1985 it...</td>\n",
       "      <td>Closed</td>\n",
       "      <td>Research Grant</td>\n",
       "      <td>MRC</td>\n",
       "      <td>2099998.0</td>\n",
       "      <td>9.657484e-04</td>\n",
       "      <td>4.291643e-08</td>\n",
       "      <td>1.674913e-03</td>\n",
       "      <td>...</td>\n",
       "      <td>0.0</td>\n",
       "      <td>0.0</td>\n",
       "      <td>0.0</td>\n",
       "      <td>0.0</td>\n",
       "      <td>944.0</td>\n",
       "      <td>0</td>\n",
       "      <td>0</td>\n",
       "      <td>1</td>\n",
       "      <td>3</td>\n",
       "      <td>1</td>\n",
       "    </tr>\n",
       "    <tr>\n",
       "      <th>2835D915-D062-4B01-89BC-140637C6A54D</th>\n",
       "      <td>How do neighbourhood deprivation and neighbour...</td>\n",
       "      <td>2017.0</td>\n",
       "      <td>How do neighbourhood deprivation and neighbour...</td>\n",
       "      <td>Active</td>\n",
       "      <td>Studentship</td>\n",
       "      <td>ESRC</td>\n",
       "      <td>0.0</td>\n",
       "      <td>1.661138e-03</td>\n",
       "      <td>4.205033e-06</td>\n",
       "      <td>5.596345e-04</td>\n",
       "      <td>...</td>\n",
       "      <td>0.0</td>\n",
       "      <td>0.0</td>\n",
       "      <td>0.0</td>\n",
       "      <td>0.0</td>\n",
       "      <td>0.0</td>\n",
       "      <td>0</td>\n",
       "      <td>0</td>\n",
       "      <td>0</td>\n",
       "      <td>1</td>\n",
       "      <td>1</td>\n",
       "    </tr>\n",
       "  </tbody>\n",
       "</table>\n",
       "<p>5 rows × 25 columns</p>\n",
       "</div>"
      ],
      "text/plain": [
       "                                                                                  title  \\\n",
       "index                                                                                     \n",
       "0AA6BCA6-50DD-4767-87B2-AFE0D7399233  Enabling Ongoingness: Content Creation &amp; C...   \n",
       "1AA1A5E4-0CBA-4857-A8D4-3DAA0EFE42D3  Brain Machine Interfaces based on Subcortical ...   \n",
       "21AEB923-82FB-4DA3-863B-1DFD9E5A15B9  Community violence and adolescent mental healt...   \n",
       "27E22B78-1328-4874-B4A1-A2BBD48F00D7  Causes of heterogeneity in ageing - the Whiteh...   \n",
       "2835D915-D062-4B01-89BC-140637C6A54D  How do neighbourhood deprivation and neighbour...   \n",
       "\n",
       "                                        year  \\\n",
       "index                                          \n",
       "0AA6BCA6-50DD-4767-87B2-AFE0D7399233  2017.0   \n",
       "1AA1A5E4-0CBA-4857-A8D4-3DAA0EFE42D3  2017.0   \n",
       "21AEB923-82FB-4DA3-863B-1DFD9E5A15B9  2018.0   \n",
       "27E22B78-1328-4874-B4A1-A2BBD48F00D7  2010.0   \n",
       "2835D915-D062-4B01-89BC-140637C6A54D  2017.0   \n",
       "\n",
       "                                                                               abstract  \\\n",
       "index                                                                                     \n",
       "0AA6BCA6-50DD-4767-87B2-AFE0D7399233  The 'oldest old' are the fastest growing age g...   \n",
       "1AA1A5E4-0CBA-4857-A8D4-3DAA0EFE42D3  Recovering upper limb function will offer a ce...   \n",
       "21AEB923-82FB-4DA3-863B-1DFD9E5A15B9  In Brazil, child and adolescent mental health ...   \n",
       "27E22B78-1328-4874-B4A1-A2BBD48F00D7  When the Whitehall II study started in 1985 it...   \n",
       "2835D915-D062-4B01-89BC-140637C6A54D  How do neighbourhood deprivation and neighbour...   \n",
       "\n",
       "                                      status  grant_category funder  \\\n",
       "index                                                                 \n",
       "0AA6BCA6-50DD-4767-87B2-AFE0D7399233  Active  Research Grant  EPSRC   \n",
       "1AA1A5E4-0CBA-4857-A8D4-3DAA0EFE42D3  Active  Research Grant    MRC   \n",
       "21AEB923-82FB-4DA3-863B-1DFD9E5A15B9  Active      Intramural    MRC   \n",
       "27E22B78-1328-4874-B4A1-A2BBD48F00D7  Closed  Research Grant    MRC   \n",
       "2835D915-D062-4B01-89BC-140637C6A54D  Active     Studentship   ESRC   \n",
       "\n",
       "                                         amount  biological_sciences  \\\n",
       "index                                                                  \n",
       "0AA6BCA6-50DD-4767-87B2-AFE0D7399233   885437.0         2.876245e-05   \n",
       "1AA1A5E4-0CBA-4857-A8D4-3DAA0EFE42D3   506448.0         1.326592e-02   \n",
       "21AEB923-82FB-4DA3-863B-1DFD9E5A15B9   194453.0         7.495770e-07   \n",
       "27E22B78-1328-4874-B4A1-A2BBD48F00D7  2099998.0         9.657484e-04   \n",
       "2835D915-D062-4B01-89BC-140637C6A54D        0.0         1.661138e-03   \n",
       "\n",
       "                                           physics  engineering_technology  \\\n",
       "index                                                                        \n",
       "0AA6BCA6-50DD-4767-87B2-AFE0D7399233  1.483308e-09            5.217397e-05   \n",
       "1AA1A5E4-0CBA-4857-A8D4-3DAA0EFE42D3  2.154712e-12            1.184507e-04   \n",
       "21AEB923-82FB-4DA3-863B-1DFD9E5A15B9  5.862781e-14            2.479230e-08   \n",
       "27E22B78-1328-4874-B4A1-A2BBD48F00D7  4.291643e-08            1.674913e-03   \n",
       "2835D915-D062-4B01-89BC-140637C6A54D  4.205033e-06            5.596345e-04   \n",
       "\n",
       "                                          ...        prods   ip  tech  spin  \\\n",
       "index                                     ...                                 \n",
       "0AA6BCA6-50DD-4767-87B2-AFE0D7399233      ...          0.0  0.0   0.0   0.0   \n",
       "1AA1A5E4-0CBA-4857-A8D4-3DAA0EFE42D3      ...          0.0  0.0   0.0   0.0   \n",
       "21AEB923-82FB-4DA3-863B-1DFD9E5A15B9      ...          0.0  0.0   0.0   0.0   \n",
       "27E22B78-1328-4874-B4A1-A2BBD48F00D7      ...          0.0  0.0   0.0   0.0   \n",
       "2835D915-D062-4B01-89BC-140637C6A54D      ...          0.0  0.0   0.0   0.0   \n",
       "\n",
       "                                       pubs  ai_hits  has_ai  has_chronic  \\\n",
       "index                                                                       \n",
       "0AA6BCA6-50DD-4767-87B2-AFE0D7399233    0.0        0       0            0   \n",
       "1AA1A5E4-0CBA-4857-A8D4-3DAA0EFE42D3   18.0        0       0            1   \n",
       "21AEB923-82FB-4DA3-863B-1DFD9E5A15B9    0.0        0       0            0   \n",
       "27E22B78-1328-4874-B4A1-A2BBD48F00D7  944.0        0       0            1   \n",
       "2835D915-D062-4B01-89BC-140637C6A54D    0.0        0       0            0   \n",
       "\n",
       "                                      has_age  has_inclusion  \n",
       "index                                                         \n",
       "0AA6BCA6-50DD-4767-87B2-AFE0D7399233        1              1  \n",
       "1AA1A5E4-0CBA-4857-A8D4-3DAA0EFE42D3        1              1  \n",
       "21AEB923-82FB-4DA3-863B-1DFD9E5A15B9        1              1  \n",
       "27E22B78-1328-4874-B4A1-A2BBD48F00D7        3              1  \n",
       "2835D915-D062-4B01-89BC-140637C6A54D        1              1  \n",
       "\n",
       "[5 rows x 25 columns]"
      ]
     },
     "execution_count": 326,
     "metadata": {},
     "output_type": "execute_result"
    }
   ],
   "source": [
    "proj_abst.loc[(proj_abst['has_age']>0) & (proj_abst['has_inclusion']>0)].head()"
   ]
  },
  {
   "cell_type": "markdown",
   "metadata": {},
   "source": [
    "Looks like the beginning of an approach"
   ]
  },
  {
   "cell_type": "markdown",
   "metadata": {},
   "source": [
    "### Next steps\n",
    "\n",
    "* Integrate with TRL analysis\n",
    "* Integrate with SDG analysis\n",
    "* Generate metrics\n",
    "* Check social media discussion around papers\n"
   ]
  }
 ],
 "metadata": {
  "kernelspec": {
   "display_name": "Python 3",
   "language": "python",
   "name": "python3"
  },
  "language_info": {
   "codemirror_mode": {
    "name": "ipython",
    "version": 3
   },
   "file_extension": ".py",
   "mimetype": "text/x-python",
   "name": "python",
   "nbconvert_exporter": "python",
   "pygments_lexer": "ipython3",
   "version": "3.7.1"
  }
 },
 "nbformat": 4,
 "nbformat_minor": 2
}
