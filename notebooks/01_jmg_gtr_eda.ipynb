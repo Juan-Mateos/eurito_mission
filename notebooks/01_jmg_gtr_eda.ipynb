{
 "cells": [
  {
   "cell_type": "markdown",
   "metadata": {},
   "source": [
    "# Mission pilot: GTR EDA\n",
    "\n",
    "In this pilot, we are developing indicators to evaluate the impact of innovation missions.\n",
    "\n",
    "We are doing this with Gateway to Research and Horizon 2020 data, and with two two missions in mind. They are:\n",
    "\n",
    "* Use of AI to diagnose, prevent and treat chronic diseases\n",
    "* Improve quality of life for an aging population\n",
    "\n",
    "We want to write a pipeline that more or less automatically takes keywords related to missions, queries the data and generates indicators and visualisations.\n",
    "\n",
    "The two datasets we are working with have similar structures (*projects linked to organisations and outcomes*) so it would be nice to write a pipeline that allows us to move between sources seamlessly.\n",
    "\n",
    "The output will be a methodology and preliminary findings for a EURITO working paper. Emerging findings will also be relevant for the project mapping innovation in Scotland.\n",
    "\n",
    "## Tasks\n",
    "\n",
    "1. Load and explore GtR data\n",
    "  * Link between projects and outcomes\n",
    "  * Coverage of outcomes\n",
    "  \n",
    "2. Process GtR data\n",
    "  * Classify projects into disciplines\n",
    "  * Label projects with TRLs (this will come from other team-members)\n",
    "\n",
    "3. Create mission fields\n",
    "  * Generate mission-related keywords\n",
    "  * Query the data\n",
    "\n",
    "4. Generate indicators\n",
    "  * Level of activity per mission\n",
    "  * Evolution of activity per mission (absolute and normalised)\n",
    "  * Network structure of mission\n",
    "    * Interdisciplinary activity and its evolution\n",
    "    * Communities involved\n",
    "    * % of relevant fields involved in mission (eg how much of total AI activity is about chronic diseases; how much of aging is about quality of life and well-being)?\n",
    "  * Technological maturity of fields\n",
    "    * Explore distribution of outcomes by mission area\n",
    "    * Generate lists of DOIs (papers) for cross-ref analysis\n",
    "    \n",
    "5. Report\n",
    "   \n",
    "\n",
    "\n",
    "\n",
    "\n",
    "\n",
    "\n",
    "\n"
   ]
  },
  {
   "cell_type": "markdown",
   "metadata": {},
   "source": [
    "### 0. Preamble"
   ]
  },
  {
   "cell_type": "markdown",
   "metadata": {},
   "source": [
    "#### Imports"
   ]
  },
  {
   "cell_type": "code",
   "execution_count": 1,
   "metadata": {},
   "outputs": [],
   "source": [
    "%matplotlib inline\n",
    "import matplotlib.pyplot as plt"
   ]
  },
  {
   "cell_type": "code",
   "execution_count": 2,
   "metadata": {},
   "outputs": [],
   "source": [
    "# Functions\n",
    "\n",
    "def missing_count(df,ax):\n",
    "    '''\n",
    "    Creates a barchart with share of missing values by variable in the data\n",
    "    \n",
    "    '''\n",
    "    \n",
    "    df.apply(lambda x: pd.isnull(x),axis=1).mean().sort_values(ascending=False).plot.bar(ax=ax,color='blue')\n",
    "    \n",
    "def get_year(date):\n",
    "    '''\n",
    "    Extracts years from GTR data. These are strings so we just get the first number\n",
    "    '''\n",
    "    \n",
    "    if pd.isnull(date)==False:\n",
    "        y = date.split('-')[0]\n",
    "        return(int(y))\n",
    "    \n",
    "    else:\n",
    "        return(np.nan)\n",
    "\n"
   ]
  },
  {
   "cell_type": "markdown",
   "metadata": {},
   "source": [
    "### 1. Load GtR data"
   ]
  },
  {
   "cell_type": "markdown",
   "metadata": {},
   "source": [
    "We will load the data in a different Notebook (we need a special environment to use the data getters)"
   ]
  },
  {
   "cell_type": "code",
   "execution_count": 3,
   "metadata": {},
   "outputs": [],
   "source": [
    "my_tables = ['_projects','_organisations','_products','_intellectualproperties','_publications',\n",
    "             'technicalproducts',\n",
    "             '_spinouts','_link_table']"
   ]
  },
  {
   "cell_type": "code",
   "execution_count": 4,
   "metadata": {},
   "outputs": [],
   "source": [
    "all_tables = os.listdir('../data/external/gtr/2019-01-24/')"
   ]
  },
  {
   "cell_type": "code",
   "execution_count": 5,
   "metadata": {},
   "outputs": [
    {
     "name": "stderr",
     "output_type": "stream",
     "text": [
      "/usr/local/lib/python3.7/site-packages/IPython/core/interactiveshell.py:2903: DtypeWarning: Columns (0) have mixed types. Specify dtype option on import or set low_memory=False.\n",
      "  if self.run_code(code, result):\n"
     ]
    }
   ],
   "source": [
    "all_tables = os.listdir('../data/external/gtr/2019-01-24/')\n",
    "\n",
    "#A dict where every item is a df with the key = table name. We do a bit of string manipulation to remove dates etc.\n",
    "my_data = {file.split('_')[-1][:-4]:pd.read_csv('../data/external/gtr/2019-01-24/'+file).iloc[:,1:] for file in all_tables if any(x in file for x in my_tables)}\n"
   ]
  },
  {
   "cell_type": "code",
   "execution_count": 6,
   "metadata": {},
   "outputs": [
    {
     "data": {
      "text/plain": [
       "dict_keys(['table', 'organisations', 'locations', 'intellectualproperties', 'products', 'publications', 'softwareandtechnicalproducts', 'spinouts', 'projects'])"
      ]
     },
     "execution_count": 6,
     "metadata": {},
     "output_type": "execute_result"
    }
   ],
   "source": [
    "my_data.keys()"
   ]
  },
  {
   "cell_type": "code",
   "execution_count": 7,
   "metadata": {},
   "outputs": [
    {
     "data": {
      "text/html": [
       "<div>\n",
       "<style scoped>\n",
       "    .dataframe tbody tr th:only-of-type {\n",
       "        vertical-align: middle;\n",
       "    }\n",
       "\n",
       "    .dataframe tbody tr th {\n",
       "        vertical-align: top;\n",
       "    }\n",
       "\n",
       "    .dataframe thead th {\n",
       "        text-align: right;\n",
       "    }\n",
       "</style>\n",
       "<table border=\"1\" class=\"dataframe\">\n",
       "  <thead>\n",
       "    <tr style=\"text-align: right;\">\n",
       "      <th></th>\n",
       "      <th>id</th>\n",
       "      <th>project_id</th>\n",
       "      <th>rel</th>\n",
       "      <th>table_name</th>\n",
       "    </tr>\n",
       "  </thead>\n",
       "  <tbody>\n",
       "    <tr>\n",
       "      <th>0</th>\n",
       "      <td>00000C13-59F1-419B-9204-77DAFFD2BC35</td>\n",
       "      <td>D80FFDA0-64E3-4DB9-AE0D-2ECEBBDF2081</td>\n",
       "      <td>PUBLICATION</td>\n",
       "      <td>gtr_outcomes_publications</td>\n",
       "    </tr>\n",
       "    <tr>\n",
       "      <th>1</th>\n",
       "      <td>00000D8A-3BFA-4D6C-BB58-8721DA8D36E1</td>\n",
       "      <td>F229B185-CBF1-40D3-94B5-D47996220858</td>\n",
       "      <td>PUBLICATION</td>\n",
       "      <td>gtr_outcomes_publications</td>\n",
       "    </tr>\n",
       "    <tr>\n",
       "      <th>2</th>\n",
       "      <td>00002A95-E2E9-4DBA-8963-5F06E950793D</td>\n",
       "      <td>0364672B-D798-44FA-BA07-0AF4653D32FE</td>\n",
       "      <td>FUND</td>\n",
       "      <td>gtr_funds</td>\n",
       "    </tr>\n",
       "    <tr>\n",
       "      <th>3</th>\n",
       "      <td>00002C86-98D2-4681-992A-E6F180D197C0</td>\n",
       "      <td>5237EE5C-D46C-43E1-92AA-C0C73F5B291B</td>\n",
       "      <td>PI_PER</td>\n",
       "      <td>gtr_persons</td>\n",
       "    </tr>\n",
       "    <tr>\n",
       "      <th>4</th>\n",
       "      <td>00002C86-98D2-4681-992A-E6F180D197C0</td>\n",
       "      <td>92491E00-537A-4072-8877-A9D155E7FA73</td>\n",
       "      <td>SUPER_PER</td>\n",
       "      <td>gtr_persons</td>\n",
       "    </tr>\n",
       "  </tbody>\n",
       "</table>\n",
       "</div>"
      ],
      "text/plain": [
       "                                     id                            project_id  \\\n",
       "0  00000C13-59F1-419B-9204-77DAFFD2BC35  D80FFDA0-64E3-4DB9-AE0D-2ECEBBDF2081   \n",
       "1  00000D8A-3BFA-4D6C-BB58-8721DA8D36E1  F229B185-CBF1-40D3-94B5-D47996220858   \n",
       "2  00002A95-E2E9-4DBA-8963-5F06E950793D  0364672B-D798-44FA-BA07-0AF4653D32FE   \n",
       "3  00002C86-98D2-4681-992A-E6F180D197C0  5237EE5C-D46C-43E1-92AA-C0C73F5B291B   \n",
       "4  00002C86-98D2-4681-992A-E6F180D197C0  92491E00-537A-4072-8877-A9D155E7FA73   \n",
       "\n",
       "           rel                 table_name  \n",
       "0  PUBLICATION  gtr_outcomes_publications  \n",
       "1  PUBLICATION  gtr_outcomes_publications  \n",
       "2         FUND                  gtr_funds  \n",
       "3       PI_PER                gtr_persons  \n",
       "4    SUPER_PER                gtr_persons  "
      ]
     },
     "execution_count": 7,
     "metadata": {},
     "output_type": "execute_result"
    }
   ],
   "source": [
    "#Load the linking file here because we will use it throughout\n",
    "link = my_data['table']\n",
    "\n",
    "link.head()"
   ]
  },
  {
   "cell_type": "markdown",
   "metadata": {},
   "source": [
    "### Projects"
   ]
  },
  {
   "cell_type": "code",
   "execution_count": 8,
   "metadata": {},
   "outputs": [
    {
     "data": {
      "text/html": [
       "<div>\n",
       "<style scoped>\n",
       "    .dataframe tbody tr th:only-of-type {\n",
       "        vertical-align: middle;\n",
       "    }\n",
       "\n",
       "    .dataframe tbody tr th {\n",
       "        vertical-align: top;\n",
       "    }\n",
       "\n",
       "    .dataframe thead th {\n",
       "        text-align: right;\n",
       "    }\n",
       "</style>\n",
       "<table border=\"1\" class=\"dataframe\">\n",
       "  <thead>\n",
       "    <tr style=\"text-align: right;\">\n",
       "      <th></th>\n",
       "      <th>id</th>\n",
       "      <th>end</th>\n",
       "      <th>title</th>\n",
       "      <th>status</th>\n",
       "      <th>grantCategory</th>\n",
       "      <th>leadFunder</th>\n",
       "      <th>abstractText</th>\n",
       "      <th>start</th>\n",
       "      <th>created</th>\n",
       "      <th>leadOrganisationDepartment</th>\n",
       "      <th>potentialImpact</th>\n",
       "      <th>techAbstractText</th>\n",
       "    </tr>\n",
       "  </thead>\n",
       "  <tbody>\n",
       "    <tr>\n",
       "      <th>0</th>\n",
       "      <td>00006CB7-61E0-4946-B7DB-DAE09ED63DE4</td>\n",
       "      <td>NaN</td>\n",
       "      <td>Construction Site Monitoring</td>\n",
       "      <td>Closed</td>\n",
       "      <td>Vouchers</td>\n",
       "      <td>Innovate UK</td>\n",
       "      <td>We take aerial photos of construction sites us...</td>\n",
       "      <td>NaN</td>\n",
       "      <td>2018-11-08 11:38:37</td>\n",
       "      <td>NaN</td>\n",
       "      <td>NaN</td>\n",
       "      <td>NaN</td>\n",
       "    </tr>\n",
       "    <tr>\n",
       "      <th>1</th>\n",
       "      <td>0003C360-5DB8-4930-8266-6218C633A504</td>\n",
       "      <td>NaN</td>\n",
       "      <td>The 'Authoritarian Turn' in Environmental Gove...</td>\n",
       "      <td>Active</td>\n",
       "      <td>Studentship</td>\n",
       "      <td>ESRC</td>\n",
       "      <td>This research will investigate the possibility...</td>\n",
       "      <td>NaN</td>\n",
       "      <td>2018-11-08 11:38:37</td>\n",
       "      <td>Architecture Planning and Landscape</td>\n",
       "      <td>NaN</td>\n",
       "      <td>NaN</td>\n",
       "    </tr>\n",
       "    <tr>\n",
       "      <th>2</th>\n",
       "      <td>000423DA-5A37-4E62-A698-703985CD4E6E</td>\n",
       "      <td>NaN</td>\n",
       "      <td>Proton-driven plasma wakefield acceleration---...</td>\n",
       "      <td>Closed</td>\n",
       "      <td>Research Grant</td>\n",
       "      <td>STFC</td>\n",
       "      <td>Over the last fifty years, accelerators of eve...</td>\n",
       "      <td>NaN</td>\n",
       "      <td>2018-11-08 11:38:37</td>\n",
       "      <td>Physics and Astronomy</td>\n",
       "      <td>This project is naturally a multi-disciplinary...</td>\n",
       "      <td>NaN</td>\n",
       "    </tr>\n",
       "    <tr>\n",
       "      <th>3</th>\n",
       "      <td>000424B1-378E-4AB6-BAEC-CD8607AE08A9</td>\n",
       "      <td>NaN</td>\n",
       "      <td>Mechanisms mediating axon outgrowth in the Dro...</td>\n",
       "      <td>Closed</td>\n",
       "      <td>Research Grant</td>\n",
       "      <td>BBSRC</td>\n",
       "      <td>We are dependent on our nervous system functio...</td>\n",
       "      <td>NaN</td>\n",
       "      <td>2018-11-08 11:38:37</td>\n",
       "      <td>Developmental Neurobiology</td>\n",
       "      <td>The research in this proposal will have a numb...</td>\n",
       "      <td>The formation of the nervous system requires t...</td>\n",
       "    </tr>\n",
       "    <tr>\n",
       "      <th>4</th>\n",
       "      <td>0004C698-0B51-4665-8593-1082BBF58C06</td>\n",
       "      <td>NaN</td>\n",
       "      <td>Ultrahigh resolution NMR: citius, altius, fortius</td>\n",
       "      <td>Active</td>\n",
       "      <td>Research Grant</td>\n",
       "      <td>EPSRC</td>\n",
       "      <td>Understanding the structures and behaviour of ...</td>\n",
       "      <td>NaN</td>\n",
       "      <td>2018-11-08 11:38:37</td>\n",
       "      <td>Chemistry</td>\n",
       "      <td>Who will benefit from this research?\\n\\nNMR is...</td>\n",
       "      <td>NaN</td>\n",
       "    </tr>\n",
       "  </tbody>\n",
       "</table>\n",
       "</div>"
      ],
      "text/plain": [
       "                                     id  end  \\\n",
       "0  00006CB7-61E0-4946-B7DB-DAE09ED63DE4  NaN   \n",
       "1  0003C360-5DB8-4930-8266-6218C633A504  NaN   \n",
       "2  000423DA-5A37-4E62-A698-703985CD4E6E  NaN   \n",
       "3  000424B1-378E-4AB6-BAEC-CD8607AE08A9  NaN   \n",
       "4  0004C698-0B51-4665-8593-1082BBF58C06  NaN   \n",
       "\n",
       "                                               title  status   grantCategory  \\\n",
       "0                       Construction Site Monitoring  Closed        Vouchers   \n",
       "1  The 'Authoritarian Turn' in Environmental Gove...  Active     Studentship   \n",
       "2  Proton-driven plasma wakefield acceleration---...  Closed  Research Grant   \n",
       "3  Mechanisms mediating axon outgrowth in the Dro...  Closed  Research Grant   \n",
       "4  Ultrahigh resolution NMR: citius, altius, fortius  Active  Research Grant   \n",
       "\n",
       "    leadFunder                                       abstractText start  \\\n",
       "0  Innovate UK  We take aerial photos of construction sites us...   NaN   \n",
       "1         ESRC  This research will investigate the possibility...   NaN   \n",
       "2         STFC  Over the last fifty years, accelerators of eve...   NaN   \n",
       "3        BBSRC  We are dependent on our nervous system functio...   NaN   \n",
       "4        EPSRC  Understanding the structures and behaviour of ...   NaN   \n",
       "\n",
       "               created           leadOrganisationDepartment  \\\n",
       "0  2018-11-08 11:38:37                                  NaN   \n",
       "1  2018-11-08 11:38:37  Architecture Planning and Landscape   \n",
       "2  2018-11-08 11:38:37                Physics and Astronomy   \n",
       "3  2018-11-08 11:38:37           Developmental Neurobiology   \n",
       "4  2018-11-08 11:38:37                            Chemistry   \n",
       "\n",
       "                                     potentialImpact  \\\n",
       "0                                                NaN   \n",
       "1                                                NaN   \n",
       "2  This project is naturally a multi-disciplinary...   \n",
       "3  The research in this proposal will have a numb...   \n",
       "4  Who will benefit from this research?\\n\\nNMR is...   \n",
       "\n",
       "                                    techAbstractText  \n",
       "0                                                NaN  \n",
       "1                                                NaN  \n",
       "2                                                NaN  \n",
       "3  The formation of the nervous system requires t...  \n",
       "4                                                NaN  "
      ]
     },
     "execution_count": 8,
     "metadata": {},
     "output_type": "execute_result"
    }
   ],
   "source": [
    "projects = my_data['projects']\n",
    "\n",
    "projects.head()"
   ]
  },
  {
   "cell_type": "markdown",
   "metadata": {},
   "source": [
    "Some rapid observations:\n",
    "\n",
    "* what does start mean?\n",
    "* What does created mean?\n",
    "* abstractText seems to be the main textual description"
   ]
  },
  {
   "cell_type": "code",
   "execution_count": 9,
   "metadata": {},
   "outputs": [
    {
     "data": {
      "text/plain": [
       "Text(0.5,1,'Missing values in Project GTR data')"
      ]
     },
     "execution_count": 9,
     "metadata": {},
     "output_type": "execute_result"
    },
    {
     "data": {
      "image/png": "[encoded data removed]",
      "text/plain": [
       "<Figure size 432x288 with 1 Axes>"
      ]
     },
     "metadata": {},
     "output_type": "display_data"
    }
   ],
   "source": [
    "fig,ax = plt.subplots()\n",
    "\n",
    "missing_count(projects,ax)\n",
    "\n",
    "ax.set_title('Missing values in Project GTR data')"
   ]
  },
  {
   "cell_type": "code",
   "execution_count": 10,
   "metadata": {},
   "outputs": [
    {
     "data": {
      "text/plain": [
       "2018.0    81136\n",
       "2019.0     2048\n",
       "Name: year_created, dtype: int64"
      ]
     },
     "execution_count": 10,
     "metadata": {},
     "output_type": "execute_result"
    }
   ],
   "source": [
    "projects['year_created'] = projects['created'].apply(lambda x: get_year(x))\n",
    "\n",
    "projects['year_created'].value_counts()"
   ]
  },
  {
   "cell_type": "markdown",
   "metadata": {},
   "source": [
    "Created is a data collection variable"
   ]
  },
  {
   "cell_type": "code",
   "execution_count": 11,
   "metadata": {},
   "outputs": [
    {
     "data": {
      "text/plain": [
       "<matplotlib.axes._subplots.AxesSubplot at 0x114a2e748>"
      ]
     },
     "execution_count": 11,
     "metadata": {},
     "output_type": "execute_result"
    },
    {
     "data": {
      "image/png": "[encoded data removed]",
      "text/plain": [
       "<Figure size 432x288 with 1 Axes>"
      ]
     },
     "metadata": {},
     "output_type": "display_data"
    }
   ],
   "source": [
    "projects['year_started'] = projects['start'].apply(lambda x: get_year(x))\n",
    "\n",
    "projects['year_started'].value_counts().loc[np.arange(2006,2020)].plot.bar(color='blue',title='Started year')"
   ]
  },
  {
   "cell_type": "markdown",
   "metadata": {},
   "source": [
    "Not sure about what `year_stared` means but it doesn't cover many records"
   ]
  },
  {
   "cell_type": "code",
   "execution_count": 12,
   "metadata": {},
   "outputs": [
    {
     "data": {
      "text/plain": [
       "<matplotlib.axes._subplots.AxesSubplot at 0x13a073908>"
      ]
     },
     "execution_count": 12,
     "metadata": {},
     "output_type": "execute_result"
    },
    {
     "data": {
      "image/png": "[encoded data removed]",
      "text/plain": [
       "<Figure size 432x288 with 1 Axes>"
      ]
     },
     "metadata": {},
     "output_type": "display_data"
    }
   ],
   "source": [
    "projects['leadFunder'].value_counts().plot.bar(color='blue',title='funder_distribution')"
   ]
  },
  {
   "cell_type": "markdown",
   "metadata": {},
   "source": [
    "EPSRC and Innovate UK are the most active organisations in the data"
   ]
  },
  {
   "cell_type": "code",
   "execution_count": 13,
   "metadata": {},
   "outputs": [
    {
     "data": {
      "text/plain": [
       "<matplotlib.axes._subplots.AxesSubplot at 0x11332a518>"
      ]
     },
     "execution_count": 13,
     "metadata": {},
     "output_type": "execute_result"
    },
    {
     "data": {
      "image/png": "[encoded data removed]",
      "text/plain": [
       "<Figure size 432x288 with 1 Axes>"
      ]
     },
     "metadata": {},
     "output_type": "display_data"
    }
   ],
   "source": [
    "projects['grantCategory'].value_counts(normalize=True)[:10].plot.bar(color='blue',title='project types')"
   ]
  },
  {
   "cell_type": "markdown",
   "metadata": {},
   "source": [
    "Research grants are the main category with almost half of the observations"
   ]
  },
  {
   "cell_type": "markdown",
   "metadata": {},
   "source": [
    "##### Does the fund data contain the actual start and end date for the project?"
   ]
  },
  {
   "cell_type": "code",
   "execution_count": 14,
   "metadata": {},
   "outputs": [],
   "source": [
    "fund = pd.read_csv('../data/external/gtr/2019-01-24/gtr_funds.csv').iloc[:,1:]"
   ]
  },
  {
   "cell_type": "code",
   "execution_count": 15,
   "metadata": {},
   "outputs": [
    {
     "data": {
      "text/html": [
       "<div>\n",
       "<style scoped>\n",
       "    .dataframe tbody tr th:only-of-type {\n",
       "        vertical-align: middle;\n",
       "    }\n",
       "\n",
       "    .dataframe tbody tr th {\n",
       "        vertical-align: top;\n",
       "    }\n",
       "\n",
       "    .dataframe thead th {\n",
       "        text-align: right;\n",
       "    }\n",
       "</style>\n",
       "<table border=\"1\" class=\"dataframe\">\n",
       "  <thead>\n",
       "    <tr style=\"text-align: right;\">\n",
       "      <th></th>\n",
       "      <th>id</th>\n",
       "      <th>end</th>\n",
       "      <th>start</th>\n",
       "      <th>category</th>\n",
       "      <th>amount</th>\n",
       "      <th>currencyCode</th>\n",
       "    </tr>\n",
       "  </thead>\n",
       "  <tbody>\n",
       "    <tr>\n",
       "      <th>0</th>\n",
       "      <td>00002A95-E2E9-4DBA-8963-5F06E950793D</td>\n",
       "      <td>2015-01-31 00:00:00</td>\n",
       "      <td>2014-08-01 01:00:00</td>\n",
       "      <td>INCOME_ACTUAL</td>\n",
       "      <td>5000</td>\n",
       "      <td>GBP</td>\n",
       "    </tr>\n",
       "    <tr>\n",
       "      <th>1</th>\n",
       "      <td>00003B8A-C3EB-4298-B7C2-971FC8AB05F0</td>\n",
       "      <td>2013-12-30 00:00:00</td>\n",
       "      <td>2012-03-31 01:00:00</td>\n",
       "      <td>INCOME_ACTUAL</td>\n",
       "      <td>363926</td>\n",
       "      <td>GBP</td>\n",
       "    </tr>\n",
       "    <tr>\n",
       "      <th>2</th>\n",
       "      <td>00005A36-BBB5-45B3-BF64-8AE86FF230E4</td>\n",
       "      <td>2022-03-31 01:00:00</td>\n",
       "      <td>2018-10-01 01:00:00</td>\n",
       "      <td>INCOME_ACTUAL</td>\n",
       "      <td>0</td>\n",
       "      <td>GBP</td>\n",
       "    </tr>\n",
       "    <tr>\n",
       "      <th>3</th>\n",
       "      <td>00006E7F-2E72-4CE6-81D4-2B603E5E4526</td>\n",
       "      <td>2018-09-30 01:00:00</td>\n",
       "      <td>2014-08-01 01:00:00</td>\n",
       "      <td>INCOME_ACTUAL</td>\n",
       "      <td>379758</td>\n",
       "      <td>GBP</td>\n",
       "    </tr>\n",
       "    <tr>\n",
       "      <th>4</th>\n",
       "      <td>00009856-0B8F-406E-ABC6-F56064AE88E4</td>\n",
       "      <td>2020-11-30 00:00:00</td>\n",
       "      <td>2018-08-01 01:00:00</td>\n",
       "      <td>INCOME_ACTUAL</td>\n",
       "      <td>110498</td>\n",
       "      <td>GBP</td>\n",
       "    </tr>\n",
       "  </tbody>\n",
       "</table>\n",
       "</div>"
      ],
      "text/plain": [
       "                                     id                  end  \\\n",
       "0  00002A95-E2E9-4DBA-8963-5F06E950793D  2015-01-31 00:00:00   \n",
       "1  00003B8A-C3EB-4298-B7C2-971FC8AB05F0  2013-12-30 00:00:00   \n",
       "2  00005A36-BBB5-45B3-BF64-8AE86FF230E4  2022-03-31 01:00:00   \n",
       "3  00006E7F-2E72-4CE6-81D4-2B603E5E4526  2018-09-30 01:00:00   \n",
       "4  00009856-0B8F-406E-ABC6-F56064AE88E4  2020-11-30 00:00:00   \n",
       "\n",
       "                 start       category  amount currencyCode  \n",
       "0  2014-08-01 01:00:00  INCOME_ACTUAL    5000          GBP  \n",
       "1  2012-03-31 01:00:00  INCOME_ACTUAL  363926          GBP  \n",
       "2  2018-10-01 01:00:00  INCOME_ACTUAL       0          GBP  \n",
       "3  2014-08-01 01:00:00  INCOME_ACTUAL  379758          GBP  \n",
       "4  2018-08-01 01:00:00  INCOME_ACTUAL  110498          GBP  "
      ]
     },
     "execution_count": 15,
     "metadata": {},
     "output_type": "execute_result"
    }
   ],
   "source": [
    "fund.head()"
   ]
  },
  {
   "cell_type": "code",
   "execution_count": 16,
   "metadata": {},
   "outputs": [
    {
     "data": {
      "text/plain": [
       "(173734, 6)"
      ]
     },
     "execution_count": 16,
     "metadata": {},
     "output_type": "execute_result"
    }
   ],
   "source": [
    "fund.shape"
   ]
  },
  {
   "cell_type": "markdown",
   "metadata": {},
   "source": [
    "One fund per project. Bodes well"
   ]
  },
  {
   "cell_type": "code",
   "execution_count": 17,
   "metadata": {},
   "outputs": [
    {
     "data": {
      "text/plain": [
       "<matplotlib.axes._subplots.AxesSubplot at 0x135c69ba8>"
      ]
     },
     "execution_count": 17,
     "metadata": {},
     "output_type": "execute_result"
    },
    {
     "data": {
      "image/png": "[encoded data removed]",
      "text/plain": [
       "<Figure size 432x288 with 1 Axes>"
      ]
     },
     "metadata": {},
     "output_type": "display_data"
    }
   ],
   "source": [
    "fund['year'] = fund['start'].apply(lambda x: get_year(x))\n",
    "\n",
    "fund['year'].value_counts().loc[np.arange(2000,2020)].plot.bar(color='blue',title='Start date (funded data)')"
   ]
  },
  {
   "cell_type": "markdown",
   "metadata": {},
   "source": [
    "The dataset begins in 2016. What is the bump in 2017?"
   ]
  },
  {
   "cell_type": "code",
   "execution_count": 18,
   "metadata": {},
   "outputs": [
    {
     "data": {
      "text/plain": [
       "<matplotlib.axes._subplots.AxesSubplot at 0x114b49828>"
      ]
     },
     "execution_count": 18,
     "metadata": {},
     "output_type": "execute_result"
    },
    {
     "data": {
      "image/png": "[encoded data removed]",
      "text/plain": [
       "<Figure size 432x288 with 1 Axes>"
      ]
     },
     "metadata": {},
     "output_type": "display_data"
    }
   ],
   "source": [
    "pd.crosstab(fund['category'],fund['year'])[np.arange(2006,2020)].T.plot.bar(stacked=True,title='funding by category')"
   ]
  },
  {
   "cell_type": "markdown",
   "metadata": {},
   "source": [
    "Most of the funding levels in the data reflect income"
   ]
  },
  {
   "cell_type": "markdown",
   "metadata": {},
   "source": [
    "#### Merge funding with projects to get dates and funding by project\n",
    "\n",
    "`projects_f = projects merged w/ funding`"
   ]
  },
  {
   "cell_type": "code",
   "execution_count": 19,
   "metadata": {},
   "outputs": [],
   "source": [
    "#Merge everything. It works\n",
    "\n",
    "projects_f = pd.merge(\n",
    "    pd.merge(fund,link,left_on='id',right_on='id'),\n",
    "    projects,\n",
    "    left_on='project_id',right_on='id')"
   ]
  },
  {
   "cell_type": "code",
   "execution_count": 20,
   "metadata": {},
   "outputs": [
    {
     "data": {
      "text/html": [
       "<div>\n",
       "<style scoped>\n",
       "    .dataframe tbody tr th:only-of-type {\n",
       "        vertical-align: middle;\n",
       "    }\n",
       "\n",
       "    .dataframe tbody tr th {\n",
       "        vertical-align: top;\n",
       "    }\n",
       "\n",
       "    .dataframe thead th {\n",
       "        text-align: right;\n",
       "    }\n",
       "</style>\n",
       "<table border=\"1\" class=\"dataframe\">\n",
       "  <thead>\n",
       "    <tr style=\"text-align: right;\">\n",
       "      <th></th>\n",
       "      <th>id_x</th>\n",
       "      <th>end_x</th>\n",
       "      <th>start_x</th>\n",
       "      <th>category</th>\n",
       "      <th>amount</th>\n",
       "      <th>currencyCode</th>\n",
       "      <th>year</th>\n",
       "      <th>project_id</th>\n",
       "      <th>rel</th>\n",
       "      <th>table_name</th>\n",
       "      <th>...</th>\n",
       "      <th>grantCategory</th>\n",
       "      <th>leadFunder</th>\n",
       "      <th>abstractText</th>\n",
       "      <th>start_y</th>\n",
       "      <th>created</th>\n",
       "      <th>leadOrganisationDepartment</th>\n",
       "      <th>potentialImpact</th>\n",
       "      <th>techAbstractText</th>\n",
       "      <th>year_created</th>\n",
       "      <th>year_started</th>\n",
       "    </tr>\n",
       "  </thead>\n",
       "  <tbody>\n",
       "    <tr>\n",
       "      <th>0</th>\n",
       "      <td>00002A95-E2E9-4DBA-8963-5F06E950793D</td>\n",
       "      <td>2015-01-31 00:00:00</td>\n",
       "      <td>2014-08-01 01:00:00</td>\n",
       "      <td>INCOME_ACTUAL</td>\n",
       "      <td>5000</td>\n",
       "      <td>GBP</td>\n",
       "      <td>2014</td>\n",
       "      <td>0364672B-D798-44FA-BA07-0AF4653D32FE</td>\n",
       "      <td>FUND</td>\n",
       "      <td>gtr_funds</td>\n",
       "      <td>...</td>\n",
       "      <td>Vouchers</td>\n",
       "      <td>Innovate UK</td>\n",
       "      <td>Billcompare UK is a consumer orientated websit...</td>\n",
       "      <td>NaN</td>\n",
       "      <td>2018-11-08 11:38:37</td>\n",
       "      <td>NaN</td>\n",
       "      <td>NaN</td>\n",
       "      <td>NaN</td>\n",
       "      <td>2018.0</td>\n",
       "      <td>NaN</td>\n",
       "    </tr>\n",
       "    <tr>\n",
       "      <th>1</th>\n",
       "      <td>0856EB64-6390-4A6F-BDE3-D399A42C3E55</td>\n",
       "      <td>2015-01-31 00:00:00</td>\n",
       "      <td>2014-08-01 01:00:00</td>\n",
       "      <td>INCOME_ACTUAL</td>\n",
       "      <td>5000</td>\n",
       "      <td>GBP</td>\n",
       "      <td>2014</td>\n",
       "      <td>0364672B-D798-44FA-BA07-0AF4653D32FE</td>\n",
       "      <td>FUND</td>\n",
       "      <td>gtr_funds</td>\n",
       "      <td>...</td>\n",
       "      <td>Vouchers</td>\n",
       "      <td>Innovate UK</td>\n",
       "      <td>Billcompare UK is a consumer orientated websit...</td>\n",
       "      <td>NaN</td>\n",
       "      <td>2018-11-08 11:38:37</td>\n",
       "      <td>NaN</td>\n",
       "      <td>NaN</td>\n",
       "      <td>NaN</td>\n",
       "      <td>2018.0</td>\n",
       "      <td>NaN</td>\n",
       "    </tr>\n",
       "    <tr>\n",
       "      <th>2</th>\n",
       "      <td>00003B8A-C3EB-4298-B7C2-971FC8AB05F0</td>\n",
       "      <td>2013-12-30 00:00:00</td>\n",
       "      <td>2012-03-31 01:00:00</td>\n",
       "      <td>INCOME_ACTUAL</td>\n",
       "      <td>363926</td>\n",
       "      <td>GBP</td>\n",
       "      <td>2012</td>\n",
       "      <td>52405730-6906-4BDD-B9FC-FEB8E6C97E84</td>\n",
       "      <td>FUND</td>\n",
       "      <td>gtr_funds</td>\n",
       "      <td>...</td>\n",
       "      <td>Research Grant</td>\n",
       "      <td>BBSRC</td>\n",
       "      <td>People in the UK are getting fatter and this h...</td>\n",
       "      <td>NaN</td>\n",
       "      <td>2018-11-08 11:38:37</td>\n",
       "      <td>MRC Human Nutrition Research</td>\n",
       "      <td>Understanding the roles of the PPARs in regula...</td>\n",
       "      <td>PPAR-delta is a receptor that is highly expres...</td>\n",
       "      <td>2018.0</td>\n",
       "      <td>NaN</td>\n",
       "    </tr>\n",
       "    <tr>\n",
       "      <th>3</th>\n",
       "      <td>9B0B99D8-E22E-4B93-8BEC-ECB6625E8AEE</td>\n",
       "      <td>2013-12-30 00:00:00</td>\n",
       "      <td>2012-03-31 01:00:00</td>\n",
       "      <td>INCOME_ACTUAL</td>\n",
       "      <td>363926</td>\n",
       "      <td>GBP</td>\n",
       "      <td>2012</td>\n",
       "      <td>52405730-6906-4BDD-B9FC-FEB8E6C97E84</td>\n",
       "      <td>FUND</td>\n",
       "      <td>gtr_funds</td>\n",
       "      <td>...</td>\n",
       "      <td>Research Grant</td>\n",
       "      <td>BBSRC</td>\n",
       "      <td>People in the UK are getting fatter and this h...</td>\n",
       "      <td>NaN</td>\n",
       "      <td>2018-11-08 11:38:37</td>\n",
       "      <td>MRC Human Nutrition Research</td>\n",
       "      <td>Understanding the roles of the PPARs in regula...</td>\n",
       "      <td>PPAR-delta is a receptor that is highly expres...</td>\n",
       "      <td>2018.0</td>\n",
       "      <td>NaN</td>\n",
       "    </tr>\n",
       "    <tr>\n",
       "      <th>4</th>\n",
       "      <td>00005A36-BBB5-45B3-BF64-8AE86FF230E4</td>\n",
       "      <td>2022-03-31 01:00:00</td>\n",
       "      <td>2018-10-01 01:00:00</td>\n",
       "      <td>INCOME_ACTUAL</td>\n",
       "      <td>0</td>\n",
       "      <td>GBP</td>\n",
       "      <td>2018</td>\n",
       "      <td>CBA76D0D-2D95-4028-B8DE-65041D8D1F85</td>\n",
       "      <td>FUND</td>\n",
       "      <td>gtr_funds</td>\n",
       "      <td>...</td>\n",
       "      <td>Studentship</td>\n",
       "      <td>EPSRC</td>\n",
       "      <td>The reactor pressure vessel (RPV) is a safety ...</td>\n",
       "      <td>2018-10-01 00:00:00</td>\n",
       "      <td>NaN</td>\n",
       "      <td>NaN</td>\n",
       "      <td>NaN</td>\n",
       "      <td>NaN</td>\n",
       "      <td>NaN</td>\n",
       "      <td>2018.0</td>\n",
       "    </tr>\n",
       "  </tbody>\n",
       "</table>\n",
       "<p>5 rows × 24 columns</p>\n",
       "</div>"
      ],
      "text/plain": [
       "                                   id_x                end_x  \\\n",
       "0  00002A95-E2E9-4DBA-8963-5F06E950793D  2015-01-31 00:00:00   \n",
       "1  0856EB64-6390-4A6F-BDE3-D399A42C3E55  2015-01-31 00:00:00   \n",
       "2  00003B8A-C3EB-4298-B7C2-971FC8AB05F0  2013-12-30 00:00:00   \n",
       "3  9B0B99D8-E22E-4B93-8BEC-ECB6625E8AEE  2013-12-30 00:00:00   \n",
       "4  00005A36-BBB5-45B3-BF64-8AE86FF230E4  2022-03-31 01:00:00   \n",
       "\n",
       "               start_x       category  amount currencyCode  year  \\\n",
       "0  2014-08-01 01:00:00  INCOME_ACTUAL    5000          GBP  2014   \n",
       "1  2014-08-01 01:00:00  INCOME_ACTUAL    5000          GBP  2014   \n",
       "2  2012-03-31 01:00:00  INCOME_ACTUAL  363926          GBP  2012   \n",
       "3  2012-03-31 01:00:00  INCOME_ACTUAL  363926          GBP  2012   \n",
       "4  2018-10-01 01:00:00  INCOME_ACTUAL       0          GBP  2018   \n",
       "\n",
       "                             project_id   rel table_name     ...       \\\n",
       "0  0364672B-D798-44FA-BA07-0AF4653D32FE  FUND  gtr_funds     ...        \n",
       "1  0364672B-D798-44FA-BA07-0AF4653D32FE  FUND  gtr_funds     ...        \n",
       "2  52405730-6906-4BDD-B9FC-FEB8E6C97E84  FUND  gtr_funds     ...        \n",
       "3  52405730-6906-4BDD-B9FC-FEB8E6C97E84  FUND  gtr_funds     ...        \n",
       "4  CBA76D0D-2D95-4028-B8DE-65041D8D1F85  FUND  gtr_funds     ...        \n",
       "\n",
       "    grantCategory   leadFunder  \\\n",
       "0        Vouchers  Innovate UK   \n",
       "1        Vouchers  Innovate UK   \n",
       "2  Research Grant        BBSRC   \n",
       "3  Research Grant        BBSRC   \n",
       "4     Studentship        EPSRC   \n",
       "\n",
       "                                        abstractText              start_y  \\\n",
       "0  Billcompare UK is a consumer orientated websit...                  NaN   \n",
       "1  Billcompare UK is a consumer orientated websit...                  NaN   \n",
       "2  People in the UK are getting fatter and this h...                  NaN   \n",
       "3  People in the UK are getting fatter and this h...                  NaN   \n",
       "4  The reactor pressure vessel (RPV) is a safety ...  2018-10-01 00:00:00   \n",
       "\n",
       "               created    leadOrganisationDepartment  \\\n",
       "0  2018-11-08 11:38:37                           NaN   \n",
       "1  2018-11-08 11:38:37                           NaN   \n",
       "2  2018-11-08 11:38:37  MRC Human Nutrition Research   \n",
       "3  2018-11-08 11:38:37  MRC Human Nutrition Research   \n",
       "4                  NaN                           NaN   \n",
       "\n",
       "                                     potentialImpact  \\\n",
       "0                                                NaN   \n",
       "1                                                NaN   \n",
       "2  Understanding the roles of the PPARs in regula...   \n",
       "3  Understanding the roles of the PPARs in regula...   \n",
       "4                                                NaN   \n",
       "\n",
       "                                    techAbstractText year_created year_started  \n",
       "0                                                NaN       2018.0          NaN  \n",
       "1                                                NaN       2018.0          NaN  \n",
       "2  PPAR-delta is a receptor that is highly expres...       2018.0          NaN  \n",
       "3  PPAR-delta is a receptor that is highly expres...       2018.0          NaN  \n",
       "4                                                NaN          NaN       2018.0  \n",
       "\n",
       "[5 rows x 24 columns]"
      ]
     },
     "execution_count": 20,
     "metadata": {},
     "output_type": "execute_result"
    }
   ],
   "source": [
    "projects_f.head()"
   ]
  },
  {
   "cell_type": "markdown",
   "metadata": {},
   "source": [
    "Lots of guff there. I should tidy it up later"
   ]
  },
  {
   "cell_type": "markdown",
   "metadata": {},
   "source": [
    "#### Let's also check the Topics: does this refer to project keywords?"
   ]
  },
  {
   "cell_type": "code",
   "execution_count": 21,
   "metadata": {},
   "outputs": [
    {
     "data": {
      "text/html": [
       "<div>\n",
       "<style scoped>\n",
       "    .dataframe tbody tr th:only-of-type {\n",
       "        vertical-align: middle;\n",
       "    }\n",
       "\n",
       "    .dataframe tbody tr th {\n",
       "        vertical-align: top;\n",
       "    }\n",
       "\n",
       "    .dataframe thead th {\n",
       "        text-align: right;\n",
       "    }\n",
       "</style>\n",
       "<table border=\"1\" class=\"dataframe\">\n",
       "  <thead>\n",
       "    <tr style=\"text-align: right;\">\n",
       "      <th></th>\n",
       "      <th>id</th>\n",
       "      <th>text</th>\n",
       "      <th>topic_type</th>\n",
       "    </tr>\n",
       "  </thead>\n",
       "  <tbody>\n",
       "    <tr>\n",
       "      <th>0</th>\n",
       "      <td>006DC612-6329-4D37-A540-5FB2CA634720</td>\n",
       "      <td>5.5  Radiotherapy</td>\n",
       "      <td>researchActivity</td>\n",
       "    </tr>\n",
       "    <tr>\n",
       "      <th>1</th>\n",
       "      <td>008D950C-182A-427B-A7CB-4FD430D040B5</td>\n",
       "      <td>Physical Organic Chemistry</td>\n",
       "      <td>researchTopic</td>\n",
       "    </tr>\n",
       "    <tr>\n",
       "      <th>2</th>\n",
       "      <td>00C03EE8-351D-40B5-A0D4-06C45592BFF6</td>\n",
       "      <td>Nuclear structure</td>\n",
       "      <td>researchTopic</td>\n",
       "    </tr>\n",
       "    <tr>\n",
       "      <th>3</th>\n",
       "      <td>00E432A0-CF0E-42D0-BAF1-6872995B42EF</td>\n",
       "      <td>Part. Phys/Astron. Instrument.</td>\n",
       "      <td>researchTopic</td>\n",
       "    </tr>\n",
       "    <tr>\n",
       "      <th>4</th>\n",
       "      <td>01AC56BC-45B4-434D-B015-7C879327F09F</td>\n",
       "      <td>Parallel Computing</td>\n",
       "      <td>researchTopic</td>\n",
       "    </tr>\n",
       "  </tbody>\n",
       "</table>\n",
       "</div>"
      ],
      "text/plain": [
       "                                     id                            text  \\\n",
       "0  006DC612-6329-4D37-A540-5FB2CA634720               5.5  Radiotherapy   \n",
       "1  008D950C-182A-427B-A7CB-4FD430D040B5      Physical Organic Chemistry   \n",
       "2  00C03EE8-351D-40B5-A0D4-06C45592BFF6               Nuclear structure   \n",
       "3  00E432A0-CF0E-42D0-BAF1-6872995B42EF  Part. Phys/Astron. Instrument.   \n",
       "4  01AC56BC-45B4-434D-B015-7C879327F09F              Parallel Computing   \n",
       "\n",
       "         topic_type  \n",
       "0  researchActivity  \n",
       "1     researchTopic  \n",
       "2     researchTopic  \n",
       "3     researchTopic  \n",
       "4     researchTopic  "
      ]
     },
     "execution_count": 21,
     "metadata": {},
     "output_type": "execute_result"
    }
   ],
   "source": [
    "topics = pd.read_csv('../data/external/gtr/2019-01-24/gtr_topic.csv').iloc[:,1:]\n",
    "\n",
    "topics.head()"
   ]
  },
  {
   "cell_type": "code",
   "execution_count": 22,
   "metadata": {},
   "outputs": [
    {
     "data": {
      "text/plain": [
       "researchTopic       594\n",
       "researchSubject      82\n",
       "researchActivity     49\n",
       "healthCategory       22\n",
       "rcukProgramme         2\n",
       "Name: topic_type, dtype: int64"
      ]
     },
     "execution_count": 22,
     "metadata": {},
     "output_type": "execute_result"
    }
   ],
   "source": [
    "topics['topic_type'].value_counts()"
   ]
  },
  {
   "cell_type": "markdown",
   "metadata": {},
   "source": [
    "Yes. What are their keys in the linked_table?"
   ]
  },
  {
   "cell_type": "code",
   "execution_count": 23,
   "metadata": {},
   "outputs": [
    {
     "data": {
      "text/plain": [
       "gtr_outcomes_publications                    1392608\n",
       "gtr_outcomes_disseminations                   454795\n",
       "gtr_organisations                             228991\n",
       "gtr_persons                                   192754\n",
       "gtr_outcomes_collaborations                   188683\n",
       "gtr_funds                                     173699\n",
       "gtr_outcomes_furtherfundings                  126405\n",
       "gtr_topic                                      61632\n",
       "gtr_outcomes_keyfindings                       54390\n",
       "gtr_outcomes_policyinfluences                  44544\n",
       "gtr_outcomes_impactsummaries                   37560\n",
       "gtr_outcomes_researchmaterials                 30774\n",
       "gtr_projects                                   21331\n",
       "gtr_outcomes_researchdatabaseandmodels         20151\n",
       "gtr_outcomes_artisticandcreativeproducts       13713\n",
       "gtr_outcomes_softwareandtechnicalproducts      12227\n",
       "gtr_outcomes_intellectualproperties             7749\n",
       "gtr_outcomes_products                           4095\n",
       "gtr_outcomes_spinouts                           1911\n",
       "Name: table_name, dtype: int64"
      ]
     },
     "execution_count": 23,
     "metadata": {},
     "output_type": "execute_result"
    }
   ],
   "source": [
    "link['table_name'].value_counts()"
   ]
  },
  {
   "cell_type": "markdown",
   "metadata": {},
   "source": [
    "We can loop over the projects and allocate them topics"
   ]
  },
  {
   "cell_type": "markdown",
   "metadata": {},
   "source": [
    "Create a research activity lookup and a research topic lookup."
   ]
  },
  {
   "cell_type": "code",
   "execution_count": 24,
   "metadata": {},
   "outputs": [],
   "source": [
    "res_activity_lookup,res_topic_lookup = [{this_id:text for this_id,text in zip(topics.loc[topics['topic_type']==topic_type,'id'],\n",
    "                                                                             topics.loc[topics['topic_type']==topic_type,'text'])} for\n",
    "                                        topic_type in ['researchActivity','researchTopic']]\n",
    "                                                                              "
   ]
  },
  {
   "cell_type": "code",
   "execution_count": 25,
   "metadata": {},
   "outputs": [
    {
     "data": {
      "text/plain": [
       "['5.5  Radiotherapy',\n",
       " '6.4  Surgery',\n",
       " '5.8  Complementary',\n",
       " 'HRCS Research Uncodeable',\n",
       " '6.2  Cellular and gene therapies',\n",
       " '1.4  Methodologies and measurements',\n",
       " '3.2  Interventions to alter physical and biological environmental risks',\n",
       " '1.5  Resources and infrastructure (underpinning)',\n",
       " '2.1  Biological and endogenous factors',\n",
       " '6.9  Resources and infrastructure (evaluation of treatments)']"
      ]
     },
     "execution_count": 25,
     "metadata": {},
     "output_type": "execute_result"
    }
   ],
   "source": [
    "list(res_activity_lookup.values())[:10]"
   ]
  },
  {
   "cell_type": "markdown",
   "metadata": {},
   "source": [
    "`researchActivity` is a medical set of subjects"
   ]
  },
  {
   "cell_type": "code",
   "execution_count": 26,
   "metadata": {},
   "outputs": [
    {
     "data": {
      "text/plain": [
       "['Physical Organic Chemistry',\n",
       " 'Nuclear structure',\n",
       " 'Part. Phys/Astron. Instrument.',\n",
       " 'Parallel Computing',\n",
       " 'Plant developmental biology',\n",
       " 'Chemical Biology',\n",
       " 'Continuum Mechanics',\n",
       " 'Time-Based Media HTP',\n",
       " 'Biophysics',\n",
       " 'Central Laser Facility']"
      ]
     },
     "execution_count": 26,
     "metadata": {},
     "output_type": "execute_result"
    }
   ],
   "source": [
    "list(res_topic_lookup.values())[:10]"
   ]
  },
  {
   "cell_type": "markdown",
   "metadata": {},
   "source": [
    "`researchTopics` is generic"
   ]
  },
  {
   "cell_type": "markdown",
   "metadata": {},
   "source": [
    "### Organisations\n"
   ]
  },
  {
   "cell_type": "code",
   "execution_count": 27,
   "metadata": {},
   "outputs": [
    {
     "data": {
      "text/html": [
       "<div>\n",
       "<style scoped>\n",
       "    .dataframe tbody tr th:only-of-type {\n",
       "        vertical-align: middle;\n",
       "    }\n",
       "\n",
       "    .dataframe tbody tr th {\n",
       "        vertical-align: top;\n",
       "    }\n",
       "\n",
       "    .dataframe thead th {\n",
       "        text-align: right;\n",
       "    }\n",
       "</style>\n",
       "<table border=\"1\" class=\"dataframe\">\n",
       "  <thead>\n",
       "    <tr style=\"text-align: right;\">\n",
       "      <th></th>\n",
       "      <th>id</th>\n",
       "      <th>name</th>\n",
       "      <th>addresses</th>\n",
       "      <th>projectCost</th>\n",
       "      <th>grantOffer</th>\n",
       "    </tr>\n",
       "  </thead>\n",
       "  <tbody>\n",
       "    <tr>\n",
       "      <th>0</th>\n",
       "      <td>0003EB78-07B9-400E-AE39-2AD612C28612</td>\n",
       "      <td>Wentworth Laboratories Ltd</td>\n",
       "      <td>{'address': {'id': '18A52282-3BCD-483D-A32F-F3...</td>\n",
       "      <td>NaN</td>\n",
       "      <td>NaN</td>\n",
       "    </tr>\n",
       "    <tr>\n",
       "      <th>1</th>\n",
       "      <td>0005728F-26ED-465D-8DCE-C49F181EDB2E</td>\n",
       "      <td>Duchy Parade Films</td>\n",
       "      <td>{'address': {'id': '1788E06A-79D8-492F-9988-62...</td>\n",
       "      <td>NaN</td>\n",
       "      <td>NaN</td>\n",
       "    </tr>\n",
       "    <tr>\n",
       "      <th>2</th>\n",
       "      <td>0005AEA8-B99E-4063-973E-FF16602F9CCF</td>\n",
       "      <td>German Mouse Clinic, Helmholtz Zentrum Münster</td>\n",
       "      <td>NaN</td>\n",
       "      <td>NaN</td>\n",
       "      <td>NaN</td>\n",
       "    </tr>\n",
       "    <tr>\n",
       "      <th>3</th>\n",
       "      <td>000775C1-64AC-4140-A8EC-9C4B337DB8EE</td>\n",
       "      <td>Dynamic Boosting Systems Limited</td>\n",
       "      <td>{'address': {'id': 'E143A689-8121-40FB-968D-46...</td>\n",
       "      <td>319806.0</td>\n",
       "      <td>143913.0</td>\n",
       "    </tr>\n",
       "    <tr>\n",
       "      <th>4</th>\n",
       "      <td>0007ED76-4B09-4B09-A39F-D4B75BD36486</td>\n",
       "      <td>Hildersham Village History Recorders</td>\n",
       "      <td>NaN</td>\n",
       "      <td>NaN</td>\n",
       "      <td>NaN</td>\n",
       "    </tr>\n",
       "  </tbody>\n",
       "</table>\n",
       "</div>"
      ],
      "text/plain": [
       "                                     id  \\\n",
       "0  0003EB78-07B9-400E-AE39-2AD612C28612   \n",
       "1  0005728F-26ED-465D-8DCE-C49F181EDB2E   \n",
       "2  0005AEA8-B99E-4063-973E-FF16602F9CCF   \n",
       "3  000775C1-64AC-4140-A8EC-9C4B337DB8EE   \n",
       "4  0007ED76-4B09-4B09-A39F-D4B75BD36486   \n",
       "\n",
       "                                             name  \\\n",
       "0                      Wentworth Laboratories Ltd   \n",
       "1                              Duchy Parade Films   \n",
       "2  German Mouse Clinic, Helmholtz Zentrum Münster   \n",
       "3                Dynamic Boosting Systems Limited   \n",
       "4            Hildersham Village History Recorders   \n",
       "\n",
       "                                           addresses  projectCost  grantOffer  \n",
       "0  {'address': {'id': '18A52282-3BCD-483D-A32F-F3...          NaN         NaN  \n",
       "1  {'address': {'id': '1788E06A-79D8-492F-9988-62...          NaN         NaN  \n",
       "2                                                NaN          NaN         NaN  \n",
       "3  {'address': {'id': 'E143A689-8121-40FB-968D-46...     319806.0    143913.0  \n",
       "4                                                NaN          NaN         NaN  "
      ]
     },
     "execution_count": 27,
     "metadata": {},
     "output_type": "execute_result"
    }
   ],
   "source": [
    "orgs = my_data['organisations']\n",
    "\n",
    "orgs.head()"
   ]
  },
  {
   "cell_type": "code",
   "execution_count": 28,
   "metadata": {},
   "outputs": [
    {
     "data": {
      "text/plain": [
       "(39349, 5)"
      ]
     },
     "execution_count": 28,
     "metadata": {},
     "output_type": "execute_result"
    }
   ],
   "source": [
    "orgs.shape"
   ]
  },
  {
   "cell_type": "markdown",
   "metadata": {},
   "source": [
    "This will be interesting to look at collaboration networks between organisations.\n",
    "\n",
    "Note that this is likely to over-estimate collaboration given that departments (which might be disconnected) will be subsumed under organisations. Maybe we could use the persons data to unpick that?"
   ]
  },
  {
   "cell_type": "markdown",
   "metadata": {},
   "source": [
    "### Outputs\n",
    "\n",
    "Brief exploration of the data and standardisation with a single schema (for merging with projects)"
   ]
  },
  {
   "cell_type": "markdown",
   "metadata": {},
   "source": [
    "#### Products"
   ]
  },
  {
   "cell_type": "code",
   "execution_count": 29,
   "metadata": {},
   "outputs": [],
   "source": [
    "products = my_data['products']"
   ]
  },
  {
   "cell_type": "code",
   "execution_count": 30,
   "metadata": {},
   "outputs": [
    {
     "data": {
      "text/html": [
       "<div>\n",
       "<style scoped>\n",
       "    .dataframe tbody tr th:only-of-type {\n",
       "        vertical-align: middle;\n",
       "    }\n",
       "\n",
       "    .dataframe tbody tr th {\n",
       "        vertical-align: top;\n",
       "    }\n",
       "\n",
       "    .dataframe thead th {\n",
       "        text-align: right;\n",
       "    }\n",
       "</style>\n",
       "<table border=\"1\" class=\"dataframe\">\n",
       "  <thead>\n",
       "    <tr style=\"text-align: right;\">\n",
       "      <th></th>\n",
       "      <th>id</th>\n",
       "      <th>title</th>\n",
       "      <th>description</th>\n",
       "      <th>type</th>\n",
       "      <th>stage</th>\n",
       "      <th>status</th>\n",
       "      <th>yearDevelopmentCompleted</th>\n",
       "      <th>impact</th>\n",
       "      <th>supportingUrl</th>\n",
       "    </tr>\n",
       "  </thead>\n",
       "  <tbody>\n",
       "    <tr>\n",
       "      <th>0</th>\n",
       "      <td>0001B33F-9572-4464-BF3B-9AC695F57C9D</td>\n",
       "      <td>Nat-His-MTM</td>\n",
       "      <td>Prospective longitudinal study of the natural ...</td>\n",
       "      <td>Management of Diseases and Conditions</td>\n",
       "      <td>Initial development</td>\n",
       "      <td>Under active development/distribution</td>\n",
       "      <td>2013.0</td>\n",
       "      <td>None as yet.</td>\n",
       "      <td>NaN</td>\n",
       "    </tr>\n",
       "    <tr>\n",
       "      <th>1</th>\n",
       "      <td>0003293D-247D-4BF1-9674-402A70504D64</td>\n",
       "      <td>Normothermic machine liver perfusion of discar...</td>\n",
       "      <td>Deaths from liver disease have soared by 40 pe...</td>\n",
       "      <td>Therapeutic Intervention - Medical Devices</td>\n",
       "      <td>Early clinical assessment</td>\n",
       "      <td>Under active development/distribution</td>\n",
       "      <td>2016.0</td>\n",
       "      <td>First human liver transplantation using a marg...</td>\n",
       "      <td>NaN</td>\n",
       "    </tr>\n",
       "    <tr>\n",
       "      <th>2</th>\n",
       "      <td>002C330E-54B9-48F7-B97E-82D25A7C4E8A</td>\n",
       "      <td>Public health intervention design</td>\n",
       "      <td>The public health intervention under developme...</td>\n",
       "      <td>Health and Social Care Services</td>\n",
       "      <td>Refinement.  Non-clinical</td>\n",
       "      <td>Under active development/distribution</td>\n",
       "      <td>2017.0</td>\n",
       "      <td>It is under refinement stage. It is not yet im...</td>\n",
       "      <td>NaN</td>\n",
       "    </tr>\n",
       "    <tr>\n",
       "      <th>3</th>\n",
       "      <td>0037AC05-B957-498A-96B6-2B2F732A2FDD</td>\n",
       "      <td>Insertion-and-deletion-derived tumour-specific...</td>\n",
       "      <td>Regarding the CPI predictive test technology, ...</td>\n",
       "      <td>Diagnostic Tool - Non-Imaging</td>\n",
       "      <td>Initial development</td>\n",
       "      <td>Under active development/distribution</td>\n",
       "      <td>2018.0</td>\n",
       "      <td>Despite the recent clinical success of immunot...</td>\n",
       "      <td>NaN</td>\n",
       "    </tr>\n",
       "    <tr>\n",
       "      <th>4</th>\n",
       "      <td>0047A6B5-2377-47A1-8D63-360B5400E5B9</td>\n",
       "      <td>Novel compounds with antibacterial activity</td>\n",
       "      <td>Dr. Andrews team has synthesised several novel...</td>\n",
       "      <td>Therapeutic Intervention - Drug</td>\n",
       "      <td>Initial development</td>\n",
       "      <td>Under active development/distribution</td>\n",
       "      <td>2016.0</td>\n",
       "      <td>Dr Andrews work takes a novel approach by incr...</td>\n",
       "      <td>NaN</td>\n",
       "    </tr>\n",
       "  </tbody>\n",
       "</table>\n",
       "</div>"
      ],
      "text/plain": [
       "                                     id  \\\n",
       "0  0001B33F-9572-4464-BF3B-9AC695F57C9D   \n",
       "1  0003293D-247D-4BF1-9674-402A70504D64   \n",
       "2  002C330E-54B9-48F7-B97E-82D25A7C4E8A   \n",
       "3  0037AC05-B957-498A-96B6-2B2F732A2FDD   \n",
       "4  0047A6B5-2377-47A1-8D63-360B5400E5B9   \n",
       "\n",
       "                                               title  \\\n",
       "0                                        Nat-His-MTM   \n",
       "1  Normothermic machine liver perfusion of discar...   \n",
       "2                  Public health intervention design   \n",
       "3  Insertion-and-deletion-derived tumour-specific...   \n",
       "4        Novel compounds with antibacterial activity   \n",
       "\n",
       "                                         description  \\\n",
       "0  Prospective longitudinal study of the natural ...   \n",
       "1  Deaths from liver disease have soared by 40 pe...   \n",
       "2  The public health intervention under developme...   \n",
       "3  Regarding the CPI predictive test technology, ...   \n",
       "4  Dr. Andrews team has synthesised several novel...   \n",
       "\n",
       "                                         type                      stage  \\\n",
       "0       Management of Diseases and Conditions        Initial development   \n",
       "1  Therapeutic Intervention - Medical Devices  Early clinical assessment   \n",
       "2             Health and Social Care Services  Refinement.  Non-clinical   \n",
       "3               Diagnostic Tool - Non-Imaging        Initial development   \n",
       "4             Therapeutic Intervention - Drug        Initial development   \n",
       "\n",
       "                                  status  yearDevelopmentCompleted  \\\n",
       "0  Under active development/distribution                    2013.0   \n",
       "1  Under active development/distribution                    2016.0   \n",
       "2  Under active development/distribution                    2017.0   \n",
       "3  Under active development/distribution                    2018.0   \n",
       "4  Under active development/distribution                    2016.0   \n",
       "\n",
       "                                              impact supportingUrl  \n",
       "0                                       None as yet.           NaN  \n",
       "1  First human liver transplantation using a marg...           NaN  \n",
       "2  It is under refinement stage. It is not yet im...           NaN  \n",
       "3  Despite the recent clinical success of immunot...           NaN  \n",
       "4  Dr Andrews work takes a novel approach by incr...           NaN  "
      ]
     },
     "execution_count": 30,
     "metadata": {},
     "output_type": "execute_result"
    }
   ],
   "source": [
    "products.head()"
   ]
  },
  {
   "cell_type": "code",
   "execution_count": 31,
   "metadata": {},
   "outputs": [
    {
     "data": {
      "text/plain": [
       "(4095, 9)"
      ]
     },
     "execution_count": 31,
     "metadata": {},
     "output_type": "execute_result"
    }
   ],
   "source": [
    "products.shape"
   ]
  },
  {
   "cell_type": "markdown",
   "metadata": {},
   "source": [
    "They seem to be primarily medical products"
   ]
  },
  {
   "cell_type": "code",
   "execution_count": 32,
   "metadata": {},
   "outputs": [
    {
     "data": {
      "text/plain": [
       "Initial development          1142\n",
       "Early clinical assessment    1004\n",
       "Late clinical evaluation      587\n",
       "Refinement.  Non-clinical     488\n",
       "Refinement.  Clinical         343\n",
       "Small-scale adoption          239\n",
       "Wide-scale adoption           149\n",
       "Market authorisation           82\n",
       "Name: stage, dtype: int64"
      ]
     },
     "execution_count": 32,
     "metadata": {},
     "output_type": "execute_result"
    }
   ],
   "source": [
    "products.stage.value_counts()"
   ]
  },
  {
   "cell_type": "code",
   "execution_count": 33,
   "metadata": {},
   "outputs": [
    {
     "data": {
      "text/plain": [
       "Therapeutic Intervention - Drug                                      1160\n",
       "Diagnostic Tool - Non-Imaging                                         617\n",
       "Therapeutic Intervention - Medical Devices                            331\n",
       "Diagnostic Tool - Imaging                                             255\n",
       "Therapeutic Intervention - Cellular and gene therapies                197\n",
       "Therapeutic Intervention - Vaccines                                   197\n",
       "Support Tool - For Medical Intervention                               194\n",
       "Preventative Intervention - Behavioural risk modification             191\n",
       "Management of Diseases and Conditions                                 184\n",
       "Support Tool - For Fundamental Research                               178\n",
       "Therapeutic Intervention - Psychological/Behavioural                  175\n",
       "Preventative Intervention - Nutrition and Chemoprevention              74\n",
       "Therapeutic Intervention - Surgery                                     62\n",
       "Health and Social Care Services                                        60\n",
       "Products with applications outside of medicine                         51\n",
       "Therapeutic Intervention - Psychological_Behavioural                   48\n",
       "Therapeutic Intervention - Physical                                    38\n",
       "Therapeutic Intervention - Radiotherapy                                36\n",
       "Preventative Intervention - Physical/Biological risk modification      35\n",
       "Therapeutic Intervention - Complementary                               10\n",
       "Name: type, dtype: int64"
      ]
     },
     "execution_count": 33,
     "metadata": {},
     "output_type": "execute_result"
    }
   ],
   "source": [
    "products.type.value_counts()"
   ]
  },
  {
   "cell_type": "markdown",
   "metadata": {},
   "source": [
    "Yes - this is clearly a medical database. We might use it for our two missions given their health focus"
   ]
  },
  {
   "cell_type": "markdown",
   "metadata": {},
   "source": [
    "#### Intellectual Property"
   ]
  },
  {
   "cell_type": "code",
   "execution_count": 34,
   "metadata": {},
   "outputs": [
    {
     "data": {
      "text/html": [
       "<div>\n",
       "<style scoped>\n",
       "    .dataframe tbody tr th:only-of-type {\n",
       "        vertical-align: middle;\n",
       "    }\n",
       "\n",
       "    .dataframe tbody tr th {\n",
       "        vertical-align: top;\n",
       "    }\n",
       "\n",
       "    .dataframe thead th {\n",
       "        text-align: right;\n",
       "    }\n",
       "</style>\n",
       "<table border=\"1\" class=\"dataframe\">\n",
       "  <thead>\n",
       "    <tr style=\"text-align: right;\">\n",
       "      <th></th>\n",
       "      <th>id</th>\n",
       "      <th>title</th>\n",
       "      <th>description</th>\n",
       "      <th>protection</th>\n",
       "      <th>patentId</th>\n",
       "      <th>yearProtectionGranted</th>\n",
       "      <th>impact</th>\n",
       "      <th>licensed</th>\n",
       "    </tr>\n",
       "  </thead>\n",
       "  <tbody>\n",
       "    <tr>\n",
       "      <th>0</th>\n",
       "      <td>00042331-9D9F-48B3-AF06-3546D8BAC01D</td>\n",
       "      <td>FBG strain sensor</td>\n",
       "      <td>Design of FBG-based sensor for monitoring corr...</td>\n",
       "      <td>Patent application published</td>\n",
       "      <td>GB2439993-2008-01-16</td>\n",
       "      <td>2008</td>\n",
       "      <td>This will make an impact in the construction i...</td>\n",
       "      <td>No</td>\n",
       "    </tr>\n",
       "    <tr>\n",
       "      <th>1</th>\n",
       "      <td>000670D2-9E0E-401F-96F8-594DF4599FD7</td>\n",
       "      <td>Analogs of alpha ceramide (IMM47) and uses the...</td>\n",
       "      <td>Analogs of alpha ceramide (IMM47) and uses the...</td>\n",
       "      <td>Patent granted</td>\n",
       "      <td>6836514.7</td>\n",
       "      <td>2007</td>\n",
       "      <td>In this patent, which underpinned my subsequen...</td>\n",
       "      <td>Yes</td>\n",
       "    </tr>\n",
       "    <tr>\n",
       "      <th>2</th>\n",
       "      <td>001A3285-86DE-4DEE-8D6B-C1D92BE6CDFC</td>\n",
       "      <td>IDENTIFICATION AND DISPLAY OF PEPTIDE LIGANDS</td>\n",
       "      <td>An in vitro drug discovery platform analogous ...</td>\n",
       "      <td>Patent application published</td>\n",
       "      <td>WO 2015/011467</td>\n",
       "      <td>2015</td>\n",
       "      <td>z</td>\n",
       "      <td>No</td>\n",
       "    </tr>\n",
       "    <tr>\n",
       "      <th>3</th>\n",
       "      <td>001F8DBA-72DA-49F6-8588-628088BCCCB1</td>\n",
       "      <td>LIST BASED PREFETCH</td>\n",
       "      <td>Invention of a pattern-recording gather prefet...</td>\n",
       "      <td>Patent granted</td>\n",
       "      <td>US8255633</td>\n",
       "      <td>2012</td>\n",
       "      <td>Used in IBM's HPC products</td>\n",
       "      <td>Com</td>\n",
       "    </tr>\n",
       "    <tr>\n",
       "      <th>4</th>\n",
       "      <td>0024B4B4-BB74-4AC1-8D68-F2771E80383B</td>\n",
       "      <td>Terahertz radiation detector focal plane array...</td>\n",
       "      <td>A CMOS based focal plane for terahertz imaging...</td>\n",
       "      <td>Patent granted</td>\n",
       "      <td>US9513171</td>\n",
       "      <td>2016</td>\n",
       "      <td>Collaboration with industry on photonics techn...</td>\n",
       "      <td>Com</td>\n",
       "    </tr>\n",
       "  </tbody>\n",
       "</table>\n",
       "</div>"
      ],
      "text/plain": [
       "                                     id  \\\n",
       "0  00042331-9D9F-48B3-AF06-3546D8BAC01D   \n",
       "1  000670D2-9E0E-401F-96F8-594DF4599FD7   \n",
       "2  001A3285-86DE-4DEE-8D6B-C1D92BE6CDFC   \n",
       "3  001F8DBA-72DA-49F6-8588-628088BCCCB1   \n",
       "4  0024B4B4-BB74-4AC1-8D68-F2771E80383B   \n",
       "\n",
       "                                               title  \\\n",
       "0                                  FBG strain sensor   \n",
       "1  Analogs of alpha ceramide (IMM47) and uses the...   \n",
       "2      IDENTIFICATION AND DISPLAY OF PEPTIDE LIGANDS   \n",
       "3                                LIST BASED PREFETCH   \n",
       "4  Terahertz radiation detector focal plane array...   \n",
       "\n",
       "                                         description  \\\n",
       "0  Design of FBG-based sensor for monitoring corr...   \n",
       "1  Analogs of alpha ceramide (IMM47) and uses the...   \n",
       "2  An in vitro drug discovery platform analogous ...   \n",
       "3  Invention of a pattern-recording gather prefet...   \n",
       "4  A CMOS based focal plane for terahertz imaging...   \n",
       "\n",
       "                     protection              patentId  yearProtectionGranted  \\\n",
       "0  Patent application published  GB2439993-2008-01-16                   2008   \n",
       "1                Patent granted             6836514.7                   2007   \n",
       "2  Patent application published        WO 2015/011467                   2015   \n",
       "3                Patent granted             US8255633                   2012   \n",
       "4                Patent granted             US9513171                   2016   \n",
       "\n",
       "                                              impact licensed  \n",
       "0  This will make an impact in the construction i...       No  \n",
       "1  In this patent, which underpinned my subsequen...      Yes  \n",
       "2                                                  z       No  \n",
       "3                         Used in IBM's HPC products      Com  \n",
       "4  Collaboration with industry on photonics techn...      Com  "
      ]
     },
     "execution_count": 34,
     "metadata": {},
     "output_type": "execute_result"
    }
   ],
   "source": [
    "ip = my_data['intellectualproperties']\n",
    "\n",
    "ip.head()"
   ]
  },
  {
   "cell_type": "code",
   "execution_count": 35,
   "metadata": {},
   "outputs": [
    {
     "data": {
      "text/plain": [
       "(7749, 8)"
      ]
     },
     "execution_count": 35,
     "metadata": {},
     "output_type": "execute_result"
    }
   ],
   "source": [
    "ip.shape"
   ]
  },
  {
   "cell_type": "code",
   "execution_count": 36,
   "metadata": {},
   "outputs": [
    {
     "data": {
      "text/plain": [
       "<matplotlib.axes._subplots.AxesSubplot at 0x1152fa128>"
      ]
     },
     "execution_count": 36,
     "metadata": {},
     "output_type": "execute_result"
    },
    {
     "data": {
      "image/png": "[encoded data removed]",
      "text/plain": [
       "<Figure size 432x288 with 1 Axes>"
      ]
     },
     "metadata": {},
     "output_type": "display_data"
    }
   ],
   "source": [
    "ip.protection.value_counts().plot.bar(color='blue',title='ip')"
   ]
  },
  {
   "cell_type": "markdown",
   "metadata": {},
   "source": [
    "Around 3000 patents and a bunch of random labels. We can use it perhaps to look at field maturity"
   ]
  },
  {
   "cell_type": "markdown",
   "metadata": {},
   "source": [
    "#### Technical products"
   ]
  },
  {
   "cell_type": "code",
   "execution_count": 37,
   "metadata": {},
   "outputs": [
    {
     "data": {
      "text/html": [
       "<div>\n",
       "<style scoped>\n",
       "    .dataframe tbody tr th:only-of-type {\n",
       "        vertical-align: middle;\n",
       "    }\n",
       "\n",
       "    .dataframe tbody tr th {\n",
       "        vertical-align: top;\n",
       "    }\n",
       "\n",
       "    .dataframe thead th {\n",
       "        text-align: right;\n",
       "    }\n",
       "</style>\n",
       "<table border=\"1\" class=\"dataframe\">\n",
       "  <thead>\n",
       "    <tr style=\"text-align: right;\">\n",
       "      <th></th>\n",
       "      <th>id</th>\n",
       "      <th>title</th>\n",
       "      <th>description</th>\n",
       "      <th>type</th>\n",
       "      <th>impact</th>\n",
       "      <th>softwareOpenSourced</th>\n",
       "      <th>yearFirstProvided</th>\n",
       "      <th>supportingUrl</th>\n",
       "    </tr>\n",
       "  </thead>\n",
       "  <tbody>\n",
       "    <tr>\n",
       "      <th>0</th>\n",
       "      <td>00043B35-DCD5-4C1C-B5FF-FD2B451AABF0</td>\n",
       "      <td>cath-cluster: A simple way to complete-linkage...</td>\n",
       "      <td>The software provides a fast implementation of...</td>\n",
       "      <td>Software</td>\n",
       "      <td>The software has increased visibility of our g...</td>\n",
       "      <td>True</td>\n",
       "      <td>2018.0</td>\n",
       "      <td>http://cath-tools.readthedocs.io/en/latest/too...</td>\n",
       "    </tr>\n",
       "    <tr>\n",
       "      <th>1</th>\n",
       "      <td>00050BA4-9FA9-405E-9210-6DB9C888DD4C</td>\n",
       "      <td>Submarine Canyons: guest post</td>\n",
       "      <td>website by Siddhi Joshi</td>\n",
       "      <td>Software</td>\n",
       "      <td>NaN</td>\n",
       "      <td>NaN</td>\n",
       "      <td>NaN</td>\n",
       "      <td>http://seabedhabitats.org/2013/06/24/submarine...</td>\n",
       "    </tr>\n",
       "    <tr>\n",
       "      <th>2</th>\n",
       "      <td>00079818-77E3-4CF2-AD5F-00283863AC3C</td>\n",
       "      <td>ICMplus</td>\n",
       "      <td>ICU monitoring software. Developed by Marek Cz...</td>\n",
       "      <td>Software</td>\n",
       "      <td>Take up internationally</td>\n",
       "      <td>NaN</td>\n",
       "      <td>NaN</td>\n",
       "      <td>NaN</td>\n",
       "    </tr>\n",
       "    <tr>\n",
       "      <th>3</th>\n",
       "      <td>0009EC96-A733-45BF-A5F2-369DFDD232FF</td>\n",
       "      <td>INRFlow - update needed</td>\n",
       "      <td>Interconnection network research flow-level ev...</td>\n",
       "      <td>Software</td>\n",
       "      <td>.</td>\n",
       "      <td>True</td>\n",
       "      <td>2016.0</td>\n",
       "      <td>NaN</td>\n",
       "    </tr>\n",
       "    <tr>\n",
       "      <th>4</th>\n",
       "      <td>0013CA23-C0A9-4537-80AE-641CEBD36AAC</td>\n",
       "      <td>AutoLens</td>\n",
       "      <td>AutoLens is a new piece of strong gravitationa...</td>\n",
       "      <td>Software</td>\n",
       "      <td>Expectations are that AutoLens or at least man...</td>\n",
       "      <td>NaN</td>\n",
       "      <td>2018.0</td>\n",
       "      <td>NaN</td>\n",
       "    </tr>\n",
       "  </tbody>\n",
       "</table>\n",
       "</div>"
      ],
      "text/plain": [
       "                                     id  \\\n",
       "0  00043B35-DCD5-4C1C-B5FF-FD2B451AABF0   \n",
       "1  00050BA4-9FA9-405E-9210-6DB9C888DD4C   \n",
       "2  00079818-77E3-4CF2-AD5F-00283863AC3C   \n",
       "3  0009EC96-A733-45BF-A5F2-369DFDD232FF   \n",
       "4  0013CA23-C0A9-4537-80AE-641CEBD36AAC   \n",
       "\n",
       "                                               title  \\\n",
       "0  cath-cluster: A simple way to complete-linkage...   \n",
       "1                      Submarine Canyons: guest post   \n",
       "2                                            ICMplus   \n",
       "3                            INRFlow - update needed   \n",
       "4                                           AutoLens   \n",
       "\n",
       "                                         description      type  \\\n",
       "0  The software provides a fast implementation of...  Software   \n",
       "1                            website by Siddhi Joshi  Software   \n",
       "2  ICU monitoring software. Developed by Marek Cz...  Software   \n",
       "3  Interconnection network research flow-level ev...  Software   \n",
       "4  AutoLens is a new piece of strong gravitationa...  Software   \n",
       "\n",
       "                                              impact softwareOpenSourced  \\\n",
       "0  The software has increased visibility of our g...                True   \n",
       "1                                                NaN                 NaN   \n",
       "2                            Take up internationally                 NaN   \n",
       "3                                                  .                True   \n",
       "4  Expectations are that AutoLens or at least man...                 NaN   \n",
       "\n",
       "   yearFirstProvided                                      supportingUrl  \n",
       "0             2018.0  http://cath-tools.readthedocs.io/en/latest/too...  \n",
       "1                NaN  http://seabedhabitats.org/2013/06/24/submarine...  \n",
       "2                NaN                                                NaN  \n",
       "3             2016.0                                                NaN  \n",
       "4             2018.0                                                NaN  "
      ]
     },
     "execution_count": 37,
     "metadata": {},
     "output_type": "execute_result"
    }
   ],
   "source": [
    "technical = my_data['softwareandtechnicalproducts']\n",
    "\n",
    "technical.head()"
   ]
  },
  {
   "cell_type": "code",
   "execution_count": 38,
   "metadata": {},
   "outputs": [
    {
     "data": {
      "text/plain": [
       "(12227, 8)"
      ]
     },
     "execution_count": 38,
     "metadata": {},
     "output_type": "execute_result"
    }
   ],
   "source": [
    "technical.shape"
   ]
  },
  {
   "cell_type": "code",
   "execution_count": 39,
   "metadata": {},
   "outputs": [
    {
     "data": {
      "text/plain": [
       "<matplotlib.axes._subplots.AxesSubplot at 0x11550da58>"
      ]
     },
     "execution_count": 39,
     "metadata": {},
     "output_type": "execute_result"
    },
    {
     "data": {
      "image/png": "[encoded data removed]",
      "text/plain": [
       "<Figure size 432x288 with 1 Axes>"
      ]
     },
     "metadata": {},
     "output_type": "display_data"
    }
   ],
   "source": [
    "technical['type'].value_counts().plot.bar(color='blue',title='Technical outputs')"
   ]
  },
  {
   "cell_type": "markdown",
   "metadata": {},
   "source": [
    "Perhaps we could create a 'practical output' dummy for the field...\n",
    "\n",
    "Or query the application databases with project names once we have identified them?"
   ]
  },
  {
   "cell_type": "code",
   "execution_count": 40,
   "metadata": {},
   "outputs": [
    {
     "data": {
      "text/plain": [
       "1686"
      ]
     },
     "execution_count": 40,
     "metadata": {},
     "output_type": "execute_result"
    }
   ],
   "source": [
    "np.sum(['github' in x for x in technical.supportingUrl if pd.isnull(x)==False])"
   ]
  },
  {
   "cell_type": "markdown",
   "metadata": {},
   "source": [
    "1686 projects in GitHUb"
   ]
  },
  {
   "cell_type": "markdown",
   "metadata": {},
   "source": [
    "#### Spinouts"
   ]
  },
  {
   "cell_type": "code",
   "execution_count": 41,
   "metadata": {},
   "outputs": [
    {
     "data": {
      "text/html": [
       "<div>\n",
       "<style scoped>\n",
       "    .dataframe tbody tr th:only-of-type {\n",
       "        vertical-align: middle;\n",
       "    }\n",
       "\n",
       "    .dataframe tbody tr th {\n",
       "        vertical-align: top;\n",
       "    }\n",
       "\n",
       "    .dataframe thead th {\n",
       "        text-align: right;\n",
       "    }\n",
       "</style>\n",
       "<table border=\"1\" class=\"dataframe\">\n",
       "  <thead>\n",
       "    <tr style=\"text-align: right;\">\n",
       "      <th></th>\n",
       "      <th>id</th>\n",
       "      <th>description</th>\n",
       "      <th>companyName</th>\n",
       "      <th>impact</th>\n",
       "      <th>website</th>\n",
       "      <th>yearEstablished</th>\n",
       "    </tr>\n",
       "  </thead>\n",
       "  <tbody>\n",
       "    <tr>\n",
       "      <th>0</th>\n",
       "      <td>0052AC2C-FFC3-4E80-8D48-23D312BCCFB6</td>\n",
       "      <td>A special purpose vehicle set up to facilitate...</td>\n",
       "      <td>SPECIFIC Innovations Ltd</td>\n",
       "      <td>One technology licence has been granted to a c...</td>\n",
       "      <td>NaN</td>\n",
       "      <td>2014.0</td>\n",
       "    </tr>\n",
       "    <tr>\n",
       "      <th>1</th>\n",
       "      <td>00835229-1A18-4731-BA53-F13EFFF8C4C7</td>\n",
       "      <td>Scientific text mining</td>\n",
       "      <td>Scidiver</td>\n",
       "      <td>None so far.</td>\n",
       "      <td>NaN</td>\n",
       "      <td>2011.0</td>\n",
       "    </tr>\n",
       "    <tr>\n",
       "      <th>2</th>\n",
       "      <td>00911DF1-AF41-42EC-BB95-6FC28E86786C</td>\n",
       "      <td>Cognition Video is a platform for the automati...</td>\n",
       "      <td>Cognition Video Ltd.</td>\n",
       "      <td>Cognition Video won the Enterprise Software ca...</td>\n",
       "      <td>http://www.cognitionvideo.co.uk</td>\n",
       "      <td>2016.0</td>\n",
       "    </tr>\n",
       "    <tr>\n",
       "      <th>3</th>\n",
       "      <td>00958DA0-A15A-4DA0-B2EF-056E21C44BFE</td>\n",
       "      <td>To exploit the sensors and composites innovati...</td>\n",
       "      <td>Sensors and Composites Ltd</td>\n",
       "      <td>Incorporated in 2015.</td>\n",
       "      <td>NaN</td>\n",
       "      <td>2015.0</td>\n",
       "    </tr>\n",
       "    <tr>\n",
       "      <th>4</th>\n",
       "      <td>00CC435B-DCD1-407A-9BF5-3F82240703E3</td>\n",
       "      <td>The company specializes in the area of manufac...</td>\n",
       "      <td>VitriTech Ltd</td>\n",
       "      <td>Technology for laser gain manufacturing has be...</td>\n",
       "      <td>http://www.vitritech.co.uk/</td>\n",
       "      <td>2015.0</td>\n",
       "    </tr>\n",
       "  </tbody>\n",
       "</table>\n",
       "</div>"
      ],
      "text/plain": [
       "                                     id  \\\n",
       "0  0052AC2C-FFC3-4E80-8D48-23D312BCCFB6   \n",
       "1  00835229-1A18-4731-BA53-F13EFFF8C4C7   \n",
       "2  00911DF1-AF41-42EC-BB95-6FC28E86786C   \n",
       "3  00958DA0-A15A-4DA0-B2EF-056E21C44BFE   \n",
       "4  00CC435B-DCD1-407A-9BF5-3F82240703E3   \n",
       "\n",
       "                                         description  \\\n",
       "0  A special purpose vehicle set up to facilitate...   \n",
       "1                             Scientific text mining   \n",
       "2  Cognition Video is a platform for the automati...   \n",
       "3  To exploit the sensors and composites innovati...   \n",
       "4  The company specializes in the area of manufac...   \n",
       "\n",
       "                  companyName  \\\n",
       "0    SPECIFIC Innovations Ltd   \n",
       "1                    Scidiver   \n",
       "2        Cognition Video Ltd.   \n",
       "3  Sensors and Composites Ltd   \n",
       "4               VitriTech Ltd   \n",
       "\n",
       "                                              impact  \\\n",
       "0  One technology licence has been granted to a c...   \n",
       "1                                       None so far.   \n",
       "2  Cognition Video won the Enterprise Software ca...   \n",
       "3                              Incorporated in 2015.   \n",
       "4  Technology for laser gain manufacturing has be...   \n",
       "\n",
       "                           website  yearEstablished  \n",
       "0                              NaN           2014.0  \n",
       "1                              NaN           2011.0  \n",
       "2  http://www.cognitionvideo.co.uk           2016.0  \n",
       "3                              NaN           2015.0  \n",
       "4      http://www.vitritech.co.uk/           2015.0  "
      ]
     },
     "execution_count": 41,
     "metadata": {},
     "output_type": "execute_result"
    }
   ],
   "source": [
    "spinouts = my_data['spinouts']\n",
    "\n",
    "spinouts.head()"
   ]
  },
  {
   "cell_type": "code",
   "execution_count": 42,
   "metadata": {},
   "outputs": [
    {
     "name": "stderr",
     "output_type": "stream",
     "text": [
      "/usr/local/lib/python3.7/site-packages/ipykernel_launcher.py:1: FutureWarning: \n",
      "Passing list-likes to .loc or [] with any missing label will raise\n",
      "KeyError in the future, you can use .reindex() as an alternative.\n",
      "\n",
      "See the documentation here:\n",
      "https://pandas.pydata.org/pandas-docs/stable/indexing.html#deprecate-loc-reindex-listlike\n",
      "  \"\"\"Entry point for launching an IPython kernel.\n"
     ]
    },
    {
     "data": {
      "text/plain": [
       "<matplotlib.axes._subplots.AxesSubplot at 0x123168860>"
      ]
     },
     "execution_count": 42,
     "metadata": {},
     "output_type": "execute_result"
    },
    {
     "data": {
      "image/png": "[encoded data removed]",
      "text/plain": [
       "<Figure size 432x288 with 1 Axes>"
      ]
     },
     "metadata": {},
     "output_type": "display_data"
    }
   ],
   "source": [
    "spinouts.yearEstablished.value_counts().loc[np.arange(2006,2020)].plot.bar(color='blue',title='spinout_year')"
   ]
  },
  {
   "cell_type": "markdown",
   "metadata": {},
   "source": [
    "#### Publications"
   ]
  },
  {
   "cell_type": "code",
   "execution_count": 43,
   "metadata": {},
   "outputs": [
    {
     "data": {
      "text/html": [
       "<div>\n",
       "<style scoped>\n",
       "    .dataframe tbody tr th:only-of-type {\n",
       "        vertical-align: middle;\n",
       "    }\n",
       "\n",
       "    .dataframe tbody tr th {\n",
       "        vertical-align: top;\n",
       "    }\n",
       "\n",
       "    .dataframe thead th {\n",
       "        text-align: right;\n",
       "    }\n",
       "</style>\n",
       "<table border=\"1\" class=\"dataframe\">\n",
       "  <thead>\n",
       "    <tr style=\"text-align: right;\">\n",
       "      <th></th>\n",
       "      <th>id</th>\n",
       "      <th>title</th>\n",
       "      <th>type</th>\n",
       "      <th>journalTitle</th>\n",
       "      <th>datePublished</th>\n",
       "      <th>publicationUrl</th>\n",
       "      <th>pubMedId</th>\n",
       "      <th>issn</th>\n",
       "      <th>volumeTitle</th>\n",
       "      <th>doi</th>\n",
       "      <th>issue</th>\n",
       "      <th>author</th>\n",
       "      <th>isbn</th>\n",
       "      <th>chapterTitle</th>\n",
       "      <th>pageReference</th>\n",
       "    </tr>\n",
       "  </thead>\n",
       "  <tbody>\n",
       "    <tr>\n",
       "      <th>0</th>\n",
       "      <td>00000C13-59F1-419B-9204-77DAFFD2BC35</td>\n",
       "      <td>Characteristics of EGRET Blazars in the VLBA I...</td>\n",
       "      <td>Journal Article/Review</td>\n",
       "      <td>The Astrophysical Journal</td>\n",
       "      <td>2007-01-01</td>\n",
       "      <td>http://dx.doi.org/10.1086/523264</td>\n",
       "      <td>NaN</td>\n",
       "      <td>NaN</td>\n",
       "      <td>NaN</td>\n",
       "      <td>http://dx.doi.org/10.1086/523264</td>\n",
       "      <td>2</td>\n",
       "      <td>Taylor G</td>\n",
       "      <td>NaN</td>\n",
       "      <td>NaN</td>\n",
       "      <td>NaN</td>\n",
       "    </tr>\n",
       "    <tr>\n",
       "      <th>1</th>\n",
       "      <td>00000D8A-3BFA-4D6C-BB58-8721DA8D36E1</td>\n",
       "      <td>The cytotoxicity and cell labelling efficacy o...</td>\n",
       "      <td>Working Paper</td>\n",
       "      <td>NaN</td>\n",
       "      <td>2013-01-01</td>\n",
       "      <td>NaN</td>\n",
       "      <td>NaN</td>\n",
       "      <td>NaN</td>\n",
       "      <td>NaN</td>\n",
       "      <td>NaN</td>\n",
       "      <td>NaN</td>\n",
       "      <td>Samantha Parsons (Author)</td>\n",
       "      <td>NaN</td>\n",
       "      <td>NaN</td>\n",
       "      <td>NaN</td>\n",
       "    </tr>\n",
       "    <tr>\n",
       "      <th>2</th>\n",
       "      <td>000030A0-2369-4D9A-8126-E68EE6FD653F</td>\n",
       "      <td>Altered receptor specificity and cell tropism ...</td>\n",
       "      <td>Journal Article/Review</td>\n",
       "      <td>Journal of virology</td>\n",
       "      <td>2010-01-01</td>\n",
       "      <td>http://europepmc.org/abstract/MED/20826688</td>\n",
       "      <td>20826688.0</td>\n",
       "      <td>0022-538X</td>\n",
       "      <td>84</td>\n",
       "      <td>http://dx.doi.org/10.1128/JVI.01639-10</td>\n",
       "      <td>22</td>\n",
       "      <td>Liu Y</td>\n",
       "      <td>NaN</td>\n",
       "      <td>NaN</td>\n",
       "      <td>NaN</td>\n",
       "    </tr>\n",
       "    <tr>\n",
       "      <th>3</th>\n",
       "      <td>0000428D-17F4-4E75-BD8A-8584675CAFAB</td>\n",
       "      <td>Nonlocal energy density functionals for pairin...</td>\n",
       "      <td>Journal Article/Review</td>\n",
       "      <td>Journal of Physics G: Nuclear and Particle Phy...</td>\n",
       "      <td>2017-01-01</td>\n",
       "      <td>http://dx.doi.org/10.1088/1361-6471/aa5fd7</td>\n",
       "      <td>NaN</td>\n",
       "      <td>NaN</td>\n",
       "      <td>NaN</td>\n",
       "      <td>http://dx.doi.org/10.1088/1361-6471/aa5fd7</td>\n",
       "      <td>4</td>\n",
       "      <td>Bennaceur K</td>\n",
       "      <td>NaN</td>\n",
       "      <td>NaN</td>\n",
       "      <td>NaN</td>\n",
       "    </tr>\n",
       "    <tr>\n",
       "      <th>4</th>\n",
       "      <td>00004300-5697-455F-A2A9-575AB7AA28E8</td>\n",
       "      <td>HCO (3)(-) secretion and CaCO3 precipitation p...</td>\n",
       "      <td>Journal Article/Review</td>\n",
       "      <td>American journal of physiology. Regulatory, in...</td>\n",
       "      <td>2010-01-01</td>\n",
       "      <td>http://europepmc.org/abstract/MED/20130226</td>\n",
       "      <td>20130226.0</td>\n",
       "      <td>0363-6119</td>\n",
       "      <td>298</td>\n",
       "      <td>http://dx.doi.org/10.1152/ajpregu.00545.2009</td>\n",
       "      <td>4</td>\n",
       "      <td>Whittamore JM</td>\n",
       "      <td>NaN</td>\n",
       "      <td>NaN</td>\n",
       "      <td>NaN</td>\n",
       "    </tr>\n",
       "  </tbody>\n",
       "</table>\n",
       "</div>"
      ],
      "text/plain": [
       "                                     id  \\\n",
       "0  00000C13-59F1-419B-9204-77DAFFD2BC35   \n",
       "1  00000D8A-3BFA-4D6C-BB58-8721DA8D36E1   \n",
       "2  000030A0-2369-4D9A-8126-E68EE6FD653F   \n",
       "3  0000428D-17F4-4E75-BD8A-8584675CAFAB   \n",
       "4  00004300-5697-455F-A2A9-575AB7AA28E8   \n",
       "\n",
       "                                               title                    type  \\\n",
       "0  Characteristics of EGRET Blazars in the VLBA I...  Journal Article/Review   \n",
       "1  The cytotoxicity and cell labelling efficacy o...           Working Paper   \n",
       "2  Altered receptor specificity and cell tropism ...  Journal Article/Review   \n",
       "3  Nonlocal energy density functionals for pairin...  Journal Article/Review   \n",
       "4  HCO (3)(-) secretion and CaCO3 precipitation p...  Journal Article/Review   \n",
       "\n",
       "                                        journalTitle datePublished  \\\n",
       "0                          The Astrophysical Journal    2007-01-01   \n",
       "1                                                NaN    2013-01-01   \n",
       "2                                Journal of virology    2010-01-01   \n",
       "3  Journal of Physics G: Nuclear and Particle Phy...    2017-01-01   \n",
       "4  American journal of physiology. Regulatory, in...    2010-01-01   \n",
       "\n",
       "                               publicationUrl    pubMedId       issn  \\\n",
       "0            http://dx.doi.org/10.1086/523264         NaN        NaN   \n",
       "1                                         NaN         NaN        NaN   \n",
       "2  http://europepmc.org/abstract/MED/20826688  20826688.0  0022-538X   \n",
       "3  http://dx.doi.org/10.1088/1361-6471/aa5fd7         NaN        NaN   \n",
       "4  http://europepmc.org/abstract/MED/20130226  20130226.0  0363-6119   \n",
       "\n",
       "  volumeTitle                                           doi issue  \\\n",
       "0         NaN              http://dx.doi.org/10.1086/523264     2   \n",
       "1         NaN                                           NaN   NaN   \n",
       "2          84        http://dx.doi.org/10.1128/JVI.01639-10    22   \n",
       "3         NaN    http://dx.doi.org/10.1088/1361-6471/aa5fd7     4   \n",
       "4         298  http://dx.doi.org/10.1152/ajpregu.00545.2009     4   \n",
       "\n",
       "                      author isbn chapterTitle pageReference  \n",
       "0                   Taylor G  NaN          NaN           NaN  \n",
       "1  Samantha Parsons (Author)  NaN          NaN           NaN  \n",
       "2                      Liu Y  NaN          NaN           NaN  \n",
       "3                Bennaceur K  NaN          NaN           NaN  \n",
       "4              Whittamore JM  NaN          NaN           NaN  "
      ]
     },
     "execution_count": 43,
     "metadata": {},
     "output_type": "execute_result"
    }
   ],
   "source": [
    "pubs = my_data['publications']\n",
    "\n",
    "pubs.head()"
   ]
  },
  {
   "cell_type": "code",
   "execution_count": 44,
   "metadata": {},
   "outputs": [
    {
     "data": {
      "text/plain": [
       "array([1188624,  192117, 1284055, ...,  508647,  384454,  306703])"
      ]
     },
     "execution_count": 44,
     "metadata": {},
     "output_type": "execute_result"
    }
   ],
   "source": [
    "np.random.randint(0,len(pubs),40000)"
   ]
  },
  {
   "cell_type": "code",
   "execution_count": 45,
   "metadata": {},
   "outputs": [
    {
     "data": {
      "image/png": "[encoded data removed]",
      "text/plain": [
       "<Figure size 432x288 with 1 Axes>"
      ]
     },
     "metadata": {},
     "output_type": "display_data"
    }
   ],
   "source": [
    "#Get missing values for a random sample (10%) of the publications\n",
    "\n",
    "fig,ax = plt.subplots()\n",
    "\n",
    "pub_sample = pubs.loc[list(np.random.randint(0,len(pubs),70000)),:]\n",
    "\n",
    "missing_count(pub_sample,ax)\n"
   ]
  },
  {
   "cell_type": "markdown",
   "metadata": {},
   "source": [
    "80% have DOI"
   ]
  },
  {
   "cell_type": "code",
   "execution_count": 46,
   "metadata": {},
   "outputs": [
    {
     "data": {
      "text/plain": [
       "<matplotlib.axes._subplots.AxesSubplot at 0x123168f28>"
      ]
     },
     "execution_count": 46,
     "metadata": {},
     "output_type": "execute_result"
    },
    {
     "data": {
      "image/png": "[encoded data removed]",
      "text/plain": [
       "<Figure size 432x288 with 1 Axes>"
      ]
     },
     "metadata": {},
     "output_type": "display_data"
    }
   ],
   "source": [
    "pubs.type.value_counts().plot.bar(color='blue',title='Type of publication')"
   ]
  },
  {
   "cell_type": "code",
   "execution_count": 47,
   "metadata": {},
   "outputs": [],
   "source": [
    "pubs['year'] = pubs['datePublished'].apply(get_year)"
   ]
  },
  {
   "cell_type": "code",
   "execution_count": 48,
   "metadata": {},
   "outputs": [
    {
     "data": {
      "text/plain": [
       "<matplotlib.axes._subplots.AxesSubplot at 0x12c92d978>"
      ]
     },
     "execution_count": 48,
     "metadata": {},
     "output_type": "execute_result"
    },
    {
     "data": {
      "image/png": "[encoded data removed]",
      "text/plain": [
       "<Figure size 432x288 with 1 Axes>"
      ]
     },
     "metadata": {},
     "output_type": "display_data"
    }
   ],
   "source": [
    "pubs['year'].value_counts().loc[np.arange(2006,2020)].plot.bar(color='blue',title='publication years')"
   ]
  },
  {
   "cell_type": "code",
   "execution_count": 49,
   "metadata": {},
   "outputs": [
    {
     "data": {
      "text/plain": [
       "Monthly Notices of the Royal Astronomical Society         45340\n",
       "Journal of High Energy Physics                            34476\n",
       "Physical Review D                                         33471\n",
       "Physical review letters                                   27722\n",
       "Physics Letters B                                         24943\n",
       "The Astrophysical Journal                                 20505\n",
       "PloS one                                                  19100\n",
       "The European physical journal. C, Particles and fields    12341\n",
       "Astronomy & Astrophysics                                  11514\n",
       "Scientific reports                                         8430\n",
       "Name: journalTitle, dtype: int64"
      ]
     },
     "execution_count": 49,
     "metadata": {},
     "output_type": "execute_result"
    }
   ],
   "source": [
    "pubs['journalTitle'].value_counts()[:10]"
   ]
  },
  {
   "cell_type": "markdown",
   "metadata": {},
   "source": [
    "### Discipline coverage check\n",
    "\n",
    "Here we run outputs vs projects to get who were the funders. We want to check how much cross-organisation coverage there is in the data\n",
    "\n",
    "We also identify projects that appear in different 'impact' databases"
   ]
  },
  {
   "cell_type": "code",
   "execution_count": 50,
   "metadata": {},
   "outputs": [],
   "source": [
    "#Containers for the data\n",
    "impactful_projects= []\n",
    "\n",
    "impact_funders = [projects['leadFunder'].value_counts()]\n",
    "\n",
    "impact_names = ['prods','ip','tech','spin','pubs']\n",
    "\n",
    "for name,data in zip(impact_names,[products,ip,technical,spinouts,pubs]):\n",
    "    \n",
    "    #Merges outputs and projects via the product file\n",
    "    \n",
    "    merged = pd.merge(\n",
    "        pd.merge(data,link,left_on='id',right_on='id'),\n",
    "        projects,left_on='project_id',right_on='id')\n",
    "    \n",
    "    #number of times that a project appears in an output df\n",
    "    project_counts = merged['project_id'].value_counts()\n",
    "    project_counts.name = name\n",
    "    \n",
    "    #Put it with the featured projects\n",
    "    impactful_projects.append(project_counts)\n",
    "    \n",
    "    \n",
    "    #Funder impact by project\n",
    "    funder_freqs = merged['leadFunder'].value_counts()\n",
    "    funder_freqs.name = name\n",
    "    \n",
    "    #Merges with the outpi\n",
    "    impact_funders.append(funder_freqs)\n",
    "    "
   ]
  },
  {
   "cell_type": "code",
   "execution_count": 51,
   "metadata": {},
   "outputs": [
    {
     "data": {
      "text/plain": [
       "<matplotlib.legend.Legend at 0x14bb10208>"
      ]
     },
     "execution_count": 51,
     "metadata": {},
     "output_type": "execute_result"
    },
    {
     "data": {
      "image/png": "[encoded data removed]",
      "text/plain": [
       "<Figure size 576x360 with 1 Axes>"
      ]
     },
     "metadata": {},
     "output_type": "display_data"
    }
   ],
   "source": [
    "fig,ax = plt.subplots(figsize=(8,5))\n",
    "\n",
    "pd.concat(impact_funders,axis=1,sort=False).apply(lambda x: x/x.sum(),axis=0).T.plot.bar(stacked=True,ax=ax,width=0.8)\n",
    "\n",
    "ax.legend(bbox_to_anchor=(1,1))"
   ]
  },
  {
   "cell_type": "markdown",
   "metadata": {},
   "source": [
    "Some observations:\n",
    "* No output data for innovate UK\n",
    "* MRC over-represented in all outputs (not bad for the mission pilots)\n",
    "* STFC over-represented in publications(physics)"
   ]
  },
  {
   "cell_type": "code",
   "execution_count": 56,
   "metadata": {},
   "outputs": [
    {
     "name": "stderr",
     "output_type": "stream",
     "text": [
      "/usr/local/lib/python3.7/site-packages/ipykernel_launcher.py:7: FutureWarning: Sorting because non-concatenation axis is not aligned. A future version\n",
      "of pandas will change to not sort by default.\n",
      "\n",
      "To accept the future behavior, pass 'sort=False'.\n",
      "\n",
      "To retain the current behavior and silence the warning, pass 'sort=True'.\n",
      "\n",
      "  import sys\n"
     ]
    },
    {
     "ename": "ValueError",
     "evalue": "Shape of passed values is (28, 173699), indices imply (28, 89843)",
     "output_type": "error",
     "traceback": [
      "\u001b[0;31m---------------------------------------------------------------------------\u001b[0m",
      "\u001b[0;31mValueError\u001b[0m                                Traceback (most recent call last)",
      "\u001b[0;32m<ipython-input-56-962a76252f77>\u001b[0m in \u001b[0;36m<module>\u001b[0;34m()\u001b[0m\n\u001b[1;32m      5\u001b[0m \u001b[0;34m\u001b[0m\u001b[0m\n\u001b[1;32m      6\u001b[0m \u001b[0;31m#Concatenate with the projects file\u001b[0m\u001b[0;34m\u001b[0m\u001b[0;34m\u001b[0m\u001b[0;34m\u001b[0m\u001b[0m\n\u001b[0;32m----> 7\u001b[0;31m \u001b[0mprojects_imp\u001b[0m \u001b[0;34m=\u001b[0m \u001b[0mpd\u001b[0m\u001b[0;34m.\u001b[0m\u001b[0mconcat\u001b[0m\u001b[0;34m(\u001b[0m\u001b[0;34m[\u001b[0m\u001b[0mprojects_f\u001b[0m\u001b[0;34m.\u001b[0m\u001b[0mset_index\u001b[0m\u001b[0;34m(\u001b[0m\u001b[0;34m'project_id'\u001b[0m\u001b[0;34m)\u001b[0m\u001b[0;34m,\u001b[0m\u001b[0mproject_impacts\u001b[0m\u001b[0;34m]\u001b[0m\u001b[0;34m,\u001b[0m\u001b[0maxis\u001b[0m\u001b[0;34m=\u001b[0m\u001b[0;36m1\u001b[0m\u001b[0;34m)\u001b[0m\u001b[0;34m\u001b[0m\u001b[0;34m\u001b[0m\u001b[0m\n\u001b[0m\u001b[1;32m      8\u001b[0m \u001b[0;34m\u001b[0m\u001b[0m\n\u001b[1;32m      9\u001b[0m \u001b[0mprojects_imp\u001b[0m\u001b[0;34m.\u001b[0m\u001b[0mshape\u001b[0m\u001b[0;34m\u001b[0m\u001b[0;34m\u001b[0m\u001b[0m\n",
      "\u001b[0;32m/usr/local/lib/python3.7/site-packages/pandas/core/reshape/concat.py\u001b[0m in \u001b[0;36mconcat\u001b[0;34m(objs, axis, join, join_axes, ignore_index, keys, levels, names, verify_integrity, sort, copy)\u001b[0m\n\u001b[1;32m    224\u001b[0m                        \u001b[0mverify_integrity\u001b[0m\u001b[0;34m=\u001b[0m\u001b[0mverify_integrity\u001b[0m\u001b[0;34m,\u001b[0m\u001b[0;34m\u001b[0m\u001b[0;34m\u001b[0m\u001b[0m\n\u001b[1;32m    225\u001b[0m                        copy=copy, sort=sort)\n\u001b[0;32m--> 226\u001b[0;31m     \u001b[0;32mreturn\u001b[0m \u001b[0mop\u001b[0m\u001b[0;34m.\u001b[0m\u001b[0mget_result\u001b[0m\u001b[0;34m(\u001b[0m\u001b[0;34m)\u001b[0m\u001b[0;34m\u001b[0m\u001b[0;34m\u001b[0m\u001b[0m\n\u001b[0m\u001b[1;32m    227\u001b[0m \u001b[0;34m\u001b[0m\u001b[0m\n\u001b[1;32m    228\u001b[0m \u001b[0;34m\u001b[0m\u001b[0m\n",
      "\u001b[0;32m/usr/local/lib/python3.7/site-packages/pandas/core/reshape/concat.py\u001b[0m in \u001b[0;36mget_result\u001b[0;34m(self)\u001b[0m\n\u001b[1;32m    421\u001b[0m             new_data = concatenate_block_managers(\n\u001b[1;32m    422\u001b[0m                 \u001b[0mmgrs_indexers\u001b[0m\u001b[0;34m,\u001b[0m \u001b[0mself\u001b[0m\u001b[0;34m.\u001b[0m\u001b[0mnew_axes\u001b[0m\u001b[0;34m,\u001b[0m \u001b[0mconcat_axis\u001b[0m\u001b[0;34m=\u001b[0m\u001b[0mself\u001b[0m\u001b[0;34m.\u001b[0m\u001b[0maxis\u001b[0m\u001b[0;34m,\u001b[0m\u001b[0;34m\u001b[0m\u001b[0;34m\u001b[0m\u001b[0m\n\u001b[0;32m--> 423\u001b[0;31m                 copy=self.copy)\n\u001b[0m\u001b[1;32m    424\u001b[0m             \u001b[0;32mif\u001b[0m \u001b[0;32mnot\u001b[0m \u001b[0mself\u001b[0m\u001b[0;34m.\u001b[0m\u001b[0mcopy\u001b[0m\u001b[0;34m:\u001b[0m\u001b[0;34m\u001b[0m\u001b[0;34m\u001b[0m\u001b[0m\n\u001b[1;32m    425\u001b[0m                 \u001b[0mnew_data\u001b[0m\u001b[0;34m.\u001b[0m\u001b[0m_consolidate_inplace\u001b[0m\u001b[0;34m(\u001b[0m\u001b[0;34m)\u001b[0m\u001b[0;34m\u001b[0m\u001b[0;34m\u001b[0m\u001b[0m\n",
      "\u001b[0;32m/usr/local/lib/python3.7/site-packages/pandas/core/internals.py\u001b[0m in \u001b[0;36mconcatenate_block_managers\u001b[0;34m(mgrs_indexers, axes, concat_axis, copy)\u001b[0m\n\u001b[1;32m   5423\u001b[0m         \u001b[0mblocks\u001b[0m\u001b[0;34m.\u001b[0m\u001b[0mappend\u001b[0m\u001b[0;34m(\u001b[0m\u001b[0mb\u001b[0m\u001b[0;34m)\u001b[0m\u001b[0;34m\u001b[0m\u001b[0;34m\u001b[0m\u001b[0m\n\u001b[1;32m   5424\u001b[0m \u001b[0;34m\u001b[0m\u001b[0m\n\u001b[0;32m-> 5425\u001b[0;31m     \u001b[0;32mreturn\u001b[0m \u001b[0mBlockManager\u001b[0m\u001b[0;34m(\u001b[0m\u001b[0mblocks\u001b[0m\u001b[0;34m,\u001b[0m \u001b[0maxes\u001b[0m\u001b[0;34m)\u001b[0m\u001b[0;34m\u001b[0m\u001b[0;34m\u001b[0m\u001b[0m\n\u001b[0m\u001b[1;32m   5426\u001b[0m \u001b[0;34m\u001b[0m\u001b[0m\n\u001b[1;32m   5427\u001b[0m \u001b[0;34m\u001b[0m\u001b[0m\n",
      "\u001b[0;32m/usr/local/lib/python3.7/site-packages/pandas/core/internals.py\u001b[0m in \u001b[0;36m__init__\u001b[0;34m(self, blocks, axes, do_integrity_check)\u001b[0m\n\u001b[1;32m   3280\u001b[0m \u001b[0;34m\u001b[0m\u001b[0m\n\u001b[1;32m   3281\u001b[0m         \u001b[0;32mif\u001b[0m \u001b[0mdo_integrity_check\u001b[0m\u001b[0;34m:\u001b[0m\u001b[0;34m\u001b[0m\u001b[0;34m\u001b[0m\u001b[0m\n\u001b[0;32m-> 3282\u001b[0;31m             \u001b[0mself\u001b[0m\u001b[0;34m.\u001b[0m\u001b[0m_verify_integrity\u001b[0m\u001b[0;34m(\u001b[0m\u001b[0;34m)\u001b[0m\u001b[0;34m\u001b[0m\u001b[0;34m\u001b[0m\u001b[0m\n\u001b[0m\u001b[1;32m   3283\u001b[0m \u001b[0;34m\u001b[0m\u001b[0m\n\u001b[1;32m   3284\u001b[0m         \u001b[0mself\u001b[0m\u001b[0;34m.\u001b[0m\u001b[0m_consolidate_check\u001b[0m\u001b[0;34m(\u001b[0m\u001b[0;34m)\u001b[0m\u001b[0;34m\u001b[0m\u001b[0;34m\u001b[0m\u001b[0m\n",
      "\u001b[0;32m/usr/local/lib/python3.7/site-packages/pandas/core/internals.py\u001b[0m in \u001b[0;36m_verify_integrity\u001b[0;34m(self)\u001b[0m\n\u001b[1;32m   3491\u001b[0m         \u001b[0;32mfor\u001b[0m \u001b[0mblock\u001b[0m \u001b[0;32min\u001b[0m \u001b[0mself\u001b[0m\u001b[0;34m.\u001b[0m\u001b[0mblocks\u001b[0m\u001b[0;34m:\u001b[0m\u001b[0;34m\u001b[0m\u001b[0;34m\u001b[0m\u001b[0m\n\u001b[1;32m   3492\u001b[0m             \u001b[0;32mif\u001b[0m \u001b[0mblock\u001b[0m\u001b[0;34m.\u001b[0m\u001b[0m_verify_integrity\u001b[0m \u001b[0;32mand\u001b[0m \u001b[0mblock\u001b[0m\u001b[0;34m.\u001b[0m\u001b[0mshape\u001b[0m\u001b[0;34m[\u001b[0m\u001b[0;36m1\u001b[0m\u001b[0;34m:\u001b[0m\u001b[0;34m]\u001b[0m \u001b[0;34m!=\u001b[0m \u001b[0mmgr_shape\u001b[0m\u001b[0;34m[\u001b[0m\u001b[0;36m1\u001b[0m\u001b[0;34m:\u001b[0m\u001b[0;34m]\u001b[0m\u001b[0;34m:\u001b[0m\u001b[0;34m\u001b[0m\u001b[0;34m\u001b[0m\u001b[0m\n\u001b[0;32m-> 3493\u001b[0;31m                 \u001b[0mconstruction_error\u001b[0m\u001b[0;34m(\u001b[0m\u001b[0mtot_items\u001b[0m\u001b[0;34m,\u001b[0m \u001b[0mblock\u001b[0m\u001b[0;34m.\u001b[0m\u001b[0mshape\u001b[0m\u001b[0;34m[\u001b[0m\u001b[0;36m1\u001b[0m\u001b[0;34m:\u001b[0m\u001b[0;34m]\u001b[0m\u001b[0;34m,\u001b[0m \u001b[0mself\u001b[0m\u001b[0;34m.\u001b[0m\u001b[0maxes\u001b[0m\u001b[0;34m)\u001b[0m\u001b[0;34m\u001b[0m\u001b[0;34m\u001b[0m\u001b[0m\n\u001b[0m\u001b[1;32m   3494\u001b[0m         \u001b[0;32mif\u001b[0m \u001b[0mlen\u001b[0m\u001b[0;34m(\u001b[0m\u001b[0mself\u001b[0m\u001b[0;34m.\u001b[0m\u001b[0mitems\u001b[0m\u001b[0;34m)\u001b[0m \u001b[0;34m!=\u001b[0m \u001b[0mtot_items\u001b[0m\u001b[0;34m:\u001b[0m\u001b[0;34m\u001b[0m\u001b[0;34m\u001b[0m\u001b[0m\n\u001b[1;32m   3495\u001b[0m             raise AssertionError('Number of manager items must equal union of '\n",
      "\u001b[0;32m/usr/local/lib/python3.7/site-packages/pandas/core/internals.py\u001b[0m in \u001b[0;36mconstruction_error\u001b[0;34m(tot_items, block_shape, axes, e)\u001b[0m\n\u001b[1;32m   4841\u001b[0m         \u001b[0;32mraise\u001b[0m \u001b[0mValueError\u001b[0m\u001b[0;34m(\u001b[0m\u001b[0;34m\"Empty data passed with indices specified.\"\u001b[0m\u001b[0;34m)\u001b[0m\u001b[0;34m\u001b[0m\u001b[0;34m\u001b[0m\u001b[0m\n\u001b[1;32m   4842\u001b[0m     raise ValueError(\"Shape of passed values is {0}, indices imply {1}\".format(\n\u001b[0;32m-> 4843\u001b[0;31m         passed, implied))\n\u001b[0m\u001b[1;32m   4844\u001b[0m \u001b[0;34m\u001b[0m\u001b[0m\n\u001b[1;32m   4845\u001b[0m \u001b[0;34m\u001b[0m\u001b[0m\n",
      "\u001b[0;31mValueError\u001b[0m: Shape of passed values is (28, 173699), indices imply (28, 89843)"
     ]
    }
   ],
   "source": [
    "# And the impactful projects\n",
    "\n",
    "#Concatenate the previous outputs\n",
    "project_impacts = pd.concat(impactful_projects,axis=1,sort=True).fillna(0)\n",
    "\n",
    "#Concatenate with the projects file\n",
    "projects_imp = pd.concat([projects_f.set_index('project_id'),project_impacts],axis=1)\n",
    "\n",
    "projects_imp.shape"
   ]
  },
  {
   "cell_type": "markdown",
   "metadata": {},
   "source": [
    "Fillnas with 0s. \n",
    "Should drop innovate from follow-on analyses here given that they don't seem to be tracking the impact of their projects in the same way as research councils."
   ]
  },
  {
   "cell_type": "code",
   "execution_count": null,
   "metadata": {},
   "outputs": [],
   "source": [
    "projects_imp[impact_names] = projects_imp[impact_names].fillna(0)"
   ]
  },
  {
   "cell_type": "code",
   "execution_count": null,
   "metadata": {},
   "outputs": [],
   "source": [
    "import seaborn as sns"
   ]
  },
  {
   "cell_type": "code",
   "execution_count": null,
   "metadata": {},
   "outputs": [],
   "source": [
    "#What is the correlation between different types of outputs...and level of funding?\n",
    "\n",
    "projects_imp[impact_names+['amount']].corr()"
   ]
  },
  {
   "cell_type": "markdown",
   "metadata": {},
   "source": [
    "Lots of potential confounders here - types of projects, disciplines..."
   ]
  },
  {
   "cell_type": "markdown",
   "metadata": {},
   "source": [
    "#### Some observations for next steps\n",
    "\n",
    "* Analysis focusing on 2006-2018\n",
    "* We need to integrate the topic data (new link file)?\n",
    "* Analyses of TRL/output by field will need to consider differences between disciplines in their outlets. To which extent are the disciplines in a mission field more or less productive than their constituent fields?\n",
    "* ...\n",
    "\n"
   ]
  },
  {
   "cell_type": "markdown",
   "metadata": {},
   "source": [
    "## 2. Process data"
   ]
  },
  {
   "cell_type": "markdown",
   "metadata": {},
   "source": [
    "* Classify projects into disciplines.\n",
    "  * I need the project topics for this labelling\n",
    "* Any TRL tags would go in here"
   ]
  },
  {
   "cell_type": "markdown",
   "metadata": {},
   "source": [
    "Add research activities and topics to the projects data"
   ]
  },
  {
   "cell_type": "code",
   "execution_count": 53,
   "metadata": {},
   "outputs": [],
   "source": [
    "topic_lookup = link.loc[link['table_name']=='gtr_topic',:]\n",
    "\n",
    "#We simply group by projects and run the names vs the research activity and topic lookup\n",
    "\n",
    "#Group\n",
    "res_topics_by_project = topic_lookup.groupby('project_id')\n",
    "\n",
    "#Extract lookups\n",
    "activity_project_lookup,topic_project_lookup = [res_topics_by_project['id'].apply(\n",
    "    lambda x: [lookup[el] for el in [t for t in x] if el in lookup.keys()]).to_dict() for lookup in [res_activity_lookup,res_topic_lookup]]"
   ]
  },
  {
   "cell_type": "code",
   "execution_count": 55,
   "metadata": {},
   "outputs": [
    {
     "ename": "NameError",
     "evalue": "name 'projects_imp' is not defined",
     "output_type": "error",
     "traceback": [
      "\u001b[0;31m---------------------------------------------------------------------------\u001b[0m",
      "\u001b[0;31mNameError\u001b[0m                                 Traceback (most recent call last)",
      "\u001b[0;32m<ipython-input-55-c282d138ec4f>\u001b[0m in \u001b[0;36m<module>\u001b[0;34m()\u001b[0m\n\u001b[1;32m      3\u001b[0m projects_imp['research_topics'],projects_imp['research_activities']= [[\n\u001b[1;32m      4\u001b[0m     \u001b[0mlookup\u001b[0m\u001b[0;34m[\u001b[0m\u001b[0mx\u001b[0m\u001b[0;34m]\u001b[0m \u001b[0;32mif\u001b[0m \u001b[0mx\u001b[0m \u001b[0;32min\u001b[0m \u001b[0mlookup\u001b[0m\u001b[0;34m.\u001b[0m\u001b[0mkeys\u001b[0m\u001b[0;34m(\u001b[0m\u001b[0;34m)\u001b[0m \u001b[0;32melse\u001b[0m \u001b[0;34m[\u001b[0m\u001b[0;34m]\u001b[0m \u001b[0;32mfor\u001b[0m \u001b[0mx\u001b[0m \u001b[0;32min\u001b[0m \u001b[0mprojects_imp\u001b[0m\u001b[0;34m.\u001b[0m\u001b[0mindex\u001b[0m\u001b[0;34m]\u001b[0m \u001b[0;32mfor\u001b[0m \u001b[0mlookup\u001b[0m \u001b[0;32min\u001b[0m \u001b[0;34m[\u001b[0m\u001b[0;34m\u001b[0m\u001b[0;34m\u001b[0m\u001b[0m\n\u001b[0;32m----> 5\u001b[0;31m     topic_project_lookup,activity_project_lookup]]\n\u001b[0m",
      "\u001b[0;32m<ipython-input-55-c282d138ec4f>\u001b[0m in \u001b[0;36m<listcomp>\u001b[0;34m(.0)\u001b[0m\n\u001b[1;32m      2\u001b[0m \u001b[0;34m\u001b[0m\u001b[0m\n\u001b[1;32m      3\u001b[0m projects_imp['research_topics'],projects_imp['research_activities']= [[\n\u001b[0;32m----> 4\u001b[0;31m     \u001b[0mlookup\u001b[0m\u001b[0;34m[\u001b[0m\u001b[0mx\u001b[0m\u001b[0;34m]\u001b[0m \u001b[0;32mif\u001b[0m \u001b[0mx\u001b[0m \u001b[0;32min\u001b[0m \u001b[0mlookup\u001b[0m\u001b[0;34m.\u001b[0m\u001b[0mkeys\u001b[0m\u001b[0;34m(\u001b[0m\u001b[0;34m)\u001b[0m \u001b[0;32melse\u001b[0m \u001b[0;34m[\u001b[0m\u001b[0;34m]\u001b[0m \u001b[0;32mfor\u001b[0m \u001b[0mx\u001b[0m \u001b[0;32min\u001b[0m \u001b[0mprojects_imp\u001b[0m\u001b[0;34m.\u001b[0m\u001b[0mindex\u001b[0m\u001b[0;34m]\u001b[0m \u001b[0;32mfor\u001b[0m \u001b[0mlookup\u001b[0m \u001b[0;32min\u001b[0m \u001b[0;34m[\u001b[0m\u001b[0;34m\u001b[0m\u001b[0;34m\u001b[0m\u001b[0m\n\u001b[0m\u001b[1;32m      5\u001b[0m     topic_project_lookup,activity_project_lookup]]\n",
      "\u001b[0;31mNameError\u001b[0m: name 'projects_imp' is not defined"
     ]
    }
   ],
   "source": [
    "#Add topics\n",
    "\n",
    "projects_imp['research_topics'],projects_imp['research_activities']= [[\n",
    "    lookup[x] if x in lookup.keys() else [] for x in projects_imp.index] for lookup in [\n",
    "    topic_project_lookup,activity_project_lookup]]"
   ]
  },
  {
   "cell_type": "code",
   "execution_count": 54,
   "metadata": {},
   "outputs": [
    {
     "ename": "NameError",
     "evalue": "name 'projects_imp' is not defined",
     "output_type": "error",
     "traceback": [
      "\u001b[0;31m---------------------------------------------------------------------------\u001b[0m",
      "\u001b[0;31mNameError\u001b[0m                                 Traceback (most recent call last)",
      "\u001b[0;32m<ipython-input-54-2c61b6fdf800>\u001b[0m in \u001b[0;36m<module>\u001b[0;34m()\u001b[0m\n\u001b[1;32m      3\u001b[0m projects_imp['research_topics'],projects_imp['research_activities']= [[\n\u001b[1;32m      4\u001b[0m     \u001b[0mlookup\u001b[0m\u001b[0;34m[\u001b[0m\u001b[0mx\u001b[0m\u001b[0;34m]\u001b[0m \u001b[0;32mif\u001b[0m \u001b[0mx\u001b[0m \u001b[0;32min\u001b[0m \u001b[0mlookup\u001b[0m\u001b[0;34m.\u001b[0m\u001b[0mkeys\u001b[0m\u001b[0;34m(\u001b[0m\u001b[0;34m)\u001b[0m \u001b[0;32melse\u001b[0m \u001b[0;34m[\u001b[0m\u001b[0;34m]\u001b[0m \u001b[0;32mfor\u001b[0m \u001b[0mx\u001b[0m \u001b[0;32min\u001b[0m \u001b[0mprojects_imp\u001b[0m\u001b[0;34m.\u001b[0m\u001b[0mindex\u001b[0m\u001b[0;34m]\u001b[0m \u001b[0;32mfor\u001b[0m \u001b[0mlookup\u001b[0m \u001b[0;32min\u001b[0m \u001b[0;34m[\u001b[0m\u001b[0;34m\u001b[0m\u001b[0;34m\u001b[0m\u001b[0m\n\u001b[0;32m----> 5\u001b[0;31m     topic_project_lookup,activity_project_lookup]]\n\u001b[0m\u001b[1;32m      6\u001b[0m \u001b[0;34m\u001b[0m\u001b[0m\n\u001b[1;32m      7\u001b[0m projects_imp['has_topic'],projects_imp['has_activities'] = [[len(x)>0 for x in projects_imp[var]] for var in \n",
      "\u001b[0;32m<ipython-input-54-2c61b6fdf800>\u001b[0m in \u001b[0;36m<listcomp>\u001b[0;34m(.0)\u001b[0m\n\u001b[1;32m      2\u001b[0m \u001b[0;34m\u001b[0m\u001b[0m\n\u001b[1;32m      3\u001b[0m projects_imp['research_topics'],projects_imp['research_activities']= [[\n\u001b[0;32m----> 4\u001b[0;31m     \u001b[0mlookup\u001b[0m\u001b[0;34m[\u001b[0m\u001b[0mx\u001b[0m\u001b[0;34m]\u001b[0m \u001b[0;32mif\u001b[0m \u001b[0mx\u001b[0m \u001b[0;32min\u001b[0m \u001b[0mlookup\u001b[0m\u001b[0;34m.\u001b[0m\u001b[0mkeys\u001b[0m\u001b[0;34m(\u001b[0m\u001b[0;34m)\u001b[0m \u001b[0;32melse\u001b[0m \u001b[0;34m[\u001b[0m\u001b[0;34m]\u001b[0m \u001b[0;32mfor\u001b[0m \u001b[0mx\u001b[0m \u001b[0;32min\u001b[0m \u001b[0mprojects_imp\u001b[0m\u001b[0;34m.\u001b[0m\u001b[0mindex\u001b[0m\u001b[0;34m]\u001b[0m \u001b[0;32mfor\u001b[0m \u001b[0mlookup\u001b[0m \u001b[0;32min\u001b[0m \u001b[0;34m[\u001b[0m\u001b[0;34m\u001b[0m\u001b[0;34m\u001b[0m\u001b[0m\n\u001b[0m\u001b[1;32m      5\u001b[0m     topic_project_lookup,activity_project_lookup]]\n\u001b[1;32m      6\u001b[0m \u001b[0;34m\u001b[0m\u001b[0m\n",
      "\u001b[0;31mNameError\u001b[0m: name 'projects_imp' is not defined"
     ]
    }
   ],
   "source": [
    "projects_imp['has_topic'],projects_imp['has_activities'] = [[len(x)>0 for x in projects_imp[var]] for var in \n",
    "                                                            ['research_topics','research_activities']]\n",
    "                                                            "
   ]
  },
  {
   "cell_type": "code",
   "execution_count": null,
   "metadata": {},
   "outputs": [],
   "source": [
    "pd.crosstab(projects_imp.loc[projects_imp.grantCategory=='Research Grant','year'],\n",
    "            projects_imp.loc[projects_imp.grantCategory=='Research Grant','has_topic'],normalize=0).plot.bar(\n",
    "    stacked=True,title='Share of Research Grants with subject data')\n"
   ]
  },
  {
   "cell_type": "markdown",
   "metadata": {},
   "source": [
    "Only around 80% of the projects have topics. This is quite different from previous versions of the data which had many more topics.\n",
    "\n",
    "One to check with Joel"
   ]
  },
  {
   "cell_type": "code",
   "execution_count": null,
   "metadata": {},
   "outputs": [],
   "source": [
    "fig,ax = plt.subplots(figsize=(10,5),ncols=2,sharey=True)\n",
    "\n",
    "pd.crosstab(projects_imp['leadFunder'],projects_imp['has_topics'],normalize=0).plot.barh(stacked=True,ax=ax[0],legend=False)\n",
    "pd.crosstab(projects_imp['leadFunder'],projects_imp['has_activities'],normalize=0).plot.barh(stacked=True,ax=ax[1])"
   ]
  },
  {
   "cell_type": "markdown",
   "metadata": {},
   "source": [
    "Almost no topics in MRC - because they label their projects with activities.\n",
    "\n",
    "For now we will use an older dataset with better topic coverage for labelling (see notebook `02_jmg_discipline_modelling`)"
   ]
  },
  {
   "cell_type": "markdown",
   "metadata": {},
   "source": [
    "### Discipline classifier"
   ]
  },
  {
   "cell_type": "markdown",
   "metadata": {},
   "source": [
    "Save data to train the model in the `02_jmg`... notebook"
   ]
  },
  {
   "cell_type": "code",
   "execution_count": null,
   "metadata": {},
   "outputs": [],
   "source": [
    "gtr_for_pred = projects_imp.dropna(axis=0,subset=['abstractText'])\n",
    "\n",
    "gtr_for_pred.to_csv(f'../data/processed/{today_str}_gtr_for_prediction.csv',index_label=False)"
   ]
  },
  {
   "cell_type": "markdown",
   "metadata": {},
   "source": [
    "Load data after training"
   ]
  },
  {
   "cell_type": "code",
   "execution_count": null,
   "metadata": {},
   "outputs": [],
   "source": [
    "gtr_predicted = pd.read_csv('../data/processed/24_1_2019_gtr_w_predicted_labels.csv',index_col=None).iloc[:,1:].set_index('index')"
   ]
  },
  {
   "cell_type": "markdown",
   "metadata": {},
   "source": [
    "### Create a clean dataset"
   ]
  },
  {
   "cell_type": "code",
   "execution_count": null,
   "metadata": {},
   "outputs": [],
   "source": [
    "discs = ['biological_sciences', 'physics', 'engineering_technology',\n",
    "       'medical_sciences', 'social_sciences', 'mathematics_computing',\n",
    "       'environmental_sciences', 'arts_humanities']"
   ]
  },
  {
   "cell_type": "code",
   "execution_count": null,
   "metadata": {},
   "outputs": [],
   "source": [
    "my_vars = ['title','year','abstractText','status','grantCategory','leadFunder','amount']\n",
    "rename_vars = ['title','year','abstract','status','grant_category','funder','amount']\n",
    "\n",
    "proj_labelled = pd.concat([projects_imp,gtr_predicted],axis=1,sort=False)[my_vars + discs + impact_names]\n",
    "\n",
    "\n",
    "proj_labelled.rename(columns={x:y for x,y in zip(my_vars,rename_vars)},inplace=True)"
   ]
  },
  {
   "cell_type": "code",
   "execution_count": null,
   "metadata": {},
   "outputs": [],
   "source": [
    "#We will focus on projects with abstracts\n",
    "proj_abst = proj_labelled.loc[gtr_predicted.index,:]\n",
    "\n",
    "proj_abst.to_csv(f'../data/processed/{today_str}_projects_clean.csv')"
   ]
  },
  {
   "cell_type": "markdown",
   "metadata": {},
   "source": [
    "Notebook `003` continues with the analysis"
   ]
  },
  {
   "cell_type": "code",
   "execution_count": null,
   "metadata": {},
   "outputs": [],
   "source": []
  }
 ],
 "metadata": {
  "kernelspec": {
   "display_name": "Python 3",
   "language": "python",
   "name": "python3"
  },
  "language_info": {
   "codemirror_mode": {
    "name": "ipython",
    "version": 3
   },
   "file_extension": ".py",
   "mimetype": "text/x-python",
   "name": "python",
   "nbconvert_exporter": "python",
   "pygments_lexer": "ipython3",
   "version": "3.7.1"
  }
 },
 "nbformat": 4,
 "nbformat_minor": 2
}
