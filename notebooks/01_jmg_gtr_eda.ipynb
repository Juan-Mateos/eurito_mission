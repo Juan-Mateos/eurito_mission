{
 "cells": [
  {
   "cell_type": "markdown",
   "metadata": {},
   "source": [
    "# Mission pilot\n",
    "\n",
    "In this pilot, we are developing indicators to evaluate the impact of innovation missions.\n",
    "\n",
    "We are doing this with Gateway to Research and Horizon 2020 data, and with two two missions in mind. They are:\n",
    "\n",
    "* Use of AI to diagnose, prevent and treat chronic diseases\n",
    "* Improve quality of life for an aging population\n",
    "\n",
    "We want to write a pipeline that more or less automatically takes keywords related to missions, queries the data and generates indicators and visualisations.\n",
    "\n",
    "The two datasets we are working with have similar structures (*projects linked to organisations and outcomes*) so it would be nice to write a pipeline that allows us to move between sources seamlessly.\n",
    "\n",
    "The output will be a methodology and preliminary findings for a EURITO working paper. Emerging findings will also be relevant for the project mapping innovation in Scotland.\n",
    "\n",
    "## Tasks\n",
    "\n",
    "1. Load and explore GtR data\n",
    "  * Link between projects and outcomes\n",
    "  * Coverage of outcomes\n",
    "  \n",
    "2. Process GtR data\n",
    "  * Classify projects into disciplines\n",
    "  * Label projects with TRLs (this will come from other team-members)\n",
    "\n",
    "3. Create mission fields\n",
    "  * Generate mission-related keywords\n",
    "  * Query the data\n",
    "\n",
    "4. Generate indicators\n",
    "  * Level of activity per mission\n",
    "  * Evolution of activity per mission (absolute and normalised)\n",
    "  * Network structure of mission\n",
    "    * Interdisciplinary activity and its evolution\n",
    "    * Communities involved\n",
    "    * % of relevant fields involved in mission (eg how much of total AI activity is about chronic diseases; how much of aging is about quality of life and well-being)?\n",
    "  * Technological maturity of fields\n",
    "    * Explore distribution of outcomes by mission area\n",
    "    * Generate lists of DOIs (papers) for cross-ref analysis\n",
    "    \n",
    "5. Report\n",
    "   \n",
    "\n",
    "\n",
    "\n",
    "\n",
    "\n",
    "\n",
    "\n"
   ]
  },
  {
   "cell_type": "markdown",
   "metadata": {},
   "source": [
    "### 0. Preamble"
   ]
  },
  {
   "cell_type": "markdown",
   "metadata": {},
   "source": [
    "#### Imports"
   ]
  },
  {
   "cell_type": "code",
   "execution_count": 1,
   "metadata": {},
   "outputs": [],
   "source": [
    "%matplotlib inline\n",
    "import matplotlib.pyplot as plt"
   ]
  },
  {
   "cell_type": "code",
   "execution_count": 2,
   "metadata": {},
   "outputs": [],
   "source": [
    "# Functions\n",
    "\n",
    "def missing_count(df,ax):\n",
    "    '''\n",
    "    Creates a barchart with share of missing values by variable in the data\n",
    "    \n",
    "    '''\n",
    "    \n",
    "    df.apply(lambda x: pd.isnull(x),axis=1).mean().sort_values(ascending=False).plot.bar(ax=ax,color='blue')\n",
    "    \n",
    "def get_year(date):\n",
    "    '''\n",
    "    Extracts years from GTR data. These are strings so we just get the first number\n",
    "    '''\n",
    "    \n",
    "    if pd.isnull(date)==False:\n",
    "        y = date.split('-')[0]\n",
    "        return(int(y))\n",
    "    \n",
    "    else:\n",
    "        return(np.nan)\n",
    "\n"
   ]
  },
  {
   "cell_type": "markdown",
   "metadata": {},
   "source": [
    "### 1. Load GtR data"
   ]
  },
  {
   "cell_type": "markdown",
   "metadata": {},
   "source": [
    "We will load the data in a different Notebook (we need a special environment to use the data getters)"
   ]
  },
  {
   "cell_type": "code",
   "execution_count": 3,
   "metadata": {},
   "outputs": [],
   "source": [
    "my_tables = ['_projects','_organisations','_products','_intellectualproperties','_publications',\n",
    "             'technicalproducts',\n",
    "             '_spinouts','_link_table']"
   ]
  },
  {
   "cell_type": "code",
   "execution_count": 4,
   "metadata": {},
   "outputs": [
    {
     "name": "stderr",
     "output_type": "stream",
     "text": [
      "/usr/local/lib/python3.7/site-packages/IPython/core/interactiveshell.py:2903: DtypeWarning: Columns (0) have mixed types. Specify dtype option on import or set low_memory=False.\n",
      "  if self.run_code(code, result):\n"
     ]
    }
   ],
   "source": [
    "all_tables = os.listdir('../data/external/')\n",
    "\n",
    "#A dict where every item is a df with the key = table name. We do a bit of string manipulation to remove dates etc.\n",
    "my_data = {file.split('_')[-1][:-4]:pd.read_csv('../data/external/'+file).iloc[:,1:] for file in all_tables if any(x in file for x in my_tables)}\n"
   ]
  },
  {
   "cell_type": "code",
   "execution_count": 5,
   "metadata": {},
   "outputs": [
    {
     "data": {
      "text/html": [
       "<div>\n",
       "<style scoped>\n",
       "    .dataframe tbody tr th:only-of-type {\n",
       "        vertical-align: middle;\n",
       "    }\n",
       "\n",
       "    .dataframe tbody tr th {\n",
       "        vertical-align: top;\n",
       "    }\n",
       "\n",
       "    .dataframe thead th {\n",
       "        text-align: right;\n",
       "    }\n",
       "</style>\n",
       "<table border=\"1\" class=\"dataframe\">\n",
       "  <thead>\n",
       "    <tr style=\"text-align: right;\">\n",
       "      <th></th>\n",
       "      <th>id</th>\n",
       "      <th>project_id</th>\n",
       "      <th>rel</th>\n",
       "      <th>table_name</th>\n",
       "    </tr>\n",
       "  </thead>\n",
       "  <tbody>\n",
       "    <tr>\n",
       "      <th>0</th>\n",
       "      <td>00000C13-59F1-419B-9204-77DAFFD2BC35</td>\n",
       "      <td>D80FFDA0-64E3-4DB9-AE0D-2ECEBBDF2081</td>\n",
       "      <td>PUBLICATION</td>\n",
       "      <td>gtr_outcomes_publications</td>\n",
       "    </tr>\n",
       "    <tr>\n",
       "      <th>1</th>\n",
       "      <td>00000D8A-3BFA-4D6C-BB58-8721DA8D36E1</td>\n",
       "      <td>F229B185-CBF1-40D3-94B5-D47996220858</td>\n",
       "      <td>PUBLICATION</td>\n",
       "      <td>gtr_outcomes_publications</td>\n",
       "    </tr>\n",
       "    <tr>\n",
       "      <th>2</th>\n",
       "      <td>00002C86-98D2-4681-992A-E6F180D197C0</td>\n",
       "      <td>5237EE5C-D46C-43E1-92AA-C0C73F5B291B</td>\n",
       "      <td>PI_PER</td>\n",
       "      <td>gtr_persons</td>\n",
       "    </tr>\n",
       "    <tr>\n",
       "      <th>3</th>\n",
       "      <td>00002C86-98D2-4681-992A-E6F180D197C0</td>\n",
       "      <td>92491E00-537A-4072-8877-A9D155E7FA73</td>\n",
       "      <td>SUPER_PER</td>\n",
       "      <td>gtr_persons</td>\n",
       "    </tr>\n",
       "    <tr>\n",
       "      <th>4</th>\n",
       "      <td>00002C86-98D2-4681-992A-E6F180D197C0</td>\n",
       "      <td>C158930D-8AEF-4026-930E-6E7FFD9D9A26</td>\n",
       "      <td>PI_PER</td>\n",
       "      <td>gtr_persons</td>\n",
       "    </tr>\n",
       "  </tbody>\n",
       "</table>\n",
       "</div>"
      ],
      "text/plain": [
       "                                     id                            project_id  \\\n",
       "0  00000C13-59F1-419B-9204-77DAFFD2BC35  D80FFDA0-64E3-4DB9-AE0D-2ECEBBDF2081   \n",
       "1  00000D8A-3BFA-4D6C-BB58-8721DA8D36E1  F229B185-CBF1-40D3-94B5-D47996220858   \n",
       "2  00002C86-98D2-4681-992A-E6F180D197C0  5237EE5C-D46C-43E1-92AA-C0C73F5B291B   \n",
       "3  00002C86-98D2-4681-992A-E6F180D197C0  92491E00-537A-4072-8877-A9D155E7FA73   \n",
       "4  00002C86-98D2-4681-992A-E6F180D197C0  C158930D-8AEF-4026-930E-6E7FFD9D9A26   \n",
       "\n",
       "           rel                 table_name  \n",
       "0  PUBLICATION  gtr_outcomes_publications  \n",
       "1  PUBLICATION  gtr_outcomes_publications  \n",
       "2       PI_PER                gtr_persons  \n",
       "3    SUPER_PER                gtr_persons  \n",
       "4       PI_PER                gtr_persons  "
      ]
     },
     "execution_count": 5,
     "metadata": {},
     "output_type": "execute_result"
    }
   ],
   "source": [
    "#Load the linking file here because we will use it throughout\n",
    "link = my_data['table']\n",
    "\n",
    "link.head()"
   ]
  },
  {
   "cell_type": "markdown",
   "metadata": {},
   "source": [
    "### Projects"
   ]
  },
  {
   "cell_type": "code",
   "execution_count": 6,
   "metadata": {},
   "outputs": [
    {
     "data": {
      "text/html": [
       "<div>\n",
       "<style scoped>\n",
       "    .dataframe tbody tr th:only-of-type {\n",
       "        vertical-align: middle;\n",
       "    }\n",
       "\n",
       "    .dataframe tbody tr th {\n",
       "        vertical-align: top;\n",
       "    }\n",
       "\n",
       "    .dataframe thead th {\n",
       "        text-align: right;\n",
       "    }\n",
       "</style>\n",
       "<table border=\"1\" class=\"dataframe\">\n",
       "  <thead>\n",
       "    <tr style=\"text-align: right;\">\n",
       "      <th></th>\n",
       "      <th>id</th>\n",
       "      <th>end</th>\n",
       "      <th>title</th>\n",
       "      <th>status</th>\n",
       "      <th>grantCategory</th>\n",
       "      <th>leadFunder</th>\n",
       "      <th>abstractText</th>\n",
       "      <th>start</th>\n",
       "      <th>created</th>\n",
       "      <th>leadOrganisationDepartment</th>\n",
       "      <th>potentialImpact</th>\n",
       "      <th>techAbstractText</th>\n",
       "    </tr>\n",
       "  </thead>\n",
       "  <tbody>\n",
       "    <tr>\n",
       "      <th>0</th>\n",
       "      <td>00006CB7-61E0-4946-B7DB-DAE09ED63DE4</td>\n",
       "      <td>NaN</td>\n",
       "      <td>Construction Site Monitoring</td>\n",
       "      <td>Closed</td>\n",
       "      <td>Vouchers</td>\n",
       "      <td>Innovate UK</td>\n",
       "      <td>We take aerial photos of construction sites us...</td>\n",
       "      <td>NaN</td>\n",
       "      <td>2018-11-08 11:38:37</td>\n",
       "      <td>NaN</td>\n",
       "      <td>NaN</td>\n",
       "      <td>NaN</td>\n",
       "    </tr>\n",
       "    <tr>\n",
       "      <th>1</th>\n",
       "      <td>0003C360-5DB8-4930-8266-6218C633A504</td>\n",
       "      <td>NaN</td>\n",
       "      <td>The 'Authoritarian Turn' in Environmental Gove...</td>\n",
       "      <td>Active</td>\n",
       "      <td>Studentship</td>\n",
       "      <td>ESRC</td>\n",
       "      <td>This research will investigate the possibility...</td>\n",
       "      <td>NaN</td>\n",
       "      <td>2018-11-08 11:38:37</td>\n",
       "      <td>Architecture Planning and Landscape</td>\n",
       "      <td>NaN</td>\n",
       "      <td>NaN</td>\n",
       "    </tr>\n",
       "    <tr>\n",
       "      <th>2</th>\n",
       "      <td>000423DA-5A37-4E62-A698-703985CD4E6E</td>\n",
       "      <td>NaN</td>\n",
       "      <td>Proton-driven plasma wakefield acceleration---...</td>\n",
       "      <td>Closed</td>\n",
       "      <td>Research Grant</td>\n",
       "      <td>STFC</td>\n",
       "      <td>Over the last fifty years, accelerators of eve...</td>\n",
       "      <td>NaN</td>\n",
       "      <td>2018-11-08 11:38:37</td>\n",
       "      <td>Physics and Astronomy</td>\n",
       "      <td>This project is naturally a multi-disciplinary...</td>\n",
       "      <td>NaN</td>\n",
       "    </tr>\n",
       "    <tr>\n",
       "      <th>3</th>\n",
       "      <td>000424B1-378E-4AB6-BAEC-CD8607AE08A9</td>\n",
       "      <td>NaN</td>\n",
       "      <td>Mechanisms mediating axon outgrowth in the Dro...</td>\n",
       "      <td>Closed</td>\n",
       "      <td>Research Grant</td>\n",
       "      <td>BBSRC</td>\n",
       "      <td>We are dependent on our nervous system functio...</td>\n",
       "      <td>NaN</td>\n",
       "      <td>2018-11-08 11:38:37</td>\n",
       "      <td>Developmental Neurobiology</td>\n",
       "      <td>The research in this proposal will have a numb...</td>\n",
       "      <td>The formation of the nervous system requires t...</td>\n",
       "    </tr>\n",
       "    <tr>\n",
       "      <th>4</th>\n",
       "      <td>0004C698-0B51-4665-8593-1082BBF58C06</td>\n",
       "      <td>NaN</td>\n",
       "      <td>Ultrahigh resolution NMR: citius, altius, fortius</td>\n",
       "      <td>Active</td>\n",
       "      <td>Research Grant</td>\n",
       "      <td>EPSRC</td>\n",
       "      <td>Understanding the structures and behaviour of ...</td>\n",
       "      <td>NaN</td>\n",
       "      <td>2018-11-08 11:38:37</td>\n",
       "      <td>Chemistry</td>\n",
       "      <td>Who will benefit from this research?\\n\\nNMR is...</td>\n",
       "      <td>NaN</td>\n",
       "    </tr>\n",
       "  </tbody>\n",
       "</table>\n",
       "</div>"
      ],
      "text/plain": [
       "                                     id  end  \\\n",
       "0  00006CB7-61E0-4946-B7DB-DAE09ED63DE4  NaN   \n",
       "1  0003C360-5DB8-4930-8266-6218C633A504  NaN   \n",
       "2  000423DA-5A37-4E62-A698-703985CD4E6E  NaN   \n",
       "3  000424B1-378E-4AB6-BAEC-CD8607AE08A9  NaN   \n",
       "4  0004C698-0B51-4665-8593-1082BBF58C06  NaN   \n",
       "\n",
       "                                               title  status   grantCategory  \\\n",
       "0                       Construction Site Monitoring  Closed        Vouchers   \n",
       "1  The 'Authoritarian Turn' in Environmental Gove...  Active     Studentship   \n",
       "2  Proton-driven plasma wakefield acceleration---...  Closed  Research Grant   \n",
       "3  Mechanisms mediating axon outgrowth in the Dro...  Closed  Research Grant   \n",
       "4  Ultrahigh resolution NMR: citius, altius, fortius  Active  Research Grant   \n",
       "\n",
       "    leadFunder                                       abstractText start  \\\n",
       "0  Innovate UK  We take aerial photos of construction sites us...   NaN   \n",
       "1         ESRC  This research will investigate the possibility...   NaN   \n",
       "2         STFC  Over the last fifty years, accelerators of eve...   NaN   \n",
       "3        BBSRC  We are dependent on our nervous system functio...   NaN   \n",
       "4        EPSRC  Understanding the structures and behaviour of ...   NaN   \n",
       "\n",
       "               created           leadOrganisationDepartment  \\\n",
       "0  2018-11-08 11:38:37                                  NaN   \n",
       "1  2018-11-08 11:38:37  Architecture Planning and Landscape   \n",
       "2  2018-11-08 11:38:37                Physics and Astronomy   \n",
       "3  2018-11-08 11:38:37           Developmental Neurobiology   \n",
       "4  2018-11-08 11:38:37                            Chemistry   \n",
       "\n",
       "                                     potentialImpact  \\\n",
       "0                                                NaN   \n",
       "1                                                NaN   \n",
       "2  This project is naturally a multi-disciplinary...   \n",
       "3  The research in this proposal will have a numb...   \n",
       "4  Who will benefit from this research?\\n\\nNMR is...   \n",
       "\n",
       "                                    techAbstractText  \n",
       "0                                                NaN  \n",
       "1                                                NaN  \n",
       "2                                                NaN  \n",
       "3  The formation of the nervous system requires t...  \n",
       "4                                                NaN  "
      ]
     },
     "execution_count": 6,
     "metadata": {},
     "output_type": "execute_result"
    }
   ],
   "source": [
    "projects = my_data['projects']\n",
    "\n",
    "projects.head()"
   ]
  },
  {
   "cell_type": "markdown",
   "metadata": {},
   "source": [
    "Some rapid observations:\n",
    "\n",
    "* what does start mean?\n",
    "* What does created mean?\n",
    "* abstractText seems to be the main textual description"
   ]
  },
  {
   "cell_type": "code",
   "execution_count": 7,
   "metadata": {},
   "outputs": [
    {
     "data": {
      "text/plain": [
       "Text(0.5,1,'Missing values in Project GTR data')"
      ]
     },
     "execution_count": 7,
     "metadata": {},
     "output_type": "execute_result"
    },
    {
     "data": {
      "image/png": "[encoded data removed]",
      "text/plain": [
       "<Figure size 432x288 with 1 Axes>"
      ]
     },
     "metadata": {},
     "output_type": "display_data"
    }
   ],
   "source": [
    "fig,ax = plt.subplots()\n",
    "\n",
    "missing_count(projects,ax)\n",
    "\n",
    "ax.set_title('Missing values in Project GTR data')"
   ]
  },
  {
   "cell_type": "code",
   "execution_count": 8,
   "metadata": {},
   "outputs": [
    {
     "data": {
      "text/plain": [
       "2018.0    80997\n",
       "Name: year_created, dtype: int64"
      ]
     },
     "execution_count": 8,
     "metadata": {},
     "output_type": "execute_result"
    }
   ],
   "source": [
    "projects['year_created'] = projects['created'].apply(lambda x: get_year(x))\n",
    "\n",
    "projects['year_created'].value_counts()"
   ]
  },
  {
   "cell_type": "markdown",
   "metadata": {},
   "source": [
    "Created is a data collection variable"
   ]
  },
  {
   "cell_type": "code",
   "execution_count": 9,
   "metadata": {},
   "outputs": [
    {
     "data": {
      "text/plain": [
       "<matplotlib.axes._subplots.AxesSubplot at 0x142ec9a20>"
      ]
     },
     "execution_count": 9,
     "metadata": {},
     "output_type": "execute_result"
    },
    {
     "data": {
      "image/png": "[encoded data removed]",
      "text/plain": [
       "<Figure size 432x288 with 1 Axes>"
      ]
     },
     "metadata": {},
     "output_type": "display_data"
    }
   ],
   "source": [
    "projects['year_started'] = projects['start'].apply(lambda x: get_year(x))\n",
    "\n",
    "projects['year_started'].value_counts().loc[np.arange(2006,2020)].plot.bar(color='blue',title='Started year')"
   ]
  },
  {
   "cell_type": "markdown",
   "metadata": {},
   "source": [
    "Not sure about what `year_stared` means but it doesn't cover many records"
   ]
  },
  {
   "cell_type": "code",
   "execution_count": 10,
   "metadata": {},
   "outputs": [
    {
     "data": {
      "text/plain": [
       "<matplotlib.axes._subplots.AxesSubplot at 0x13679e828>"
      ]
     },
     "execution_count": 10,
     "metadata": {},
     "output_type": "execute_result"
    },
    {
     "data": {
      "image/png": "[encoded data removed]",
      "text/plain": [
       "<Figure size 432x288 with 1 Axes>"
      ]
     },
     "metadata": {},
     "output_type": "display_data"
    }
   ],
   "source": [
    "projects['leadFunder'].value_counts().plot.bar(color='blue',title='funder_distribution')"
   ]
  },
  {
   "cell_type": "markdown",
   "metadata": {},
   "source": [
    "EPSRC and Innovate UK are the most active organisations in the data"
   ]
  },
  {
   "cell_type": "code",
   "execution_count": 11,
   "metadata": {},
   "outputs": [
    {
     "data": {
      "text/plain": [
       "<matplotlib.axes._subplots.AxesSubplot at 0x12fd2a0f0>"
      ]
     },
     "execution_count": 11,
     "metadata": {},
     "output_type": "execute_result"
    },
    {
     "data": {
      "image/png": "[encoded data removed]",
      "text/plain": [
       "<Figure size 432x288 with 1 Axes>"
      ]
     },
     "metadata": {},
     "output_type": "display_data"
    }
   ],
   "source": [
    "projects['grantCategory'].value_counts(normalize=True)[:10].plot.bar(color='blue',title='project types')"
   ]
  },
  {
   "cell_type": "markdown",
   "metadata": {},
   "source": [
    "Research grants are the main category with almost half of the observations"
   ]
  },
  {
   "cell_type": "markdown",
   "metadata": {},
   "source": [
    "##### Does the fund data contain the actual start and end date for the project?"
   ]
  },
  {
   "cell_type": "code",
   "execution_count": 12,
   "metadata": {},
   "outputs": [],
   "source": [
    "fund = pd.read_csv('../data/external/2019-01-18_gtr_funds.csv').iloc[:,1:]"
   ]
  },
  {
   "cell_type": "code",
   "execution_count": 13,
   "metadata": {},
   "outputs": [
    {
     "data": {
      "text/html": [
       "<div>\n",
       "<style scoped>\n",
       "    .dataframe tbody tr th:only-of-type {\n",
       "        vertical-align: middle;\n",
       "    }\n",
       "\n",
       "    .dataframe tbody tr th {\n",
       "        vertical-align: top;\n",
       "    }\n",
       "\n",
       "    .dataframe thead th {\n",
       "        text-align: right;\n",
       "    }\n",
       "</style>\n",
       "<table border=\"1\" class=\"dataframe\">\n",
       "  <thead>\n",
       "    <tr style=\"text-align: right;\">\n",
       "      <th></th>\n",
       "      <th>id</th>\n",
       "      <th>end</th>\n",
       "      <th>start</th>\n",
       "      <th>category</th>\n",
       "      <th>amount</th>\n",
       "      <th>currencyCode</th>\n",
       "    </tr>\n",
       "  </thead>\n",
       "  <tbody>\n",
       "    <tr>\n",
       "      <th>0</th>\n",
       "      <td>00006E7F-2E72-4CE6-81D4-2B603E5E4526</td>\n",
       "      <td>2018-09-30 01:00:00</td>\n",
       "      <td>2014-08-01 01:00:00</td>\n",
       "      <td>INCOME_ACTUAL</td>\n",
       "      <td>379758</td>\n",
       "      <td>GBP</td>\n",
       "    </tr>\n",
       "    <tr>\n",
       "      <th>1</th>\n",
       "      <td>00009856-0B8F-406E-ABC6-F56064AE88E4</td>\n",
       "      <td>2020-11-30 00:00:00</td>\n",
       "      <td>2018-08-01 01:00:00</td>\n",
       "      <td>INCOME_ACTUAL</td>\n",
       "      <td>110498</td>\n",
       "      <td>GBP</td>\n",
       "    </tr>\n",
       "    <tr>\n",
       "      <th>2</th>\n",
       "      <td>0000FBA5-BA5E-423A-8EAC-1EC4D3F03EB2</td>\n",
       "      <td>2020-04-30 01:00:00</td>\n",
       "      <td>2017-11-01 00:00:00</td>\n",
       "      <td>INCOME_ACTUAL</td>\n",
       "      <td>953077</td>\n",
       "      <td>GBP</td>\n",
       "    </tr>\n",
       "    <tr>\n",
       "      <th>3</th>\n",
       "      <td>0001442B-7B32-4198-A0A2-D0DC0A2C1076</td>\n",
       "      <td>2018-07-31 01:00:00</td>\n",
       "      <td>2015-05-01 01:00:00</td>\n",
       "      <td>INCOME_ACTUAL</td>\n",
       "      <td>617049</td>\n",
       "      <td>GBP</td>\n",
       "    </tr>\n",
       "    <tr>\n",
       "      <th>4</th>\n",
       "      <td>00043BED-0B22-4843-BE42-6A7F905AD78B</td>\n",
       "      <td>2012-12-31 00:00:00</td>\n",
       "      <td>2007-07-01 01:00:00</td>\n",
       "      <td>EXPENDITURE_PROJECTED</td>\n",
       "      <td>224395</td>\n",
       "      <td>GBP</td>\n",
       "    </tr>\n",
       "  </tbody>\n",
       "</table>\n",
       "</div>"
      ],
      "text/plain": [
       "                                     id                  end  \\\n",
       "0  00006E7F-2E72-4CE6-81D4-2B603E5E4526  2018-09-30 01:00:00   \n",
       "1  00009856-0B8F-406E-ABC6-F56064AE88E4  2020-11-30 00:00:00   \n",
       "2  0000FBA5-BA5E-423A-8EAC-1EC4D3F03EB2  2020-04-30 01:00:00   \n",
       "3  0001442B-7B32-4198-A0A2-D0DC0A2C1076  2018-07-31 01:00:00   \n",
       "4  00043BED-0B22-4843-BE42-6A7F905AD78B  2012-12-31 00:00:00   \n",
       "\n",
       "                 start               category  amount currencyCode  \n",
       "0  2014-08-01 01:00:00          INCOME_ACTUAL  379758          GBP  \n",
       "1  2018-08-01 01:00:00          INCOME_ACTUAL  110498          GBP  \n",
       "2  2017-11-01 00:00:00          INCOME_ACTUAL  953077          GBP  \n",
       "3  2015-05-01 01:00:00          INCOME_ACTUAL  617049          GBP  \n",
       "4  2007-07-01 01:00:00  EXPENDITURE_PROJECTED  224395          GBP  "
      ]
     },
     "execution_count": 13,
     "metadata": {},
     "output_type": "execute_result"
    }
   ],
   "source": [
    "fund.head()"
   ]
  },
  {
   "cell_type": "code",
   "execution_count": 14,
   "metadata": {},
   "outputs": [
    {
     "data": {
      "text/plain": [
       "(86904, 6)"
      ]
     },
     "execution_count": 14,
     "metadata": {},
     "output_type": "execute_result"
    }
   ],
   "source": [
    "fund.shape"
   ]
  },
  {
   "cell_type": "markdown",
   "metadata": {},
   "source": [
    "One fund per project. Bodes well"
   ]
  },
  {
   "cell_type": "code",
   "execution_count": 15,
   "metadata": {},
   "outputs": [
    {
     "data": {
      "text/plain": [
       "<matplotlib.axes._subplots.AxesSubplot at 0x110d9fc88>"
      ]
     },
     "execution_count": 15,
     "metadata": {},
     "output_type": "execute_result"
    },
    {
     "data": {
      "image/png": "[encoded data removed]",
      "text/plain": [
       "<Figure size 432x288 with 1 Axes>"
      ]
     },
     "metadata": {},
     "output_type": "display_data"
    }
   ],
   "source": [
    "fund['year'] = fund['start'].apply(lambda x: get_year(x))\n",
    "\n",
    "fund['year'].value_counts().loc[np.arange(2000,2020)].plot.bar(color='blue',title='Start date (funded data)')"
   ]
  },
  {
   "cell_type": "markdown",
   "metadata": {},
   "source": [
    "The dataset begins in 2016. What is the bump in 2017?"
   ]
  },
  {
   "cell_type": "code",
   "execution_count": 16,
   "metadata": {},
   "outputs": [
    {
     "data": {
      "text/plain": [
       "<matplotlib.axes._subplots.AxesSubplot at 0x11a8ce3c8>"
      ]
     },
     "execution_count": 16,
     "metadata": {},
     "output_type": "execute_result"
    },
    {
     "data": {
      "image/png": "[encoded data removed]",
      "text/plain": [
       "<Figure size 432x288 with 1 Axes>"
      ]
     },
     "metadata": {},
     "output_type": "display_data"
    }
   ],
   "source": [
    "pd.crosstab(fund['category'],fund['year'])[np.arange(2006,2020)].T.plot.bar(stacked=True,title='funding by category')"
   ]
  },
  {
   "cell_type": "markdown",
   "metadata": {},
   "source": [
    "Most of the funding levels in the data reflect income"
   ]
  },
  {
   "cell_type": "markdown",
   "metadata": {},
   "source": [
    "#### Merge funding with projects to get dates and funding by project\n",
    "\n",
    "`projects_f = projects merged w/ funding`"
   ]
  },
  {
   "cell_type": "code",
   "execution_count": 60,
   "metadata": {},
   "outputs": [],
   "source": [
    "#Merge everything. It works\n",
    "\n",
    "projects_f = pd.merge(\n",
    "    pd.merge(fund,link,left_on='id',right_on='id'),\n",
    "    projects,\n",
    "    left_on='project_id',right_on='id')"
   ]
  },
  {
   "cell_type": "code",
   "execution_count": 61,
   "metadata": {},
   "outputs": [
    {
     "data": {
      "text/html": [
       "<div>\n",
       "<style scoped>\n",
       "    .dataframe tbody tr th:only-of-type {\n",
       "        vertical-align: middle;\n",
       "    }\n",
       "\n",
       "    .dataframe tbody tr th {\n",
       "        vertical-align: top;\n",
       "    }\n",
       "\n",
       "    .dataframe thead th {\n",
       "        text-align: right;\n",
       "    }\n",
       "</style>\n",
       "<table border=\"1\" class=\"dataframe\">\n",
       "  <thead>\n",
       "    <tr style=\"text-align: right;\">\n",
       "      <th></th>\n",
       "      <th>id_x</th>\n",
       "      <th>end_x</th>\n",
       "      <th>start_x</th>\n",
       "      <th>category</th>\n",
       "      <th>amount</th>\n",
       "      <th>currencyCode</th>\n",
       "      <th>year</th>\n",
       "      <th>project_id</th>\n",
       "      <th>rel</th>\n",
       "      <th>table_name</th>\n",
       "      <th>...</th>\n",
       "      <th>grantCategory</th>\n",
       "      <th>leadFunder</th>\n",
       "      <th>abstractText</th>\n",
       "      <th>start_y</th>\n",
       "      <th>created</th>\n",
       "      <th>leadOrganisationDepartment</th>\n",
       "      <th>potentialImpact</th>\n",
       "      <th>techAbstractText</th>\n",
       "      <th>year_created</th>\n",
       "      <th>year_started</th>\n",
       "    </tr>\n",
       "  </thead>\n",
       "  <tbody>\n",
       "    <tr>\n",
       "      <th>0</th>\n",
       "      <td>00006E7F-2E72-4CE6-81D4-2B603E5E4526</td>\n",
       "      <td>2018-09-30 01:00:00</td>\n",
       "      <td>2014-08-01 01:00:00</td>\n",
       "      <td>INCOME_ACTUAL</td>\n",
       "      <td>379758</td>\n",
       "      <td>GBP</td>\n",
       "      <td>2014</td>\n",
       "      <td>82E47A5E-A4C6-4F70-9242-821EFC9456D7</td>\n",
       "      <td>FUND</td>\n",
       "      <td>gtr_funds</td>\n",
       "      <td>...</td>\n",
       "      <td>Research Grant</td>\n",
       "      <td>STFC</td>\n",
       "      <td>It is just over 100 years since Ernest Rutherf...</td>\n",
       "      <td>NaN</td>\n",
       "      <td>2018-11-08 11:38:37</td>\n",
       "      <td>School of Engineering</td>\n",
       "      <td>This STFC-funded research will have a consider...</td>\n",
       "      <td>NaN</td>\n",
       "      <td>2018.0</td>\n",
       "      <td>NaN</td>\n",
       "    </tr>\n",
       "    <tr>\n",
       "      <th>1</th>\n",
       "      <td>00009856-0B8F-406E-ABC6-F56064AE88E4</td>\n",
       "      <td>2020-11-30 00:00:00</td>\n",
       "      <td>2018-08-01 01:00:00</td>\n",
       "      <td>INCOME_ACTUAL</td>\n",
       "      <td>110498</td>\n",
       "      <td>GBP</td>\n",
       "      <td>2018</td>\n",
       "      <td>BF4F71FC-4282-48F9-97B5-BFBC1A2081F4</td>\n",
       "      <td>FUND</td>\n",
       "      <td>gtr_funds</td>\n",
       "      <td>...</td>\n",
       "      <td>Knowledge Transfer Partnership</td>\n",
       "      <td>Innovate UK</td>\n",
       "      <td>To develop, validate and implement statistical...</td>\n",
       "      <td>NaN</td>\n",
       "      <td>2018-11-08 11:38:37</td>\n",
       "      <td>NaN</td>\n",
       "      <td>NaN</td>\n",
       "      <td>NaN</td>\n",
       "      <td>2018.0</td>\n",
       "      <td>NaN</td>\n",
       "    </tr>\n",
       "    <tr>\n",
       "      <th>2</th>\n",
       "      <td>0000FBA5-BA5E-423A-8EAC-1EC4D3F03EB2</td>\n",
       "      <td>2020-04-30 01:00:00</td>\n",
       "      <td>2017-11-01 00:00:00</td>\n",
       "      <td>INCOME_ACTUAL</td>\n",
       "      <td>953077</td>\n",
       "      <td>GBP</td>\n",
       "      <td>2017</td>\n",
       "      <td>6A660023-1ACB-4804-9D46-424F7AD7F46A</td>\n",
       "      <td>FUND</td>\n",
       "      <td>gtr_funds</td>\n",
       "      <td>...</td>\n",
       "      <td>Research Grant</td>\n",
       "      <td>EPSRC</td>\n",
       "      <td>The technology of paper is so old and so ubiqu...</td>\n",
       "      <td>NaN</td>\n",
       "      <td>2018-11-08 11:38:37</td>\n",
       "      <td>Digital World Research Centre</td>\n",
       "      <td>A next generation paper (beyond '1GP') will op...</td>\n",
       "      <td>NaN</td>\n",
       "      <td>2018.0</td>\n",
       "      <td>NaN</td>\n",
       "    </tr>\n",
       "    <tr>\n",
       "      <th>3</th>\n",
       "      <td>0001442B-7B32-4198-A0A2-D0DC0A2C1076</td>\n",
       "      <td>2018-07-31 01:00:00</td>\n",
       "      <td>2015-05-01 01:00:00</td>\n",
       "      <td>INCOME_ACTUAL</td>\n",
       "      <td>617049</td>\n",
       "      <td>GBP</td>\n",
       "      <td>2015</td>\n",
       "      <td>3D74C63B-E591-4715-8588-27DE88A83BA2</td>\n",
       "      <td>FUND</td>\n",
       "      <td>gtr_funds</td>\n",
       "      <td>...</td>\n",
       "      <td>Research Grant</td>\n",
       "      <td>BBSRC</td>\n",
       "      <td>Photoreceptors transduce light into electrical...</td>\n",
       "      <td>NaN</td>\n",
       "      <td>2018-11-08 11:38:37</td>\n",
       "      <td>Physiology Development and Neuroscience</td>\n",
       "      <td>The immediate impact of the work in this propo...</td>\n",
       "      <td>Drosophila phototransduction is mediated by a ...</td>\n",
       "      <td>2018.0</td>\n",
       "      <td>NaN</td>\n",
       "    </tr>\n",
       "    <tr>\n",
       "      <th>4</th>\n",
       "      <td>00043BED-0B22-4843-BE42-6A7F905AD78B</td>\n",
       "      <td>2012-12-31 00:00:00</td>\n",
       "      <td>2007-07-01 01:00:00</td>\n",
       "      <td>EXPENDITURE_PROJECTED</td>\n",
       "      <td>224395</td>\n",
       "      <td>GBP</td>\n",
       "      <td>2007</td>\n",
       "      <td>D4BFE45F-51D8-4AD3-8F50-A3046D4C039F</td>\n",
       "      <td>FUND</td>\n",
       "      <td>gtr_funds</td>\n",
       "      <td>...</td>\n",
       "      <td>Intramural</td>\n",
       "      <td>BBSRC</td>\n",
       "      <td>The &amp;quot;Green Revolution&amp;quot; dwarfing (Rht...</td>\n",
       "      <td>NaN</td>\n",
       "      <td>2018-11-08 11:38:37</td>\n",
       "      <td>Contracts Office</td>\n",
       "      <td>NaN</td>\n",
       "      <td>NaN</td>\n",
       "      <td>2018.0</td>\n",
       "      <td>NaN</td>\n",
       "    </tr>\n",
       "  </tbody>\n",
       "</table>\n",
       "<p>5 rows × 24 columns</p>\n",
       "</div>"
      ],
      "text/plain": [
       "                                   id_x                end_x  \\\n",
       "0  00006E7F-2E72-4CE6-81D4-2B603E5E4526  2018-09-30 01:00:00   \n",
       "1  00009856-0B8F-406E-ABC6-F56064AE88E4  2020-11-30 00:00:00   \n",
       "2  0000FBA5-BA5E-423A-8EAC-1EC4D3F03EB2  2020-04-30 01:00:00   \n",
       "3  0001442B-7B32-4198-A0A2-D0DC0A2C1076  2018-07-31 01:00:00   \n",
       "4  00043BED-0B22-4843-BE42-6A7F905AD78B  2012-12-31 00:00:00   \n",
       "\n",
       "               start_x               category  amount currencyCode  year  \\\n",
       "0  2014-08-01 01:00:00          INCOME_ACTUAL  379758          GBP  2014   \n",
       "1  2018-08-01 01:00:00          INCOME_ACTUAL  110498          GBP  2018   \n",
       "2  2017-11-01 00:00:00          INCOME_ACTUAL  953077          GBP  2017   \n",
       "3  2015-05-01 01:00:00          INCOME_ACTUAL  617049          GBP  2015   \n",
       "4  2007-07-01 01:00:00  EXPENDITURE_PROJECTED  224395          GBP  2007   \n",
       "\n",
       "                             project_id   rel table_name     ...       \\\n",
       "0  82E47A5E-A4C6-4F70-9242-821EFC9456D7  FUND  gtr_funds     ...        \n",
       "1  BF4F71FC-4282-48F9-97B5-BFBC1A2081F4  FUND  gtr_funds     ...        \n",
       "2  6A660023-1ACB-4804-9D46-424F7AD7F46A  FUND  gtr_funds     ...        \n",
       "3  3D74C63B-E591-4715-8588-27DE88A83BA2  FUND  gtr_funds     ...        \n",
       "4  D4BFE45F-51D8-4AD3-8F50-A3046D4C039F  FUND  gtr_funds     ...        \n",
       "\n",
       "                    grantCategory   leadFunder  \\\n",
       "0                  Research Grant         STFC   \n",
       "1  Knowledge Transfer Partnership  Innovate UK   \n",
       "2                  Research Grant        EPSRC   \n",
       "3                  Research Grant        BBSRC   \n",
       "4                      Intramural        BBSRC   \n",
       "\n",
       "                                        abstractText start_y  \\\n",
       "0  It is just over 100 years since Ernest Rutherf...     NaN   \n",
       "1  To develop, validate and implement statistical...     NaN   \n",
       "2  The technology of paper is so old and so ubiqu...     NaN   \n",
       "3  Photoreceptors transduce light into electrical...     NaN   \n",
       "4  The &quot;Green Revolution&quot; dwarfing (Rht...     NaN   \n",
       "\n",
       "               created               leadOrganisationDepartment  \\\n",
       "0  2018-11-08 11:38:37                    School of Engineering   \n",
       "1  2018-11-08 11:38:37                                      NaN   \n",
       "2  2018-11-08 11:38:37            Digital World Research Centre   \n",
       "3  2018-11-08 11:38:37  Physiology Development and Neuroscience   \n",
       "4  2018-11-08 11:38:37                         Contracts Office   \n",
       "\n",
       "                                     potentialImpact  \\\n",
       "0  This STFC-funded research will have a consider...   \n",
       "1                                                NaN   \n",
       "2  A next generation paper (beyond '1GP') will op...   \n",
       "3  The immediate impact of the work in this propo...   \n",
       "4                                                NaN   \n",
       "\n",
       "                                    techAbstractText year_created year_started  \n",
       "0                                                NaN       2018.0          NaN  \n",
       "1                                                NaN       2018.0          NaN  \n",
       "2                                                NaN       2018.0          NaN  \n",
       "3  Drosophila phototransduction is mediated by a ...       2018.0          NaN  \n",
       "4                                                NaN       2018.0          NaN  \n",
       "\n",
       "[5 rows x 24 columns]"
      ]
     },
     "execution_count": 61,
     "metadata": {},
     "output_type": "execute_result"
    }
   ],
   "source": [
    "projects_f.head()"
   ]
  },
  {
   "cell_type": "markdown",
   "metadata": {},
   "source": [
    "Lots of guff there. I should tidy it up later"
   ]
  },
  {
   "cell_type": "markdown",
   "metadata": {},
   "source": [
    "#### Let's also check the Topics: does this refer to project keywords?"
   ]
  },
  {
   "cell_type": "code",
   "execution_count": 19,
   "metadata": {},
   "outputs": [
    {
     "data": {
      "text/html": [
       "<div>\n",
       "<style scoped>\n",
       "    .dataframe tbody tr th:only-of-type {\n",
       "        vertical-align: middle;\n",
       "    }\n",
       "\n",
       "    .dataframe tbody tr th {\n",
       "        vertical-align: top;\n",
       "    }\n",
       "\n",
       "    .dataframe thead th {\n",
       "        text-align: right;\n",
       "    }\n",
       "</style>\n",
       "<table border=\"1\" class=\"dataframe\">\n",
       "  <thead>\n",
       "    <tr style=\"text-align: right;\">\n",
       "      <th></th>\n",
       "      <th>id</th>\n",
       "      <th>text</th>\n",
       "      <th>topic_type</th>\n",
       "    </tr>\n",
       "  </thead>\n",
       "  <tbody>\n",
       "    <tr>\n",
       "      <th>0</th>\n",
       "      <td>006DC612-6329-4D37-A540-5FB2CA634720</td>\n",
       "      <td>5.5  Radiotherapy</td>\n",
       "      <td>researchActivity</td>\n",
       "    </tr>\n",
       "    <tr>\n",
       "      <th>1</th>\n",
       "      <td>008D950C-182A-427B-A7CB-4FD430D040B5</td>\n",
       "      <td>Physical Organic Chemistry</td>\n",
       "      <td>researchTopic</td>\n",
       "    </tr>\n",
       "    <tr>\n",
       "      <th>2</th>\n",
       "      <td>00C03EE8-351D-40B5-A0D4-06C45592BFF6</td>\n",
       "      <td>Nuclear structure</td>\n",
       "      <td>researchTopic</td>\n",
       "    </tr>\n",
       "    <tr>\n",
       "      <th>3</th>\n",
       "      <td>00E432A0-CF0E-42D0-BAF1-6872995B42EF</td>\n",
       "      <td>Part. Phys/Astron. Instrument.</td>\n",
       "      <td>researchTopic</td>\n",
       "    </tr>\n",
       "    <tr>\n",
       "      <th>4</th>\n",
       "      <td>01AC56BC-45B4-434D-B015-7C879327F09F</td>\n",
       "      <td>Parallel Computing</td>\n",
       "      <td>researchTopic</td>\n",
       "    </tr>\n",
       "  </tbody>\n",
       "</table>\n",
       "</div>"
      ],
      "text/plain": [
       "                                     id                            text  \\\n",
       "0  006DC612-6329-4D37-A540-5FB2CA634720               5.5  Radiotherapy   \n",
       "1  008D950C-182A-427B-A7CB-4FD430D040B5      Physical Organic Chemistry   \n",
       "2  00C03EE8-351D-40B5-A0D4-06C45592BFF6               Nuclear structure   \n",
       "3  00E432A0-CF0E-42D0-BAF1-6872995B42EF  Part. Phys/Astron. Instrument.   \n",
       "4  01AC56BC-45B4-434D-B015-7C879327F09F              Parallel Computing   \n",
       "\n",
       "         topic_type  \n",
       "0  researchActivity  \n",
       "1     researchTopic  \n",
       "2     researchTopic  \n",
       "3     researchTopic  \n",
       "4     researchTopic  "
      ]
     },
     "execution_count": 19,
     "metadata": {},
     "output_type": "execute_result"
    }
   ],
   "source": [
    "topics = pd.read_csv('../data/external/2019-01-18_gtr_topic.csv').iloc[:,1:]\n",
    "\n",
    "topics.head()"
   ]
  },
  {
   "cell_type": "code",
   "execution_count": 20,
   "metadata": {},
   "outputs": [
    {
     "data": {
      "text/plain": [
       "researchTopic       593\n",
       "researchSubject      82\n",
       "researchActivity     49\n",
       "healthCategory       22\n",
       "rcukProgramme         2\n",
       "Name: topic_type, dtype: int64"
      ]
     },
     "execution_count": 20,
     "metadata": {},
     "output_type": "execute_result"
    }
   ],
   "source": [
    "topics['topic_type'].value_counts()"
   ]
  },
  {
   "cell_type": "markdown",
   "metadata": {},
   "source": [
    "Yes. What are their keys in the linked_table?"
   ]
  },
  {
   "cell_type": "code",
   "execution_count": 21,
   "metadata": {},
   "outputs": [
    {
     "data": {
      "text/plain": [
       "gtr_outcomes_publications                    718681\n",
       "gtr_outcomes_disseminations                  234299\n",
       "gtr_organisations                            224268\n",
       "gtr_persons                                  185977\n",
       "gtr_outcomes_collaborations                   97339\n",
       "gtr_funds                                     86879\n",
       "gtr_outcomes_furtherfundings                  65080\n",
       "gtr_outcomes_keyfindings                      27970\n",
       "gtr_outcomes_policyinfluences                 22933\n",
       "gtr_outcomes_impactsummaries                  19317\n",
       "gtr_projects                                  17986\n",
       "gtr_outcomes_researchmaterials                15761\n",
       "gtr_outcomes_researchdatabaseandmodels        10393\n",
       "gtr_outcomes_artisticandcreativeproducts       7124\n",
       "gtr_outcomes_softwareandtechnicalproducts      6299\n",
       "gtr_outcomes_intellectualproperties            4023\n",
       "gtr_outcomes_products                          2120\n",
       "gtr_outcomes_spinouts                           989\n",
       "Name: table_name, dtype: int64"
      ]
     },
     "execution_count": 21,
     "metadata": {},
     "output_type": "execute_result"
    }
   ],
   "source": [
    "link['table_name'].value_counts()"
   ]
  },
  {
   "cell_type": "markdown",
   "metadata": {},
   "source": [
    "The `topics_table` is missing above"
   ]
  },
  {
   "cell_type": "markdown",
   "metadata": {},
   "source": [
    "### Organisations\n"
   ]
  },
  {
   "cell_type": "code",
   "execution_count": 22,
   "metadata": {},
   "outputs": [
    {
     "data": {
      "text/html": [
       "<div>\n",
       "<style scoped>\n",
       "    .dataframe tbody tr th:only-of-type {\n",
       "        vertical-align: middle;\n",
       "    }\n",
       "\n",
       "    .dataframe tbody tr th {\n",
       "        vertical-align: top;\n",
       "    }\n",
       "\n",
       "    .dataframe thead th {\n",
       "        text-align: right;\n",
       "    }\n",
       "</style>\n",
       "<table border=\"1\" class=\"dataframe\">\n",
       "  <thead>\n",
       "    <tr style=\"text-align: right;\">\n",
       "      <th></th>\n",
       "      <th>id</th>\n",
       "      <th>name</th>\n",
       "      <th>addresses</th>\n",
       "      <th>projectCost</th>\n",
       "      <th>grantOffer</th>\n",
       "    </tr>\n",
       "  </thead>\n",
       "  <tbody>\n",
       "    <tr>\n",
       "      <th>0</th>\n",
       "      <td>0003EB78-07B9-400E-AE39-2AD612C28612</td>\n",
       "      <td>Wentworth Laboratories Ltd</td>\n",
       "      <td>{'address': {'id': '18A52282-3BCD-483D-A32F-F3...</td>\n",
       "      <td>NaN</td>\n",
       "      <td>NaN</td>\n",
       "    </tr>\n",
       "    <tr>\n",
       "      <th>1</th>\n",
       "      <td>0005728F-26ED-465D-8DCE-C49F181EDB2E</td>\n",
       "      <td>Duchy Parade Films</td>\n",
       "      <td>{'address': {'id': '1788E06A-79D8-492F-9988-62...</td>\n",
       "      <td>NaN</td>\n",
       "      <td>NaN</td>\n",
       "    </tr>\n",
       "    <tr>\n",
       "      <th>2</th>\n",
       "      <td>0005AEA8-B99E-4063-973E-FF16602F9CCF</td>\n",
       "      <td>German Mouse Clinic, Helmholtz Zentrum Münster</td>\n",
       "      <td>NaN</td>\n",
       "      <td>NaN</td>\n",
       "      <td>NaN</td>\n",
       "    </tr>\n",
       "    <tr>\n",
       "      <th>3</th>\n",
       "      <td>000775C1-64AC-4140-A8EC-9C4B337DB8EE</td>\n",
       "      <td>Dynamic Boosting Systems Limited</td>\n",
       "      <td>{'address': {'id': 'E143A689-8121-40FB-968D-46...</td>\n",
       "      <td>319806.0</td>\n",
       "      <td>143913.0</td>\n",
       "    </tr>\n",
       "    <tr>\n",
       "      <th>4</th>\n",
       "      <td>0007ED76-4B09-4B09-A39F-D4B75BD36486</td>\n",
       "      <td>Hildersham Village History Recorders</td>\n",
       "      <td>NaN</td>\n",
       "      <td>NaN</td>\n",
       "      <td>NaN</td>\n",
       "    </tr>\n",
       "  </tbody>\n",
       "</table>\n",
       "</div>"
      ],
      "text/plain": [
       "                                     id  \\\n",
       "0  0003EB78-07B9-400E-AE39-2AD612C28612   \n",
       "1  0005728F-26ED-465D-8DCE-C49F181EDB2E   \n",
       "2  0005AEA8-B99E-4063-973E-FF16602F9CCF   \n",
       "3  000775C1-64AC-4140-A8EC-9C4B337DB8EE   \n",
       "4  0007ED76-4B09-4B09-A39F-D4B75BD36486   \n",
       "\n",
       "                                             name  \\\n",
       "0                      Wentworth Laboratories Ltd   \n",
       "1                              Duchy Parade Films   \n",
       "2  German Mouse Clinic, Helmholtz Zentrum Münster   \n",
       "3                Dynamic Boosting Systems Limited   \n",
       "4            Hildersham Village History Recorders   \n",
       "\n",
       "                                           addresses  projectCost  grantOffer  \n",
       "0  {'address': {'id': '18A52282-3BCD-483D-A32F-F3...          NaN         NaN  \n",
       "1  {'address': {'id': '1788E06A-79D8-492F-9988-62...          NaN         NaN  \n",
       "2                                                NaN          NaN         NaN  \n",
       "3  {'address': {'id': 'E143A689-8121-40FB-968D-46...     319806.0    143913.0  \n",
       "4                                                NaN          NaN         NaN  "
      ]
     },
     "execution_count": 22,
     "metadata": {},
     "output_type": "execute_result"
    }
   ],
   "source": [
    "orgs = my_data['organisations']\n",
    "\n",
    "orgs.head()"
   ]
  },
  {
   "cell_type": "code",
   "execution_count": 23,
   "metadata": {},
   "outputs": [
    {
     "data": {
      "text/plain": [
       "(38868, 5)"
      ]
     },
     "execution_count": 23,
     "metadata": {},
     "output_type": "execute_result"
    }
   ],
   "source": [
    "orgs.shape"
   ]
  },
  {
   "cell_type": "markdown",
   "metadata": {},
   "source": [
    "This will be interesting to look at collaboration networks between organisations.\n",
    "\n",
    "Note that this is likely to over-estimate collaboration given that departments (which might be disconnected) will be subsumed under organisations. Maybe we could use the persons data to unpick that?"
   ]
  },
  {
   "cell_type": "markdown",
   "metadata": {},
   "source": [
    "### Outputs\n",
    "\n",
    "Brief exploration of the data and standardisation with a single schema (for merging with projects)"
   ]
  },
  {
   "cell_type": "markdown",
   "metadata": {},
   "source": [
    "#### Products"
   ]
  },
  {
   "cell_type": "code",
   "execution_count": 24,
   "metadata": {},
   "outputs": [],
   "source": [
    "products = my_data['products']"
   ]
  },
  {
   "cell_type": "code",
   "execution_count": 25,
   "metadata": {},
   "outputs": [
    {
     "data": {
      "text/html": [
       "<div>\n",
       "<style scoped>\n",
       "    .dataframe tbody tr th:only-of-type {\n",
       "        vertical-align: middle;\n",
       "    }\n",
       "\n",
       "    .dataframe tbody tr th {\n",
       "        vertical-align: top;\n",
       "    }\n",
       "\n",
       "    .dataframe thead th {\n",
       "        text-align: right;\n",
       "    }\n",
       "</style>\n",
       "<table border=\"1\" class=\"dataframe\">\n",
       "  <thead>\n",
       "    <tr style=\"text-align: right;\">\n",
       "      <th></th>\n",
       "      <th>id</th>\n",
       "      <th>title</th>\n",
       "      <th>description</th>\n",
       "      <th>type</th>\n",
       "      <th>stage</th>\n",
       "      <th>status</th>\n",
       "      <th>yearDevelopmentCompleted</th>\n",
       "      <th>impact</th>\n",
       "      <th>supportingUrl</th>\n",
       "    </tr>\n",
       "  </thead>\n",
       "  <tbody>\n",
       "    <tr>\n",
       "      <th>0</th>\n",
       "      <td>0003293D-247D-4BF1-9674-402A70504D64</td>\n",
       "      <td>Normothermic machine liver perfusion of discar...</td>\n",
       "      <td>Deaths from liver disease have soared by 40 pe...</td>\n",
       "      <td>Therapeutic Intervention - Medical Devices</td>\n",
       "      <td>Early clinical assessment</td>\n",
       "      <td>Under active development/distribution</td>\n",
       "      <td>2016.0</td>\n",
       "      <td>First human liver transplantation using a marg...</td>\n",
       "      <td>NaN</td>\n",
       "    </tr>\n",
       "    <tr>\n",
       "      <th>1</th>\n",
       "      <td>0047A6B5-2377-47A1-8D63-360B5400E5B9</td>\n",
       "      <td>Novel compounds with antibacterial activity</td>\n",
       "      <td>Dr. Andrews team has synthesised several novel...</td>\n",
       "      <td>Therapeutic Intervention - Drug</td>\n",
       "      <td>Initial development</td>\n",
       "      <td>Under active development/distribution</td>\n",
       "      <td>2016.0</td>\n",
       "      <td>Dr Andrews work takes a novel approach by incr...</td>\n",
       "      <td>NaN</td>\n",
       "    </tr>\n",
       "    <tr>\n",
       "      <th>2</th>\n",
       "      <td>0053E133-D736-4942-AFF0-4453B81FF255</td>\n",
       "      <td>chronic pain treatment 2</td>\n",
       "      <td>we are developing a reformulation of an existi...</td>\n",
       "      <td>Therapeutic Intervention - Drug</td>\n",
       "      <td>Late clinical evaluation</td>\n",
       "      <td>Under active development_distribution</td>\n",
       "      <td>2010.0</td>\n",
       "      <td>We seek to develop this first as a special and...</td>\n",
       "      <td>NaN</td>\n",
       "    </tr>\n",
       "    <tr>\n",
       "      <th>3</th>\n",
       "      <td>006EAF83-4FB6-438F-B3C4-C23D5C44F6B8</td>\n",
       "      <td>Antibiotics in miscarriage surgery</td>\n",
       "      <td>The AIMS (Antibiotics in Miscarriage Surgery) ...</td>\n",
       "      <td>Therapeutic Intervention - Drug</td>\n",
       "      <td>Late clinical evaluation</td>\n",
       "      <td>Under active development/distribution</td>\n",
       "      <td>2013.0</td>\n",
       "      <td>Please refer to other sections of the portfoli...</td>\n",
       "      <td>http://www.ammalife.org/research/aims-antibiot...</td>\n",
       "    </tr>\n",
       "    <tr>\n",
       "      <th>4</th>\n",
       "      <td>0084F278-D81F-4F70-86AE-0DB7CE0A41BD</td>\n",
       "      <td>GMP thymidine phosphorylase</td>\n",
       "      <td>The manufacture of two GMP batches of thymidin...</td>\n",
       "      <td>Therapeutic Intervention - Cellular and gene t...</td>\n",
       "      <td>Early clinical assessment</td>\n",
       "      <td>Under active development/distribution</td>\n",
       "      <td>2018.0</td>\n",
       "      <td>This material will be used in our clinical tri...</td>\n",
       "      <td>NaN</td>\n",
       "    </tr>\n",
       "  </tbody>\n",
       "</table>\n",
       "</div>"
      ],
      "text/plain": [
       "                                     id  \\\n",
       "0  0003293D-247D-4BF1-9674-402A70504D64   \n",
       "1  0047A6B5-2377-47A1-8D63-360B5400E5B9   \n",
       "2  0053E133-D736-4942-AFF0-4453B81FF255   \n",
       "3  006EAF83-4FB6-438F-B3C4-C23D5C44F6B8   \n",
       "4  0084F278-D81F-4F70-86AE-0DB7CE0A41BD   \n",
       "\n",
       "                                               title  \\\n",
       "0  Normothermic machine liver perfusion of discar...   \n",
       "1        Novel compounds with antibacterial activity   \n",
       "2                           chronic pain treatment 2   \n",
       "3                 Antibiotics in miscarriage surgery   \n",
       "4                        GMP thymidine phosphorylase   \n",
       "\n",
       "                                         description  \\\n",
       "0  Deaths from liver disease have soared by 40 pe...   \n",
       "1  Dr. Andrews team has synthesised several novel...   \n",
       "2  we are developing a reformulation of an existi...   \n",
       "3  The AIMS (Antibiotics in Miscarriage Surgery) ...   \n",
       "4  The manufacture of two GMP batches of thymidin...   \n",
       "\n",
       "                                                type  \\\n",
       "0         Therapeutic Intervention - Medical Devices   \n",
       "1                    Therapeutic Intervention - Drug   \n",
       "2                    Therapeutic Intervention - Drug   \n",
       "3                    Therapeutic Intervention - Drug   \n",
       "4  Therapeutic Intervention - Cellular and gene t...   \n",
       "\n",
       "                       stage                                 status  \\\n",
       "0  Early clinical assessment  Under active development/distribution   \n",
       "1        Initial development  Under active development/distribution   \n",
       "2   Late clinical evaluation  Under active development_distribution   \n",
       "3   Late clinical evaluation  Under active development/distribution   \n",
       "4  Early clinical assessment  Under active development/distribution   \n",
       "\n",
       "   yearDevelopmentCompleted  \\\n",
       "0                    2016.0   \n",
       "1                    2016.0   \n",
       "2                    2010.0   \n",
       "3                    2013.0   \n",
       "4                    2018.0   \n",
       "\n",
       "                                              impact  \\\n",
       "0  First human liver transplantation using a marg...   \n",
       "1  Dr Andrews work takes a novel approach by incr...   \n",
       "2  We seek to develop this first as a special and...   \n",
       "3  Please refer to other sections of the portfoli...   \n",
       "4  This material will be used in our clinical tri...   \n",
       "\n",
       "                                       supportingUrl  \n",
       "0                                                NaN  \n",
       "1                                                NaN  \n",
       "2                                                NaN  \n",
       "3  http://www.ammalife.org/research/aims-antibiot...  \n",
       "4                                                NaN  "
      ]
     },
     "execution_count": 25,
     "metadata": {},
     "output_type": "execute_result"
    }
   ],
   "source": [
    "products.head()"
   ]
  },
  {
   "cell_type": "code",
   "execution_count": 26,
   "metadata": {},
   "outputs": [
    {
     "data": {
      "text/plain": [
       "(2120, 9)"
      ]
     },
     "execution_count": 26,
     "metadata": {},
     "output_type": "execute_result"
    }
   ],
   "source": [
    "products.shape"
   ]
  },
  {
   "cell_type": "markdown",
   "metadata": {},
   "source": [
    "They seem to be primarily medical products"
   ]
  },
  {
   "cell_type": "code",
   "execution_count": 27,
   "metadata": {},
   "outputs": [
    {
     "data": {
      "text/plain": [
       "Initial development          589\n",
       "Early clinical assessment    525\n",
       "Late clinical evaluation     299\n",
       "Refinement.  Non-clinical    257\n",
       "Refinement.  Clinical        176\n",
       "Small-scale adoption         123\n",
       "Wide-scale adoption           77\n",
       "Market authorisation          42\n",
       "Name: stage, dtype: int64"
      ]
     },
     "execution_count": 27,
     "metadata": {},
     "output_type": "execute_result"
    }
   ],
   "source": [
    "products.stage.value_counts()"
   ]
  },
  {
   "cell_type": "code",
   "execution_count": 28,
   "metadata": {},
   "outputs": [
    {
     "data": {
      "text/plain": [
       "Therapeutic Intervention - Drug                                      601\n",
       "Diagnostic Tool - Non-Imaging                                        321\n",
       "Therapeutic Intervention - Medical Devices                           176\n",
       "Diagnostic Tool - Imaging                                            130\n",
       "Therapeutic Intervention - Vaccines                                  103\n",
       "Therapeutic Intervention - Cellular and gene therapies               101\n",
       "Support Tool - For Medical Intervention                              100\n",
       "Preventative Intervention - Behavioural risk modification            100\n",
       "Management of Diseases and Conditions                                 95\n",
       "Support Tool - For Fundamental Research                               91\n",
       "Therapeutic Intervention - Psychological/Behavioural                  88\n",
       "Preventative Intervention - Nutrition and Chemoprevention             38\n",
       "Therapeutic Intervention - Surgery                                    33\n",
       "Health and Social Care Services                                       30\n",
       "Products with applications outside of medicine                        27\n",
       "Therapeutic Intervention - Psychological_Behavioural                  24\n",
       "Therapeutic Intervention - Physical                                   20\n",
       "Preventative Intervention - Physical/Biological risk modification     18\n",
       "Therapeutic Intervention - Radiotherapy                               18\n",
       "Therapeutic Intervention - Complementary                               5\n",
       "Name: type, dtype: int64"
      ]
     },
     "execution_count": 28,
     "metadata": {},
     "output_type": "execute_result"
    }
   ],
   "source": [
    "products.type.value_counts()"
   ]
  },
  {
   "cell_type": "markdown",
   "metadata": {},
   "source": [
    "Yes - this is clearly a medical database. We might use it for our two missions given their health focus"
   ]
  },
  {
   "cell_type": "markdown",
   "metadata": {},
   "source": [
    "#### Intellectual Property"
   ]
  },
  {
   "cell_type": "code",
   "execution_count": 29,
   "metadata": {},
   "outputs": [
    {
     "data": {
      "text/html": [
       "<div>\n",
       "<style scoped>\n",
       "    .dataframe tbody tr th:only-of-type {\n",
       "        vertical-align: middle;\n",
       "    }\n",
       "\n",
       "    .dataframe tbody tr th {\n",
       "        vertical-align: top;\n",
       "    }\n",
       "\n",
       "    .dataframe thead th {\n",
       "        text-align: right;\n",
       "    }\n",
       "</style>\n",
       "<table border=\"1\" class=\"dataframe\">\n",
       "  <thead>\n",
       "    <tr style=\"text-align: right;\">\n",
       "      <th></th>\n",
       "      <th>id</th>\n",
       "      <th>title</th>\n",
       "      <th>description</th>\n",
       "      <th>protection</th>\n",
       "      <th>patentId</th>\n",
       "      <th>yearProtectionGranted</th>\n",
       "      <th>impact</th>\n",
       "      <th>licensed</th>\n",
       "    </tr>\n",
       "  </thead>\n",
       "  <tbody>\n",
       "    <tr>\n",
       "      <th>0</th>\n",
       "      <td>00042331-9D9F-48B3-AF06-3546D8BAC01D</td>\n",
       "      <td>FBG strain sensor</td>\n",
       "      <td>Design of FBG-based sensor for monitoring corr...</td>\n",
       "      <td>Patent application published</td>\n",
       "      <td>GB2439993-2008-01-16</td>\n",
       "      <td>2008</td>\n",
       "      <td>This will make an impact in the construction i...</td>\n",
       "      <td>No</td>\n",
       "    </tr>\n",
       "    <tr>\n",
       "      <th>1</th>\n",
       "      <td>000670D2-9E0E-401F-96F8-594DF4599FD7</td>\n",
       "      <td>Analogs of alpha ceramide (IMM47) and uses the...</td>\n",
       "      <td>Analogs of alpha ceramide (IMM47) and uses the...</td>\n",
       "      <td>Patent granted</td>\n",
       "      <td>6836514.7</td>\n",
       "      <td>2007</td>\n",
       "      <td>In this patent, which underpinned my subsequen...</td>\n",
       "      <td>Yes</td>\n",
       "    </tr>\n",
       "    <tr>\n",
       "      <th>2</th>\n",
       "      <td>001A3285-86DE-4DEE-8D6B-C1D92BE6CDFC</td>\n",
       "      <td>IDENTIFICATION AND DISPLAY OF PEPTIDE LIGANDS</td>\n",
       "      <td>An in vitro drug discovery platform analogous ...</td>\n",
       "      <td>Patent application published</td>\n",
       "      <td>WO 2015/011467</td>\n",
       "      <td>2015</td>\n",
       "      <td>z</td>\n",
       "      <td>No</td>\n",
       "    </tr>\n",
       "    <tr>\n",
       "      <th>3</th>\n",
       "      <td>001F8DBA-72DA-49F6-8588-628088BCCCB1</td>\n",
       "      <td>LIST BASED PREFETCH</td>\n",
       "      <td>Invention of a pattern-recording gather prefet...</td>\n",
       "      <td>Patent granted</td>\n",
       "      <td>US8255633</td>\n",
       "      <td>2012</td>\n",
       "      <td>Used in IBM's HPC products</td>\n",
       "      <td>Com</td>\n",
       "    </tr>\n",
       "    <tr>\n",
       "      <th>4</th>\n",
       "      <td>0024B4B4-BB74-4AC1-8D68-F2771E80383B</td>\n",
       "      <td>Terahertz radiation detector focal plane array...</td>\n",
       "      <td>A CMOS based focal plane for terahertz imaging...</td>\n",
       "      <td>Patent granted</td>\n",
       "      <td>US9513171</td>\n",
       "      <td>2016</td>\n",
       "      <td>Collaboration with industry on photonics techn...</td>\n",
       "      <td>Com</td>\n",
       "    </tr>\n",
       "  </tbody>\n",
       "</table>\n",
       "</div>"
      ],
      "text/plain": [
       "                                     id  \\\n",
       "0  00042331-9D9F-48B3-AF06-3546D8BAC01D   \n",
       "1  000670D2-9E0E-401F-96F8-594DF4599FD7   \n",
       "2  001A3285-86DE-4DEE-8D6B-C1D92BE6CDFC   \n",
       "3  001F8DBA-72DA-49F6-8588-628088BCCCB1   \n",
       "4  0024B4B4-BB74-4AC1-8D68-F2771E80383B   \n",
       "\n",
       "                                               title  \\\n",
       "0                                  FBG strain sensor   \n",
       "1  Analogs of alpha ceramide (IMM47) and uses the...   \n",
       "2      IDENTIFICATION AND DISPLAY OF PEPTIDE LIGANDS   \n",
       "3                                LIST BASED PREFETCH   \n",
       "4  Terahertz radiation detector focal plane array...   \n",
       "\n",
       "                                         description  \\\n",
       "0  Design of FBG-based sensor for monitoring corr...   \n",
       "1  Analogs of alpha ceramide (IMM47) and uses the...   \n",
       "2  An in vitro drug discovery platform analogous ...   \n",
       "3  Invention of a pattern-recording gather prefet...   \n",
       "4  A CMOS based focal plane for terahertz imaging...   \n",
       "\n",
       "                     protection              patentId  yearProtectionGranted  \\\n",
       "0  Patent application published  GB2439993-2008-01-16                   2008   \n",
       "1                Patent granted             6836514.7                   2007   \n",
       "2  Patent application published        WO 2015/011467                   2015   \n",
       "3                Patent granted             US8255633                   2012   \n",
       "4                Patent granted             US9513171                   2016   \n",
       "\n",
       "                                              impact licensed  \n",
       "0  This will make an impact in the construction i...       No  \n",
       "1  In this patent, which underpinned my subsequen...      Yes  \n",
       "2                                                  z       No  \n",
       "3                         Used in IBM's HPC products      Com  \n",
       "4  Collaboration with industry on photonics techn...      Com  "
      ]
     },
     "execution_count": 29,
     "metadata": {},
     "output_type": "execute_result"
    }
   ],
   "source": [
    "ip = my_data['intellectualproperties']\n",
    "\n",
    "ip.head()"
   ]
  },
  {
   "cell_type": "code",
   "execution_count": 30,
   "metadata": {},
   "outputs": [
    {
     "data": {
      "text/plain": [
       "(4023, 8)"
      ]
     },
     "execution_count": 30,
     "metadata": {},
     "output_type": "execute_result"
    }
   ],
   "source": [
    "ip.shape"
   ]
  },
  {
   "cell_type": "code",
   "execution_count": 31,
   "metadata": {},
   "outputs": [
    {
     "data": {
      "text/plain": [
       "<matplotlib.axes._subplots.AxesSubplot at 0x11c911fd0>"
      ]
     },
     "execution_count": 31,
     "metadata": {},
     "output_type": "execute_result"
    },
    {
     "data": {
      "image/png": "[encoded data removed]",
      "text/plain": [
       "<Figure size 432x288 with 1 Axes>"
      ]
     },
     "metadata": {},
     "output_type": "display_data"
    }
   ],
   "source": [
    "ip.protection.value_counts().plot.bar(color='blue',title='ip')"
   ]
  },
  {
   "cell_type": "markdown",
   "metadata": {},
   "source": [
    "Around 3000 patents and a bunch of random labels. We can use it perhaps to look at field maturity"
   ]
  },
  {
   "cell_type": "markdown",
   "metadata": {},
   "source": [
    "#### Technical products"
   ]
  },
  {
   "cell_type": "code",
   "execution_count": 32,
   "metadata": {},
   "outputs": [
    {
     "data": {
      "text/html": [
       "<div>\n",
       "<style scoped>\n",
       "    .dataframe tbody tr th:only-of-type {\n",
       "        vertical-align: middle;\n",
       "    }\n",
       "\n",
       "    .dataframe tbody tr th {\n",
       "        vertical-align: top;\n",
       "    }\n",
       "\n",
       "    .dataframe thead th {\n",
       "        text-align: right;\n",
       "    }\n",
       "</style>\n",
       "<table border=\"1\" class=\"dataframe\">\n",
       "  <thead>\n",
       "    <tr style=\"text-align: right;\">\n",
       "      <th></th>\n",
       "      <th>id</th>\n",
       "      <th>title</th>\n",
       "      <th>description</th>\n",
       "      <th>type</th>\n",
       "      <th>impact</th>\n",
       "      <th>softwareOpenSourced</th>\n",
       "      <th>yearFirstProvided</th>\n",
       "      <th>supportingUrl</th>\n",
       "    </tr>\n",
       "  </thead>\n",
       "  <tbody>\n",
       "    <tr>\n",
       "      <th>0</th>\n",
       "      <td>00043B35-DCD5-4C1C-B5FF-FD2B451AABF0</td>\n",
       "      <td>cath-cluster: A simple way to complete-linkage...</td>\n",
       "      <td>The software provides a fast implementation of...</td>\n",
       "      <td>Software</td>\n",
       "      <td>The software has increased visibility of our g...</td>\n",
       "      <td>True</td>\n",
       "      <td>2018.0</td>\n",
       "      <td>http://cath-tools.readthedocs.io/en/latest/too...</td>\n",
       "    </tr>\n",
       "    <tr>\n",
       "      <th>1</th>\n",
       "      <td>00050BA4-9FA9-405E-9210-6DB9C888DD4C</td>\n",
       "      <td>Submarine Canyons: guest post</td>\n",
       "      <td>website by Siddhi Joshi</td>\n",
       "      <td>Software</td>\n",
       "      <td>NaN</td>\n",
       "      <td>NaN</td>\n",
       "      <td>NaN</td>\n",
       "      <td>http://seabedhabitats.org/2013/06/24/submarine...</td>\n",
       "    </tr>\n",
       "    <tr>\n",
       "      <th>2</th>\n",
       "      <td>0013CA23-C0A9-4537-80AE-641CEBD36AAC</td>\n",
       "      <td>AutoLens</td>\n",
       "      <td>AutoLens is a new piece of strong gravitationa...</td>\n",
       "      <td>Software</td>\n",
       "      <td>Expectations are that AutoLens or at least man...</td>\n",
       "      <td>NaN</td>\n",
       "      <td>2018.0</td>\n",
       "      <td>NaN</td>\n",
       "    </tr>\n",
       "    <tr>\n",
       "      <th>3</th>\n",
       "      <td>0018C0C7-60CA-4DAD-93A2-0BA2F9278E22</td>\n",
       "      <td>Bite plate</td>\n",
       "      <td>The bite plate is a 9.5x4cm flat section of me...</td>\n",
       "      <td>Physical Model/Kit</td>\n",
       "      <td>The bite plate improves the interpretability o...</td>\n",
       "      <td>NaN</td>\n",
       "      <td>2011.0</td>\n",
       "      <td>http://www.seeingspeech.arts.gla.ac.uk/uti/Rec...</td>\n",
       "    </tr>\n",
       "    <tr>\n",
       "      <th>4</th>\n",
       "      <td>001DAD51-73B7-492E-8B0A-8C54578FCD9B</td>\n",
       "      <td>QKgenome</td>\n",
       "      <td>A set of scripts for converting genomes based ...</td>\n",
       "      <td>Software</td>\n",
       "      <td>Used in several manuscripts in preparation to ...</td>\n",
       "      <td>True</td>\n",
       "      <td>2017.0</td>\n",
       "      <td>https://github.com/matthewmoscou/QKgenome</td>\n",
       "    </tr>\n",
       "  </tbody>\n",
       "</table>\n",
       "</div>"
      ],
      "text/plain": [
       "                                     id  \\\n",
       "0  00043B35-DCD5-4C1C-B5FF-FD2B451AABF0   \n",
       "1  00050BA4-9FA9-405E-9210-6DB9C888DD4C   \n",
       "2  0013CA23-C0A9-4537-80AE-641CEBD36AAC   \n",
       "3  0018C0C7-60CA-4DAD-93A2-0BA2F9278E22   \n",
       "4  001DAD51-73B7-492E-8B0A-8C54578FCD9B   \n",
       "\n",
       "                                               title  \\\n",
       "0  cath-cluster: A simple way to complete-linkage...   \n",
       "1                      Submarine Canyons: guest post   \n",
       "2                                           AutoLens   \n",
       "3                                         Bite plate   \n",
       "4                                           QKgenome   \n",
       "\n",
       "                                         description                type  \\\n",
       "0  The software provides a fast implementation of...            Software   \n",
       "1                            website by Siddhi Joshi            Software   \n",
       "2  AutoLens is a new piece of strong gravitationa...            Software   \n",
       "3  The bite plate is a 9.5x4cm flat section of me...  Physical Model/Kit   \n",
       "4  A set of scripts for converting genomes based ...            Software   \n",
       "\n",
       "                                              impact softwareOpenSourced  \\\n",
       "0  The software has increased visibility of our g...                True   \n",
       "1                                                NaN                 NaN   \n",
       "2  Expectations are that AutoLens or at least man...                 NaN   \n",
       "3  The bite plate improves the interpretability o...                 NaN   \n",
       "4  Used in several manuscripts in preparation to ...                True   \n",
       "\n",
       "   yearFirstProvided                                      supportingUrl  \n",
       "0             2018.0  http://cath-tools.readthedocs.io/en/latest/too...  \n",
       "1                NaN  http://seabedhabitats.org/2013/06/24/submarine...  \n",
       "2             2018.0                                                NaN  \n",
       "3             2011.0  http://www.seeingspeech.arts.gla.ac.uk/uti/Rec...  \n",
       "4             2017.0          https://github.com/matthewmoscou/QKgenome  "
      ]
     },
     "execution_count": 32,
     "metadata": {},
     "output_type": "execute_result"
    }
   ],
   "source": [
    "technical = my_data['softwareandtechnicalproducts']\n",
    "\n",
    "technical.head()"
   ]
  },
  {
   "cell_type": "code",
   "execution_count": 33,
   "metadata": {},
   "outputs": [
    {
     "data": {
      "text/plain": [
       "(6299, 8)"
      ]
     },
     "execution_count": 33,
     "metadata": {},
     "output_type": "execute_result"
    }
   ],
   "source": [
    "technical.shape"
   ]
  },
  {
   "cell_type": "code",
   "execution_count": 34,
   "metadata": {},
   "outputs": [
    {
     "data": {
      "text/plain": [
       "<matplotlib.axes._subplots.AxesSubplot at 0x11729cb70>"
      ]
     },
     "execution_count": 34,
     "metadata": {},
     "output_type": "execute_result"
    },
    {
     "data": {
      "image/png": "[encoded data removed]",
      "text/plain": [
       "<Figure size 432x288 with 1 Axes>"
      ]
     },
     "metadata": {},
     "output_type": "display_data"
    }
   ],
   "source": [
    "technical['type'].value_counts().plot.bar(color='blue',title='Technical outputs')"
   ]
  },
  {
   "cell_type": "markdown",
   "metadata": {},
   "source": [
    "Perhaps we could create a 'practical output' dummy for the field...\n",
    "\n",
    "Or query the application databases with project names once we have identified them?"
   ]
  },
  {
   "cell_type": "code",
   "execution_count": 35,
   "metadata": {},
   "outputs": [
    {
     "data": {
      "text/plain": [
       "864"
      ]
     },
     "execution_count": 35,
     "metadata": {},
     "output_type": "execute_result"
    }
   ],
   "source": [
    "np.sum(['github' in x for x in technical.supportingUrl if pd.isnull(x)==False])"
   ]
  },
  {
   "cell_type": "markdown",
   "metadata": {},
   "source": [
    "864 projects in GitHUb"
   ]
  },
  {
   "cell_type": "markdown",
   "metadata": {},
   "source": [
    "#### Spinouts"
   ]
  },
  {
   "cell_type": "code",
   "execution_count": 36,
   "metadata": {},
   "outputs": [
    {
     "data": {
      "text/html": [
       "<div>\n",
       "<style scoped>\n",
       "    .dataframe tbody tr th:only-of-type {\n",
       "        vertical-align: middle;\n",
       "    }\n",
       "\n",
       "    .dataframe tbody tr th {\n",
       "        vertical-align: top;\n",
       "    }\n",
       "\n",
       "    .dataframe thead th {\n",
       "        text-align: right;\n",
       "    }\n",
       "</style>\n",
       "<table border=\"1\" class=\"dataframe\">\n",
       "  <thead>\n",
       "    <tr style=\"text-align: right;\">\n",
       "      <th></th>\n",
       "      <th>id</th>\n",
       "      <th>description</th>\n",
       "      <th>companyName</th>\n",
       "      <th>impact</th>\n",
       "      <th>website</th>\n",
       "      <th>yearEstablished</th>\n",
       "    </tr>\n",
       "  </thead>\n",
       "  <tbody>\n",
       "    <tr>\n",
       "      <th>0</th>\n",
       "      <td>00835229-1A18-4731-BA53-F13EFFF8C4C7</td>\n",
       "      <td>Scientific text mining</td>\n",
       "      <td>Scidiver</td>\n",
       "      <td>None so far.</td>\n",
       "      <td>NaN</td>\n",
       "      <td>2011.0</td>\n",
       "    </tr>\n",
       "    <tr>\n",
       "      <th>1</th>\n",
       "      <td>00911DF1-AF41-42EC-BB95-6FC28E86786C</td>\n",
       "      <td>Cognition Video is a platform for the automati...</td>\n",
       "      <td>Cognition Video Ltd.</td>\n",
       "      <td>Cognition Video won the Enterprise Software ca...</td>\n",
       "      <td>http://www.cognitionvideo.co.uk</td>\n",
       "      <td>2016.0</td>\n",
       "    </tr>\n",
       "    <tr>\n",
       "      <th>2</th>\n",
       "      <td>00958DA0-A15A-4DA0-B2EF-056E21C44BFE</td>\n",
       "      <td>To exploit the sensors and composites innovati...</td>\n",
       "      <td>Sensors and Composites Ltd</td>\n",
       "      <td>Incorporated in 2015.</td>\n",
       "      <td>NaN</td>\n",
       "      <td>2015.0</td>\n",
       "    </tr>\n",
       "    <tr>\n",
       "      <th>3</th>\n",
       "      <td>00CC435B-DCD1-407A-9BF5-3F82240703E3</td>\n",
       "      <td>The company specializes in the area of manufac...</td>\n",
       "      <td>VitriTech Ltd</td>\n",
       "      <td>Technology for laser gain manufacturing has be...</td>\n",
       "      <td>http://www.vitritech.co.uk/</td>\n",
       "      <td>2015.0</td>\n",
       "    </tr>\n",
       "    <tr>\n",
       "      <th>4</th>\n",
       "      <td>00D37433-E0BE-42DF-AAD7-97358F2BA4F0</td>\n",
       "      <td>One of the researchers Dr. Helen Yin was award...</td>\n",
       "      <td>THz Power Ltd</td>\n",
       "      <td>The impact of the spinout company could be gre...</td>\n",
       "      <td>http://thzpower.com/about.html</td>\n",
       "      <td>2014.0</td>\n",
       "    </tr>\n",
       "  </tbody>\n",
       "</table>\n",
       "</div>"
      ],
      "text/plain": [
       "                                     id  \\\n",
       "0  00835229-1A18-4731-BA53-F13EFFF8C4C7   \n",
       "1  00911DF1-AF41-42EC-BB95-6FC28E86786C   \n",
       "2  00958DA0-A15A-4DA0-B2EF-056E21C44BFE   \n",
       "3  00CC435B-DCD1-407A-9BF5-3F82240703E3   \n",
       "4  00D37433-E0BE-42DF-AAD7-97358F2BA4F0   \n",
       "\n",
       "                                         description  \\\n",
       "0                             Scientific text mining   \n",
       "1  Cognition Video is a platform for the automati...   \n",
       "2  To exploit the sensors and composites innovati...   \n",
       "3  The company specializes in the area of manufac...   \n",
       "4  One of the researchers Dr. Helen Yin was award...   \n",
       "\n",
       "                  companyName  \\\n",
       "0                    Scidiver   \n",
       "1        Cognition Video Ltd.   \n",
       "2  Sensors and Composites Ltd   \n",
       "3               VitriTech Ltd   \n",
       "4               THz Power Ltd   \n",
       "\n",
       "                                              impact  \\\n",
       "0                                       None so far.   \n",
       "1  Cognition Video won the Enterprise Software ca...   \n",
       "2                              Incorporated in 2015.   \n",
       "3  Technology for laser gain manufacturing has be...   \n",
       "4  The impact of the spinout company could be gre...   \n",
       "\n",
       "                           website  yearEstablished  \n",
       "0                              NaN           2011.0  \n",
       "1  http://www.cognitionvideo.co.uk           2016.0  \n",
       "2                              NaN           2015.0  \n",
       "3      http://www.vitritech.co.uk/           2015.0  \n",
       "4   http://thzpower.com/about.html           2014.0  "
      ]
     },
     "execution_count": 36,
     "metadata": {},
     "output_type": "execute_result"
    }
   ],
   "source": [
    "spinouts = my_data['spinouts']\n",
    "\n",
    "spinouts.head()"
   ]
  },
  {
   "cell_type": "code",
   "execution_count": 37,
   "metadata": {},
   "outputs": [
    {
     "name": "stderr",
     "output_type": "stream",
     "text": [
      "/usr/local/lib/python3.7/site-packages/ipykernel_launcher.py:1: FutureWarning: \n",
      "Passing list-likes to .loc or [] with any missing label will raise\n",
      "KeyError in the future, you can use .reindex() as an alternative.\n",
      "\n",
      "See the documentation here:\n",
      "https://pandas.pydata.org/pandas-docs/stable/indexing.html#deprecate-loc-reindex-listlike\n",
      "  \"\"\"Entry point for launching an IPython kernel.\n"
     ]
    },
    {
     "data": {
      "text/plain": [
       "<matplotlib.axes._subplots.AxesSubplot at 0x119657e80>"
      ]
     },
     "execution_count": 37,
     "metadata": {},
     "output_type": "execute_result"
    },
    {
     "data": {
      "image/png": "[encoded data removed]",
      "text/plain": [
       "<Figure size 432x288 with 1 Axes>"
      ]
     },
     "metadata": {},
     "output_type": "display_data"
    }
   ],
   "source": [
    "spinouts.yearEstablished.value_counts().loc[np.arange(2006,2020)].plot.bar(color='blue',title='spinout_year')"
   ]
  },
  {
   "cell_type": "markdown",
   "metadata": {},
   "source": [
    "#### Publications"
   ]
  },
  {
   "cell_type": "code",
   "execution_count": 38,
   "metadata": {},
   "outputs": [
    {
     "data": {
      "text/html": [
       "<div>\n",
       "<style scoped>\n",
       "    .dataframe tbody tr th:only-of-type {\n",
       "        vertical-align: middle;\n",
       "    }\n",
       "\n",
       "    .dataframe tbody tr th {\n",
       "        vertical-align: top;\n",
       "    }\n",
       "\n",
       "    .dataframe thead th {\n",
       "        text-align: right;\n",
       "    }\n",
       "</style>\n",
       "<table border=\"1\" class=\"dataframe\">\n",
       "  <thead>\n",
       "    <tr style=\"text-align: right;\">\n",
       "      <th></th>\n",
       "      <th>id</th>\n",
       "      <th>title</th>\n",
       "      <th>type</th>\n",
       "      <th>journalTitle</th>\n",
       "      <th>datePublished</th>\n",
       "      <th>publicationUrl</th>\n",
       "      <th>pubMedId</th>\n",
       "      <th>issn</th>\n",
       "      <th>volumeTitle</th>\n",
       "      <th>doi</th>\n",
       "      <th>issue</th>\n",
       "      <th>author</th>\n",
       "      <th>isbn</th>\n",
       "      <th>chapterTitle</th>\n",
       "      <th>pageReference</th>\n",
       "    </tr>\n",
       "  </thead>\n",
       "  <tbody>\n",
       "    <tr>\n",
       "      <th>0</th>\n",
       "      <td>00000C13-59F1-419B-9204-77DAFFD2BC35</td>\n",
       "      <td>Characteristics of EGRET Blazars in the VLBA I...</td>\n",
       "      <td>Journal Article/Review</td>\n",
       "      <td>The Astrophysical Journal</td>\n",
       "      <td>2007-01-01</td>\n",
       "      <td>http://dx.doi.org/10.1086/523264</td>\n",
       "      <td>NaN</td>\n",
       "      <td>NaN</td>\n",
       "      <td>NaN</td>\n",
       "      <td>http://dx.doi.org/10.1086/523264</td>\n",
       "      <td>2</td>\n",
       "      <td>Taylor G</td>\n",
       "      <td>NaN</td>\n",
       "      <td>NaN</td>\n",
       "      <td>NaN</td>\n",
       "    </tr>\n",
       "    <tr>\n",
       "      <th>1</th>\n",
       "      <td>00000D8A-3BFA-4D6C-BB58-8721DA8D36E1</td>\n",
       "      <td>The cytotoxicity and cell labelling efficacy o...</td>\n",
       "      <td>Working Paper</td>\n",
       "      <td>NaN</td>\n",
       "      <td>2013-01-01</td>\n",
       "      <td>NaN</td>\n",
       "      <td>NaN</td>\n",
       "      <td>NaN</td>\n",
       "      <td>NaN</td>\n",
       "      <td>NaN</td>\n",
       "      <td>NaN</td>\n",
       "      <td>Samantha Parsons (Author)</td>\n",
       "      <td>NaN</td>\n",
       "      <td>NaN</td>\n",
       "      <td>NaN</td>\n",
       "    </tr>\n",
       "    <tr>\n",
       "      <th>2</th>\n",
       "      <td>000030A0-2369-4D9A-8126-E68EE6FD653F</td>\n",
       "      <td>Altered receptor specificity and cell tropism ...</td>\n",
       "      <td>Journal Article/Review</td>\n",
       "      <td>Journal of virology</td>\n",
       "      <td>2010-01-01</td>\n",
       "      <td>http://europepmc.org/abstract/MED/20826688</td>\n",
       "      <td>20826688.0</td>\n",
       "      <td>0022-538X</td>\n",
       "      <td>84</td>\n",
       "      <td>http://dx.doi.org/10.1128/JVI.01639-10</td>\n",
       "      <td>22</td>\n",
       "      <td>Liu Y</td>\n",
       "      <td>NaN</td>\n",
       "      <td>NaN</td>\n",
       "      <td>NaN</td>\n",
       "    </tr>\n",
       "    <tr>\n",
       "      <th>3</th>\n",
       "      <td>0000428D-17F4-4E75-BD8A-8584675CAFAB</td>\n",
       "      <td>Nonlocal energy density functionals for pairin...</td>\n",
       "      <td>Journal Article/Review</td>\n",
       "      <td>Journal of Physics G: Nuclear and Particle Phy...</td>\n",
       "      <td>2017-01-01</td>\n",
       "      <td>http://dx.doi.org/10.1088/1361-6471/aa5fd7</td>\n",
       "      <td>NaN</td>\n",
       "      <td>NaN</td>\n",
       "      <td>NaN</td>\n",
       "      <td>http://dx.doi.org/10.1088/1361-6471/aa5fd7</td>\n",
       "      <td>4</td>\n",
       "      <td>Bennaceur K</td>\n",
       "      <td>NaN</td>\n",
       "      <td>NaN</td>\n",
       "      <td>NaN</td>\n",
       "    </tr>\n",
       "    <tr>\n",
       "      <th>4</th>\n",
       "      <td>00004ECB-A5B9-4940-8E49-9060E46C2F83</td>\n",
       "      <td>Superalloys 2012 - Huron/Superalloys</td>\n",
       "      <td>Book Chapter</td>\n",
       "      <td>NaN</td>\n",
       "      <td>2012-01-01</td>\n",
       "      <td>http://dx.doi.org/10.1002/9781118516430.ch33</td>\n",
       "      <td>NaN</td>\n",
       "      <td>NaN</td>\n",
       "      <td>NaN</td>\n",
       "      <td>http://dx.doi.org/10.1002/9781118516430.ch33</td>\n",
       "      <td>NaN</td>\n",
       "      <td>Pang H</td>\n",
       "      <td>9780470943205</td>\n",
       "      <td>Effects of Y and La Additions on the Processin...</td>\n",
       "      <td>301-310</td>\n",
       "    </tr>\n",
       "  </tbody>\n",
       "</table>\n",
       "</div>"
      ],
      "text/plain": [
       "                                     id  \\\n",
       "0  00000C13-59F1-419B-9204-77DAFFD2BC35   \n",
       "1  00000D8A-3BFA-4D6C-BB58-8721DA8D36E1   \n",
       "2  000030A0-2369-4D9A-8126-E68EE6FD653F   \n",
       "3  0000428D-17F4-4E75-BD8A-8584675CAFAB   \n",
       "4  00004ECB-A5B9-4940-8E49-9060E46C2F83   \n",
       "\n",
       "                                               title                    type  \\\n",
       "0  Characteristics of EGRET Blazars in the VLBA I...  Journal Article/Review   \n",
       "1  The cytotoxicity and cell labelling efficacy o...           Working Paper   \n",
       "2  Altered receptor specificity and cell tropism ...  Journal Article/Review   \n",
       "3  Nonlocal energy density functionals for pairin...  Journal Article/Review   \n",
       "4               Superalloys 2012 - Huron/Superalloys            Book Chapter   \n",
       "\n",
       "                                        journalTitle datePublished  \\\n",
       "0                          The Astrophysical Journal    2007-01-01   \n",
       "1                                                NaN    2013-01-01   \n",
       "2                                Journal of virology    2010-01-01   \n",
       "3  Journal of Physics G: Nuclear and Particle Phy...    2017-01-01   \n",
       "4                                                NaN    2012-01-01   \n",
       "\n",
       "                                 publicationUrl    pubMedId       issn  \\\n",
       "0              http://dx.doi.org/10.1086/523264         NaN        NaN   \n",
       "1                                           NaN         NaN        NaN   \n",
       "2    http://europepmc.org/abstract/MED/20826688  20826688.0  0022-538X   \n",
       "3    http://dx.doi.org/10.1088/1361-6471/aa5fd7         NaN        NaN   \n",
       "4  http://dx.doi.org/10.1002/9781118516430.ch33         NaN        NaN   \n",
       "\n",
       "  volumeTitle                                           doi issue  \\\n",
       "0         NaN              http://dx.doi.org/10.1086/523264     2   \n",
       "1         NaN                                           NaN   NaN   \n",
       "2          84        http://dx.doi.org/10.1128/JVI.01639-10    22   \n",
       "3         NaN    http://dx.doi.org/10.1088/1361-6471/aa5fd7     4   \n",
       "4         NaN  http://dx.doi.org/10.1002/9781118516430.ch33   NaN   \n",
       "\n",
       "                      author           isbn  \\\n",
       "0                   Taylor G            NaN   \n",
       "1  Samantha Parsons (Author)            NaN   \n",
       "2                      Liu Y            NaN   \n",
       "3                Bennaceur K            NaN   \n",
       "4                     Pang H  9780470943205   \n",
       "\n",
       "                                        chapterTitle pageReference  \n",
       "0                                                NaN           NaN  \n",
       "1                                                NaN           NaN  \n",
       "2                                                NaN           NaN  \n",
       "3                                                NaN           NaN  \n",
       "4  Effects of Y and La Additions on the Processin...       301-310  "
      ]
     },
     "execution_count": 38,
     "metadata": {},
     "output_type": "execute_result"
    }
   ],
   "source": [
    "pubs = my_data['publications']\n",
    "\n",
    "pubs.head()"
   ]
  },
  {
   "cell_type": "code",
   "execution_count": 39,
   "metadata": {},
   "outputs": [
    {
     "data": {
      "text/plain": [
       "array([399571, 339454, 449700, ..., 140211, 475552, 267635])"
      ]
     },
     "execution_count": 39,
     "metadata": {},
     "output_type": "execute_result"
    }
   ],
   "source": [
    "np.random.randint(0,len(pubs),40000)"
   ]
  },
  {
   "cell_type": "code",
   "execution_count": 40,
   "metadata": {},
   "outputs": [
    {
     "data": {
      "image/png": "[encoded data removed]",
      "text/plain": [
       "<Figure size 432x288 with 1 Axes>"
      ]
     },
     "metadata": {},
     "output_type": "display_data"
    }
   ],
   "source": [
    "#Get missing values for a random sample (10%) of the publications\n",
    "\n",
    "fig,ax = plt.subplots()\n",
    "\n",
    "pub_sample = pubs.loc[list(np.random.randint(0,len(pubs),70000)),:]\n",
    "\n",
    "missing_count(pub_sample,ax)\n"
   ]
  },
  {
   "cell_type": "markdown",
   "metadata": {},
   "source": [
    "80% have DOI"
   ]
  },
  {
   "cell_type": "code",
   "execution_count": 41,
   "metadata": {},
   "outputs": [
    {
     "data": {
      "text/plain": [
       "<matplotlib.axes._subplots.AxesSubplot at 0x1493150f0>"
      ]
     },
     "execution_count": 41,
     "metadata": {},
     "output_type": "execute_result"
    },
    {
     "data": {
      "image/png": "[encoded data removed]",
      "text/plain": [
       "<Figure size 432x288 with 1 Axes>"
      ]
     },
     "metadata": {},
     "output_type": "display_data"
    }
   ],
   "source": [
    "pubs.type.value_counts().plot.bar(color='blue',title='Type of publication')"
   ]
  },
  {
   "cell_type": "code",
   "execution_count": 42,
   "metadata": {},
   "outputs": [],
   "source": [
    "pubs['year'] = pubs['datePublished'].apply(get_year)"
   ]
  },
  {
   "cell_type": "code",
   "execution_count": 43,
   "metadata": {},
   "outputs": [
    {
     "data": {
      "text/plain": [
       "<matplotlib.axes._subplots.AxesSubplot at 0x125866588>"
      ]
     },
     "execution_count": 43,
     "metadata": {},
     "output_type": "execute_result"
    },
    {
     "data": {
      "image/png": "[encoded data removed]",
      "text/plain": [
       "<Figure size 432x288 with 1 Axes>"
      ]
     },
     "metadata": {},
     "output_type": "display_data"
    }
   ],
   "source": [
    "pubs['year'].value_counts().loc[np.arange(2006,2020)].plot.bar(color='blue',title='publication years')"
   ]
  },
  {
   "cell_type": "code",
   "execution_count": 44,
   "metadata": {},
   "outputs": [
    {
     "data": {
      "text/plain": [
       "Monthly Notices of the Royal Astronomical Society                                  22962\n",
       "Journal of High Energy Physics                                                     17475\n",
       "Physical Review D                                                                  17065\n",
       "Physical review letters                                                            14234\n",
       "Physics Letters B                                                                  12653\n",
       "The Astrophysical Journal                                                          10421\n",
       "PloS one                                                                            9957\n",
       "The European physical journal. C, Particles and fields                              6307\n",
       "Astronomy & Astrophysics                                                            5824\n",
       "Proceedings of the National Academy of Sciences of the United States of America     4341\n",
       "Name: journalTitle, dtype: int64"
      ]
     },
     "execution_count": 44,
     "metadata": {},
     "output_type": "execute_result"
    }
   ],
   "source": [
    "pubs['journalTitle'].value_counts()[:10]"
   ]
  },
  {
   "cell_type": "markdown",
   "metadata": {},
   "source": [
    "### Discipline coverage check\n",
    "\n",
    "Here we run outputs vs projects to get who were the funders. We want to check how much cross-organisation coverage there is in the data\n",
    "\n",
    "We also identify projects that appear in different 'impact' databases"
   ]
  },
  {
   "cell_type": "code",
   "execution_count": 69,
   "metadata": {},
   "outputs": [],
   "source": [
    "#Containers for the data\n",
    "impactful_projects= []\n",
    "\n",
    "impact_funders = [projects['leadFunder'].value_counts()]\n",
    "\n",
    "impact_names = ['prods','ip','tech','spin','pubs']\n",
    "\n",
    "for name,data in zip(impact_names,[products,ip,technical,spinouts,pubs]):\n",
    "    \n",
    "    #Merges outputs and projects via the product file\n",
    "    \n",
    "    merged = pd.merge(\n",
    "        pd.merge(data,link,left_on='id',right_on='id'),\n",
    "        projects,left_on='project_id',right_on='id')\n",
    "    \n",
    "    #number of times that a project appears in an output df\n",
    "    project_counts = merged['project_id'].value_counts()\n",
    "    project_counts.name = name\n",
    "    \n",
    "    #Put it with the featured projects\n",
    "    impactful_projects.append(project_counts)\n",
    "    \n",
    "    \n",
    "    #Funder impact by project\n",
    "    funder_freqs = merged['leadFunder'].value_counts()\n",
    "    funder_freqs.name = name\n",
    "    \n",
    "    #Merges with the outpi\n",
    "    impact_funders.append(funder_freqs)\n",
    "    "
   ]
  },
  {
   "cell_type": "code",
   "execution_count": 50,
   "metadata": {},
   "outputs": [
    {
     "data": {
      "text/plain": [
       "<matplotlib.legend.Legend at 0x1482c5e80>"
      ]
     },
     "execution_count": 50,
     "metadata": {},
     "output_type": "execute_result"
    },
    {
     "data": {
      "image/png": "[encoded data removed]",
      "text/plain": [
       "<Figure size 576x360 with 1 Axes>"
      ]
     },
     "metadata": {},
     "output_type": "display_data"
    }
   ],
   "source": [
    "fig,ax = plt.subplots(figsize=(8,5))\n",
    "\n",
    "pd.concat(impact_funders,axis=1,sort=False).apply(lambda x: x/x.sum(),axis=0).T.plot.bar(stacked=True,ax=ax,width=0.8)\n",
    "\n",
    "ax.legend(bbox_to_anchor=(1,1))"
   ]
  },
  {
   "cell_type": "markdown",
   "metadata": {},
   "source": [
    "Some observations:\n",
    "* No output data for innovate UK\n",
    "* MRC over-represented in all outputs (not bad for the mission pilots)\n",
    "* STFC over-represented in publications(physics)"
   ]
  },
  {
   "cell_type": "code",
   "execution_count": 70,
   "metadata": {},
   "outputs": [
    {
     "name": "stderr",
     "output_type": "stream",
     "text": [
      "/usr/local/lib/python3.7/site-packages/ipykernel_launcher.py:5: FutureWarning: Sorting because non-concatenation axis is not aligned. A future version\n",
      "of pandas will change to not sort by default.\n",
      "\n",
      "To accept the future behavior, pass 'sort=False'.\n",
      "\n",
      "To retain the current behavior and silence the warning, pass 'sort=True'.\n",
      "\n",
      "  \"\"\"\n"
     ]
    },
    {
     "data": {
      "text/plain": [
       "(86879, 28)"
      ]
     },
     "execution_count": 70,
     "metadata": {},
     "output_type": "execute_result"
    }
   ],
   "source": [
    "# And the impactful projects\n",
    "\n",
    "#Concatenate the previous outputs\n",
    "project_impacts = pd.concat(impactful_projects,axis=1,sort=True).fillna(0)\n",
    "\n",
    "#Concatenate with the projects file\n",
    "projects_imp = pd.concat([projects_f.set_index('project_id'),project_impacts],axis=1)\n",
    "\n",
    "projects_imp.shape"
   ]
  },
  {
   "cell_type": "markdown",
   "metadata": {},
   "source": [
    "Fillnas with 0s. \n",
    "Should drop innovate from follow-on analyses here given that they don't seem to be tracking the impact of their projects in the same way as research councils."
   ]
  },
  {
   "cell_type": "code",
   "execution_count": 73,
   "metadata": {},
   "outputs": [],
   "source": [
    "projects_imp[impact_names] = projects_imp[impact_names].fillna(0)"
   ]
  },
  {
   "cell_type": "code",
   "execution_count": 76,
   "metadata": {},
   "outputs": [
    {
     "data": {
      "text/html": [
       "<div>\n",
       "<style scoped>\n",
       "    .dataframe tbody tr th:only-of-type {\n",
       "        vertical-align: middle;\n",
       "    }\n",
       "\n",
       "    .dataframe tbody tr th {\n",
       "        vertical-align: top;\n",
       "    }\n",
       "\n",
       "    .dataframe thead th {\n",
       "        text-align: right;\n",
       "    }\n",
       "</style>\n",
       "<table border=\"1\" class=\"dataframe\">\n",
       "  <thead>\n",
       "    <tr style=\"text-align: right;\">\n",
       "      <th></th>\n",
       "      <th>prods</th>\n",
       "      <th>ip</th>\n",
       "      <th>tech</th>\n",
       "      <th>spin</th>\n",
       "      <th>pubs</th>\n",
       "      <th>amount</th>\n",
       "    </tr>\n",
       "  </thead>\n",
       "  <tbody>\n",
       "    <tr>\n",
       "      <th>prods</th>\n",
       "      <td>1.000000</td>\n",
       "      <td>0.154113</td>\n",
       "      <td>0.047016</td>\n",
       "      <td>0.094811</td>\n",
       "      <td>0.112599</td>\n",
       "      <td>0.041566</td>\n",
       "    </tr>\n",
       "    <tr>\n",
       "      <th>ip</th>\n",
       "      <td>0.154113</td>\n",
       "      <td>1.000000</td>\n",
       "      <td>0.045560</td>\n",
       "      <td>0.198853</td>\n",
       "      <td>0.086280</td>\n",
       "      <td>0.060164</td>\n",
       "    </tr>\n",
       "    <tr>\n",
       "      <th>tech</th>\n",
       "      <td>0.047016</td>\n",
       "      <td>0.045560</td>\n",
       "      <td>1.000000</td>\n",
       "      <td>0.089785</td>\n",
       "      <td>0.120521</td>\n",
       "      <td>0.052062</td>\n",
       "    </tr>\n",
       "    <tr>\n",
       "      <th>spin</th>\n",
       "      <td>0.094811</td>\n",
       "      <td>0.198853</td>\n",
       "      <td>0.089785</td>\n",
       "      <td>1.000000</td>\n",
       "      <td>0.116723</td>\n",
       "      <td>0.052717</td>\n",
       "    </tr>\n",
       "    <tr>\n",
       "      <th>pubs</th>\n",
       "      <td>0.112599</td>\n",
       "      <td>0.086280</td>\n",
       "      <td>0.120521</td>\n",
       "      <td>0.116723</td>\n",
       "      <td>1.000000</td>\n",
       "      <td>0.189787</td>\n",
       "    </tr>\n",
       "    <tr>\n",
       "      <th>amount</th>\n",
       "      <td>0.041566</td>\n",
       "      <td>0.060164</td>\n",
       "      <td>0.052062</td>\n",
       "      <td>0.052717</td>\n",
       "      <td>0.189787</td>\n",
       "      <td>1.000000</td>\n",
       "    </tr>\n",
       "  </tbody>\n",
       "</table>\n",
       "</div>"
      ],
      "text/plain": [
       "           prods        ip      tech      spin      pubs    amount\n",
       "prods   1.000000  0.154113  0.047016  0.094811  0.112599  0.041566\n",
       "ip      0.154113  1.000000  0.045560  0.198853  0.086280  0.060164\n",
       "tech    0.047016  0.045560  1.000000  0.089785  0.120521  0.052062\n",
       "spin    0.094811  0.198853  0.089785  1.000000  0.116723  0.052717\n",
       "pubs    0.112599  0.086280  0.120521  0.116723  1.000000  0.189787\n",
       "amount  0.041566  0.060164  0.052062  0.052717  0.189787  1.000000"
      ]
     },
     "execution_count": 76,
     "metadata": {},
     "output_type": "execute_result"
    }
   ],
   "source": [
    "#What is the correlation between different types of outputs...and level of funding?\n",
    "\n",
    "projects_imp[impact_names+['amount']].corr()"
   ]
  },
  {
   "cell_type": "markdown",
   "metadata": {},
   "source": [
    "Lots of potential confounders here - types of projects, disciplines..."
   ]
  },
  {
   "cell_type": "markdown",
   "metadata": {},
   "source": [
    "#### Some observations for next steps\n",
    "\n",
    "* Analysis focusing on 2006-2018\n",
    "* We need to integrate the topic data (new link file)?\n",
    "* Analyses of TRL/output by field will need to consider differences between disciplines in their outlets. To which extent are the disciplines in a mission field more or less productive than their constituent fields?\n",
    "* ...\n",
    "\n"
   ]
  },
  {
   "cell_type": "markdown",
   "metadata": {},
   "source": [
    "## 2. Process data"
   ]
  },
  {
   "cell_type": "markdown",
   "metadata": {},
   "source": [
    "* Classify projects into disciplines.\n",
    "  * I need the project topics for this labelling\n",
    "* Any TRL tags would go in here"
   ]
  },
  {
   "cell_type": "markdown",
   "metadata": {},
   "source": [
    "## 3. Query data"
   ]
  },
  {
   "cell_type": "markdown",
   "metadata": {},
   "source": [
    "### Word embeddings query / Clio query?"
   ]
  },
  {
   "cell_type": "code",
   "execution_count": null,
   "metadata": {},
   "outputs": [],
   "source": []
  }
 ],
 "metadata": {
  "kernelspec": {
   "display_name": "Python 3",
   "language": "python",
   "name": "python3"
  },
  "language_info": {
   "codemirror_mode": {
    "name": "ipython",
    "version": 3
   },
   "file_extension": ".py",
   "mimetype": "text/x-python",
   "name": "python",
   "nbconvert_exporter": "python",
   "pygments_lexer": "ipython3",
   "version": "3.7.1"
  }
 },
 "nbformat": 4,
 "nbformat_minor": 2
}
