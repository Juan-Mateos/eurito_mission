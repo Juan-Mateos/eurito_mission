{
 "cells": [
  {
   "cell_type": "markdown",
   "metadata": {},
   "source": [
    "# Mission field analysis\n",
    "\n",
    "We start the analisys of the enriched GTR dataset (see `01` and `02` notebooks)"
   ]
  },
  {
   "cell_type": "markdown",
   "metadata": {},
   "source": [
    "## Mission field analysis\n",
    "\n",
    "This notebooks analyses UK grant research data to produce indicators related to the government mission to 'transform the prevention, diagnosis and treatment of chronic diseases using AI'. \n",
    "\n",
    "Its input is a dataframe with information about UK research grants.\n",
    "\n",
    "Its output is a series of indicators and charts about:\n",
    "\n",
    "* Levels of activity in the mission\n",
    "* Evolution of activity in the mission\n",
    "* Feasibility of the mission\n",
    "* Composition of the mission in terms of:\n",
    "  * Disciplines\n",
    "  * Actors\n",
    "  * Trajectories\n",
    "\n",
    "In order to measure levels of activity in the mission, we need to identify a mission field, calculated as the intersection betweeen AI research and research related to chronic diseases. This will require us to identify AI and chronic disease papers, which we will do using natural language processing."
   ]
  },
  {
   "cell_type": "markdown",
   "metadata": {},
   "source": [
    "## Preamble"
   ]
  },
  {
   "cell_type": "code",
   "execution_count": 1,
   "metadata": {},
   "outputs": [],
   "source": [
    "%matplotlib inline\n",
    "\n",
    "from scipy.stats import entropy\n",
    "\n",
    "import matplotlib.pyplot as plt\n",
    "\n",
    "plt.rc('font', family = 'serif',serif='Times New Roman') "
   ]
  },
  {
   "cell_type": "code",
   "execution_count": 4,
   "metadata": {},
   "outputs": [],
   "source": [
    "# %load lda_pipeline.py\n",
    "from gensim import corpora, models\n",
    "from string import punctuation\n",
    "from string import digits\n",
    "import re\n",
    "import pandas as pd\n",
    "import numpy as np\n",
    "from gensim.models import Word2Vec\n",
    "\n",
    "#Characters to drop\n",
    "drop_characters = re.sub('-','',punctuation)+digits\n",
    "\n",
    "#Stopwords\n",
    "from nltk.corpus import stopwords\n",
    "\n",
    "stop = stopwords.words('English')\n",
    "\n",
    "#Stem functions\n",
    "from nltk.stem import *\n",
    "stemmer = PorterStemmer()\n",
    "\n",
    "def flatten_list(a_list):\n",
    "    return([x for el in a_list for x in el])\n",
    "\n",
    "\n",
    "def clean_tokenise(string,drop_characters=drop_characters,stopwords=stop):\n",
    "    '''\n",
    "    Takes a string and cleans (makes lowercase and removes stopwords)\n",
    "    \n",
    "    '''\n",
    "    \n",
    "\n",
    "    #Lowercase\n",
    "    str_low = string.lower()\n",
    "    \n",
    "    \n",
    "    #Remove symbols and numbers\n",
    "    str_letters = re.sub('[{drop}]'.format(drop=drop_characters),'',str_low)\n",
    "    \n",
    "    \n",
    "    #Remove stopwords\n",
    "    clean = [x for x in str_letters.split(' ') if (x not in stop) & (x!='')]\n",
    "    \n",
    "    return(clean)\n",
    "\n",
    "\n",
    "class CleanTokenize():\n",
    "    '''\n",
    "    This class takes a list of strings and returns a tokenised, clean list of token lists ready\n",
    "    to be processed with the LdaPipeline\n",
    "    \n",
    "    It has a clean method to remove symbols and stopwords\n",
    "    \n",
    "    It has a bigram method to detect collocated words\n",
    "    \n",
    "    It has a stem method to stem words\n",
    "    \n",
    "    '''\n",
    "    \n",
    "    def __init__(self,corpus):\n",
    "        '''\n",
    "        Takes a corpus (list where each element is a string)\n",
    "        '''\n",
    "        \n",
    "        #Store\n",
    "        self.corpus = corpus\n",
    "        \n",
    "    def clean(self,drop=drop_characters,stopwords=stop):\n",
    "        '''\n",
    "        Removes strings and stopwords, \n",
    "        \n",
    "        '''\n",
    "        \n",
    "        cleaned = [clean_tokenise(doc,drop_characters=drop,stopwords=stop) for doc in self.corpus]\n",
    "        \n",
    "        self.tokenised = cleaned\n",
    "        return(self)\n",
    "    \n",
    "    def stem(self):\n",
    "        '''\n",
    "        Optional: stems words\n",
    "        \n",
    "        '''\n",
    "        #Stems each word in each tokenised sentence\n",
    "        stemmed = [[stemmer.stem(word) for word in sentence] for sentence in self.tokenised]\n",
    "    \n",
    "        self.tokenised = stemmed\n",
    "        return(self)\n",
    "        \n",
    "    \n",
    "    def ngram(self,threshold=10,times=1):\n",
    "        '''\n",
    "        Optional Create bigrams.\n",
    "        \n",
    "        '''\n",
    "        \n",
    "        counter = times\n",
    "        \n",
    "        while counter >0:\n",
    "        \n",
    "        #Colocation detector trained on the data\n",
    "            phrases = models.Phrases(self.tokenised,threshold=threshold)\n",
    "        \n",
    "            bigram = models.phrases.Phraser(phrases)\n",
    "        \n",
    "            self.tokenised = bigram[self.tokenised]\n",
    "            \n",
    "            counter = counter -1\n",
    "        \n",
    "        return(self)\n",
    "        \n",
    "class LdaPipeline():\n",
    "    '''\n",
    "    This class processes lists of keywords.\n",
    "    How does it work?\n",
    "    -It is initialised with a list where every element is a collection of keywords\n",
    "    -It has a method to filter keywords removing those that appear less than a set number of times\n",
    "    \n",
    "    -It has a method to process the filtered df into an object that gensim can work with\n",
    "    -It has a method to train the LDA model with the right parameters\n",
    "    -It has a method to predict the topics in a corpus\n",
    "    \n",
    "    '''\n",
    "    \n",
    "    def __init__(self,corpus):\n",
    "        '''\n",
    "        Takes the list of terms\n",
    "        '''\n",
    "        \n",
    "        #Store the corpus\n",
    "        self.tokenised = corpus\n",
    "        \n",
    "    def filter(self,minimum=5):\n",
    "        '''\n",
    "        Removes keywords that appear less than 5 times.\n",
    "        \n",
    "        '''\n",
    "        \n",
    "        #Load\n",
    "        tokenised = self.tokenised\n",
    "        \n",
    "        #Count tokens\n",
    "        token_counts = pd.Series([x for el in tokenised for x in el]).value_counts()\n",
    "        \n",
    "        #Tokens to keep\n",
    "        keep = token_counts.index[token_counts>minimum]\n",
    "        \n",
    "        #Filter\n",
    "        tokenised_filtered = [[x for x in el if x in keep] for el in tokenised]\n",
    "        \n",
    "        #Store\n",
    "        self.tokenised = tokenised_filtered\n",
    "        self.empty_groups = np.sum([len(x)==0 for x in tokenised_filtered])\n",
    "        \n",
    "        return(self)\n",
    "        \n",
    "    def process(self):\n",
    "        '''\n",
    "        This creates the bag of words we use in the gensim analysis\n",
    "        \n",
    "        '''\n",
    "        #Load the list of keywords\n",
    "        tokenised = self.tokenised\n",
    "        \n",
    "        #Create the dictionary\n",
    "        dictionary = corpora.Dictionary(tokenised)\n",
    "        \n",
    "        #Create the Bag of words. This converts keywords into ids\n",
    "        corpus = [dictionary.doc2bow(x) for x in tokenised]\n",
    "        \n",
    "        self.corpus = corpus\n",
    "        self.dictionary = dictionary\n",
    "        return(self)\n",
    "        \n",
    "    def tfidf(self):\n",
    "        '''\n",
    "        This is optional: We extract the term-frequency inverse document frequency of the words in\n",
    "        the corpus. The idea is to identify those keywords that are more salient in a document by normalising over\n",
    "        their frequency in the whole corpus\n",
    "        \n",
    "        '''\n",
    "        #Load the corpus\n",
    "        corpus = self.corpus\n",
    "        \n",
    "        #Fit a TFIDF model on the data\n",
    "        tfidf = models.TfidfModel(corpus)\n",
    "        \n",
    "        #Transform the corpus and save it\n",
    "        self.corpus = tfidf[corpus]\n",
    "        \n",
    "        return(self)\n",
    "    \n",
    "    def fit_lda(self,num_topics=20,passes=5,iterations=75,random_state=1803):\n",
    "        '''\n",
    "        \n",
    "        This fits the LDA model taking a set of keyword arguments.\n",
    "        #Number of passes, iterations and random state for reproducibility. We will have to consider\n",
    "        reproducibility eventually.\n",
    "        \n",
    "        '''\n",
    "        \n",
    "        #Load the corpus\n",
    "        corpus = self.corpus\n",
    "        \n",
    "        #Train the LDA model with the parameters we supplied\n",
    "        lda = models.LdaModel(corpus,id2word=self.dictionary,\n",
    "                              num_topics=num_topics,passes=passes,iterations=iterations,random_state=random_state)\n",
    "        \n",
    "        #Save the outputs\n",
    "        self.lda_model = lda\n",
    "        self.lda_topics = lda.show_topics(num_topics=num_topics)\n",
    "        \n",
    "\n",
    "        return(self)\n",
    "    \n",
    "    def predict_topics(self):\n",
    "        '''\n",
    "        This predicts the topic mix for every observation in the corpus\n",
    "        \n",
    "        '''\n",
    "        #Load the attributes we will be working with\n",
    "        lda = self.lda_model\n",
    "        corpus = self.corpus\n",
    "        \n",
    "        #Now we create a df\n",
    "        predicted = lda[corpus]\n",
    "        \n",
    "        #Convert this into a dataframe\n",
    "        predicted_df = pd.concat([pd.DataFrame({x[0]:x[1] for x in topics},\n",
    "                                              index=[num]) for num,topics in enumerate(predicted)]).fillna(0)\n",
    "        \n",
    "        self.predicted_df = predicted_df\n",
    "        \n",
    "        return(self)\n",
    "    "
   ]
  },
  {
   "cell_type": "markdown",
   "metadata": {},
   "source": [
    "## Load data"
   ]
  },
  {
   "cell_type": "code",
   "execution_count": 2,
   "metadata": {},
   "outputs": [],
   "source": [
    "#Load projects\n",
    "projects = pd.read_csv('/Users/jmateosgarcia/Desktop/gtr/gtr_data/data/processed/21_5_2019_combined_gtr_projects.csv',compression='zip')"
   ]
  },
  {
   "cell_type": "code",
   "execution_count": 2,
   "metadata": {},
   "outputs": [
    {
     "ename": "NameError",
     "evalue": "name 'projects' is not defined",
     "output_type": "error",
     "traceback": [
      "\u001b[0;31m---------------------------------------------------------------------------\u001b[0m",
      "\u001b[0;31mNameError\u001b[0m                                 Traceback (most recent call last)",
      "\u001b[0;32m<ipython-input-2-3f38c3208eac>\u001b[0m in \u001b[0;36m<module>\u001b[0;34m()\u001b[0m\n\u001b[1;32m      1\u001b[0m \u001b[0;31m#We focus on research grants\u001b[0m\u001b[0;34m\u001b[0m\u001b[0;34m\u001b[0m\u001b[0;34m\u001b[0m\u001b[0m\n\u001b[0;32m----> 2\u001b[0;31m \u001b[0mprojects\u001b[0m \u001b[0;34m=\u001b[0m \u001b[0mprojects\u001b[0m\u001b[0;34m.\u001b[0m\u001b[0mloc\u001b[0m\u001b[0;34m[\u001b[0m\u001b[0mprojects\u001b[0m\u001b[0;34m.\u001b[0m\u001b[0mgrant_category\u001b[0m\u001b[0;34m==\u001b[0m\u001b[0;34m'Research Grant'\u001b[0m\u001b[0;34m]\u001b[0m\u001b[0;34m.\u001b[0m\u001b[0mreset_index\u001b[0m\u001b[0;34m(\u001b[0m\u001b[0mdrop\u001b[0m\u001b[0;34m=\u001b[0m\u001b[0;32mTrue\u001b[0m\u001b[0;34m)\u001b[0m\u001b[0;34m\u001b[0m\u001b[0;34m\u001b[0m\u001b[0m\n\u001b[0m",
      "\u001b[0;31mNameError\u001b[0m: name 'projects' is not defined"
     ]
    }
   ],
   "source": [
    "#We focus on research grants\n",
    "projects = projects.loc[projects.grant_category=='Research Grant'].reset_index(drop=True)"
   ]
  },
  {
   "cell_type": "markdown",
   "metadata": {},
   "source": [
    "## Identify relevant projects (AI and chronic diseases)"
   ]
  },
  {
   "cell_type": "code",
   "execution_count": 5,
   "metadata": {},
   "outputs": [],
   "source": [
    "#Create sentence corpus\n",
    "sentence_corpus = flatten_list([x.split('. ') for x in projects['abstract']])\n",
    "\n",
    "#Tokenize etc using the classes above\n",
    "sentence_tokenised = CleanTokenize(sentence_corpus).clean().ngram(times=2)\n",
    "\n",
    "#Also tokenise by documents so we can query them later\n",
    "corpus_tokenised = CleanTokenize(projects['abstract']).clean().ngram(times=2)\n"
   ]
  },
  {
   "cell_type": "code",
   "execution_count": 6,
   "metadata": {},
   "outputs": [],
   "source": [
    "# with open(f'../models/{today_str}_word_embeddings.p','wb') as outfile:\n",
    "#     pickle.dump(w2v,outfile)"
   ]
  },
  {
   "cell_type": "code",
   "execution_count": 7,
   "metadata": {},
   "outputs": [],
   "source": [
    "def similarity_chaser(seed_list,model,similarity,occurrences=1):\n",
    "    '''\n",
    "    Takes a seed term and expands it with synonyms (above a certain similarity threshold)\n",
    "    \n",
    "    '''\n",
    "    \n",
    "    #All synonyms of the terms in the seed_list above a certain threshold\n",
    "    set_ws = flatten_list([[term[0] for term in model.most_similar(seed) if term[1]>similarity] for seed in seed_list])\n",
    "    \n",
    "    #return(set_ws)\n",
    "    \n",
    "    #This is the list of unique occurrences (what we want to return at the end)\n",
    "    set_ws_list = list(set(set_ws))\n",
    "    \n",
    "    #For each term, if it appears multiple times, we expand\n",
    "    for w in set_ws:\n",
    "        if set_ws.count(w)>occurrences:\n",
    "            \n",
    "            #As before\n",
    "            extra_words = [term[0] for term in model.wv.most_similar(w) if term[1]>similarity]\n",
    "            \n",
    "            set_ws_list + extra_words\n",
    "            \n",
    "    #return(list(set(set_ws_list)))\n",
    "    #return(set_ws_list)\n",
    "    return(set_ws)\n",
    "\n",
    "    \n",
    "def querier(corpus,keywords):\n",
    "    '''\n",
    "    Loops over a tokenised corpus and returns varios measures indicating the presence of keywords in it.\n",
    "    \n",
    "    This includes:\n",
    "    \n",
    "    * Whether at least one keyword appears\n",
    "    * How many keywords appear\n",
    "    * What keywords appear\n",
    "    \n",
    "    \n",
    "    '''\n",
    "    #Empty dict with keywords\n",
    "    #kw_dict = {k:[] for k in keywords}\n",
    "    \n",
    "    #Loop through the corpus and create a vectorised df of the keywords\n",
    "    \n",
    "    out = pd.concat([pd.Series({x:(doc.count(x)) for x in keywords}) for doc in corpus],axis=1).T\n",
    "    \n",
    "    \n",
    "    #print(kw_dict)\n",
    "    #Note that this also returns a sum of the keywords over the rows and a \n",
    "    return([out, out.sum(axis=1)])\n",
    "    \n",
    "\n",
    "#     #Intersection of tokens\n",
    "#     if intersect==True:\n",
    "    \n",
    "#         out = [len(set(keywords) & set(document)) for document in corpus]\n",
    "    \n",
    "#     else:\n",
    "#     #Otherwise it counts the total of tokens present in an abstract\n",
    "        \n",
    "#         out = [np.sum([x.count(k) for k in keywords]) for x in corpus]\n",
    "    \n",
    "    \n",
    "    \n",
    "    \n",
    "    return(out)\n",
    "    \n",
    "    "
   ]
  },
  {
   "cell_type": "markdown",
   "metadata": {},
   "source": [
    "### AI and Chronic diseases (crude keyword search-based)"
   ]
  },
  {
   "cell_type": "code",
   "execution_count": 8,
   "metadata": {},
   "outputs": [],
   "source": [
    "#These are prototype words. \n",
    "ai_seed = ['machine_learning','artificial_intelligence','deep_learning','ai','machine_vision','text_mining','data_mining']\n",
    "chronic_seed = ['chronic_disease','chronic_condition','addiction','alzheimers','atrial_fibrillation','autoimmune_disease',\n",
    "               'lupus','bipolar_disorder','blindness','cerebral_palsy','chronic_hepatitis','depression','chronic_pain',\n",
    "               'deafness','blindness','endometriosis','epilepsy','hiv','aids','huntingtons','hypertension','lyme',\n",
    "               'sclerosis','parkinsons','sickle_cell','cancer','cardiovascular_disease','diabetes']\n",
    "\n",
    "\n",
    "discs = [x for x in projects.columns if ('disc_' in x) & ('top' not in x)]\n",
    "\n",
    "imps = [x for x in projects.columns if ('out_' in x)]"
   ]
  },
  {
   "cell_type": "code",
   "execution_count": 9,
   "metadata": {},
   "outputs": [],
   "source": [
    "def random_check(corpus,num,length):\n",
    "    '''\n",
    "    Prints num random examples form corpus\n",
    "    \n",
    "    '''\n",
    "    \n",
    "    selected = np.random.randint(0,len(corpus),num)\n",
    "    \n",
    "    texts  = [text for num,text in enumerate(corpus) if num in selected]\n",
    "    \n",
    "    for t in texts:\n",
    "        print(t[:length])\n",
    "        print('====')"
   ]
  },
  {
   "cell_type": "code",
   "execution_count": 10,
   "metadata": {},
   "outputs": [],
   "source": [
    "class missionKeywords():\n",
    "    '''\n",
    "    \n",
    "    input: a list of projects with descriptions, dates, funding and outputs.\n",
    "    \n",
    "    -Expands keywords in a model (this could be clio or something else\n",
    "    '''\n",
    "    \n",
    "    def __init__(self,projects,corpus_tokenised,model):\n",
    "        '''\n",
    "        \n",
    "        Initialises the class with the projects and the w2v model we will use.\n",
    "        \n",
    "        '''\n",
    "        \n",
    "        self.projects = projects\n",
    "\n",
    "        #This is the project df but with text description tokenised. We query it with the keywords \n",
    "        \n",
    "        self.tokenised = corpus_tokenised\n",
    "        self.w2v = model\n",
    "        \n",
    "        \n",
    "    def keyword_expansion(self,mission_dict,thres):\n",
    "        '''\n",
    "        \n",
    "        Expands a seed list of keywords. We input those as a dict where key corresponds to the type of input (solution or\n",
    "        challenge, say) and the values are a list with the name of the entity (eg 'AI') and the seedlist to expand\n",
    "        \n",
    "        '''\n",
    "        \n",
    "        #Store the names eg 'challenge_chronic'\n",
    "        self.names = [v[0] for k,v in mission_dict.items()]\n",
    "        \n",
    "        #Store the keywords\n",
    "        self.keywords = [v[1] for k,v in mission_dict.items()]\n",
    "        \n",
    "        #Expand the keywords\n",
    "        self.expanded_keywords = [list(set(kw + similarity_chaser(seed_list=kw,model=self.w2v,similarity=thres))) for\n",
    "                                 kw in self.keywords]\n",
    "        \n",
    "        return(self)\n",
    "        \n",
    "    "
   ]
  },
  {
   "cell_type": "code",
   "execution_count": 11,
   "metadata": {},
   "outputs": [],
   "source": [
    "class missionClassifier(missionKeywords):\n",
    "    '''\n",
    "    Classifies projects based on their keywords\n",
    "    \n",
    "    '''\n",
    "    \n",
    "    def __init__(self,missionKeywords):\n",
    "        '''\n",
    "        Initialise\n",
    "        \n",
    "        '''\n",
    "        \n",
    "        self.projects_labelled = missionKeywords.projects.copy()\n",
    "        self.tokenised = missionKeywords.tokenised\n",
    "        self.names = missionKeywords.names\n",
    "        self.expanded_keywords = missionKeywords.expanded_keywords\n",
    "    \n",
    "    \n",
    "    def filter_keywords(self,kws_to_drop):\n",
    "        '''\n",
    "        We can use it to drop irrelevant keywords. We \n",
    "        \n",
    "        '''\n",
    "                      \n",
    "        #self.projects_labelled = self.projects_labelled[[x for x in self.projects_labelled.columns if x not in kws_to_drop]]\n",
    "        \n",
    "        self.expanded_keywords = [[x for x in kwset if x not in kws_to_drop] for kwset in self.expanded_keywords]\n",
    "        \n",
    "        \n",
    "        return(self)\n",
    "   \n",
    "    \n",
    "        \n",
    "    \n",
    "    def query_data(self,verbose=True):\n",
    "        '''\n",
    "        Queries the data with the keywords. It stores two attributes: the kw counts contain the counts by keywords \n",
    "        and challenge name; it also stores the projects labelled with an extra variable that\n",
    "        counts the number of times that keywords in either set of keywords appears in the data.\n",
    "        \n",
    "        '''\n",
    "        \n",
    "        self.kw_counts = {}\n",
    "        \n",
    "        projects_labelled = self.projects_labelled\n",
    "        tokenised = self.tokenised\n",
    "        \n",
    "        #We look for projects with keywords. Loop over name and extract the right index from the expanded keyword set.\n",
    "        #This could also work as a dict.\n",
    "        \n",
    "        for num,name in enumerate(self.names):\n",
    "            \n",
    "            if verbose==True:\n",
    "                print(name)\n",
    "            \n",
    "            outputs = querier(tokenised,self.expanded_keywords[num])\n",
    "            \n",
    "            self.kw_counts[name] = outputs[0]\n",
    "            \n",
    "            projects_labelled[name] = outputs[1]\n",
    "            \n",
    "        self.projects_labelled = projects_labelled\n",
    "        \n",
    "        return(self)\n",
    "        \n",
    "        \n",
    "        \n",
    "    "
   ]
  },
  {
   "cell_type": "code",
   "execution_count": 12,
   "metadata": {},
   "outputs": [],
   "source": [
    "class missionProfiler(missionClassifier):\n",
    "    '''\n",
    "    Takes as input an instance of the class missionClassifier\n",
    "\n",
    "    -Generates some descriptive statistics about the projects\n",
    "    -Generates some graphs about the projects.\n",
    "    \n",
    "    '''\n",
    "    \n",
    "    def __init__(self,missionClassifier):\n",
    "        '''\n",
    "        \n",
    "        Initialise\n",
    "        '''\n",
    "        \n",
    "        self.projects_labelled = missionClassifier.projects_labelled.copy()\n",
    "        self.names = missionClassifier.names.copy()\n",
    "        self.expanded_keywords = missionClassifier.expanded_keywords.copy()\n",
    "        \n",
    "        self.column_names = [self.names[0]+'_and_'+self.names[1],self.names[0],self.names[1]]\n",
    "    \n",
    "    \n",
    "    def mission_examples(self,n,length,text_var='abstract',thr=0):\n",
    "        '''\n",
    "        Prints n examples of missions using the text variable that was specified\n",
    "        \n",
    "        '''\n",
    "        \n",
    "        names = self.names\n",
    "        \n",
    "        for name in names:\n",
    "            print(name)\n",
    "            print('\\n')\n",
    "            \n",
    "            random_check(corpus=list(self.projects_labelled.loc[self.projects_labelled[name]>thr,text_var]),\n",
    "                         num=n,\n",
    "                         length=200)\n",
    "            \n",
    "            print('\\n')\n",
    "        \n",
    "        print(names[0]+' and ' + names[1])\n",
    "        print('\\n')\n",
    "        random_check(corpus=list(self.projects_labelled.loc[\n",
    "            (self.projects_labelled[names[0]]>thr) & (self.projects_labelled[names[1]]>thr),text_var]),\n",
    "                         num=n,\n",
    "                         length=length)\n",
    "            \n",
    "        \n",
    "        \n",
    "    def mission_field_basics(self,field_filter=[0,0],verbose=True):\n",
    "        '''\n",
    "        Generates estimates of activity in a field. field_filter refers to whether\n",
    "        '''\n",
    "        \n",
    "        projects = self.projects_labelled\n",
    "        names = self.names\n",
    "        \n",
    "        #Do the filter. Note that we assume that the user here will have done some EDA of the results to choose the right\n",
    "        #filter.\n",
    "        \n",
    "        #Binarise. Note that the default assumes that the values here are a \n",
    "        for num,n in enumerate(names):\n",
    "            projects[n] = projects[n].apply(lambda x: 1 if x> field_filter[num] else 0)\n",
    "            \n",
    "        \n",
    "        \n",
    "        #What's the size of the potential and effective mission field?\n",
    "        #TODO: generalise to more than two fields.\n",
    "        \n",
    "        #Potential mission field\n",
    "        union = projects.loc[(projects[names[0]]==True)|(projects[names[1]]==True),:]\n",
    "\n",
    "        #Active mission field\n",
    "        intersection = projects.loc[(projects[names[0]]==True)& (projects[names[1]]==True),:]\n",
    "\n",
    "        #field 0 totals\n",
    "        field_0 = projects.loc[(projects[names[0]]==True),:]\n",
    "\n",
    "        #Fields 1 totals\n",
    "        field_1 = projects.loc[(projects[names[1]]==True),:]\n",
    "        \n",
    "        #We are not very interested in the union of fields\n",
    "        self.sets = [intersection,field_0,field_1]\n",
    "\n",
    "        summary = {names[0]+'_or_'+names[1]:len(union),\n",
    "                   names[0]+'_and_'+names[1]:len(intersection),\n",
    "                   names[0]+'_total':len(field_0),\n",
    "                   names[1]+'_total':len(field_1)}\n",
    "        \n",
    "        if verbose==True:\n",
    "            print(summary)\n",
    "        \n",
    "        #Store the mission summary\n",
    "        self.mission_summary = summary\n",
    "        \n",
    "               \n",
    "        #Mission basics (over / underrepresentation of )\n",
    "        mission_basics = pd.Series([100*len(intersection)/len(field_0),100*len(field_1)/len(projects),\n",
    "                                    100*len(intersection)/len(field_1),100*len(field_0)/len(projects)],\n",
    "               index=[names[0]+'_and_'+names[1]+'as_share_of_'+names[0],\n",
    "                      names[1]+'_as_share_of all',\n",
    "                      names[0]+'_and_'+names[1]+'_as_share_of'+names[1],\n",
    "                      names[0]+'_as_share_of all'])\n",
    "        \n",
    "        self.mission_basics = mission_basics\n",
    "        \n",
    "        return(self)\n",
    "        \n",
    "    def mission_trends(self,years=[2006,2019],funding=False,year_var='year'):\n",
    "        '''\n",
    "        Calculates mission trends over time.\n",
    "        \n",
    "        '''\n",
    "        \n",
    "        #Extract projects\n",
    "        projects =self.projects_labelled\n",
    "        \n",
    "        names = self.names\n",
    "        \n",
    "        #Results dict\n",
    "        \n",
    "        self.trends = {}\n",
    "        \n",
    "        \n",
    "        #####\n",
    "        #Year trends\n",
    "        #####\n",
    "        \n",
    "        #Year counts for each variable of interest\n",
    "        trends = pd.concat([df[year_var].value_counts(normalize=1) for df in self.sets],axis=1)\n",
    "        \n",
    "        trends.columns =self.column_names\n",
    "        \n",
    "        project_trends = trends.loc[(trends.index>years[0]) & (trends.index<years[1])]\n",
    "        \n",
    "        self.trends['project_trends'] = project_trends\n",
    "        \n",
    "        \n",
    "        #And also look at funding (if available)\n",
    "        if funding!=False:\n",
    "            \n",
    "            #This calculates totals of funding and normalises over the interval to see if recent periods have more activity\n",
    "            \n",
    "            funding_trends = pd.concat([df.groupby(year_var)[funding].sum() for df in self.sets],axis=1)\n",
    "            \n",
    "            funding_trends.columns = self.column_names\n",
    "            \n",
    "            funding_norm = funding_trends.apply(lambda x: x/x.sum(),axis=0)\n",
    "            \n",
    "            funding_norm = funding_norm.loc[(funding_norm.index>years[0]) & (funding_norm.index<years[1])]\n",
    "\n",
    "            self.trends['funding_trends'] = funding_norm\n",
    "    \n",
    "        \n",
    "        ####\n",
    "        #Yearly shares\n",
    "        ####\n",
    "        \n",
    "        #Normalises for each period. NB there is a loooot of repetition below. Need to refactor.\n",
    "        \n",
    "        trends_as_share = pd.concat([df.year.value_counts() for df in self.sets],axis=1)\n",
    "\n",
    "        trends_as_share.columns = self.column_names\n",
    "\n",
    "        #This gets the number of projects in the mission as a share of the total\n",
    "        trends_as_share[\n",
    "            f'mission_field_share_{names[0]}'],trends_as_share[f'mission_field_share_{names[1]}'] = [\n",
    "            trends_as_share.iloc[:,0]/trends_as_share.iloc[:,num] for num in [1,2]]\n",
    "        \n",
    "        trends_as_share = trends_as_share.loc[(trends_as_share.index>years[0]) & (trends_as_share.index<years[1])]\n",
    "        \n",
    "        self.trends['project_shares'] = trends_as_share\n",
    "        \n",
    "        #And also funding (if available)\n",
    "        \n",
    "        if funding != False:\n",
    "            \n",
    "            #We use the funding trend df from above\n",
    "            funding_as_share = funding_trends.copy()\n",
    "            \n",
    "            funding_as_share[\n",
    "                f'mission_field_share_{names[0]}'],funding_as_share[f'mission_field_share_{names[1]}'] = [\n",
    "                funding_as_share.iloc[:,0]/funding_as_share.iloc[:,num] for num in [1,2]]\n",
    "            \n",
    "            funding_as_share = funding_as_share.loc[(funding_as_share.index>years[0]) & (funding_as_share.index<years[1])]\n",
    "            \n",
    "            self.trends['funding_shares'] = funding_as_share\n",
    "            \n",
    "        return(self)\n",
    "            \n",
    "            \n",
    "    def funder_trends(self,years=[2006,2019],funder_var='funder',year_var='year',funding=False):\n",
    "        '''\n",
    "        Funding plots\n",
    "        \n",
    "        '''\n",
    "        \n",
    "        \n",
    "        self.funders = {}\n",
    "        \n",
    "        names = self.names\n",
    "        \n",
    "        #####\n",
    "        #Funding totals\n",
    "        ####\n",
    "        \n",
    "        #As before... this gets funder shares of activity\n",
    "        funders = pd.concat([df[funder_var].value_counts(normalize=1) for df in self.sets],axis=1)\n",
    "\n",
    "        funders.columns = self.column_names\n",
    "        \n",
    "        self.funders['funder_projects'] = funders\n",
    "        \n",
    "        #If we want to look at funding\n",
    "        \n",
    "        if funding != False:\n",
    "            funding_shares = pd.concat([df.groupby(funder_var)[funding].sum() for df in self.sets],axis=1)\n",
    "            \n",
    "            funding_shares = funding_shares.apply(lambda x: x/x.sum(),axis=0)\n",
    "            \n",
    "            funding_shares.columns = self.column_names\n",
    "        \n",
    "            self.funders['funder_funding'] = funding_shares\n",
    "\n",
    "        ######\n",
    "        #Funding trends\n",
    "        ######\n",
    "        \n",
    "        mission_field = self.sets[0]\n",
    "        \n",
    "        self.funders['funder_project_trends'] = pd.crosstab(mission_field[year_var],mission_field[funder_var])\n",
    "        \n",
    "        if funding != False:\n",
    "            \n",
    "            funder_funding_trends = mission_field.groupby([year_var,funder_var])[funding].sum()\n",
    "            \n",
    "            \n",
    "            \n",
    "            self.funders['funder_funding_trends'] = pd.pivot_table(\n",
    "                funder_funding_trends.reset_index(drop=False),index=year_var,columns=funder_var,values=funding).fillna(0)\n",
    "            \n",
    "        return(self)\n",
    "            \n",
    "            \n",
    "    def discipline_analysis(self,disc_vars = discs,thres=0.1):\n",
    "        '''\n",
    "        Estimates rough measures of interdisciplinarity for projects\n",
    "        '''\n",
    "        \n",
    "        #Calculates the entropy for each project and stores it in the sets\n",
    "        self.sets[0]['entropy'],self.sets[1]['entropy'],self.sets[2]['entropy'], = [\n",
    "            df[disc_vars].apply(entropy,axis=1) for df in self.sets]\n",
    "        \n",
    "        \n",
    "        disc_distr = pd.concat([df[disc_vars].applymap(lambda x: x>thres).sum(axis=1).value_counts(normalize=True) \n",
    "                                  for df in self.sets],axis=1).fillna(0)\n",
    "\n",
    "\n",
    "        disc_distr.columns = self.column_names\n",
    "        \n",
    "        \n",
    "        self.discipline_mix = disc_distr\n",
    "        \n",
    "        return(self)\n",
    "        \n",
    "        \n",
    "\n",
    "    def impact_mix(self,years=[2006,2019],year_var='year',impact_vars=imps):\n",
    "        \n",
    "        '''\n",
    "        Compares impact stats in different fields.\n",
    "        '''\n",
    "        \n",
    "        \n",
    "        imps_share = pd.concat([df.loc[\n",
    "            (df[year_var]>years[0]) & (df[year_var]<years[1]),impact_vars].mean() for df in self.sets],axis=1)\n",
    "        \n",
    "        imps_share.columns = self.column_names\n",
    "\n",
    "        imps_norm = imps_share.T/imps_share.T.mean()\n",
    "        \n",
    "        self.impacts = [imps_share,imps_norm]\n",
    "        \n",
    "        return(self)\n",
    "    \n",
    "        \n",
    "        \n",
    "        \n",
    "           "
   ]
  },
  {
   "cell_type": "markdown",
   "metadata": {},
   "source": [
    "#### Classify projects into categories using the expanded keyword search"
   ]
  },
  {
   "cell_type": "code",
   "execution_count": 13,
   "metadata": {},
   "outputs": [],
   "source": [
    "# #Create sentence corpus\n",
    "# sentence_corpus = flatten_list([x.split('. ') for x in projects['abstract']])\n",
    "\n",
    "\n",
    "# #Tokenize etc using the classes above\n",
    "# sentence_tokenised = CleanTokenize(sentence_corpus).clean().ngram(times=2)\n",
    "\n",
    "# #Also tokenise by documents so we can query them later\n",
    "# corpus_tokenised = CleanTokenize(projects['abstract']).clean().ngram(times=2)\n"
   ]
  },
  {
   "cell_type": "markdown",
   "metadata": {},
   "source": [
    "#### Here we will do some grid search to figure out what strategies for expansion generate better results.\n",
    "\n",
    "We perform this search with the window for the `Word2vec` model and with the similarity in the search\n",
    "\n",
    "\n",
    "\n"
   ]
  },
  {
   "cell_type": "code",
   "execution_count": 14,
   "metadata": {},
   "outputs": [],
   "source": [
    "window_frame = [1,5,10,15,20,25]\n",
    "\n",
    "similarity_interval = [0.7,0.75,0.8,0.85,0.9]"
   ]
  },
  {
   "cell_type": "code",
   "execution_count": 15,
   "metadata": {},
   "outputs": [],
   "source": [
    "from itertools import product\n",
    "\n",
    "combs = list(product(window_frame,similarity_interval))"
   ]
  },
  {
   "cell_type": "code",
   "execution_count": 16,
   "metadata": {},
   "outputs": [
    {
     "name": "stdout",
     "output_type": "stream",
     "text": [
      "0\n"
     ]
    },
    {
     "name": "stderr",
     "output_type": "stream",
     "text": [
      "/usr/local/lib/python3.7/site-packages/ipykernel_launcher.py:8: DeprecationWarning: Call to deprecated `most_similar` (Method will be removed in 4.0.0, use self.wv.most_similar() instead).\n",
      "  \n",
      "/usr/local/lib/python3.7/site-packages/gensim/matutils.py:737: FutureWarning: Conversion of the second argument of issubdtype from `int` to `np.signedinteger` is deprecated. In future, it will be treated as `np.int64 == np.dtype(int).type`.\n",
      "  if np.issubdtype(vec.dtype, np.int):\n"
     ]
    },
    {
     "name": "stdout",
     "output_type": "stream",
     "text": [
      "1\n",
      "2\n",
      "3\n",
      "4\n",
      "5\n",
      "6\n",
      "7\n",
      "8\n",
      "9\n",
      "10\n",
      "11\n",
      "12\n",
      "13\n",
      "14\n",
      "15\n",
      "16\n",
      "17\n",
      "18\n",
      "19\n",
      "20\n",
      "21\n",
      "22\n",
      "23\n",
      "24\n",
      "25\n",
      "26\n",
      "27\n",
      "28\n",
      "29\n"
     ]
    }
   ],
   "source": [
    "#My idea here is to extract the keywords for different combinations of parameters and then look at their distributioin. Keywords that appear frequently are more \n",
    "#likely to be related to the initial seed.\n",
    "\n",
    "kws = []\n",
    "\n",
    "for n,item in enumerate(combs):\n",
    "    \n",
    "    print(n)\n",
    "    \n",
    "    #Train the word2vec model using the window parameter\n",
    "    w2v_model = Word2Vec(sentence_tokenised.tokenised,window=item[0])\n",
    "    \n",
    "    #Initialise the mission keyword expander and expand\n",
    "    mk = missionKeywords(projects,corpus_tokenised.tokenised,w2v_model)\n",
    "\n",
    "    mission_dict = {'solution':['ai',ai_seed],'challenge':['chronic_condition',chronic_seed]}\n",
    "\n",
    "    mk.keyword_expansion(mission_dict,thres=item[1])\n",
    "    \n",
    "    \n",
    "    \n",
    "    kws.append(mk)"
   ]
  },
  {
   "cell_type": "code",
   "execution_count": 17,
   "metadata": {},
   "outputs": [
    {
     "name": "stdout",
     "output_type": "stream",
     "text": [
      "ai\n",
      "chronic_condition\n",
      "ai\n",
      "chronic_condition\n",
      "ai\n",
      "chronic_condition\n",
      "ai\n",
      "chronic_condition\n",
      "ai\n",
      "chronic_condition\n",
      "ai\n",
      "chronic_condition\n",
      "ai\n",
      "chronic_condition\n",
      "ai\n",
      "chronic_condition\n",
      "ai\n",
      "chronic_condition\n",
      "ai\n",
      "chronic_condition\n",
      "ai\n",
      "chronic_condition\n",
      "ai\n",
      "chronic_condition\n",
      "ai\n",
      "chronic_condition\n",
      "ai\n",
      "chronic_condition\n",
      "ai\n",
      "chronic_condition\n",
      "ai\n",
      "chronic_condition\n",
      "ai\n",
      "chronic_condition\n",
      "ai\n",
      "chronic_condition\n",
      "ai\n",
      "chronic_condition\n",
      "ai\n",
      "chronic_condition\n",
      "ai\n",
      "chronic_condition\n",
      "ai\n",
      "chronic_condition\n",
      "ai\n",
      "chronic_condition\n",
      "ai\n",
      "chronic_condition\n",
      "ai\n",
      "chronic_condition\n",
      "ai\n",
      "chronic_condition\n",
      "ai\n",
      "chronic_condition\n",
      "ai\n",
      "chronic_condition\n",
      "ai\n",
      "chronic_condition\n",
      "ai\n",
      "chronic_condition\n"
     ]
    }
   ],
   "source": [
    "#Now we extract the labels generated by the keywords identified in each of the models\n",
    "\n",
    "\n",
    "labels = []\n",
    "\n",
    "for n,ob in enumerate(kws):\n",
    "    mc = missionClassifier(ob)\n",
    "    mc.query_data()\n",
    "    \n",
    "    labs = mc.projects_labelled[['project_id','ai','chronic_condition']]\n",
    "    \n",
    "    labs.columns = [x+f'_model_{n}' for x in labs.columns]\n",
    "    \n",
    "    labels.append(labs)"
   ]
  },
  {
   "cell_type": "markdown",
   "metadata": {},
   "source": [
    "Next step is to label the projects with a % of models that classify them as AI and validate their performance manually: what models strike the best precision-recall trade-off?"
   ]
  },
  {
   "cell_type": "code",
   "execution_count": 18,
   "metadata": {},
   "outputs": [],
   "source": [
    "#This calculates the % of models that flag a case in a category\n",
    "models_conc= pd.concat([x.iloc[:,1:] for x in labels],axis=1)"
   ]
  },
  {
   "cell_type": "code",
   "execution_count": 19,
   "metadata": {},
   "outputs": [],
   "source": [
    "#\n",
    "models_conc['ai_share'],models_conc['chronic_share'] = [models_conc.loc[:,[var in col for col in models_conc.columns]].applymap(lambda x: x>0).mean(axis=1) for \n",
    "                                                       var in ['ai_','chronic_']]"
   ]
  },
  {
   "cell_type": "code",
   "execution_count": 20,
   "metadata": {},
   "outputs": [],
   "source": [
    "models_conc.index=labels[0].iloc[:,0]"
   ]
  },
  {
   "cell_type": "markdown",
   "metadata": {},
   "source": [
    "## Manual validation / annotation"
   ]
  },
  {
   "cell_type": "code",
   "execution_count": null,
   "metadata": {},
   "outputs": [],
   "source": [
    "#We will use this abstract lookup later\n",
    "abstract_lookup = {row['project_id']:row['abstract'] for i,row in mc.projects_labelled.iterrows()}"
   ]
  },
  {
   "cell_type": "code",
   "execution_count": null,
   "metadata": {},
   "outputs": [],
   "source": [
    "#Here we identify which projects have ai / chronic diseases. We only keep the relevant variable for each model\n",
    "has_ai,has_chronic = [pd.DataFrame(models_conc.loc[models_conc[var]>0][var]) for var in ['ai_share','chronic_share']]"
   ]
  },
  {
   "cell_type": "code",
   "execution_count": null,
   "metadata": {},
   "outputs": [],
   "source": [
    "# Now we calculate the deciles inside each of the groups\n",
    "\n",
    "has_ai['quarts'], has_chronic['quarts'] = [pd.qcut(df[var],q=np.arange(0,1.1,0.1),duplicates='drop',\n",
    "                                                  labels=False) for df,var in zip([has_ai,has_chronic],['ai_share','chronic_share'])]"
   ]
  },
  {
   "cell_type": "code",
   "execution_count": null,
   "metadata": {},
   "outputs": [],
   "source": [
    "#Now we calculate the sets. Here, for every df and quantile we have an element with all ids in the set (chosen above the threshold) and\n",
    "#all ids not in the set (not chosen below the threshold). We look for precision in the first element and recall in the second\n",
    "\n",
    "has_ai_ids = [[set([i for i,row in has_ai.iterrows() if row['quarts']>n]),\n",
    "                                set([i for i,row in has_ai.iterrows() if row['quarts']<n])] for n in [0,2,4,6,7]]\n",
    "\n",
    "#Need to check why there are less deciles in the chronic case\n",
    "has_chronic_ids = [[set([i for i,row in has_chronic.iterrows() if row['quarts']>n]),\n",
    "                                set([i for i,row in has_chronic.iterrows() if row['quarts']<n])] for n in [0,2,4]]\n"
   ]
  },
  {
   "cell_type": "code",
   "execution_count": null,
   "metadata": {},
   "outputs": [],
   "source": [
    "import random\n",
    "random.seed(888)"
   ]
  },
  {
   "cell_type": "code",
   "execution_count": null,
   "metadata": {},
   "outputs": [],
   "source": [
    "#Remember that we will not test the recall for the first group (it contains all elements)\n",
    "\n",
    "\n",
    "assessment = []\n",
    "\n",
    "for n,group in enumerate(has_ai_ids[1:]):\n",
    "    \n",
    "    #For each group in the df, we extract 10 random elements from the first element, and vote them, and 10 random elements from the second,\n",
    "    #and we vote them.\n",
    "    \n",
    "    results =[[],[]]\n",
    "    \n",
    "    for n in [0,1]:\n",
    "        \n",
    "        test_set = random.sample(group[n],10)\n",
    "        \n",
    "        for element in test_set:\n",
    "        \n",
    "            print(abstract_lookup[element])\n",
    "            \n",
    "            print('\\n')\n",
    "            \n",
    "            val =  input('is it AI?')\n",
    "            \n",
    "            results[n].append(int(val))\n",
    "            \n",
    "            print('\\n')\n",
    "            print('\\n')\n",
    "            \n",
    "            \n",
    "    assessment.append(results)\n",
    "    \n",
    "    "
   ]
  },
  {
   "cell_type": "code",
   "execution_count": null,
   "metadata": {},
   "outputs": [],
   "source": [
    "#Here we evaluate performance over our 80 evaluations \n",
    "evaluation_ai = pd.DataFrame([[np.mean(x[0]),np.sum(x[0])/(np.sum(x[0])+np.sum(x[1]))] for x in assessment],columns=['Precision','Recall'],\n",
    "                            index=['d_2','d_4','d_6','d_7'])"
   ]
  },
  {
   "cell_type": "markdown",
   "metadata": {},
   "source": [
    "We will choose AI and Chronic disease projects with a score above 7."
   ]
  },
  {
   "cell_type": "markdown",
   "metadata": {},
   "source": [
    "#### Intermediate analysis: Plot keyword frequencies"
   ]
  },
  {
   "cell_type": "markdown",
   "metadata": {},
   "source": [
    "## Mission field analysis\n",
    "\n",
    "This is going to require some changes as we are using a different pipeline to identify AI and Chronic disease projects now"
   ]
  },
  {
   "cell_type": "markdown",
   "metadata": {},
   "source": [
    "#### Run the mission profiler"
   ]
  },
  {
   "cell_type": "code",
   "execution_count": null,
   "metadata": {},
   "outputs": [],
   "source": [
    "#Initialise the mission profiler\n",
    "\n",
    "mprof = missionProfiler(mc)\n",
    "\n",
    "#Change the names we want to focus on\n",
    "mprof.names =['ai_2','chronic_disease_2']\n",
    "\n",
    "#Change the variables we want to focus on\n",
    "mprof.projects_labelled['ai_2'],mprof.projects_labelled['chronic_disease_2'] = [[x in sel_df[0] for x in mprof.projects_labelled['project_id']] for\n",
    "                                                                                sel_df in [has_ai_ids[-3],has_chronic_ids[-1]]]"
   ]
  },
  {
   "cell_type": "code",
   "execution_count": null,
   "metadata": {},
   "outputs": [],
   "source": [
    "mprof.projects_labelled[['ai_2','chronic_disease_2']].sum()"
   ]
  },
  {
   "cell_type": "code",
   "execution_count": null,
   "metadata": {},
   "outputs": [],
   "source": [
    "mprof.mission_field_basics().mission_trends(funding='amount').funder_trends(funding='amount').discipline_analysis().impact_mix()"
   ]
  },
  {
   "cell_type": "markdown",
   "metadata": {},
   "source": [
    "### Summary chart"
   ]
  },
  {
   "cell_type": "code",
   "execution_count": null,
   "metadata": {},
   "outputs": [],
   "source": [
    "fig,ax = plt.subplots(figsize=(5,3.5))\n",
    "\n",
    "pd.DataFrame(mprof.mission_summary,index=['total']).T.plot.bar(color=['blue','red','orange','red'],ax=ax,legend=False)\n",
    "\n",
    "ax.set_xticklabels(['Potential mission field','Active mission field','AI total','Chronic condition total'],rotation=45,\n",
    "                   ha='right')\n",
    "\n",
    "ax.set_ylabel('Number of projects')\n",
    "\n",
    "plt.tight_layout()\n",
    "\n",
    "plt.savefig('../reports/figures/working_paper/fig_2_summary.pdf')"
   ]
  },
  {
   "cell_type": "markdown",
   "metadata": {},
   "source": [
    "### Print some examples"
   ]
  },
  {
   "cell_type": "code",
   "execution_count": null,
   "metadata": {},
   "outputs": [],
   "source": [
    "example_projs = mprof.projects_labelled.loc[(\n",
    "    mprof.projects_labelled.ai_2>0) & (mprof.projects_labelled.chronic_disease_2>0)][['title','abstract']]\n",
    "\n",
    "random = example_projs.iloc[np.random.randint(0,len(example_projs),3)]\n",
    "\n",
    "random_list = [[x,y] for x,y in zip(random['title'],random['abstract'])]\n",
    "\n",
    "          \n",
    "          \n",
    "for el in random_list:\n",
    "    print('TITLE: '+el[0])\n",
    "    print('====')\n",
    "    print('ABSTRACT EXCERPT: '+el[1][:1000])\n",
    "    print('\\n')\n",
    "\n"
   ]
  },
  {
   "cell_type": "code",
   "execution_count": null,
   "metadata": {},
   "outputs": [],
   "source": []
  },
  {
   "cell_type": "code",
   "execution_count": null,
   "metadata": {},
   "outputs": [],
   "source": [
    "fig,ax = plt.subplots(figsize=(8,8))\n",
    "\n",
    "mprof.mission_basics.plot.bar(color=['orange','blue','orange','blue'],ax=ax)\n",
    "\n",
    "ax.set_xticklabels(['Chronic disease as share of AI','Chronic as share of all',\n",
    "                    'AI as a share of chronic condition','AI as share of all'],rotation=45,ha='right',size=14)\n",
    "\n",
    "ax.yaxis.set_tick_params(labelsize=14)\n",
    "\n",
    "\n",
    "ax.set_ylabel('%',size=18)\n",
    "\n",
    "ax.set_title('Representation of AI and Chronic Disease \\n in the population of research and in the mission field',size=18)\n",
    "\n",
    "plt.tight_layout()\n",
    "\n",
    "plt.savefig('../reports/figures/presentation/topic_representation.pdf')"
   ]
  },
  {
   "cell_type": "markdown",
   "metadata": {},
   "source": [
    "Z-test of differences in proportions"
   ]
  },
  {
   "cell_type": "code",
   "execution_count": null,
   "metadata": {},
   "outputs": [],
   "source": [
    "distr = pd.crosstab(mprof.projects_labelled['ai_2'],mprof.projects_labelled['chronic_disease_2'])\n",
    "\n",
    "from statsmodels.stats.proportion import proportions_ztest"
   ]
  },
  {
   "cell_type": "code",
   "execution_count": null,
   "metadata": {},
   "outputs": [],
   "source": [
    "#Test AI: is the proportion of AI projects drawn from the population higher than the proportion of projects drawn from the chronic disease set?\n",
    "\n",
    "ai_counts = np.array(distr.iloc[1])\n",
    "all_counts = np.array(distr.iloc[0])\n",
    "\n",
    "proportions_ztest(ai_counts,all_counts,alternative='larger')"
   ]
  },
  {
   "cell_type": "code",
   "execution_count": null,
   "metadata": {},
   "outputs": [],
   "source": [
    "#Test AI: is the proportion of AI projects drawn from the population higher than the proportion of projects drawn from the chronic disease set?\n",
    "\n",
    "cd_counts = np.array(distr[1])\n",
    "all_counts = np.array(distr[0])\n",
    "\n",
    "proportions_ztest(cd_counts,all_counts,alternative='larger')"
   ]
  },
  {
   "cell_type": "markdown",
   "metadata": {},
   "source": [
    "Differences are significant in all cases"
   ]
  },
  {
   "cell_type": "code",
   "execution_count": null,
   "metadata": {},
   "outputs": [],
   "source": [
    "mprof.projects_labelled.loc[(mprof.projects_labelled['ai_2']>0) & (mprof.projects_labelled['chronic_disease_2']>0)]['amount'].sum()/1e6"
   ]
  },
  {
   "cell_type": "markdown",
   "metadata": {},
   "source": [
    "#### Trends"
   ]
  },
  {
   "cell_type": "code",
   "execution_count": null,
   "metadata": {},
   "outputs": [],
   "source": [
    "fig, ax = plt.subplots(ncols=2,figsize=(16,6),\n",
    "                    sharex='row')\n",
    "\n",
    "(100*mprof.trends['project_trends']).rolling(window=4).mean().plot(ax=ax[0])\n",
    "(100*mprof.trends['project_shares']).iloc[:,-2:].rolling(window=4).mean().plot(ax=ax[1])\n",
    "\n",
    "\n",
    "\n",
    "ax[0].set_ylabel('Year as % of total (projects)',size=18)\n",
    "ax[1].set_ylabel('Year as % of total (funding)',size=18)\n",
    "\n",
    "#ax[0][1].set_ylabel('Year as % of total (projects)',size=18)\n",
    "#ax[1][1].set_ylabel('Year as % of total (funding)',size=18)\n",
    "\n",
    "\n",
    "ax[0].legend(fontsize=14,labels=['Active Mission field','AI','Chronic Condition'])\n",
    "ax[1].legend(fontsize=14,labels=['Active Mission field as a share of AI','Active mission field as a share of chronic disease'])\n",
    "\n",
    "\n",
    "ax[0].set_ylim([4,12.5])\n",
    "ax[1].set_ylim([0,12.5])\n",
    "\n",
    "ax[0].xaxis.set_tick_params(labelsize=14)\n",
    "ax[1].xaxis.set_tick_params(labelsize=14)\n",
    "\n",
    "fig.suptitle('Evolution in levels of activity (rolling means, 4 year window)',size=18,y=1.02)\n",
    "\n",
    "plt.tight_layout()\n",
    "\n",
    "plt.savefig('../reports/figures/presentation/fig_4_trends.pdf',bbox_inches='tight')"
   ]
  },
  {
   "cell_type": "code",
   "execution_count": null,
   "metadata": {},
   "outputs": [],
   "source": [
    "fig, ax = plt.subplots(nrows=2,figsize=(11.5,9),ncols=2,\n",
    "                    sharex='row'\n",
    "                      )\n",
    "\n",
    "(100*mprof.trends['project_trends']).rolling(window=4).mean().plot(ax=ax[0][0])\n",
    "(100*mprof.trends['funding_trends']).rolling(window=4).mean().plot(ax=ax[1][0],legend=False)\n",
    "\n",
    "(100*mprof.trends['project_shares']).iloc[:,-2:].rolling(window=4).mean().plot(ax=ax[0][1])\n",
    "(100*mprof.trends['funding_shares']).iloc[:,-2:].rolling(window=4).mean().plot(ax=ax[1][1],legend=False)\n",
    "\n",
    "ax[0][0].set_ylabel('Year as % of total (projects)',size=18)\n",
    "ax[1][0].set_ylabel('Year as % of total (funding)',size=18)\n",
    "\n",
    "ax[0][1].set_ylabel('Category as % in year (projects)',size=18)\n",
    "ax[1][1].set_ylabel('Category as % in year (funding)',size=18)\n",
    "\n",
    "\n",
    "ax[0][0].set_ylim([4,12.5])\n",
    "ax[0][1].set_ylim([0,12.5])\n",
    "\n",
    "ax[0][0].legend(fontsize=14,labels=['Active Mission field','AI','Chronic Condition'])\n",
    "ax[0][1].legend(fontsize=14,labels=['Active Mission field as a share of AI','Active mission field as a share of chronic disease'])\n",
    "\n",
    "\n",
    "ax[1][0].xaxis.set_tick_params(labelsize=14)\n",
    "ax[1][1].xaxis.set_tick_params(labelsize=14)\n",
    "\n",
    "fig.suptitle('Evolution in levels of activity (rolling means, 4 year window)',size=18,y=1.02)\n",
    "\n",
    "plt.tight_layout()\n",
    "\n",
    "plt.savefig('../reports/figures/presentation/trends.pdf',bbox_inches='tight')"
   ]
  },
  {
   "cell_type": "markdown",
   "metadata": {},
   "source": [
    "#### Funding\n",
    "\n",
    "The funder for the mission fied might be different from the funder for the constituent parts. I would expect the mission funder to be related (closer) to the challenge."
   ]
  },
  {
   "cell_type": "code",
   "execution_count": null,
   "metadata": {},
   "outputs": [],
   "source": [
    "fig, ax = plt.subplots(figsize=(4,8),nrows=2)\n",
    "\n",
    "mprof.funders['funder_projects'].T.plot.bar(stacked=True,ax=ax[0],width=0.8)\n",
    "mprof.funders['funder_funding'].T.plot.bar(stacked=True,ax=ax[1],width=0.8)\n",
    "\n",
    "ax[0].legend(bbox_to_anchor=(1,1))\n",
    "ax[1].legend().set_visible(False)"
   ]
  },
  {
   "cell_type": "markdown",
   "metadata": {},
   "source": [
    "#### Discipline mix\n",
    "\n",
    "The effective mission field will contain a higher level of discipline diversity than the constituent parts (although here we need to remember that the constituent parts might also be related to other missions we are not capturing)."
   ]
  },
  {
   "cell_type": "code",
   "execution_count": null,
   "metadata": {},
   "outputs": [],
   "source": [
    "fig,ax = plt.subplots(figsize=(10,4.5))\n",
    "\n",
    "_ = [ax.hist(df['entropy'],bins=20,color=col,alpha=0.6,density=True) for df,col in zip(mprof.sets,['blue','orange','green'])]\n",
    "\n",
    "ax.legend(['Active Mission field','AI','Chronic diseases'],fontsize=16)\n",
    "\n",
    "ax.set_title('Discipline diversity by group',size=24)\n",
    "\n",
    "ax.set_ylabel('Density',size=16)\n",
    "ax.set_xlabel('Entropy',size=16)\n",
    "\n",
    "plt.tight_layout()\n",
    "plt.savefig('../reports/figures/presentation/diversity.pdf',bbox_inches='tight')\n"
   ]
  },
  {
   "cell_type": "code",
   "execution_count": null,
   "metadata": {},
   "outputs": [],
   "source": [
    "fig,ax = plt.subplots(figsize=(6,4))\n",
    "\n",
    "(100*mprof.discipline_mix.T).plot.bar(ax=ax)\n",
    "\n",
    "ax.set_xticklabels(['AMF','AI','Chronic disease'],rotation=45,ha='right',fontsize=14)\n",
    "\n",
    "ax.legend(bbox_to_anchor=[1,1],title='Disciplines per project',fontsize=14)\n",
    "ax.set_ylabel('% of projects',fontsize=14)\n",
    "ax.yaxis.set_tick_params(labelsize=14)\n",
    "\n",
    "plt.tight_layout()\n",
    "\n",
    "plt.savefig('../reports/figures/working_paper/fig_7_disc_mix.pdf')\n"
   ]
  },
  {
   "cell_type": "markdown",
   "metadata": {},
   "source": [
    "##### Classify projects into their top discipline and track its evolution"
   ]
  },
  {
   "cell_type": "code",
   "execution_count": null,
   "metadata": {},
   "outputs": [],
   "source": [
    "fig,ax= plt.subplots(figsize=(8,4.5))\n",
    "\n",
    "plot_df = pd.concat([df[discs].idxmax(axis=1).value_counts(normalize=True) for df in mprof.sets],axis=1)\n",
    "\n",
    "discs_ord = plot_df.sort_values(0).index\n",
    "\n",
    "(100*plot_df.loc[discs_ord[::-1]]).T.plot.bar(stacked=True,ax=ax,width=0.8,cmap='Accent_r',edgecolor='grey')\n",
    "\n",
    "ax.set_xticklabels(['AMF','AI','Chronic diseases'],rotation=45,ha='right',size=14)\n",
    "ax.legend(bbox_to_anchor=[1,1],title='Discipline',fontsize=14,\n",
    "         labels=['Physics','Environmental','Mathematics & Computing','Medical','Engineering & Technology','Biological','Arts and Humanities','Sosical Sciences'])\n",
    "ax.set_ylabel('Discipline as share of total',size=16)\n",
    "ax.yaxis.set_tick_params(labelsize=14)\n",
    "\n",
    "ax.set_title('Discipline distribution by category',size=18)\n",
    "\n",
    "plt.tight_layout()\n",
    "plt.savefig('../reports/figures/presentation/disc_mix.pdf')"
   ]
  },
  {
   "cell_type": "markdown",
   "metadata": {},
   "source": [
    "### Discipline mix over time"
   ]
  },
  {
   "cell_type": "code",
   "execution_count": null,
   "metadata": {},
   "outputs": [],
   "source": [
    "fig,ax = plt.subplots(figsize=(7,4))\n",
    "\n",
    "pd.crosstab(\n",
    "    mprof.sets[0].year,mprof.sets[0][discs].idxmax(axis=1),normalize=False).rolling(\n",
    "    window=4).mean().loc[np.arange(2006,2019),discs_ord[::-1]].plot.bar(stacked=True,ax=ax,width=0.9)\n",
    "\n",
    "ax.legend(title='discipline')\n",
    "\n",
    "plt.tight_layout()\n",
    "\n",
    "plt.savefig('../reports/figures/working_paper/fig_6_disc_evol.pdf')"
   ]
  },
  {
   "cell_type": "markdown",
   "metadata": {},
   "source": [
    "### Discipline crossover"
   ]
  },
  {
   "cell_type": "code",
   "execution_count": null,
   "metadata": {},
   "outputs": [],
   "source": [
    "sorted_discs = mprof.sets[0][discs].sum().sort_values().index[::-1]"
   ]
  },
  {
   "cell_type": "code",
   "execution_count": null,
   "metadata": {},
   "outputs": [],
   "source": [
    "# th = 0.2\n",
    "\n",
    "# fig,ax =plt.subplots(figsize=(10,4),ncols=3,sharey=True)\n",
    "\n",
    "# sns.heatmap(remove_diagonal(\n",
    "#     jacc_dists[0],val=np.nan),cmap='seismic',ax=ax[0])\n",
    "\n",
    "# ax[0].set_title('Active mission field')\n",
    "\n",
    "# sns.heatmap(remove_diagonal(\n",
    "#     jacc_dists[1],val=np.nan),cmap='seismic',ax=ax[1])\n",
    "\n",
    "# ax[1].set_title('AI')\n",
    "\n",
    "# sns.heatmap(remove_diagonal(\n",
    "#     jacc_dists[2],val=np.nan),cmap='seismic',ax=ax[2])\n",
    "\n",
    "# ax[2].set_title('Chronic disease')\n",
    "\n",
    "# plt.tight_layout()\n",
    "\n",
    "# plt.savefig('../reports/figures/working_paper/fig_8_disc_mix.pdf')\n"
   ]
  },
  {
   "cell_type": "code",
   "execution_count": null,
   "metadata": {},
   "outputs": [],
   "source": [
    "import seaborn as sns\n",
    "\n",
    "def remove_diagonal(df,val=0):\n",
    "    '''\n",
    "    Removes the diagonal in a square df. Otherwise the colourscale is drowned by the corr=1 \n",
    "    \n",
    "    '''\n",
    "    \n",
    "    for c in df.columns:\n",
    "        for r in df.index:\n",
    "            if c==r:\n",
    "                df.loc[r,c]=val\n",
    "                \n",
    "    return(df)"
   ]
  },
  {
   "cell_type": "code",
   "execution_count": null,
   "metadata": {},
   "outputs": [],
   "source": [
    "th = 0.2\n",
    "\n",
    "fig,ax =plt.subplots(figsize=(10,4),ncols=3,sharey=True)\n",
    "\n",
    "sns.heatmap(remove_diagonal(\n",
    "    mprof.sets[0][sorted_discs].applymap(lambda x: 1 if x>th else 0).corr(),val=np.nan),cmap='seismic',ax=ax[0])\n",
    "\n",
    "ax[0].set_title('Active mission field')\n",
    "\n",
    "sns.heatmap(remove_diagonal(\n",
    "    mprof.sets[1][sorted_discs].applymap(lambda x: 1 if x>th else 0).corr(),val=np.nan),cmap='seismic',ax=ax[1])\n",
    "\n",
    "ax[1].set_title('AI')\n",
    "\n",
    "sns.heatmap(remove_diagonal(\n",
    "    mprof.sets[2][sorted_discs].applymap(lambda x: 1 if x>th else 0).corr(),val=np.nan),cmap='seismic',ax=ax[2])\n",
    "\n",
    "ax[2].set_title('Chronic disease')\n",
    "\n",
    "plt.tight_layout()\n",
    "\n",
    "plt.savefig('../reports/figures/working_paper/fig_8_disc_mix.pdf')\n"
   ]
  },
  {
   "cell_type": "markdown",
   "metadata": {},
   "source": [
    "### Identify crossover collaborations\n",
    "\n",
    "We use a modified version of the function that extracts networks from document-term matrices"
   ]
  },
  {
   "cell_type": "code",
   "execution_count": null,
   "metadata": {},
   "outputs": [],
   "source": [
    "from itertools import combinations\n",
    "import networkx as nx\n",
    "\n",
    "def make_network_from_doc_term_matrix(dt_matrix,weight_filter=False,edgelist=False):    \n",
    "    '''\n",
    "    Takes a document-term matrix and returns a network.\n",
    "    Offers the option to filter the network based on its weights (the parameter is a quantile if !=False)\n",
    "    \n",
    "    '''\n",
    "    \n",
    "    \n",
    "    #Melt the data so we have a project-kw df\n",
    "    long_topics = pd.melt(dt_matrix.reset_index(drop=False),id_vars='index')\n",
    "\n",
    "    #Remove terms not happening in a project (Note that this throws away instances where a term occurs multiple times in a doc)\n",
    "    topics_grouped = long_topics.loc[long_topics.value>0,:].groupby('index')['variable'].apply(lambda x: list(x))\n",
    "    \n",
    "    #And now we want to tun this into an edge list\n",
    "    #This extracts pairs of combinations from topics in a project, sorts them and counts how many there are.\n",
    "\n",
    "    edge_list = pd.Series('&&'.join(pair) for pair in flatten_list(\n",
    "        [sorted(combinations(x,2),key=lambda x: x[0],reverse=False) for x in topics_grouped])).value_counts()\n",
    "    \n",
    "    \n",
    "    #This creates the edge list in a format that can be read by nx\n",
    "    edge_list = pd.concat([pd.Series({'source':v.split('&&')[0],\n",
    "                                      'target':v.split('&&')[1], 'weight':l}) for v,l in zip(edge_list.index,edge_list)],axis=1).T\n",
    "    \n",
    "    \n",
    "    #Create the network\n",
    "    net = nx.from_pandas_edgelist(edge_list,edge_attr='weight')\n",
    "\n",
    "    if weight_filter!=False:\n",
    "        \n",
    "        #Filter edges to focus on larger connections\n",
    "\n",
    "        #Find the top quantile\n",
    "        quant = pd.Series(list(dict(net.degree).values())).quantile(q=weight_filter)\n",
    "\n",
    "        sub_g = [(u,w) for u,w,attr in net.edges.data(data=True) if attr['weight']>quant]\n",
    "\n",
    "        net = net.edge_subgraph(sub_g)\n",
    "        \n",
    "    if edgelist==False:\n",
    "        return(net)\n",
    "    else:\n",
    "        return(edge_list)"
   ]
  },
  {
   "cell_type": "code",
   "execution_count": null,
   "metadata": {},
   "outputs": [],
   "source": [
    "fig,ax = plt.subplots(figsize=(10,7))\n",
    "\n",
    "freqs = [make_network_from_doc_term_matrix(df[discs].applymap(lambda x: 1 if x>0.1 else 0),edgelist=True)\n",
    "                   for df in mprof.sets]\n",
    "\n",
    "freqs_processed = []\n",
    "\n",
    "for num,x in enumerate(freqs):\n",
    "    x['comb'] = [x+' WITH '+y for x,y in zip(x['source'],x['target'])]\n",
    "    \n",
    "    x.set_index('comb',inplace=True)\n",
    "    \n",
    "    freqs_processed.append(x['weight']/len(mprof.sets[num]))\n",
    "    \n",
    "out = pd.concat(freqs_processed,axis=1).fillna(0)\n",
    "\n",
    "out.columns = ['AMF','AI','Chronic']\n",
    "\n",
    "\n",
    "(100*out.sort_values('AMF')[out.columns[::-1]]).plot.barh(ax=ax)\n",
    "\n",
    "ax.set_xlabel('% of all projects')\n",
    "\n",
    "\n",
    "plt.tight_layout()\n",
    "\n",
    "plt.savefig('../reports/figures/working_paper/fig_9_disc_combs.pdf')\n",
    "\n"
   ]
  },
  {
   "cell_type": "markdown",
   "metadata": {},
   "source": [
    "### Top disciplines"
   ]
  },
  {
   "cell_type": "code",
   "execution_count": null,
   "metadata": {},
   "outputs": [],
   "source": [
    "fig,ax= plt.subplots()\n",
    "\n",
    "\n",
    "plot_df = pd.concat([df[discs].idxmax(axis=1).value_counts(normalize=True) for df in mprof.sets],axis=1)\n",
    "\n",
    "discs_ord = plot_df.sort_values(0).index\n",
    "\n",
    "plot_df.loc[discs_ord[::-1]].T.plot.bar(stacked=True,ax=ax,width=0.8)\n",
    "\n",
    "ax.set_xticklabels(['AMF','AI','Chronic diseases'],rotation=45,ha='right')\n",
    "ax.legend(bbox_to_anchor=[1,1],title='Discipline')\n",
    "ax.set_ylabel('Discipline as share of total')\n",
    "\n",
    "plt.tight_layout()\n",
    "plt.savefig('../reports/figures/working_paper/fig_5_disc_mix')"
   ]
  },
  {
   "cell_type": "markdown",
   "metadata": {},
   "source": [
    "### Impacts"
   ]
  },
  {
   "cell_type": "code",
   "execution_count": null,
   "metadata": {},
   "outputs": [],
   "source": [
    "mprof.impacts[1].plot.bar()"
   ]
  },
  {
   "cell_type": "code",
   "execution_count": null,
   "metadata": {},
   "outputs": [],
   "source": [
    "#Here we focus on the more recent period (taking into account that the AI / chronic projects tend to be more recent)\n",
    "fig,ax = plt.subplots(figsize=(6.5,4))\n",
    "\n",
    "\n",
    "mprof.impact_mix(years=[2012,2018]).impacts[1].plot.bar(ax=ax)\n",
    "\n",
    "\n",
    "ax.set_ylabel('Relative specialisation index',size=14)\n",
    "ax.hlines(y=1,xmin=-1,xmax=3,linestyles=':')\n",
    "\n",
    "ax.set_xticklabels(['AMF','AI','Chronic'],size=14)\n",
    "ax.legend(bbox_to_anchor=[1,1],title='Output type',fontsize=14)\n",
    "ax.yaxis.set_tick_params(labelsize=14)\n",
    "\n",
    "plt.tight_layout()\n",
    "\n",
    "plt.savefig('../reports/figures/working_paper/fig_10_outputs.pdf')\n"
   ]
  },
  {
   "cell_type": "code",
   "execution_count": null,
   "metadata": {},
   "outputs": [],
   "source": [
    "100*mprof.sets[0][imps].applymap(lambda x: x>0).mean()"
   ]
  },
  {
   "cell_type": "markdown",
   "metadata": {},
   "source": [
    "### Network analysis\n",
    "\n",
    "Now we want to visualise the organisational network of the mission field: what organisations are connected with each other in this network?\n",
    "\n",
    "Who are the key players in each of the three 'fields' (chronic, AI and AI-chronic), in total number of projects and relative specialisation?\n",
    "\n",
    "\n",
    "\n",
    "\n",
    "\n"
   ]
  },
  {
   "cell_type": "code",
   "execution_count": null,
   "metadata": {},
   "outputs": [],
   "source": [
    "links = pd.read_csv('../data/external/gtr/2019-01-24/gtr_link_table.csv')\n",
    "orgs = pd.read_csv('../data/external/gtr/2019-01-24/gtr_organisations.csv')"
   ]
  },
  {
   "cell_type": "markdown",
   "metadata": {},
   "source": [
    "The logic below is:\n",
    "\n",
    "``merge projects and links on project ids, and merge that with organisations on entity ids``\n"
   ]
  },
  {
   "cell_type": "code",
   "execution_count": null,
   "metadata": {},
   "outputs": [],
   "source": [
    "#We want to avoid cofunding organisations, fellow organisations etc\n",
    "\n",
    "my_vars = ['COLLAB_ORG','LEAD_ORG','PARTICIPANT_ORG']"
   ]
  },
  {
   "cell_type": "code",
   "execution_count": null,
   "metadata": {},
   "outputs": [],
   "source": [
    "project_orgs = pd.merge(\n",
    "    pd.merge(mprof.projects_labelled,links.loc[links.table_name=='gtr_organisations'],left_on='project_id',right_on='project_id'),\n",
    "    orgs[['id','name']],left_on='id',right_on='id')\n",
    "\n",
    "projects_orgs = project_orgs.loc[[x in my_vars for x in project_orgs['rel']],:]"
   ]
  },
  {
   "cell_type": "code",
   "execution_count": null,
   "metadata": {},
   "outputs": [],
   "source": [
    "project_orgs['ai_2_and_chronic_disease_2'] = [(x>0) & (y>0) for x,y in zip(project_orgs['ai_2'],project_orgs['chronic_disease_2'])]"
   ]
  },
  {
   "cell_type": "markdown",
   "metadata": {},
   "source": [
    "#### Are organisations in active mission fields younger?\n",
    "\n",
    "Here we proxy age through the earliest when an organisation appears in the data"
   ]
  },
  {
   "cell_type": "code",
   "execution_count": null,
   "metadata": {},
   "outputs": [],
   "source": [
    "def calculate_ages(three_sets,org_df,stat):\n",
    "    '''\n",
    "    Calculates the mean ages for organisations participating in different mission fields\n",
    "    \n",
    "    '''\n",
    "    \n",
    "    new_df = org_df.copy()\n",
    "    \n",
    "    #AMF = active mission field\n",
    "    new_df['ai'],new_df['chronic'], new_df['amf'] = [[x in v for x in new_df.index] for v in three_sets]\n",
    "    \n",
    "    #Calculate mean age of organisations in a field (time since they first appeared in the data)\n",
    "    youth = pd.concat([2019-new_df.groupby(var)['year'].apply(lambda x: stat(x)) for var in ['amf','ai','chronic']],axis=1)\n",
    "    youth.columns=['amf','ai','chronic']\n",
    "    \n",
    "    return(youth)"
   ]
  },
  {
   "cell_type": "code",
   "execution_count": null,
   "metadata": {},
   "outputs": [],
   "source": [
    "#Min age of appearance by organisation\n",
    "org_metadata = pd.concat([\n",
    "    project_orgs.groupby('name')['year'].apply(lambda x: min(x)),\n",
    "    project_orgs.groupby('name').size()],axis=1)\n",
    "    \n",
    "org_metadata.rename(columns={0:'project_number'},inplace=True)\n"
   ]
  },
  {
   "cell_type": "code",
   "execution_count": null,
   "metadata": {},
   "outputs": [],
   "source": [
    "#All organisations in the field\n",
    "org_sets =[set(project_orgs.loc[project_orgs[var]>0]['name']) for var in ['ai_2','chronic_disease_2','ai_2_and_chronic_disease_2']]\n",
    "\n",
    "#Organisations that *only* participate in the field\n",
    "org_set_specs =[\n",
    "    set(project_orgs.loc[project_orgs[var]>0]['name'])-set(project_orgs.loc[project_orgs[var]==0]['name']) for var in ['ai_2',\n",
    "                                                                                                                       'chronic_disease_2',\n",
    "                                                                                                                       'ai_2_and_chronic_disease_2']]"
   ]
  },
  {
   "cell_type": "code",
   "execution_count": null,
   "metadata": {},
   "outputs": [],
   "source": [
    "out = pd.concat([calculate_ages(org_sets,org_metadata,np.mean).loc[True],\n",
    "          calculate_ages(org_set_specs,org_metadata,np.mean).loc[True]],axis=1)\n",
    "\n",
    "out.columns = ['All','Specialised']"
   ]
  },
  {
   "cell_type": "code",
   "execution_count": null,
   "metadata": {},
   "outputs": [],
   "source": [
    "fig,ax = plt.subplots(figsize=(6,6))\n",
    "\n",
    "out.T.plot.bar(ax=ax)\n",
    "\n",
    "ax.set_ylabel('Number of years \\n since first appearance',size=14)\n",
    "ax.yaxis.set_tick_params(labelsize=14)\n",
    "ax.xaxis.set_tick_params(labelsize=14)\n",
    "\n",
    "\n",
    "ax.legend(fontsize=13,labels=['Active Mission field','AI','Chronic disease'])\n",
    "\n",
    "ax.set_title('Project participant experience',size=18)\n",
    "\n",
    "plt.tight_layout()\n",
    "\n",
    "plt.savefig('../reports/figures/presentation/participants_experience.pdf')"
   ]
  },
  {
   "cell_type": "code",
   "execution_count": null,
   "metadata": {},
   "outputs": [],
   "source": [
    "def calculate_experience(three_sets,org_df,stat):\n",
    "    '''\n",
    "    Calculates the experience for organisations participating in different mission fields\n",
    "    \n",
    "    '''\n",
    "    \n",
    "    new_df = org_df.copy()\n",
    "    \n",
    "    #AMF = active mission field\n",
    "    new_df['ai'],new_df['chronic'], new_df['amf'] = [[x in v for x in new_df.index] for v in three_sets]\n",
    "    \n",
    "    #Calculate mean age of organisations in a field (time since they first appeared in the data)\n",
    "    youth = pd.concat([new_df.groupby(var)['project_number'].apply(lambda x: stat(x)) for var in ['amf','ai','chronic']],axis=1)\n",
    "    youth.columns=['Active Mission field','AI','Chronic Diseases']\n",
    "    \n",
    "    return(youth)"
   ]
  },
  {
   "cell_type": "code",
   "execution_count": null,
   "metadata": {},
   "outputs": [],
   "source": [
    "out_2 = pd.concat([calculate_experience(org_sets,org_metadata,np.median).loc[True],\n",
    "          calculate_experience(org_set_specs,org_metadata,np.median).loc[True]],axis=1)\n",
    "\n",
    "out_2.columns = ['All','Specialised']\n",
    "\n",
    "fig,ax = plt.subplots(figsize=(5,3.5))\n",
    "\n",
    "out_2.T.plot.bar(ax=ax)\n",
    "\n",
    "ax.set_ylabel('Average number of projects')\n",
    "\n",
    "plt.tight_layout()\n",
    "\n",
    "plt.savefig('../reports/figures/working_paper/fig_12_experience.pdf')"
   ]
  },
  {
   "cell_type": "markdown",
   "metadata": {},
   "source": [
    "### Total organisation frequencies"
   ]
  },
  {
   "cell_type": "code",
   "execution_count": null,
   "metadata": {},
   "outputs": [],
   "source": [
    "total_org_freqs = project_orgs['name'].value_counts(normalize=1)\n",
    "\n",
    "var_names = ['ai_2','chronic_disease_2','ai_2_and_chronic_disease_2']\n",
    "\n",
    "mission_org_freqs = pd.concat([\n",
    "    project_orgs.loc[project_orgs[var]>0,'name'].value_counts(normalize=1) for var in var_names],axis=1).fillna(0)\n",
    "\n",
    "mission_org_freqs.columns=var_names\n",
    "\n",
    "fig,ax = plt.subplots(figsize=(5,10))\n",
    "\n",
    "mission_org_freqs.loc[total_org_freqs.index[:50]][::-1].plot.barh(ax=ax,title=\n",
    "                                                                  'Share of activity in relevant areas for top research organisations in the UK')"
   ]
  },
  {
   "cell_type": "markdown",
   "metadata": {},
   "source": [
    "Note that the EPSRC and the MRC are still there (?)"
   ]
  },
  {
   "cell_type": "code",
   "execution_count": null,
   "metadata": {},
   "outputs": [],
   "source": [
    "# Now do it with some normalisation\n",
    "\n",
    "mission_org_freqs_norm = pd.concat([\n",
    "    project_orgs.loc[project_orgs[var]>0,'name'].value_counts(normalize=1)/total_org_freqs for var in var_names],axis=1).fillna(0)\n",
    "\n",
    "mission_org_freqs_norm.columns=var_names\n",
    "\n",
    "fig,ax = plt.subplots(figsize=(10,10))\n",
    "\n",
    "mission_org_freqs_norm.loc[total_org_freqs.index[:200]].sort_values('ai_2_and_chronic_disease_2',ascending=True)[-50:].plot.barh(\n",
    "    ax=ax,title='Organisations with high specialisation in the mission field')\n",
    "\n",
    "ax.set_yticklabels([x.get_text()[:40] for x in ax.get_yticklabels()])\n",
    "\n",
    "plt.tight_layout()\n",
    "\n",
    "plt.savefig('../reports/figures/working_paper/fig_13_top_actors.pdf')"
   ]
  },
  {
   "cell_type": "code",
   "execution_count": null,
   "metadata": {},
   "outputs": [],
   "source": [
    "top_50_total = set(mission_org_freqs.loc[total_org_freqs.index[:50]].index)\n",
    "top_50_mission = set(mission_org_freqs_norm.loc[total_org_freqs.index[:200]].sort_values('ai_2_and_chronic_disease_2',ascending=False)[:50].index)\n",
    "\n",
    "\n",
    "set(top_50_mission) & set(top_50_total)\n",
    "\n"
   ]
  },
  {
   "cell_type": "code",
   "execution_count": null,
   "metadata": {},
   "outputs": [],
   "source": [
    "#Compare share of total AI, Chronic, Chronic condition\n",
    "\n",
    "mission_distribution = pd.concat([pd.concat([project_orgs.loc[project_orgs[var]>0,'name'].value_counts(normalize=1) for var in var_names],axis=1).fillna(0),\n",
    "                                  total_org_freqs],axis=1).fillna(0)\n",
    "\n",
    "mission_distribution.columns=var_names + ['total']\n",
    "\n",
    "sns.heatmap(remove_diagonal(mission_distribution.corr(method='spearman')),cmap='viridis',annot=True)\n",
    "\n",
    "plt.tight_layout()\n",
    "\n",
    "plt.savefig('../reports/figures/working_paper/fig_14_rankings_heatmap.pdf')"
   ]
  },
  {
   "cell_type": "markdown",
   "metadata": {},
   "source": [
    "Interesting - it looks like organisations that are strong in AI tend to apply it in other areas rather than the other way around."
   ]
  },
  {
   "cell_type": "markdown",
   "metadata": {},
   "source": [
    "#### Conclude with a network visualisation"
   ]
  },
  {
   "cell_type": "code",
   "execution_count": null,
   "metadata": {},
   "outputs": [],
   "source": [
    "def make_network_from_element_lists(element_list,index='index',variable='variable',weight_filter=False):    \n",
    "    '''\n",
    "    Takes a list where every element is a list of elements\n",
    "    Offers the option to filter the network based on its weights (the parameter is a quantile if !=False)\n",
    "    \n",
    "    '''\n",
    "    \n",
    "    \n",
    "    #Remove terms not happening in a project (Note that this throws away instances where a term occurs multiple times in a doc)\n",
    "    topics_grouped = element_list.groupby(index)[variable].apply(lambda x: list(x))\n",
    "    \n",
    "    #And now we want to tun this into an edge list\n",
    "    #This extracts pairs of combinations from topics in a project, sorts them and counts how many there are.\n",
    "\n",
    "    edge_list = pd.Series('&&'.join(pair) for pair in flatten_list(\n",
    "        [sorted(combinations(x,2),key=lambda x: x[0],reverse=False) for x in topics_grouped])).value_counts()\n",
    "    \n",
    "    \n",
    "    e1,e2 = [[x.split('&&')[num] for x in edge_list.index] for num in [0,1]]\n",
    "\n",
    "    edge_df= pd.DataFrame({'source':e1,'target':e2,'weight':edge_list}).reset_index(drop=True)\n",
    "    \n",
    "    \n",
    "    #Create the network\n",
    "    net = nx.from_pandas_edgelist(edge_df,edge_attr='weight')\n",
    "\n",
    "    if weight_filter!=False:\n",
    "        \n",
    "        #Filter edges to focus on larger connections\n",
    "\n",
    "        #Find the top quantile\n",
    "        quant = pd.Series(list(dict(net.degree).values())).quantile(q=weight_filter)\n",
    "\n",
    "        sub_g = [(u,w) for u,w,attr in net.edges.data(data=True) if attr['weight']>quant]\n",
    "\n",
    "        net = net.edge_subgraph(sub_g)\n",
    "        \n",
    "    \n",
    "    return(net)"
   ]
  },
  {
   "cell_type": "code",
   "execution_count": null,
   "metadata": {},
   "outputs": [],
   "source": [
    "mission_orgs = project_orgs.loc[[(x>0) | (y>0) | (z>0) for x,y,z in zip(project_orgs['ai_2'],\n",
    "                                                                           project_orgs['chronic_disease_2'],\n",
    "                                                                           project_orgs['ai_2_and_chronic_disease_2'])]]\n",
    "\n",
    "org_sets = [set(project_orgs.loc[project_orgs[var]>0,'name']) for var in var_names]"
   ]
  },
  {
   "cell_type": "code",
   "execution_count": null,
   "metadata": {},
   "outputs": [],
   "source": [
    "# mission_nets = [make_network_from_element_lists(\n",
    "#     project_orgs.loc[project_orgs[var]>0],index='project_id',\n",
    "#      variable='name',weight_filter=0.5) for var in var_names]\n",
    "# # create the web\n",
    "# web = Web(display={'nodes':{num:{'name':name} for num,name in enumerate(set(mission_orgs['name']))}})\n",
    "# web.networks.ai(nx_G=mission_nets[0])\n",
    "# web.networks.chronic_cond(nx_G=mission_nets[1])\n",
    "# web.networks.ai_and_chronic_cond(nx_G=mission_nets[2])\n",
    "# # scale edge widths by weight so we can see a visual difference\n",
    "# web.display.scaleLinkWidth = True\n",
    "\n",
    "# # show the visualization\n",
    "# web.show()\n",
    "# #web.save('../reports/figures/web_web.pdf')"
   ]
  },
  {
   "cell_type": "code",
   "execution_count": null,
   "metadata": {},
   "outputs": [],
   "source": [
    "mission_net = make_network_from_element_lists(mission_orgs,index='project_id',variable='name',weight_filter=0.3)"
   ]
  },
  {
   "cell_type": "code",
   "execution_count": null,
   "metadata": {},
   "outputs": [],
   "source": [
    "#Label categories\n",
    "for n in mission_net.node:\n",
    "    \n",
    "    if n in org_sets[2]:\n",
    "        mission_net.node[n]['category']='mission_field'\n",
    "        \n",
    "    elif n in org_sets[0]:\n",
    "        mission_net.node[n]['category']='ai_field'\n",
    "    \n",
    "    elif n in org_sets[1]:\n",
    "        mission_net.node[n]['category']='chronic_field'"
   ]
  },
  {
   "cell_type": "code",
   "execution_count": null,
   "metadata": {},
   "outputs": [],
   "source": [
    "# # create the web\n",
    "# web = Web(nx_G=mission_net)\n",
    "\n",
    "# # scale edge widths by weight so we can see a visual difference\n",
    "# web.display.scaleLinkWidth = True\n",
    "\n",
    "# web.show()"
   ]
  },
  {
   "cell_type": "code",
   "execution_count": null,
   "metadata": {},
   "outputs": [],
   "source": [
    "ps = mprof.projects_labelled"
   ]
  },
  {
   "cell_type": "markdown",
   "metadata": {},
   "source": [
    "### [Done]\n",
    "\n",
    "\n",
    "* Produce a better query system: a better seed list would help.\n",
    "* Package the descriptive stat generator into a function or class. This should be generic enough to accept dfs from other sources (eg H2020 and OpenAIRE).\n",
    "* Reimplement and test the above. Check how many of the new projects were already captured by the two broader categories\n",
    "\n",
    "\n",
    "### Next steps\n",
    "* Organisation visualisation\n",
    "* Other indicators\n",
    "* Apply functions to other data and / or challenge.\n",
    "\n",
    "### Other combinations\n",
    "* Integrate with TRL analysis\n",
    "* Integrate with SDG analysis\n",
    "* Check social media discussion around papers\n"
   ]
  },
  {
   "cell_type": "markdown",
   "metadata": {},
   "source": [
    "# Hierarchical topic modelling"
   ]
  },
  {
   "cell_type": "code",
   "execution_count": null,
   "metadata": {},
   "outputs": [],
   "source": [
    "from sbmtm import sbmtm\n",
    "import graph_tool.all as gt"
   ]
  },
  {
   "cell_type": "code",
   "execution_count": null,
   "metadata": {},
   "outputs": [],
   "source": [
    "#Identify indices in the mission set - this includes projects in AI, chronic diseases or both\n",
    "mission_set_indices = set(flatten_list([x.index for x in mprof.sets]))\n",
    "\n",
    "#We extract the tokenised corpora we created previously (only for the selected projects as above)\n",
    "tokenised = [tok for n,tok in enumerate(mc.tokenised) if n in mission_set_indices]"
   ]
  },
  {
   "cell_type": "code",
   "execution_count": null,
   "metadata": {},
   "outputs": [],
   "source": [
    "#Extract the titles, which we will use to label the projects \n",
    "project_ids = [title for n,title in enumerate(list(mprof.projects_labelled['project_id'])) if n in mission_set_indices]"
   ]
  },
  {
   "cell_type": "code",
   "execution_count": null,
   "metadata": {},
   "outputs": [],
   "source": [
    "%%time\n",
    "## we create an instance of the sbmtm-class\n",
    "model = sbmtm()\n",
    "\n",
    "## we have to create the word-document network from the corpus\n",
    "model.make_graph(tokenised,documents=project_ids)\n",
    "\n",
    "## fit the model\n",
    "gt.seed_rng(32) ## seed for graph-tool's random number generator --> same results\n",
    "model.fit()"
   ]
  },
  {
   "cell_type": "code",
   "execution_count": null,
   "metadata": {},
   "outputs": [],
   "source": [
    "\n",
    "model.plot(nedges=1000,filename='../reports/figures/presentation/topic_model.pdf')"
   ]
  },
  {
   "cell_type": "markdown",
   "metadata": {},
   "source": [
    "### Descriptive"
   ]
  },
  {
   "cell_type": "markdown",
   "metadata": {},
   "source": [
    "How many topics are there at different levels?"
   ]
  },
  {
   "cell_type": "code",
   "execution_count": null,
   "metadata": {},
   "outputs": [],
   "source": [
    "for l in np.arange(0,4):\n",
    "    print(len(model.topics(l=l)))"
   ]
  },
  {
   "cell_type": "markdown",
   "metadata": {},
   "source": [
    "How many clusters are there at different levels?"
   ]
  },
  {
   "cell_type": "code",
   "execution_count": 92,
   "metadata": {},
   "outputs": [
    {
     "name": "stdout",
     "output_type": "stream",
     "text": [
      "1027\n",
      "193\n",
      "39\n",
      "7\n"
     ]
    }
   ],
   "source": [
    "for l in np.arange(0,4):\n",
    "    print(len(model.clusters(l=l)))\n"
   ]
  },
  {
   "cell_type": "markdown",
   "metadata": {},
   "source": [
    "### Analysis"
   ]
  },
  {
   "cell_type": "code",
   "execution_count": 93,
   "metadata": {},
   "outputs": [],
   "source": [
    "def create_lq_df(df):\n",
    "    '''\n",
    "    Takes a df with cells = activity in col in row and returns a df with cells = lq\n",
    "    \n",
    "    '''\n",
    "    \n",
    "    area_activity = df.sum(axis=0)\n",
    "    area_shares = area_activity/area_activity.sum()\n",
    "    \n",
    "    lqs = df.apply(lambda x: (x/x.sum())/area_shares, axis=1)\n",
    "    return(lqs)"
   ]
  },
  {
   "cell_type": "code",
   "execution_count": 94,
   "metadata": {},
   "outputs": [],
   "source": [
    "#Extract projects in relevant fields\n",
    "projects_mf = mprof.projects_labelled.loc[mission_set_indices]"
   ]
  },
  {
   "cell_type": "code",
   "execution_count": 103,
   "metadata": {},
   "outputs": [],
   "source": [
    "# Step 1: create a df with a topic mix (level 1) per project id.\n",
    "\n",
    "#Here we just loop over indices and names\n",
    "tm = pd.concat([pd.DataFrame({e[0]:e[1] for e in model.topicdist(ind,l=1)},index=[name]) for ind,name in enumerate(project_ids)])\n",
    "\n"
   ]
  },
  {
   "cell_type": "code",
   "execution_count": 104,
   "metadata": {},
   "outputs": [],
   "source": [
    "# Step 2: Lookup ids vs sets to create the topic mix\n",
    "\n",
    "id_sets = [list(x['project_id']) for x in mprof.sets]"
   ]
  },
  {
   "cell_type": "code",
   "execution_count": 105,
   "metadata": {},
   "outputs": [],
   "source": [
    "# Step 3: Compare topics between groups: what's overrepresented in the active mission field and what isn't\n",
    "\n",
    "tm_distributions= []\n",
    "\n",
    "for ids in id_sets:\n",
    "    \n",
    "    #Topic mixes for projects in set\n",
    "\n",
    "    tm_sel = tm.loc[ids]\n",
    "    \n",
    "    #Calculate topic means\n",
    "    tm_means = tm_sel.mean()\n",
    "    \n",
    "    #Calculate projects with topic\n",
    "    tm_presence = (tm_sel>0).sum()\n",
    "    \n",
    "    tm_distributions.append([tm_means,tm_presence])"
   ]
  },
  {
   "cell_type": "code",
   "execution_count": 106,
   "metadata": {},
   "outputs": [],
   "source": [
    "tm_means,tm_presences = [pd.concat([x[n] for x in tm_distributions],axis=1) for n in [0,1]]"
   ]
  },
  {
   "cell_type": "code",
   "execution_count": 107,
   "metadata": {},
   "outputs": [],
   "source": [
    "# tm_means_norm = tm_means.apply(lambda x: (x/tm.mean())-1)\n",
    "\n",
    "# tm_means_norm.sort_values(0,ascending=False).plot.bar(figsize=(15,6))"
   ]
  },
  {
   "cell_type": "code",
   "execution_count": 108,
   "metadata": {},
   "outputs": [],
   "source": [
    "#We calculate relative specialisation in AI and Chronic diseases\n",
    "spec_topics = create_lq_df(tm_presences[[1,2]].T).T\n",
    "\n",
    "#Classify topics into categories depending on the component specialisation\n",
    "\n",
    "allocation = {'ai':[],'cd':[],'shared':[]}\n",
    "\n",
    "for i,x in spec_topics.iterrows():\n",
    "    \n",
    "    if x[1]>1.1:\n",
    "        allocation['ai'].append(i)\n",
    "        \n",
    "    elif x[2]>1.1:\n",
    "        allocation['cd'].append(i)\n",
    "        \n",
    "    else:\n",
    "        \n",
    "        allocation['shared'].append(i)"
   ]
  },
  {
   "cell_type": "code",
   "execution_count": 109,
   "metadata": {},
   "outputs": [],
   "source": [
    "#We need to import patches to create custom legends\n",
    "import matplotlib.patches as mpatches\n",
    "\n",
    "#This is for the legends\n",
    "orange_patch = mpatches.Patch(color='orange', label='AI-related topic')\n",
    "blue_patch = mpatches.Patch(color='blue', label='Chronic disease related topic')\n",
    "grey_patch = mpatches.Patch(color='lightgrey', label='Shared topic')\n"
   ]
  },
  {
   "cell_type": "code",
   "execution_count": 110,
   "metadata": {},
   "outputs": [
    {
     "data": {
      "image/png": "[encoded data removed]",
      "text/plain": [
       "<Figure size 720x360 with 1 Axes>"
      ]
     },
     "metadata": {},
     "output_type": "display_data"
    }
   ],
   "source": [
    "tm_sorted = tm_presences[0].sort_values(ascending=False)\n",
    "\n",
    "fig,ax = plt.subplots(figsize=(10,5))\n",
    "\n",
    "cols = ['orange' if ind in allocation['ai'] else 'blue' if ind in allocation['cd'] else 'lightgrey' for ind in tm_sorted.index]\n",
    "\n",
    "tm_sorted.plot.bar(color=cols,width=1)\n",
    "\n",
    "ax.legend(handles=[orange_patch,blue_patch,grey_patch],fontsize=14)\n",
    "\n",
    "ax.yaxis.set_tick_params(labelsize=14)\n",
    "\n",
    "ax.set_xticks([])\n",
    "\n",
    "ax.set_ylabel('Percentage of projects with topic presence',fontsize=14)\n",
    "ax.set_title('Topic distribution and source in active mission field',size=18)\n",
    "\n",
    "plt.tight_layout()\n",
    "\n",
    "plt.savefig('../reports/figures/presentation/topic_distribution.pdf')"
   ]
  },
  {
   "cell_type": "markdown",
   "metadata": {},
   "source": [
    "### Visualise topic mix in each project in the mission field"
   ]
  },
  {
   "cell_type": "code",
   "execution_count": 114,
   "metadata": {},
   "outputs": [],
   "source": [
    "#We focus on the active mission field\n",
    "\n",
    "amf = mprof.sets[0]\n",
    "\n",
    "\n",
    "#We focus on the active mission field\n",
    "\n",
    "amf = mprof.sets[0]\n",
    "\n",
    "#This extracts the number of projects with the topic in the year\n",
    "# year_topics = pd.concat([\n",
    "#     (tm.loc[list(amf.loc[amf['year']==y]['project_id'])]>0).sum() for y in np.arange(2006,2019)],axis=1)\n",
    "\n",
    "year_topics = pd.concat([\n",
    "    tm.loc[list(amf.loc[amf['year']==y]['project_id'])].sum() for y in np.arange(2006,2019)],axis=1)\n",
    "\n",
    "\n",
    "\n",
    "year_topics.columns= np.arange(2006,2019)\n",
    "\n",
    "#Here we sort IDs by category (AI, chronic disease etc) and by totals. \n",
    "sorted_ids = flatten_list([list(year_topics.loc[allocation[v]].sum(axis=1).sort_values(ascending=False).index) for v in ['ai','cd','shared']])\n",
    "\n",
    "year_topics = year_topics.loc[sorted_ids]"
   ]
  },
  {
   "cell_type": "code",
   "execution_count": null,
   "metadata": {},
   "outputs": [],
   "source": [
    "#Normalise topic mix so they always add to one (this is not strictly necessary)\n",
    "amf_normalised = tm.loc[amf.project_id].apply(lambda x: x/x.sum(),axis=1)\n",
    "\n",
    "#Sort projects (get AI intensive projects first)\n",
    "projects_sorted_ai = list(amf_normalised[allocation['ai']].sum(axis=1).sort_values(ascending=False).index)\n",
    "\n",
    "#Plot\n",
    "amf_to_plot = amf_normalised.loc[projects_sorted_ai,sorted_ids]\n",
    "\n",
    "\n",
    "fig,ax = plt.subplots()\n",
    "\n",
    "cols_proj = ['orange' if ind in allocation['ai'] else 'blue' if ind in allocation['cd'] else 'lightgrey' for ind in amf_to_plot.columns]\n",
    "\n",
    "#amf_to_plot.T.plot.bar(stacked=True,legend=False,ax=ax,color=cols_proj,edgecolor='black',linewidth=0.1,width=1)\n",
    "\n",
    "amf_to_plot.T.plot.bar(stacked=True,legend=False,ax=ax)\n",
    "\n",
    "\n",
    "\n",
    "\n",
    "#amf_normalised[sorted_ids]"
   ]
  },
  {
   "cell_type": "markdown",
   "metadata": {},
   "source": [
    "### Print some of the topics"
   ]
  },
  {
   "cell_type": "code",
   "execution_count": 1244,
   "metadata": {},
   "outputs": [],
   "source": [
    "# #Here we sort IDs by category (AI, chronic disease etc) and by totals. \n",
    "\n",
    "\n",
    "# topics_by_category = [list(year_topics.loc[allocation[v]].sum(axis=1).sort_values(ascending=False).index) for v in ['ai','cd','shared']]\n",
    "\n",
    "\n",
    "# for x,n in zip(topics_by_category,['ai','cd','shared']):\n",
    "    \n",
    "#     print(n)\n",
    "#     print('====')\n",
    "    \n",
    "#     print('high')\n",
    "#     print('====')\n",
    "#     for y in x[:10]:\n",
    "\n",
    "#          print(model.topics(l=0,n=5)[y])\n",
    "    \n",
    "    \n",
    "#         print('\\n')\n",
    "    \n",
    "#     print('low')\n",
    "#     print('====')\n",
    "#     for y in x[-20:]:\n",
    "        \n",
    "#         print(model.topics(l=0,n=5)[y])\n",
    "    \n",
    "    \n",
    "#         print('\\n')\n",
    "    "
   ]
  },
  {
   "cell_type": "markdown",
   "metadata": {},
   "source": [
    "### Check evolution of activity over time"
   ]
  },
  {
   "cell_type": "markdown",
   "metadata": {},
   "source": [
    "Here we want to look at the evolution of the distributio of topics over time"
   ]
  },
  {
   "cell_type": "code",
   "execution_count": 1167,
   "metadata": {},
   "outputs": [],
   "source": [
    "#We focus on the active mission field\n",
    "\n",
    "amf = mprof.sets[0]\n",
    "\n",
    "#This extracts the number of projects with the topic in the year\n",
    "# year_topics = pd.concat([\n",
    "#     (tm.loc[list(amf.loc[amf['year']==y]['project_id'])]>0).sum() for y in np.arange(2006,2019)],axis=1)\n",
    "\n",
    "year_topics = pd.concat([\n",
    "    tm.loc[list(amf.loc[amf['year']==y]['project_id'])].sum() for y in np.arange(2006,2019)],axis=1)\n",
    "\n",
    "\n",
    "\n",
    "year_topics.columns= np.arange(2006,2019)"
   ]
  },
  {
   "cell_type": "code",
   "execution_count": 1168,
   "metadata": {},
   "outputs": [],
   "source": [
    "#Here we sort IDs by category (AI, chronic disease etc) and by totals. \n",
    "sorted_ids = flatten_list([list(year_topics.loc[allocation[v]].sum(axis=1).sort_values(ascending=False).index) for v in ['ai','cd','shared']])\n",
    "\n",
    "year_topics = year_topics.loc[sorted_ids]"
   ]
  },
  {
   "cell_type": "code",
   "execution_count": null,
   "metadata": {},
   "outputs": [],
   "source": [
    "year_topics_2 = pd.concat([\n",
    "    (tm.loc[list(amf.loc[amf['year']==y]['project_id'])]>0).sum() for y in np.arange(2006,2019)],axis=1)\n",
    "year_topics_2.columns= np.arange(2006,2019)\n",
    "\n",
    "entropy_series= pd.concat(\n",
    "    [year_topics_2.loc[allocation[var]].apply(lambda x: x/x.sum(),axis=0).apply(lambda x: entropy(x)) for var in ['cd','ai']],axis=1)\n",
    "\n",
    "entropy_series.columns = ['chronic disease related topics','AI-related topics']\n"
   ]
  },
  {
   "cell_type": "code",
   "execution_count": 1184,
   "metadata": {},
   "outputs": [
    {
     "data": {
      "image/png": "[encoded data removed]",
      "text/plain": [
       "<Figure size 792x576 with 2 Axes>"
      ]
     },
     "metadata": {},
     "output_type": "display_data"
    }
   ],
   "source": [
    "fig,ax = plt.subplots(figsize=(11,8),nrows=2,sharex=False,gridspec_kw={'height_ratios': [4, 1.75]})\n",
    "\n",
    "cols_2 = ['orange' if ind in allocation['ai'] else 'blue' if ind in allocation['cd'] else 'lightgrey' for ind in year_topics.index]\n",
    "\n",
    "year_topics.T.plot.bar(stacked=True,legend=False,ax=ax[0],color=cols_2,edgecolor='black',linewidth=0.1,width=1)\n",
    "\n",
    "ax[0].set_ylabel('Total topic weight',fontsize=14)\n",
    "ax[0].yaxis.set_tick_params(labelsize=14)\n",
    "ax[0].xaxis.set_tick_params(labelsize=14)\n",
    "\n",
    "ax[0].legend(handles=[orange_patch,blue_patch,grey_patch],fontsize=14)\n",
    "ax[0].set_title('Topic mass and entropy',size=18)\n",
    "ax[0].set_xticks([])\n",
    "\n",
    "entropy_series.plot(ax=ax[1],linewidth=3,legend=False)\n",
    "\n",
    "\n",
    "ax[1].yaxis.set_tick_params(labelsize=14)\n",
    "ax[1].xaxis.set_tick_params(labelsize=14)\n",
    "ax[1].set_ylabel('Entropy',fontsize=14)\n",
    "\n",
    "plt.tight_layout()\n",
    "\n",
    "plt.savefig('../reports/figures/presentation/topic_evol.png')\n"
   ]
  },
  {
   "cell_type": "code",
   "execution_count": 739,
   "metadata": {},
   "outputs": [],
   "source": [
    "# Step 3: Compare topics between groups: what's overrepresented in the active mission field and what isn't\n",
    "\n",
    "# Step 4: Analyse content from topics\n",
    "\n",
    "# Step 5: Analyse evolution over time\n",
    "\n",
    "# Step 6: Analyse funder involvement (?)"
   ]
  },
  {
   "cell_type": "markdown",
   "metadata": {},
   "source": []
  },
  {
   "cell_type": "markdown",
   "metadata": {},
   "source": [
    "## Doc2Vec project expansion\n",
    "\n",
    "We train a doc2vec model that looks for projects which are semantically closed to those we identify as highly relevant for the challenge"
   ]
  },
  {
   "cell_type": "code",
   "execution_count": 541,
   "metadata": {},
   "outputs": [],
   "source": [
    "from gensim.models.doc2vec import Doc2Vec, TaggedDocument\n",
    "\n",
    "from sklearn.preprocessing import normalize"
   ]
  },
  {
   "cell_type": "code",
   "execution_count": 417,
   "metadata": {},
   "outputs": [],
   "source": [
    "tagged_documents = [TaggedDocument(doc,[num]) for num,doc in enumerate(corpus_tokenised.tokenised)]"
   ]
  },
  {
   "cell_type": "code",
   "execution_count": 534,
   "metadata": {},
   "outputs": [],
   "source": [
    "d2v = Doc2Vec(tagged_documents,vector_size=500)"
   ]
  },
  {
   "cell_type": "markdown",
   "metadata": {},
   "source": [
    "### Identify active mission field projects"
   ]
  },
  {
   "cell_type": "code",
   "execution_count": 624,
   "metadata": {},
   "outputs": [],
   "source": [
    "mission_set_indices = set(flatten_list([x.index for x in mprof.sets]))"
   ]
  },
  {
   "cell_type": "code",
   "execution_count": 625,
   "metadata": {},
   "outputs": [],
   "source": [
    "mission_document_vectors = pd.DataFrame(\n",
    "    normalize(pd.concat([pd.Series(x) for num,x in enumerate(d2v.docvecs.vectors_docs) if num in mission_set_indices],axis=1).T))"
   ]
  },
  {
   "cell_type": "code",
   "execution_count": 626,
   "metadata": {},
   "outputs": [],
   "source": [
    "from sklearn.cluster import KMeans\n",
    "from sklearn.metrics import silhouette_score\n",
    "from wordcloud import WordCloud\n"
   ]
  },
  {
   "cell_type": "markdown",
   "metadata": {},
   "source": [
    "## Mission field decomposition"
   ]
  },
  {
   "cell_type": "code",
   "execution_count": 627,
   "metadata": {},
   "outputs": [],
   "source": [
    "from sklearn.cluster import KMeans, AgglomerativeClustering, DBSCAN, MeanShift,SpectralClustering\n",
    "#als = list(ec.cluster_allocations.values())\n",
    "import wordcloud\n",
    "import networkx as nx\n",
    "from itertools import combinations, product\n",
    "import community\n",
    "import random\n",
    "\n",
    "class EnsembleClustering():\n",
    "    '''\n",
    "    This class takes a group of vectors and clusters them using a variety of algorithms. \n",
    "    It then builds a network based on these allocations which we can use for community detection.\n",
    "    \n",
    "    input: a df where rows = observations to cluster and columns = vector for clustering\n",
    "    methods:\n",
    "        run_clusters: runs a variety of clustering algorithms with parameters defined by the user\n",
    "        build_network: builds the network using the clustering results\n",
    "        partitition_network: extracts communities from the network\n",
    "    \n",
    "    '''\n",
    "    \n",
    "    def __init__(self,vectors):\n",
    "        '''\n",
    "        Takes the vectors \n",
    "        '''\n",
    "        \n",
    "        #Stores the vectors\n",
    "        self.vector_df = vectors\n",
    "        \n",
    "    def run_clusters(self,cluster_list):\n",
    "        '''\n",
    "        Each element in the cluster_list is a cluster algorithm and a dict with parameters. We do a cartesian product of these parameters or parameter lists\n",
    "        to produce a list of cluster algorithms to run and store all the allocations.\n",
    "        \n",
    "        '''\n",
    "        \n",
    "        #Load vectors\n",
    "        vectors = self.vector_df\n",
    "        \n",
    "        #Create store\n",
    "        self.cluster_allocations = {}\n",
    "        \n",
    "        #For each cluster family we want to test\n",
    "        for element in cluster_list:\n",
    "            \n",
    "            #Extract the algorithm, name and cluster parameters\n",
    "            cluster_algo = element[0]\n",
    "            \n",
    "            cluster_name = element[1]\n",
    "            \n",
    "            cluster_params = element[2]\n",
    "            \n",
    "            #Create a grid\n",
    "            grid = list(product(*cluster_params.values()))\n",
    "            \n",
    "            #print(grid)\n",
    "            \n",
    "            #For each element in the grid\n",
    "            \n",
    "            for conf in grid:\n",
    "                \n",
    "                #Create a keyword argument\n",
    "                par_dict = {n:v for n,v in zip(cluster_params.keys(),conf)}\n",
    "                \n",
    "                #Initialise the clustering algorithm\n",
    "                cl = cluster_algo(**par_dict)\n",
    "                \n",
    "                #print(cl)\n",
    "                \n",
    "                #Predict labels\n",
    "                labs = cl.fit_predict(vectors)\n",
    "                \n",
    "                #Store labels\n",
    "                self.cluster_allocations[cluster_name+'_'+str(conf)] = labs\n",
    "                \n",
    "        return(self)\n",
    "    \n",
    "    def build_network(self,verbose=False):\n",
    "        '''\n",
    "        Builds the network\n",
    "        \n",
    "        '''\n",
    "        \n",
    "        #net = nx.Graph()\n",
    "        \n",
    "        edges = []\n",
    "        \n",
    "        for n,result in enumerate(self.cluster_allocations.values()):\n",
    "            \n",
    "            if verbose==True:\n",
    "                print(n)\n",
    "            \n",
    "            grouped = pd.DataFrame({'index':ec.vector_df.index,'allocs':result}).groupby('allocs')['index'].apply(lambda x:list(x))\n",
    "            \n",
    "            combs = flatten_list([['__'.join([str(x) for x in var]) for var in combinations(vals,2)] for vals in grouped])\n",
    "            \n",
    "            edges.append(combs)\n",
    "            \n",
    "        \n",
    "        edge_list = flatten_list(edges)\n",
    "        \n",
    "        \n",
    "        combs_df = pd.Series(edge_list).value_counts().reset_index(drop=False)\n",
    "\n",
    "        combs_df.columns = ['vars','weight']\n",
    "        \n",
    "        #This is an edgelist\n",
    "        combs_df['source'],combs_df['target'] = [[x.split('__')[num] for x in combs_df['vars']] for num in [0,1]]\n",
    "\n",
    "\n",
    "        combs_df.drop(['vars'],axis=1,inplace=True)\n",
    "        \n",
    "        #Create a network\n",
    "        self.network = nx.from_pandas_edgelist(combs_df,edge_attr='weight')\n",
    "            \n",
    "        \n",
    "    \n",
    "    def partitition_network(self,resolution=1):\n",
    "        '''\n",
    "        \n",
    "        Partitions the network\n",
    "        \n",
    "        '''\n",
    "        \n",
    "        part = community.best_partition(self.network,resolution=resolution)\n",
    "        \n",
    "        \n",
    "        allocs = pd.Series(part)\n",
    "        allocs.name = 'clusters'\n",
    "        \n",
    "        allocs.index = [int(x) for x in allocs.index]\n",
    "        \n",
    "        self.partition = allocs           \n",
    "\n",
    "        \n",
    "class SalientWords():\n",
    "    '''\n",
    "    Class that extracts salient words from clusters of data.\n",
    "    \n",
    "    Arguments:\n",
    "        A dataframe and two strings (the variable to groupby and the variable to use as text)\n",
    "        \n",
    "    Methods:\n",
    "        .count_vect(): word frequencies for all words (takes **kwargs for additional parameters in the count vectorisation)\n",
    "        .salient(): tfidf. It will also take **kwargs and a threshold for including words in the results\n",
    "        .visualise(): it visualises the data as wordclouds\n",
    "    \n",
    "    '''\n",
    "    \n",
    "    def __init__(self,df,categories,text):\n",
    "        '''\n",
    "        Initialises with key variables\n",
    "        \n",
    "        '''    \n",
    "        \n",
    "        \n",
    "        #This creates the joined corpus\n",
    "        self.grouped_corpus = df.groupby(categories)[text].apply(lambda x: ' '.join(x))\n",
    "        \n",
    "        \n",
    "        #Remove digits and special \n",
    "        dig = r'|'.join(st.digits)\n",
    "        out = '\\W+'\n",
    "        \n",
    "        self.processed_text = [re.sub(out,' ',re.sub(dig,' ',x.lower())) for x in self.grouped_corpus]\n",
    "        \n",
    "        #This is a dict we will use to store the results later\n",
    "        self.groups = {i:[] for i in self.grouped_corpus.index}\n",
    "        \n",
    "        #return(self)\n",
    "        \n",
    "    def word_freqs(self,**kwargs):\n",
    "        '''\n",
    "        Terms frequencies over categories\n",
    "        \n",
    "        '''\n",
    "        #load corpus\n",
    "        X = self.processed_text\n",
    "        \n",
    "        count_vect = CountVectorizer(**kwargs)\n",
    "        \n",
    "        #Store outputs\n",
    "        self.count_vect = count_vect\n",
    "        self.token_freqs = count_vect.fit_transform(X)\n",
    "        \n",
    "        return(self)\n",
    "    \n",
    "    def salient(self,min_threshold=1000,extra_stops=['research','project','new','projects'],**kwargs):\n",
    "        '''\n",
    "        Salient terms in the data.\n",
    "        \n",
    "        '''\n",
    "        \n",
    "        #Get selected words\n",
    "        \n",
    "        word_freqs = pd.DataFrame(self.token_freqs.todense(),columns=self.count_vect.get_feature_names())\n",
    "        \n",
    "        word_freqs_total = word_freqs.sum(axis=0)\n",
    "        \n",
    "        #Create a dict so we can put word frequencies together with salient words later\n",
    "        #word_freqs_dict = word_freqs.to_dict()\n",
    "        \n",
    "        #I am interested in any words above the threshold\n",
    "        my_words = [x for x in word_freqs_total.index[word_freqs_total>min_threshold] if x not in extra_stops]\n",
    "        \n",
    "        \n",
    "        #Initialise the tfidf\n",
    "        tf = TfidfTransformer(**kwargs)\n",
    "        \n",
    "        \n",
    "        #out\n",
    "        X = tf.fit_transform(self.token_freqs)\n",
    "        \n",
    "        X_selected = pd.DataFrame(X.todense(),columns=self.count_vect.get_feature_names())[my_words]\n",
    "            \n",
    "            \n",
    "        #Store the results\n",
    "        for n,x in enumerate(self.groups.keys()):\n",
    "            \n",
    "            #Creates the dataframe combining tfs and wfs\n",
    "            result = pd.concat([X_selected.iloc[n],word_freqs.iloc[n][my_words]],axis=1)\n",
    "            \n",
    "            result.columns = ['tfidf','count'] \n",
    "                   \n",
    "            self.groups[x] = result\n",
    "            \n",
    "        return(self)\n",
    "        \n",
    "    def get_summary(self,tf_threshold=90,wf_threshold=75):\n",
    "        '''\n",
    "        \n",
    "        Extracts a summary of the data based on tf and wf thresholds\n",
    "        \n",
    "        '''\n",
    "        \n",
    "        self.summary={i:[] for i in self.groups.keys()}\n",
    "        \n",
    "        for x in self.groups.keys():\n",
    "            \n",
    "            #Creates the dataframe\n",
    "            result = self.groups[x]\n",
    "            \n",
    "            tf_thres = np.percentile(result['tfidf'],tf_threshold)\n",
    "            \n",
    "            summary = result.loc[result['tfidf']>tf_thres]\n",
    "            \n",
    "            wf_thres = np.percentile(result['count'],wf_threshold)\n",
    "            \n",
    "            summary_2 = summary.loc[summary['count']>wf_thres]\n",
    "                   \n",
    "            self.summary[x] = summary_2.sort_values('tfidf',ascending=False)\n",
    "        \n",
    "        return(self)\n",
    "    \n",
    "def make_wordcloud(term_freqs_df,var,name,ax):\n",
    "    '''\n",
    "    This function takes a df generated by the SalientWords class and returns a wordcloud\n",
    "    \n",
    "    '''\n",
    "    \n",
    "    input_dict = {w:f for w,f in zip(term_freqs_df.index,term_freqs_df[var])}\n",
    "\n",
    "    wc = wordcloud.WordCloud(background_color=\"black\").generate_from_frequencies(input_dict)\n",
    "\n",
    "    ax.imshow(wc)\n",
    "    \n",
    "    ax.axis('off')\n",
    "    \n",
    "    ax.set_title(name)"
   ]
  },
  {
   "cell_type": "code",
   "execution_count": 630,
   "metadata": {},
   "outputs": [],
   "source": [
    "cluster_list = [[KMeans,'kmeans',{'n_clusters':np.arange(10,40,2),'max_iter':[250,500]}],\n",
    "                #[MeanShift,'ms',{'cluster_all':[True,False]}],\n",
    "               #[AgglomerativeClustering,'agglom',{'n_clusters':np.arange(5,20,1)}],\n",
    "                #[SpectralClustering,'spec',{'n_clusters':np.arange(5,40,1),'n_init':[10,20]}]\n",
    "               ]\n",
    "                "
   ]
  },
  {
   "cell_type": "code",
   "execution_count": 632,
   "metadata": {},
   "outputs": [],
   "source": [
    "#ec = EnsembleClustering(pd.DataFrame(d2v.docvecs.vectors_docs))\n",
    "\n",
    "ec = EnsembleClustering(mission_document_vectors)\n",
    "ec.run_clusters(cluster_list)"
   ]
  },
  {
   "cell_type": "code",
   "execution_count": 567,
   "metadata": {},
   "outputs": [],
   "source": [
    "ec.build_network()"
   ]
  },
  {
   "cell_type": "code",
   "execution_count": 604,
   "metadata": {},
   "outputs": [],
   "source": [
    "ec.partitition_network(resolution=0.3)"
   ]
  },
  {
   "cell_type": "code",
   "execution_count": 605,
   "metadata": {},
   "outputs": [],
   "source": [
    "partition = ec.partition"
   ]
  },
  {
   "cell_type": "code",
   "execution_count": 606,
   "metadata": {},
   "outputs": [],
   "source": [
    "partition_sorted_lookup = partition[sorted(partition.index)].to_dict()"
   ]
  },
  {
   "cell_type": "code",
   "execution_count": 607,
   "metadata": {},
   "outputs": [],
   "source": [
    "projects_salient = mission_projects.copy()"
   ]
  },
  {
   "cell_type": "code",
   "execution_count": 608,
   "metadata": {},
   "outputs": [],
   "source": [
    "projects_salient['cluster'] = [partition_sorted_lookup[x] for x,y in enumerate(projects_salient.index)]"
   ]
  },
  {
   "cell_type": "code",
   "execution_count": 609,
   "metadata": {},
   "outputs": [],
   "source": [
    "import string as st\n",
    "from sklearn.feature_extraction.text import CountVectorizer,TfidfTransformer"
   ]
  },
  {
   "cell_type": "code",
   "execution_count": 610,
   "metadata": {},
   "outputs": [],
   "source": [
    "traj_salient = SalientWords(df=projects_salient,categories='cluster',text='abstract')"
   ]
  },
  {
   "cell_type": "code",
   "execution_count": 614,
   "metadata": {},
   "outputs": [
    {
     "data": {
      "text/plain": [
       "<__main__.SalientWords at 0x2d2d55320>"
      ]
     },
     "execution_count": 614,
     "metadata": {},
     "output_type": "execute_result"
    }
   ],
   "source": [
    "traj_salient.word_freqs(**{'stop_words':'english','max_features':20000,'ngram_range':(1,3),'max_df':4}).salient(min_threshold=5).get_summary(\n",
    "    wf_threshold=50,tf_threshold=75)"
   ]
  },
  {
   "cell_type": "code",
   "execution_count": 615,
   "metadata": {},
   "outputs": [
    {
     "data": {
      "text/plain": [
       "11"
      ]
     },
     "execution_count": 615,
     "metadata": {},
     "output_type": "execute_result"
    }
   ],
   "source": [
    "len(traj_salient.summary)"
   ]
  },
  {
   "cell_type": "code",
   "execution_count": 616,
   "metadata": {},
   "outputs": [
    {
     "data": {
      "image/png": "[encoded data removed]",
      "text/plain": [
       "<Figure size 1080x1080 with 12 Axes>"
      ]
     },
     "metadata": {},
     "output_type": "display_data"
    }
   ],
   "source": [
    "rows=6\n",
    "\n",
    "fig,ax = plt.subplots(ncols=2,nrows=rows,figsize=(15,15))\n",
    "\n",
    "for n,name in enumerate(traj_salient.summary.keys()):\n",
    "    \n",
    "    #print(n)\n",
    "    \n",
    "    if n<rows:\n",
    "        make_wordcloud(traj_salient.summary[name],'tfidf',name,ax=ax[n][0])\n",
    "        \n",
    "    else:\n",
    "        make_wordcloud(traj_salient.summary[name],'tfidf',name,ax=ax[n-rows][1])\n",
    "        \n",
    "plt.tight_layout()"
   ]
  },
  {
   "cell_type": "code",
   "execution_count": null,
   "metadata": {},
   "outputs": [],
   "source": []
  }
 ],
 "metadata": {
  "kernelspec": {
   "display_name": "Python 3",
   "language": "python",
   "name": "python3"
  },
  "language_info": {
   "codemirror_mode": {
    "name": "ipython",
    "version": 3
   },
   "file_extension": ".py",
   "mimetype": "text/x-python",
   "name": "python",
   "nbconvert_exporter": "python",
   "pygments_lexer": "ipython3",
   "version": "3.7.1"
  }
 },
 "nbformat": 4,
 "nbformat_minor": 2
}
