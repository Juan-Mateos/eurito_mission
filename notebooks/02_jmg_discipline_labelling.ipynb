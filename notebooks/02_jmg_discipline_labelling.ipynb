{
 "cells": [
  {
   "cell_type": "markdown",
   "metadata": {},
   "source": [
    "# Gateway to Research Discipline Labelling\n",
    "\n",
    "We use an older version of GtR with better topic coverage to\n",
    "\n",
    "* Analyse the community structure of the topic co-occurrence network to identify disciplines\n",
    "* Train a discipline classifier that we can use with the latest GtR data."
   ]
  },
  {
   "cell_type": "markdown",
   "metadata": {
    "heading_collapsed": true
   },
   "source": [
    "## Preamble"
   ]
  },
  {
   "cell_type": "code",
   "execution_count": 1,
   "metadata": {},
   "outputs": [],
   "source": [
    "#import matplotlib\n",
    "#matplotlib.use('cairo')"
   ]
  },
  {
   "cell_type": "code",
   "execution_count": 50,
   "metadata": {
    "ExecuteTime": {
     "end_time": "2018-10-31T15:56:57.940877Z",
     "start_time": "2018-10-31T15:56:57.814063Z"
    },
    "hidden": true
   },
   "outputs": [],
   "source": [
    "import ast\n",
    "import os\n",
    "\n",
    "import pandas as pd\n",
    "import matplotlib.pyplot as plt\n",
    "import numpy as np\n",
    "import seaborn as sns\n",
    "%matplotlib inline\n",
    "\n",
    "pd.options.mode.chained_assignment = None  # default='warn'"
   ]
  },
  {
   "cell_type": "code",
   "execution_count": 18,
   "metadata": {},
   "outputs": [],
   "source": [
    "# %load lda_pipeline.py\n",
    "from gensim import corpora, models\n",
    "from string import punctuation\n",
    "from string import digits\n",
    "import re\n",
    "import pandas as pd\n",
    "import numpy as np\n",
    "\n",
    "#Characters to drop\n",
    "drop_characters = re.sub('-','',punctuation)+digits\n",
    "\n",
    "#Stopwords\n",
    "from nltk.corpus import stopwords\n",
    "\n",
    "stop = stopwords.words('English')\n",
    "\n",
    "#Stem functions\n",
    "from nltk.stem import *\n",
    "stemmer = PorterStemmer()\n",
    "\n",
    "\n",
    "def clean_tokenise(string,drop_characters=drop_characters,stopwords=stop):\n",
    "    '''\n",
    "    Takes a string and cleans (makes lowercase and removes stopwords)\n",
    "    \n",
    "    '''\n",
    "    \n",
    "\n",
    "    #Lowercase\n",
    "    str_low = string.lower()\n",
    "    \n",
    "    \n",
    "    #Remove symbols and numbers\n",
    "    str_letters = re.sub('[{drop}]'.format(drop=drop_characters),'',str_low)\n",
    "    \n",
    "    \n",
    "    #Remove stopwords\n",
    "    clean = [x for x in str_letters.split(' ') if (x not in stop) & (x!='')]\n",
    "    \n",
    "    return(clean)\n",
    "\n",
    "\n",
    "class CleanTokenize():\n",
    "    '''\n",
    "    This class takes a list of strings and returns a tokenised, clean list of token lists ready\n",
    "    to be processed with the LdaPipeline\n",
    "    \n",
    "    It has a clean method to remove symbols and stopwords\n",
    "    \n",
    "    It has a bigram method to detect collocated words\n",
    "    \n",
    "    It has a stem method to stem words\n",
    "    \n",
    "    '''\n",
    "    \n",
    "    def __init__(self,corpus):\n",
    "        '''\n",
    "        Takes a corpus (list where each element is a string)\n",
    "        '''\n",
    "        \n",
    "        #Store\n",
    "        self.corpus = corpus\n",
    "        \n",
    "    def clean(self,drop=drop_characters,stopwords=stop):\n",
    "        '''\n",
    "        Removes strings and stopwords, \n",
    "        \n",
    "        '''\n",
    "        \n",
    "        cleaned = [clean_tokenise(doc,drop_characters=drop,stopwords=stop) for doc in self.corpus]\n",
    "        \n",
    "        self.tokenised = cleaned\n",
    "        return(self)\n",
    "    \n",
    "    def stem(self):\n",
    "        '''\n",
    "        Optional: stems words\n",
    "        \n",
    "        '''\n",
    "        #Stems each word in each tokenised sentence\n",
    "        stemmed = [[stemmer.stem(word) for word in sentence] for sentence in self.tokenised]\n",
    "    \n",
    "        self.tokenised = stemmed\n",
    "        return(self)\n",
    "        \n",
    "    \n",
    "    def bigram(self,threshold=10):\n",
    "        '''\n",
    "        Optional Create bigrams.\n",
    "        \n",
    "        '''\n",
    "        \n",
    "        #Colocation detector trained on the data\n",
    "        phrases = models.Phrases(self.tokenised,threshold=threshold)\n",
    "        \n",
    "        bigram = models.phrases.Phraser(phrases)\n",
    "        \n",
    "        self.tokenised = bigram[self.tokenised]\n",
    "        \n",
    "        return(self)\n",
    "        \n",
    "        \n",
    "        \n",
    "        \n",
    "\n",
    "class LdaPipeline():\n",
    "    '''\n",
    "    This class processes lists of keywords.\n",
    "    How does it work?\n",
    "    -It is initialised with a list where every element is a collection of keywords\n",
    "    -It has a method to filter keywords removing those that appear less than a set number of times\n",
    "    \n",
    "    -It has a method to process the filtered df into an object that gensim can work with\n",
    "    -It has a method to train the LDA model with the right parameters\n",
    "    -It has a method to predict the topics in a corpus\n",
    "    \n",
    "    '''\n",
    "    \n",
    "    def __init__(self,corpus):\n",
    "        '''\n",
    "        Takes the list of terms\n",
    "        '''\n",
    "        \n",
    "        #Store the corpus\n",
    "        self.tokenised = corpus\n",
    "        \n",
    "    def filter(self,minimum=5):\n",
    "        '''\n",
    "        Removes keywords that appear less than 5 times.\n",
    "        \n",
    "        '''\n",
    "        \n",
    "        #Load\n",
    "        tokenised = self.tokenised\n",
    "        \n",
    "        #Count tokens\n",
    "        token_counts = pd.Series([x for el in tokenised for x in el]).value_counts()\n",
    "        \n",
    "        #Tokens to keep\n",
    "        keep = token_counts.index[token_counts>minimum]\n",
    "        \n",
    "        #Filter\n",
    "        tokenised_filtered = [[x for x in el if x in keep] for el in tokenised]\n",
    "        \n",
    "        #Store\n",
    "        self.tokenised = tokenised_filtered\n",
    "        self.empty_groups = np.sum([len(x)==0 for x in tokenised_filtered])\n",
    "        \n",
    "        return(self)\n",
    "    \n",
    "    def clean(self):\n",
    "        '''\n",
    "        Remove symbols and numbers\n",
    "        \n",
    "        '''\n",
    "        \n",
    "        \n",
    "        \n",
    "    \n",
    "        \n",
    "    def process(self):\n",
    "        '''\n",
    "        This creates the bag of words we use in the gensim analysis\n",
    "        \n",
    "        '''\n",
    "        #Load the list of keywords\n",
    "        tokenised = self.tokenised\n",
    "        \n",
    "        #Create the dictionary\n",
    "        dictionary = corpora.Dictionary(tokenised)\n",
    "        \n",
    "        #Create the Bag of words. This converts keywords into ids\n",
    "        corpus = [dictionary.doc2bow(x) for x in tokenised]\n",
    "        \n",
    "        self.corpus = corpus\n",
    "        self.dictionary = dictionary\n",
    "        return(self)\n",
    "        \n",
    "    def tfidf(self):\n",
    "        '''\n",
    "        This is optional: We extract the term-frequency inverse document frequency of the words in\n",
    "        the corpus. The idea is to identify those keywords that are more salient in a document by normalising over\n",
    "        their frequency in the whole corpus\n",
    "        \n",
    "        '''\n",
    "        #Load the corpus\n",
    "        corpus = self.corpus\n",
    "        \n",
    "        #Fit a TFIDF model on the data\n",
    "        tfidf = models.TfidfModel(corpus)\n",
    "        \n",
    "        #Transform the corpus and save it\n",
    "        self.corpus = tfidf[corpus]\n",
    "        \n",
    "        return(self)\n",
    "    \n",
    "    def fit_lda(self,num_topics=20,passes=5,iterations=75,random_state=1803):\n",
    "        '''\n",
    "        \n",
    "        This fits the LDA model taking a set of keyword arguments.\n",
    "        #Number of passes, iterations and random state for reproducibility. We will have to consider\n",
    "        reproducibility eventually.\n",
    "        \n",
    "        '''\n",
    "        \n",
    "        #Load the corpus\n",
    "        corpus = self.corpus\n",
    "        \n",
    "        #Train the LDA model with the parameters we supplied\n",
    "        lda = models.LdaModel(corpus,id2word=self.dictionary,\n",
    "                              num_topics=num_topics,passes=passes,iterations=iterations,random_state=random_state)\n",
    "        \n",
    "        #Save the outputs\n",
    "        self.lda_model = lda\n",
    "        self.lda_topics = lda.show_topics(num_topics=num_topics)\n",
    "        \n",
    "\n",
    "        return(self)\n",
    "    \n",
    "    def predict_topics(self):\n",
    "        '''\n",
    "        This predicts the topic mix for every observation in the corpus\n",
    "        \n",
    "        '''\n",
    "        #Load the attributes we will be working with\n",
    "        lda = self.lda_model\n",
    "        corpus = self.corpus\n",
    "        \n",
    "        #Now we create a df\n",
    "        predicted = lda[corpus]\n",
    "        \n",
    "        #Convert this into a dataframe\n",
    "        predicted_df = pd.concat([pd.DataFrame({x[0]:x[1] for x in topics},\n",
    "                                              index=[num]) for num,topics in enumerate(predicted)]).fillna(0)\n",
    "        \n",
    "        self.predicted_df = predicted_df\n",
    "        \n",
    "        return(self)\n",
    "    "
   ]
  },
  {
   "cell_type": "markdown",
   "metadata": {
    "heading_collapsed": true
   },
   "source": [
    "## Import Data\n",
    "\n",
    "If you have cloned the repo, get the data [here](https://drive.google.com/open?id=1N62n0Pi7W63uWFaiWHNJMJdsRWd58UIZ)"
   ]
  },
  {
   "cell_type": "code",
   "execution_count": 19,
   "metadata": {
    "ExecuteTime": {
     "end_time": "2018-10-31T16:05:05.580004Z",
     "start_time": "2018-10-31T16:05:04.108755Z"
    },
    "hidden": true
   },
   "outputs": [],
   "source": [
    "raw_gtr_df = pd.read_csv(\n",
    "    '../data/external/gtr/gtr_projects.csv',\n",
    "    converters={\n",
    "        'research_topics': ast.literal_eval,\n",
    "        'researc_subjects': ast.literal_eval,\n",
    "    }\n",
    ")\n",
    "\n",
    "gtr_df = raw_gtr_df[(raw_gtr_df['start_year'] >= 2006) & (raw_gtr_df['start_year'] < 2017)]\n",
    "#gtr_df = gtr_df[(gtr_df['funder_name'] != 'BBSRC') & (gtr_df['funder_name'] != 'MRC')]"
   ]
  },
  {
   "cell_type": "markdown",
   "metadata": {},
   "source": [
    "## Identify topic communities in the period"
   ]
  },
  {
   "cell_type": "markdown",
   "metadata": {},
   "source": [
    "#### Create all years co-occurrence graph"
   ]
  },
  {
   "cell_type": "code",
   "execution_count": 22,
   "metadata": {},
   "outputs": [],
   "source": [
    "import itertools\n",
    "import networkx as nx\n",
    "import community"
   ]
  },
  {
   "cell_type": "code",
   "execution_count": 23,
   "metadata": {},
   "outputs": [],
   "source": [
    "# We will create an edgelist from the groups in each project\n",
    "\n",
    "#This creates combinations \n",
    "combs = [sorted(tuple) for tuple in flatten([list(itertools.combinations(vals,2)) for vals in gtr_df['research_topics']])]\n",
    "\n",
    "#Count combinations (this is the weight)\n",
    "combs_df = pd.Series(['__'.join(x) for x in combs]).value_counts().reset_index(drop=False)\n",
    "\n",
    "combs_df.columns = ['vars','weight']\n",
    "\n",
    "#This is an edgelist\n",
    "combs_df['source'],combs_df['target'] = [[v.split('__')[num] for v in combs_df['vars']] for num in [0,1]]\n",
    "\n",
    "combs_df.drop(['vars'],axis=1,inplace=True)"
   ]
  },
  {
   "cell_type": "code",
   "execution_count": 36,
   "metadata": {},
   "outputs": [],
   "source": [
    "#Create a network\n",
    "network = nx.from_pandas_edgelist(combs_df,edge_attr='weight')\n",
    "\n",
    "#Extract the best partition\n",
    "part = community.best_partition(network,resolution=0.9)"
   ]
  },
  {
   "cell_type": "markdown",
   "metadata": {},
   "source": [
    "NB This is only a preliminary analysis that we still need to tune"
   ]
  },
  {
   "cell_type": "code",
   "execution_count": 39,
   "metadata": {},
   "outputs": [
    {
     "name": "stdout",
     "output_type": "stream",
     "text": [
      "Materials Characterisation Materials Synthesis & Growth Materials Processing Catalysis & Applied Catalysis Chemical Synthetic Methodology Condensed Matter Physics Analytical Science Instrumentation Eng. & Dev. Biological & Medicinal Chem. Solar Technology Materials testing & eng. Chemical Structure Electronic Devices & Subsys. Magnetism/Magnetic Phenomena Building Ops & Management Energy Efficiency Reactor Engineering Surfaces & Interfaces Eng. Dynamics & Tribology Co-ordination Chemistry Manufacturing Machine & Plant Biomaterials Tissue engineering Urban & Land Management Cold Atomic Species Quantum Optics & Information High Performance Computing Complex fluids & soft solids Physical Organic Chemistry Optoelect. Devices & Circuits Asymmetric Chemistry Heat & Mass Transfer Med.Instrument.Device& Equip. Medical Imaging Civil Engineering Materials Structural Engineering Optical Devices & Subsystems Fuel Cell Technologies Drug Formulation & Delivery Bioprocess Engineering Design of Process systems Biomechanics & Rehabilitation Construction Ops & Management Lasers & Optics Electrochemical Science & Eng. Medical science & disease Bioenergy Gas & Solution Phase Reactions Acoustics Ground Engineering Manufact. Enterprise Ops& Mgmt Energy - Nuclear Optical Communications Aerodynamics Fluid Dynamics Multiphase Flow Light-Matter Interactions Energy Storage Design Engineering Sustainable Energy Networks Manufact. Business Strategy Optical Phenomena Combinatorial Chemistry Energy - Marine & Hydropower Microsystems Sustainable Energy Vectors Power Sys Man, Prot & Control Power Systems Plant Water Engineering Power Electronics Combustion Rheology Energy - Conventional Electric Motor & Drive Systems Quantum Fluids & Solids Separation processes Coal Technology Wind Power Particle Technology Plasmas - Laser & Fusion Design & Testing Technology Oil & Gas Extraction Scattering & Spectroscopy Bioelectronic Devices Plasmas - Technological Electromagnetics Fusion Intelligent Measurement Sys. Mining & Minerals Extraction Displays Mech. & Fluid Power Transmiss. Underwater Engineering Atoms & Ions Pavement Engineering Maritime History\n",
      "\n",
      "Biogeochemical Cycles Climate & Climate Change Ocean - Atmosphere Interact. Ocean Circulation Palaeoenvironments Land - Atmosphere Interactions Regional & Extreme Weather Glacial & Cryospheric Systems Tropospheric Processes Ecosystem Scale Processes Quaternary Science Community Ecology Population Ecology Environmental Microbiology Hydrological Processes Conservation Ecology Population Genetics/Evolution Geohazards Volcanic Processes Behavioural Ecology Tectonic Processes Pollution Sediment/Sedimentary Processes Land - Ocean Interactions Earth Surface Processes Radiative Processes & Effects Environment & Health Large Scale Dynamics/Transport Environmental Genomics Water In The Atmosphere Mantle & Core Processes Properties Of Earth Materials Agricultural systems Soil science Water Quality Earth & environmental Palaeobiology Technol. for Environ. Appl. Atmospheric Kinetics Ecotoxicology Earth Resources Stratospheric Processes Boundary Layer Meteorology Systematics & Taxonomy Environmental Physiology Science-Based Archaeology Survey & Monitoring Hydrogeology Nat Resources, Env & Rural Dev Environmental Informatics Environmental Geography Spatial Planning Waste Management Assess/Remediate Contamination Upper Atmos Process & Geospace Environmental biotechnology Remote Sensing & Earth Obs. Development Geography Coastal & Waterway Engineering Waste Minimisation Urban Design Geography and Development Environmental economics Environment Carbon Capture & Storage Landscape  Architecture Earth Engineering Archaeology Of Human Origins Regional Geography Oceanic Studies\n",
      "\n",
      "Social Policy Sociology Human Geography Political Science Education Psychology Economics Social Stats., Comp. & Methods Area & Development Studies Management & Business Studies Social Anthropology Linguistics (General) Science & Technology Studies Social Work Socio Legal Studies Environmental planning Demography Cognitive Psychology Experimental Psychology Demography (General) Politics Developmental psychology Human Rights Child Psychology International Law Elections/Electoral studies Psychology of Education Political Sociology Criminal Law & Criminology Criminology Education and School Womens and Gender Studies European/EU Studies Social Psychology Urban Geography Mental Health Education Policy Sociology of Education Med Soc/Soc Health & Illness Urbanisation Human Geography (General) Internat. Studies & Relations Stratification Labour economics Public economics Social Work with Adults Human Resource Management Industrial-Org/Occupational Gerontology Health Psychology Social Theory Organisational Studies Biological Psychology Employment Studies Social Geography Ethnicity Comparative Law Demography/Pop Geography Phases of education Public Administration Public Law Political Geography Edu Sociocloy/Sociology of Edu Economic Development Children and Families Development economics Language Acquisition Elements of Education Psycholinguistics Common Law inc. Commercial Law Law Regulated By Statute EU Law Internat Education and Dev Leadership Behavioural & experimental eco Globalism and Development Financial economics Law Relating To Property Economic Geography Economic Sociology Macroeconomics Forensic Psychology Entrepreneurship Innovation International economics Microeconomic theory International Organisations Internat Political Economy Marketing Retail Management Transport Geography Sociology and Development Econometrics Strategic Management Governance Sport and Exercise Kinship Health & relatedness International Relations Theory Mathematical & Statistic Psych Knowledge Management Law and economics Industrial Organisation (R&D) Sustainability Management Finance and Accounting International Business International Social Work Operations Management Reproductive and sexual health Hosp, Leisure & tourism manage Safety & Reliability of Plant Project Studies Demography and Development\n",
      "\n",
      "Extra-Galactic Astron.&Cosmol. Galactic & Interstellar Astron B Physics/Flavour Physics Beyond the Standard Model Cosmology The Standard Model Data Handling & Storage Stellar Astronomy Neutrino Physics Accelerator R&D Nuclear Astrophysics Nuclear structure Part. Phys/Astron. Instrument. Computational Methods & Tools Astron. & Space Sci. Technol. Hadron Physics Extra Solar Planets Phenomenology Relativistic Heavy Ions Quantum Field Theory Direct Dark Matter Detection Solar & Solar-Terrestrial Phys Solar Studies Non-Terrestrial Planetary Sci. Planetary Surfaces & Geology Dark Energy String Theory Lattice QCD Solar Bodies Exploration Technology Planetary Atmospheres Gravitational Waves Cosmic Microwave Background Gamma Ray Astronomy ISIS T1 High Energy Cosmic Rays Diamond Light Source ILL ISIS T2 ESRF Central Laser Facility\n",
      "\n",
      "Cultural History Economic & Social History Political History English Language & Literature History of Sci./Med./Technol. Imperial/Colonial History Religious History History Of Music Musicology Media & Communication Studies New Media/Web-Based Studies Prehistoric Archaeology History of Church & Theology Cultural Geography Art History Literary & Cultural Theory Cultural Studies & Pop Culture Music & Society Heritage Management Musical Performance Landscape & Environ. Archaeol. Design HTP Design Processes Museum & Gallery Studies Comparative Literature Film History, T & C Film-based media (H, T & P) War Studies Post-Colonial Studies Classical Music Product Design Policy, Arts Mgmt & Creat Ind Architecture HTP Community Art inc A & H History Of Ideas Performance & Live Art Theatre & Society Conflict/War Studies Peace Studies Fine Art HTP Archaeology of Literate Soc. Archives Ethics Political Philosophy Digital Art & Design Photography HTP Theatre & History Diplomacy & Internat Relations Popular Music Security Studies Composition Epistemology Philosophy Of Mind Metaphysics Gender & Sexuality Studies Gender & Sexuality Applied Arts HTP Television HTC Digital Arts HTP Ethnography & Anthropology Cultural Studies Media Studies Medieval Literature Journalism Creative Writing Language Variation & Change Syntax Lifewriting History Of Philosophy Applied Linguistics Sociolinguistics Archaeological Theory Linguistic Theory Italian studies Development studies Social policy and Development Anthropology and Development Pol.,International Rel.&Dev. Aesthetics Legal History Installation & Sound Art HTP Time-Based Media HTP Classical Literature Languages & Linguistics French Studies Publishing History & Dev. of English Lang Science and Technology Studies Hispanic, Portguese & Latin Drama & Theatre - Other Russian, Slavonic & E European Morphology & Phonology Epigraphy & Papyrology Language & Philosophical Logic Jurisprudence/Legal Philosophy Asian & Middle Eastern Studies American Studies Judaism Semantics & Pragmatics African Studies Philosophy, Thought & Religion Cartography and GIS Cultural and Anthrop Geography Choreography Dance Performance Conservation Science Science & Maths, & Math Logic Dramaturgy Inter-faith Relations Econ, Pol & Env Anthropology Theories Of Theatre German, inc. Dutch & Yiddish Historical Geography Rel, Material & Cog Anthrop Islam Contemporary Religion Sociology of Religion Interpreting & Translation Corpus Linguistics Information Sci. & Retrieval Curriculum areas Records Management Textual Editing & Bibliography Classical Reception Comparative Studies Law, Democracy and Development European Studies Global Health and Medicine Asiatic & Oriental Studies Anthropological Methodology Atheism/Secularism Middle East & African Studies Traditional Music Art Theory & Aesthetics New Testament Old Testament Celtic Studies Regional Development ICT and education Conservation Of Art & Textiles Middle East Studies Industrial Archaeology Phonetics Library Studies Hinduism Language Training/Educational Foreign Policy Studies Computational Linguistics Lexicon Philosophy Of Religion Rural Geography Maritime Archaeology Management & Bus Studies & Dev Modern Theology Jainism Systematic Theology Pacific Studies Hispanic & Latin American Stud Alternative Spiritualities Liturgy Computational Studies Buddhism History of Dance Recreation/Tourism Geography Scandinavian studies East Asian Religions Dev Informatics & Technology Scenography Social Dance Dance Notation Sikhism\n",
      "\n",
      "Mobile Computing Networks & Distributed Systems Human-Computer Interactions Information & Knowledge Mgmt Fundamentals of Computing Software Engineering Artificial Intelligence Algebra & Geometry Mathematical Physics Continuum Mechanics Non-linear Systems Mathematics Mathematical Analysis Digital Signal Processing RF & Microwave Technology Numerical Analysis Statistics & Appl. Probability Logic & Combinatorics Comput./Corpus Linguistics Human Communication in ICT Image & Vision Computing Vision & Senses - ICT appl. Complexity Science Multimedia Computer Graphics & Visual. System on Chip Robotics & Autonomy New & Emerging Comp. Paradigms Control Engineering VLSI Design Parallel Computing Transport Ops & Management Computer Sys. & Architecture Cognitive Science Appl. in ICT Mathematical Aspects of OR Modelling & simul. of IT sys. Biomedical neuroscience Music & Acoustic Technology Intelligent & Expert Systems\n",
      "\n",
      "Crop science Plant physiology Plant responses to environment Animal Diseases Microbiology Evolution & populations Immunology Microorganisms Bioinformatics Genomics Animal developmental biology Gene action & regulation Animal behaviour Systems neuroscience Animal & human physiology Crop protection Interaction with organisms Multiprotein complexes Structural Biology Biochemistry & physiology Transcriptomics Livestock production Chemical Biology Animal organisms Epigenetics Communication & signalling Receptors Cells Organelles & components Plant organisms Catalysis & enzymology Biophysics Responses to environment Plant developmental biology Tools for the biosciences Stem cell biology Proteomics Endocrinology Animal Welfare Biological membranes eScience Protein chemistry Ageing: chemistry/biochemistry Diet & health Food structure/composition Theoretical biology Biochemical engineering Plant cell biology Protein expression Genome organisation Metabolic engineering Food microbiology Bioenergetics Parasitology Functional genomics Food processing Cell cycle Microbial Bionanotechnology Musculoskeletal system Development (Biosciences) 3Rs Plant reproductive biology Protein engineering Synthetic biology Protein folding / misfolding Novel industrial products Research approaches Technology and method dev Animal reproduction Recombination Bionanoscience Biomedical sciences Carbohydrate Chemistry Metabolomics / Metabonomics Bioreactors Macro-molecular delivery Glycomics Extremophiles Gene therapy\n",
      "\n"
     ]
    },
    {
     "data": {
      "text/plain": [
       "0\n",
       "0    None\n",
       "1    None\n",
       "2    None\n",
       "3    None\n",
       "4    None\n",
       "5    None\n",
       "6    None\n",
       "Name: index, dtype: object"
      ]
     },
     "execution_count": 39,
     "metadata": {},
     "output_type": "execute_result"
    }
   ],
   "source": [
    "#What do these look like?\n",
    "pd.Series(part).reset_index(drop=False).groupby(0)['index'].apply(lambda x: print(' '.join(list(x))+'\\n'))"
   ]
  },
  {
   "cell_type": "markdown",
   "metadata": {},
   "source": [
    "The communities look intuitive. We will create a lookup and convert each topic into its discipline.\n",
    "\n",
    "We will assign projects to their top discipline distinguishing between 'pure' discipline projects and mixed ones."
   ]
  },
  {
   "cell_type": "code",
   "execution_count": 44,
   "metadata": {},
   "outputs": [],
   "source": [
    "category_name_lookup = {6:'biological_sciences',\n",
    "                        3:'physics',\n",
    "                        0:'engineering_technology',\n",
    "                        1:'environmental_sciences',\n",
    "                        2:'social_sciences',\n",
    "                        4:'arts_humanities',\n",
    "                       5:'mathematics_computing'}\n",
    "\n",
    "\n",
    "topic_discipline_lookup = {top:category_name_lookup[disc] for top,disc in part.items()}"
   ]
  },
  {
   "cell_type": "markdown",
   "metadata": {},
   "source": [
    "Now we look-up the disciplines"
   ]
  },
  {
   "cell_type": "code",
   "execution_count": 73,
   "metadata": {},
   "outputs": [
    {
     "data": {
      "text/plain": [
       "0.8277841951484678"
      ]
     },
     "execution_count": 73,
     "metadata": {},
     "output_type": "execute_result"
    }
   ],
   "source": [
    "gtr_df['discipline'] = gtr_df['research_topics'].apply(lambda x: [topic_discipline_lookup[val] for val in x])\n",
    "\n",
    "gtr_df['discipline_sets'] = [set(x) for x in gtr_df['discipline']]\n",
    "\n",
    "gtr_df['single_disc'] = [True if len(x)==1 else np.nan if len(x)==0 else False for x in gtr_df['discipline_sets']]\n",
    "\n",
    "gtr_df['single_disc'].mean()"
   ]
  },
  {
   "cell_type": "markdown",
   "metadata": {},
   "source": [
    "82% of projects are pure discipline"
   ]
  },
  {
   "cell_type": "code",
   "execution_count": 74,
   "metadata": {},
   "outputs": [
    {
     "data": {
      "text/plain": [
       "<matplotlib.axes._subplots.AxesSubplot at 0x13325f9e8>"
      ]
     },
     "execution_count": 74,
     "metadata": {},
     "output_type": "execute_result"
    },
    {
     "data": {
      "image/png": "[encoded data removed]",
      "text/plain": [
       "<Figure size 432x288 with 1 Axes>"
      ]
     },
     "metadata": {},
     "output_type": "display_data"
    }
   ],
   "source": [
    "gtr_df.loc[gtr_df.single_disc==True,'discipline_sets'].value_counts().plot.bar(color='darkblue',title='Disciplines')"
   ]
  },
  {
   "cell_type": "markdown",
   "metadata": {},
   "source": [
    "Note the absence of medical sciences"
   ]
  },
  {
   "cell_type": "code",
   "execution_count": 101,
   "metadata": {},
   "outputs": [],
   "source": [
    "#Now we very crudely assume that any project funded by the MRC is in 'Health'\n",
    "\n",
    "gtr_df['discipline_sets'] = [set(['medical_sciences']) if f =='MRC' else x for f,x in zip(gtr_df['funder_name'],\n",
    "                                                                                       gtr_df['discipline_sets'])]"
   ]
  },
  {
   "cell_type": "code",
   "execution_count": 122,
   "metadata": {},
   "outputs": [
    {
     "data": {
      "text/plain": [
       "EPSRC    9598\n",
       "MRC      4528\n",
       "NERC     3896\n",
       "ESRC     3854\n",
       "AHRC     3245\n",
       "STFC     1885\n",
       "BBSRC    1878\n",
       "Name: funder_name, dtype: int64"
      ]
     },
     "execution_count": 122,
     "metadata": {},
     "output_type": "execute_result"
    }
   ],
   "source": [
    "#And now we create the training set\n",
    "\n",
    "#Also dropping the cases with no abstracts\n",
    "gtr_pure = gtr_df.loc[[len(x)==1 for x in gtr_df['discipline_sets']]].dropna(axis=0,subset=['abstract_texts'])\n",
    "\n",
    "gtr_pure.funder_name.value_counts()"
   ]
  },
  {
   "cell_type": "markdown",
   "metadata": {},
   "source": [
    "### Classification"
   ]
  },
  {
   "cell_type": "code",
   "execution_count": 124,
   "metadata": {},
   "outputs": [],
   "source": [
    "#ML imports\n",
    "from sklearn.metrics import confusion_matrix\n",
    "from sklearn.feature_extraction.text import CountVectorizer\n",
    "\n",
    "from sklearn.linear_model import LogisticRegression\n",
    "from sklearn.ensemble import RandomForestClassifier\n",
    "from sklearn.model_selection import cross_val_score,GridSearchCV\n",
    "from sklearn.multiclass import OneVsRestClassifier\n",
    "from sklearn.preprocessing import LabelBinarizer\n",
    "\n",
    "import warnings\n",
    "\n",
    "warnings.simplefilter('ignore',UserWarning)"
   ]
  },
  {
   "cell_type": "code",
   "execution_count": 125,
   "metadata": {},
   "outputs": [],
   "source": [
    "# Utility functions\n",
    "\n",
    "def flatten_list(my_list):\n",
    "    '''\n",
    "    Flattens a list\n",
    "    '''\n",
    "    \n",
    "    return([x for el in my_list for x in el])\n",
    "\n",
    "\n",
    "def dummies_from_list(list_of_categories):\n",
    "    '''\n",
    "    This function takes a list of categories and returns a df where every column is a dummie for each unique variable\n",
    "    in the category. Admittedly, the function could be nicer.\n",
    "    \n",
    "    '''\n",
    "\n",
    "    #We concatenate a bunch of series whose indices are the names of the variables.\n",
    "    #We could have done something similar by creating DFs with one row\n",
    "    \n",
    "    cats = [x for x in set(flatten_list(list_of_categories))]\n",
    "\n",
    "    df = pd.DataFrame()\n",
    "\n",
    "    for category in cats:\n",
    "    \n",
    "        var = [category in x for x in list_of_categories]\n",
    "\n",
    "        df[category] = var\n",
    "\n",
    "    \n",
    "    \n",
    "    \n",
    "    #dummy_df = pd.concat([pd.Series({v:1 for v in obs}) for obs in list_of_categories],axis=1).T.fillna(0)\n",
    "    return(df)"
   ]
  },
  {
   "cell_type": "code",
   "execution_count": 135,
   "metadata": {},
   "outputs": [],
   "source": [
    "# %load text_classifier.py\n",
    "# CLasses\n",
    "\n",
    "#One class for text classification based on text inputs\n",
    "\n",
    "class TextClassification():\n",
    "    '''\n",
    "    This class takes a corpus (could be a list of strings or a tokenised corpus) and a target (could be multiclass or single class).\n",
    "    \n",
    "    When it is initialised it vectorises the list of tokens using sklearn's count vectoriser.\n",
    "    \n",
    "    It has a grid search method that takes a list of models and parameters and trains the model.\n",
    "    \n",
    "    It returns the output of grid search for diagnosis\n",
    "    \n",
    "    '''\n",
    "    \n",
    "    def __init__(self,corpus,target):\n",
    "        '''\n",
    "        \n",
    "        Initialise. The class will recognise if we are feeding it a list of strings or a list of\n",
    "        tokenised documents and vectorise accordingly. \n",
    "        \n",
    "        It will also recognise is this a multiclass or one class problem based on the dimensions of the target array\n",
    "        \n",
    "        Later on, it will use control flow to modify model parameters depending on the type of data we have\n",
    "        \n",
    "        '''\n",
    "        \n",
    "        #Is this a multiclass classification problem or a single class classification problem?\n",
    "        if target.shape[1]>1:\n",
    "            self.mode = 'multiclass'\n",
    "            \n",
    "        else:\n",
    "            self.mode = 'single_class'\n",
    "    \n",
    "    \n",
    "        #Store the target\n",
    "        self.Y = target\n",
    "    \n",
    "        #Did we feed the model a bunch of strings or a list of tokenised docs? If the latter, we clean and tokenise.\n",
    "        \n",
    "        if type(corpus[0])==str:\n",
    "            #corpus = CleanTokenize(corpus).clean().bigram().tokenised\n",
    "            corpus = CleanTokenize(corpus).clean().tokenised\n",
    "            \n",
    "        #Turn every list of tokens into a string for count vectorising\n",
    "        corpus_string =  [' '.join(words) for words in corpus]\n",
    "        \n",
    "        \n",
    "        #And then we count vectorise in a hacky way.\n",
    "        count_vect = CountVectorizer(stop_words='english',min_df=5).fit(corpus_string)\n",
    "        \n",
    "        #Store the features\n",
    "        self.X = count_vect.transform(corpus_string)\n",
    "        \n",
    "        #Store the count vectoriser (we will use it later on for prediction on new data)\n",
    "        self.count_vect = count_vect\n",
    "        \n",
    "    def grid_search(self,models):\n",
    "        '''\n",
    "        The grid search method takes a list with models and their parameters and it does grid search crossvalidation.\n",
    "        \n",
    "        '''\n",
    "        \n",
    "        #Load inputs and targets into the model\n",
    "        Y = self.Y\n",
    "        X = self.X\n",
    "        \n",
    "        if self.mode=='multiclass':\n",
    "            '''\n",
    "            If the model is multiclass then we need to add some prefixes to the model paramas\n",
    "            \n",
    "            '''\n",
    "        \n",
    "            for mod in models:\n",
    "                #Make ovr\n",
    "                mod[0] = OneVsRestClassifier(mod[0])\n",
    "                \n",
    "                #Add the estimator prefix\n",
    "                mod[1] = {'estimator__'+k:v for k,v in mod[1].items()}\n",
    "                \n",
    "        \n",
    "        #Container with results\n",
    "        results = []\n",
    "\n",
    "        #For each model, run the analysis.\n",
    "        for num,mod in enumerate(models):\n",
    "            print(num)\n",
    "\n",
    "            #Run the classifier\n",
    "            clf = GridSearchCV(mod[0],mod[1])\n",
    "\n",
    "            #Fit\n",
    "            clf.fit(X,Y)\n",
    "\n",
    "            #Append results\n",
    "            results.append(clf)\n",
    "        \n",
    "        self.results = results\n",
    "        return(self)\n",
    "\n",
    "    \n",
    "#Class to visualise the outputs of multilabel models.\n",
    "\n",
    "#I call it OrangeBrick after YellowBrick, the package for ML output visualisation \n",
    "#(which currently doesn't support multilabel classification)\n",
    "\n",
    "\n",
    "class OrangeBrick():\n",
    "    '''\n",
    "    This class takes a df with the true classes for a multilabel classification exercise and produces some charts visualising findings.\n",
    "    \n",
    "    The methods include:\n",
    "    \n",
    "        .confusion_stack: creates a stacked barchart with the confusion matrices stacked by category, sorting classes by performance\n",
    "        .prec_rec: creates a barchart showing each class precision and recall;\n",
    "        #Tobe done: Consider mixes between classes?\n",
    "    \n",
    "    '''\n",
    "    \n",
    "    def __init__(self,true_labels,predicted_labels,var_names):\n",
    "        '''\n",
    "        Initialise with a true labels, predicted labels and the variable names\n",
    "        '''\n",
    "         \n",
    "        self.true_labels = true_labels\n",
    "        self.predicted_labels = predicted_labels\n",
    "        self.var_names = var_names\n",
    "    \n",
    "    def make_metrics(self):\n",
    "        '''\n",
    "        Estimates performance metrics (for now just confusion charts by class and precision/recall scores for the 0.5 \n",
    "        decision rule.\n",
    "        \n",
    "        '''\n",
    "        #NB in a confusion matrix in SKlearn the X axis indicates the predicted class and the Y axis indicates the ground truth.\n",
    "        #This means that:\n",
    "            #cf[0,0]-> TN\n",
    "            #cf[1,1]-> TP\n",
    "            #cf[0,1]-> FN (prediction is false, groundtruth is true)\n",
    "            #cf[1,0]-> FP (prediction is true, ground truth is false)\n",
    "\n",
    "\n",
    "\n",
    "        #Predictions and true labels\n",
    "        true_labels = self.true_labels\n",
    "        pred_labels = self.predicted_labels\n",
    "\n",
    "        #Variable names\n",
    "        var_names = self.var_names\n",
    "\n",
    "        #Store confusion matrices\n",
    "        score_store = []\n",
    "\n",
    "\n",
    "        for num in np.arange(len(var_names)):\n",
    "\n",
    "            #This is the confusion matrix\n",
    "            cf = confusion_matrix(pred_labels[:,num],true_labels[:,num])\n",
    "\n",
    "            #This is a melted confusion matrix\n",
    "            melt_cf = pd.melt(pd.DataFrame(cf).reset_index(drop=False),id_vars='index')['value']\n",
    "            melt_cf.index = ['true_negative','false_positive','false_negative','true_positive']\n",
    "            melt_cf.name = var_names[num]\n",
    "            \n",
    "            #Order variables to separate failed vs correct predictions\n",
    "            melt_cf = melt_cf.loc[['true_positive','true_negative','false_positive','false_negative']]\n",
    "\n",
    "            #We are also interested in precision and recall\n",
    "            prec = cf[1,1]/(cf[1,1]+cf[1,0])\n",
    "            rec = cf[1,1]/(cf[1,1]+cf[0,1])\n",
    "\n",
    "            prec_rec = pd.Series([prec,rec],index=['precision','recall'])\n",
    "            prec_rec.name = var_names[num]\n",
    "            score_store.append([melt_cf,prec_rec])\n",
    "    \n",
    "        self.score_store = score_store\n",
    "        \n",
    "        return(self)\n",
    "    \n",
    "    def confusion_chart(self,ax):\n",
    "        '''\n",
    "        Plot the confusion charts\n",
    "        \n",
    "        \n",
    "        '''\n",
    "        \n",
    "        #Visualise confusion matrix outputs\n",
    "        cf_df = pd.concat([x[0] for x in self.score_store],1)\n",
    "\n",
    "        #This ranks categories by the error rates\n",
    "        failure_rate = cf_df.apply(lambda x: x/x.sum(),axis=0).loc[['false' in x for x in cf_df.index]].sum().sort_values(\n",
    "            ascending=False).index\n",
    "\n",
    "        \n",
    "        #Plot and add labels\n",
    "        cf_df.T.loc[failure_rate,:].plot.bar(stacked=True,ax=ax,width=0.8,cmap='Accent')\n",
    "\n",
    "        ax.legend(bbox_to_anchor=(1.01,1))\n",
    "        #ax.set_title('Stacked confusion matrix for disease areas',size=16)\n",
    "    \n",
    "    \n",
    "    def prec_rec_chart(self,ax):\n",
    "        '''\n",
    "        \n",
    "        Plot a precision-recall chart\n",
    "        \n",
    "        '''\n",
    "    \n",
    "\n",
    "        #Again, we sort them here to assess model performance in different disease areas\n",
    "        prec_rec = pd.concat([x[1] for x in self.score_store],1).T.sort_values('precision')\n",
    "        prec_rec.plot.bar(ax=ax)\n",
    "\n",
    "        #Add legend and title\n",
    "        ax.legend(bbox_to_anchor=(1.01,1))\n",
    "        #ax.set_title('Precision and Recall by disease area',size=16)"
   ]
  },
  {
   "cell_type": "code",
   "execution_count": 136,
   "metadata": {},
   "outputs": [],
   "source": [
    "#Here is the corpus\n",
    "corpus = list(gtr_pure['abstract_texts'])\n",
    "\n",
    "#We use a utility function to create a df for a one vs rest classification\n",
    "target = dummies_from_list(gtr_pure['discipline_sets'])\n"
   ]
  },
  {
   "cell_type": "code",
   "execution_count": 137,
   "metadata": {},
   "outputs": [],
   "source": [
    "#Run grid search with these model parameters\n",
    "models = [\n",
    "    [RandomForestClassifier(),\n",
    "     {'class_weight':['balanced',None],'min_samples_leaf':[1,5]}],\n",
    "    \n",
    "    [LogisticRegression(),\n",
    "     {'class_weight':['balanced',None],'penalty':['l1','l2'],\n",
    "      'C':[0.1,1,100]}]]"
   ]
  },
  {
   "cell_type": "code",
   "execution_count": 138,
   "metadata": {},
   "outputs": [],
   "source": [
    "# Predict groups\n",
    "\n",
    "#Initialise the TextClassification class\n",
    "gtr_t = TextClassification(corpus,target)"
   ]
  },
  {
   "cell_type": "code",
   "execution_count": 142,
   "metadata": {},
   "outputs": [
    {
     "name": "stdout",
     "output_type": "stream",
     "text": [
      "0\n",
      "1\n"
     ]
    },
    {
     "data": {
      "text/plain": [
       "<__main__.TextClassification at 0x161488588>"
      ]
     },
     "execution_count": 142,
     "metadata": {},
     "output_type": "execute_result"
    }
   ],
   "source": [
    "gtr_t.grid_search(models)"
   ]
  },
  {
   "cell_type": "code",
   "execution_count": 144,
   "metadata": {},
   "outputs": [
    {
     "name": "stdout",
     "output_type": "stream",
     "text": [
      "0.5548054286109957\n",
      "OneVsRestClassifier(estimator=RandomForestClassifier(bootstrap=True, class_weight='balanced',\n",
      "            criterion='gini', max_depth=None, max_features='auto',\n",
      "            max_leaf_nodes=None, min_impurity_decrease=0.0,\n",
      "            min_impurity_split=None, min_samples_leaf=5,\n",
      "            min_samples_split=2, min_weight_fraction_leaf=0.0,\n",
      "            n_estimators=10, n_jobs=1, oob_score=False, random_state=None,\n",
      "            verbose=0, warm_start=False),\n",
      "          n_jobs=1)\n",
      "0.7062041268522365\n",
      "OneVsRestClassifier(estimator=LogisticRegression(C=0.1, class_weight='balanced', dual=False,\n",
      "          fit_intercept=True, intercept_scaling=1, max_iter=100,\n",
      "          multi_class='ovr', n_jobs=1, penalty='l2', random_state=None,\n",
      "          solver='liblinear', tol=0.0001, verbose=0, warm_start=False),\n",
      "          n_jobs=1)\n"
     ]
    }
   ],
   "source": [
    "#Check scores and best estimators\n",
    "for res in gtr_t.results:\n",
    "    print(res.best_score_)\n",
    "    print(res.best_estimator_)\n",
    "    \n",
    "    #This is the best estimator\n",
    "best_est = gtr_t.results[1].best_estimator_"
   ]
  },
  {
   "cell_type": "code",
   "execution_count": 146,
   "metadata": {},
   "outputs": [],
   "source": [
    "gtr_diag = OrangeBrick(true_labels=np.array(target),\n",
    "                      predicted_labels=best_est.predict(gtr_t.X),\n",
    "                      var_names=target.columns).make_metrics()"
   ]
  },
  {
   "cell_type": "code",
   "execution_count": 148,
   "metadata": {},
   "outputs": [
    {
     "data": {
      "text/plain": [
       "Text(0.5,1.01,'Model evaluation for GTR disciplines')"
      ]
     },
     "execution_count": 148,
     "metadata": {},
     "output_type": "execute_result"
    },
    {
     "data": {
      "image/png": "[encoded data removed]",
      "text/plain": [
       "<Figure size 720x720 with 2 Axes>"
      ]
     },
     "metadata": {},
     "output_type": "display_data"
    }
   ],
   "source": [
    "fig,ax = plt.subplots(nrows=2,figsize=(10,10))\n",
    "\n",
    "gtr_diag.confusion_chart(ax=ax[0])\n",
    "gtr_diag.prec_rec_chart(ax=ax[1])\n",
    "\n",
    "plt.tight_layout()\n",
    "\n",
    "fig.suptitle('Model evaluation for GTR disciplines',y=1.01,size=16)"
   ]
  },
  {
   "cell_type": "markdown",
   "metadata": {},
   "source": [
    "Not bad"
   ]
  },
  {
   "cell_type": "markdown",
   "metadata": {},
   "source": [
    "## Load models for prediction"
   ]
  },
  {
   "cell_type": "code",
   "execution_count": 152,
   "metadata": {},
   "outputs": [],
   "source": [
    "gtr_unlabelled = pd.read_csv('../data/processed/22_1_2019_gtr_for_prediction.csv')"
   ]
  },
  {
   "cell_type": "markdown",
   "metadata": {},
   "source": [
    "During EDA we have noticed several garbagey abstract names. Let's weed them out"
   ]
  },
  {
   "cell_type": "code",
   "execution_count": 245,
   "metadata": {},
   "outputs": [
    {
     "data": {
      "text/plain": [
       "Abstracts are not currently available in GtR for all funded research. This is normally because the a    7106\n",
       "Doctoral Training Partnerships: a range of postgraduate training is funded by the Research Councils.    5432\n",
       "Awaiting Public Project Summary                                                                         1098\n",
       "The public description for this project has been requested but has not yet been received.                360\n",
       "No abstract available.                                                                                   179\n",
       "TBC                                                                                                       64\n",
       "none                                                                                                      59\n",
       "This student is enrolled on the Oxford Interdisciplinary Bioscience Doctoral Training Partnership. T      55\n",
       "MIBTP students undertake a year of training before deciding on a final PhD project. The training per      49\n",
       "Refer to ATLAS-UK upgrade proposal to PPRP: &quot;UPGRADING THE ATLAS EXPERIMENT FOR THE LUMINOSITY       40\n",
       "dtype: int64"
      ]
     },
     "execution_count": 245,
     "metadata": {},
     "output_type": "execute_result"
    }
   ],
   "source": [
    "beginning_abs = pd.Series([x[:100] for x in gtr_unlabelled['abstractText']]).value_counts()\n",
    "\n",
    "beginning_abs[:10]"
   ]
  },
  {
   "cell_type": "code",
   "execution_count": 246,
   "metadata": {},
   "outputs": [
    {
     "data": {
      "text/plain": [
       "count    62429.000000\n",
       "mean         1.391613\n",
       "std         36.104589\n",
       "min          1.000000\n",
       "25%          1.000000\n",
       "50%          1.000000\n",
       "75%          1.000000\n",
       "max       7106.000000\n",
       "dtype: float64"
      ]
     },
     "execution_count": 246,
     "metadata": {},
     "output_type": "execute_result"
    }
   ],
   "source": [
    "beginning_abs.describe()"
   ]
  },
  {
   "cell_type": "markdown",
   "metadata": {},
   "source": [
    "For now we will drop any project with abstract appearing > 25 times"
   ]
  },
  {
   "cell_type": "code",
   "execution_count": 256,
   "metadata": {},
   "outputs": [],
   "source": [
    "uninformative_abstracts = list(beginning_abs.index[beginning_abs>25])"
   ]
  },
  {
   "cell_type": "code",
   "execution_count": 262,
   "metadata": {},
   "outputs": [],
   "source": [
    "gtr_unlabelled_cleaned = gtr_unlabelled.loc[[x[:100] not in uninformative_abstracts for x in gtr_unlabelled['abstractText']]]"
   ]
  },
  {
   "cell_type": "code",
   "execution_count": 266,
   "metadata": {},
   "outputs": [],
   "source": [
    "gtr_unlab_features = gtr_t.count_vect.transform(gtr_unlabelled_cleaned['abstractText'])"
   ]
  },
  {
   "cell_type": "code",
   "execution_count": 267,
   "metadata": {},
   "outputs": [],
   "source": [
    "#Predicted labels\n",
    "gtr_unlab_probs = pd.DataFrame(best_est.predict_proba(gtr_unlab_features),columns=target.columns)\n",
    "\n",
    "#Get discipline names to subset things easily later\n",
    "discs = target.columns"
   ]
  },
  {
   "cell_type": "code",
   "execution_count": 268,
   "metadata": {},
   "outputs": [
    {
     "data": {
      "text/html": [
       "<div>\n",
       "<style scoped>\n",
       "    .dataframe tbody tr th:only-of-type {\n",
       "        vertical-align: middle;\n",
       "    }\n",
       "\n",
       "    .dataframe tbody tr th {\n",
       "        vertical-align: top;\n",
       "    }\n",
       "\n",
       "    .dataframe thead th {\n",
       "        text-align: right;\n",
       "    }\n",
       "</style>\n",
       "<table border=\"1\" class=\"dataframe\">\n",
       "  <thead>\n",
       "    <tr style=\"text-align: right;\">\n",
       "      <th></th>\n",
       "      <th>index</th>\n",
       "      <th>id_x</th>\n",
       "      <th>end_x</th>\n",
       "      <th>start_x</th>\n",
       "      <th>category</th>\n",
       "      <th>amount</th>\n",
       "      <th>currencyCode</th>\n",
       "      <th>year</th>\n",
       "      <th>rel</th>\n",
       "      <th>table_name</th>\n",
       "      <th>...</th>\n",
       "      <th>research_activities</th>\n",
       "      <th>has_activities</th>\n",
       "      <th>biological_sciences</th>\n",
       "      <th>physics</th>\n",
       "      <th>engineering_technology</th>\n",
       "      <th>medical_sciences</th>\n",
       "      <th>social_sciences</th>\n",
       "      <th>mathematics_computing</th>\n",
       "      <th>environmental_sciences</th>\n",
       "      <th>arts_humanities</th>\n",
       "    </tr>\n",
       "  </thead>\n",
       "  <tbody>\n",
       "    <tr>\n",
       "      <th>0</th>\n",
       "      <td>00006CB7-61E0-4946-B7DB-DAE09ED63DE4</td>\n",
       "      <td>3CF0A86B-4545-4749-B874-5CB8C6B4DFC8</td>\n",
       "      <td>2014-04-30 01:00:00</td>\n",
       "      <td>2013-10-01 01:00:00</td>\n",
       "      <td>INCOME_ACTUAL</td>\n",
       "      <td>5000.0</td>\n",
       "      <td>GBP</td>\n",
       "      <td>2013.0</td>\n",
       "      <td>FUND</td>\n",
       "      <td>gtr_funds</td>\n",
       "      <td>...</td>\n",
       "      <td>[]</td>\n",
       "      <td>False</td>\n",
       "      <td>0.061094</td>\n",
       "      <td>6.449677e-01</td>\n",
       "      <td>0.362693</td>\n",
       "      <td>5.203693e-01</td>\n",
       "      <td>2.195927e-01</td>\n",
       "      <td>4.130248e-01</td>\n",
       "      <td>0.214164</td>\n",
       "      <td>1.437064e-01</td>\n",
       "    </tr>\n",
       "    <tr>\n",
       "      <th>1</th>\n",
       "      <td>0003C360-5DB8-4930-8266-6218C633A504</td>\n",
       "      <td>0B022BF4-F896-4B6F-AAC1-6C914450B17F</td>\n",
       "      <td>2020-09-30 01:00:00</td>\n",
       "      <td>2017-10-01 01:00:00</td>\n",
       "      <td>INCOME_ACTUAL</td>\n",
       "      <td>0.0</td>\n",
       "      <td>GBP</td>\n",
       "      <td>2017.0</td>\n",
       "      <td>FUND</td>\n",
       "      <td>gtr_funds</td>\n",
       "      <td>...</td>\n",
       "      <td>[]</td>\n",
       "      <td>False</td>\n",
       "      <td>0.005547</td>\n",
       "      <td>2.377584e-03</td>\n",
       "      <td>0.022124</td>\n",
       "      <td>7.551037e-03</td>\n",
       "      <td>8.095040e-01</td>\n",
       "      <td>1.224646e-03</td>\n",
       "      <td>0.003649</td>\n",
       "      <td>4.761908e-01</td>\n",
       "    </tr>\n",
       "    <tr>\n",
       "      <th>2</th>\n",
       "      <td>000423DA-5A37-4E62-A698-703985CD4E6E</td>\n",
       "      <td>06BAF35F-97E8-4761-8A79-15AA61D9326F</td>\n",
       "      <td>2015-09-30 01:00:00</td>\n",
       "      <td>2012-10-01 01:00:00</td>\n",
       "      <td>INCOME_ACTUAL</td>\n",
       "      <td>26776.0</td>\n",
       "      <td>GBP</td>\n",
       "      <td>2012.0</td>\n",
       "      <td>FUND</td>\n",
       "      <td>gtr_funds</td>\n",
       "      <td>...</td>\n",
       "      <td>[]</td>\n",
       "      <td>False</td>\n",
       "      <td>0.000194</td>\n",
       "      <td>9.989874e-01</td>\n",
       "      <td>0.013261</td>\n",
       "      <td>1.773018e-08</td>\n",
       "      <td>8.445348e-10</td>\n",
       "      <td>1.107212e-08</td>\n",
       "      <td>0.000043</td>\n",
       "      <td>1.743912e-11</td>\n",
       "    </tr>\n",
       "    <tr>\n",
       "      <th>3</th>\n",
       "      <td>000424B1-378E-4AB6-BAEC-CD8607AE08A9</td>\n",
       "      <td>10882C29-7FE4-43E8-A30A-94356100EE76</td>\n",
       "      <td>2016-10-06 01:00:00</td>\n",
       "      <td>2013-01-07 00:00:00</td>\n",
       "      <td>INCOME_ACTUAL</td>\n",
       "      <td>419504.0</td>\n",
       "      <td>GBP</td>\n",
       "      <td>2013.0</td>\n",
       "      <td>FUND</td>\n",
       "      <td>gtr_funds</td>\n",
       "      <td>...</td>\n",
       "      <td>[]</td>\n",
       "      <td>False</td>\n",
       "      <td>0.996206</td>\n",
       "      <td>4.486358e-09</td>\n",
       "      <td>0.000469</td>\n",
       "      <td>3.794832e-01</td>\n",
       "      <td>4.546567e-05</td>\n",
       "      <td>7.340274e-04</td>\n",
       "      <td>0.000004</td>\n",
       "      <td>3.489046e-06</td>\n",
       "    </tr>\n",
       "    <tr>\n",
       "      <th>4</th>\n",
       "      <td>0004C698-0B51-4665-8593-1082BBF58C06</td>\n",
       "      <td>B14F7CBB-44CC-432A-A171-38A91FCA40E2</td>\n",
       "      <td>2019-07-31 01:00:00</td>\n",
       "      <td>2016-08-01 01:00:00</td>\n",
       "      <td>INCOME_ACTUAL</td>\n",
       "      <td>520012.0</td>\n",
       "      <td>GBP</td>\n",
       "      <td>2016.0</td>\n",
       "      <td>FUND</td>\n",
       "      <td>gtr_funds</td>\n",
       "      <td>...</td>\n",
       "      <td>[]</td>\n",
       "      <td>False</td>\n",
       "      <td>0.110137</td>\n",
       "      <td>1.558427e-07</td>\n",
       "      <td>0.999145</td>\n",
       "      <td>6.353997e-03</td>\n",
       "      <td>1.956029e-05</td>\n",
       "      <td>2.764840e-04</td>\n",
       "      <td>0.000176</td>\n",
       "      <td>3.253938e-05</td>\n",
       "    </tr>\n",
       "  </tbody>\n",
       "</table>\n",
       "<p>5 rows × 42 columns</p>\n",
       "</div>"
      ],
      "text/plain": [
       "                                  index                                  id_x  \\\n",
       "0  00006CB7-61E0-4946-B7DB-DAE09ED63DE4  3CF0A86B-4545-4749-B874-5CB8C6B4DFC8   \n",
       "1  0003C360-5DB8-4930-8266-6218C633A504  0B022BF4-F896-4B6F-AAC1-6C914450B17F   \n",
       "2  000423DA-5A37-4E62-A698-703985CD4E6E  06BAF35F-97E8-4761-8A79-15AA61D9326F   \n",
       "3  000424B1-378E-4AB6-BAEC-CD8607AE08A9  10882C29-7FE4-43E8-A30A-94356100EE76   \n",
       "4  0004C698-0B51-4665-8593-1082BBF58C06  B14F7CBB-44CC-432A-A171-38A91FCA40E2   \n",
       "\n",
       "                 end_x              start_x       category    amount  \\\n",
       "0  2014-04-30 01:00:00  2013-10-01 01:00:00  INCOME_ACTUAL    5000.0   \n",
       "1  2020-09-30 01:00:00  2017-10-01 01:00:00  INCOME_ACTUAL       0.0   \n",
       "2  2015-09-30 01:00:00  2012-10-01 01:00:00  INCOME_ACTUAL   26776.0   \n",
       "3  2016-10-06 01:00:00  2013-01-07 00:00:00  INCOME_ACTUAL  419504.0   \n",
       "4  2019-07-31 01:00:00  2016-08-01 01:00:00  INCOME_ACTUAL  520012.0   \n",
       "\n",
       "  currencyCode    year   rel table_name       ...       research_activities  \\\n",
       "0          GBP  2013.0  FUND  gtr_funds       ...                        []   \n",
       "1          GBP  2017.0  FUND  gtr_funds       ...                        []   \n",
       "2          GBP  2012.0  FUND  gtr_funds       ...                        []   \n",
       "3          GBP  2013.0  FUND  gtr_funds       ...                        []   \n",
       "4          GBP  2016.0  FUND  gtr_funds       ...                        []   \n",
       "\n",
       "  has_activities biological_sciences       physics engineering_technology  \\\n",
       "0          False            0.061094  6.449677e-01               0.362693   \n",
       "1          False            0.005547  2.377584e-03               0.022124   \n",
       "2          False            0.000194  9.989874e-01               0.013261   \n",
       "3          False            0.996206  4.486358e-09               0.000469   \n",
       "4          False            0.110137  1.558427e-07               0.999145   \n",
       "\n",
       "  medical_sciences social_sciences mathematics_computing  \\\n",
       "0     5.203693e-01    2.195927e-01          4.130248e-01   \n",
       "1     7.551037e-03    8.095040e-01          1.224646e-03   \n",
       "2     1.773018e-08    8.445348e-10          1.107212e-08   \n",
       "3     3.794832e-01    4.546567e-05          7.340274e-04   \n",
       "4     6.353997e-03    1.956029e-05          2.764840e-04   \n",
       "\n",
       "  environmental_sciences arts_humanities  \n",
       "0               0.214164    1.437064e-01  \n",
       "1               0.003649    4.761908e-01  \n",
       "2               0.000043    1.743912e-11  \n",
       "3               0.000004    3.489046e-06  \n",
       "4               0.000176    3.253938e-05  \n",
       "\n",
       "[5 rows x 42 columns]"
      ]
     },
     "execution_count": 268,
     "metadata": {},
     "output_type": "execute_result"
    }
   ],
   "source": [
    "gtr_predicted = pd.concat([gtr_unlabelled_cleaned.reset_index(drop=False),gtr_unlab_probs],axis=1)\n",
    "\n",
    "gtr_predicted.head()"
   ]
  },
  {
   "cell_type": "code",
   "execution_count": 290,
   "metadata": {},
   "outputs": [],
   "source": [
    "with open(f'../models/{today_str}_gtr_discipline_classifier.p','wb') as outfile:\n",
    "    pickle.dump(gtr_t,outfile)"
   ]
  },
  {
   "cell_type": "code",
   "execution_count": null,
   "metadata": {},
   "outputs": [],
   "source": []
  },
  {
   "cell_type": "markdown",
   "metadata": {},
   "source": [
    "## Some checks"
   ]
  },
  {
   "cell_type": "code",
   "execution_count": 269,
   "metadata": {},
   "outputs": [],
   "source": [
    "import seaborn as sns"
   ]
  },
  {
   "cell_type": "markdown",
   "metadata": {},
   "source": [
    "#### What disciplines co-occur?"
   ]
  },
  {
   "cell_type": "code",
   "execution_count": 272,
   "metadata": {},
   "outputs": [
    {
     "data": {
      "text/plain": [
       "<matplotlib.axes._subplots.AxesSubplot at 0x1376edcc0>"
      ]
     },
     "execution_count": 272,
     "metadata": {},
     "output_type": "execute_result"
    },
    {
     "data": {
      "image/png": "[encoded data removed]",
      "text/plain": [
       "<Figure size 432x288 with 2 Axes>"
      ]
     },
     "metadata": {},
     "output_type": "display_data"
    }
   ],
   "source": [
    "sns.heatmap(gtr_predicted[discs].applymap(lambda x: 1 if x>0.1 else 0).corr())"
   ]
  },
  {
   "cell_type": "markdown",
   "metadata": {},
   "source": [
    "This one is interesting - lots of co-occurrences between social sciences and physics. Let's check some of them"
   ]
  },
  {
   "cell_type": "code",
   "execution_count": 271,
   "metadata": {},
   "outputs": [
    {
     "data": {
      "text/html": [
       "<div>\n",
       "<style scoped>\n",
       "    .dataframe tbody tr th:only-of-type {\n",
       "        vertical-align: middle;\n",
       "    }\n",
       "\n",
       "    .dataframe tbody tr th {\n",
       "        vertical-align: top;\n",
       "    }\n",
       "\n",
       "    .dataframe thead th {\n",
       "        text-align: right;\n",
       "    }\n",
       "</style>\n",
       "<table border=\"1\" class=\"dataframe\">\n",
       "  <thead>\n",
       "    <tr style=\"text-align: right;\">\n",
       "      <th></th>\n",
       "      <th>abstractText</th>\n",
       "    </tr>\n",
       "  </thead>\n",
       "  <tbody>\n",
       "    <tr>\n",
       "      <th>0</th>\n",
       "      <td>We take aerial photos of construction sites us...</td>\n",
       "    </tr>\n",
       "    <tr>\n",
       "      <th>6</th>\n",
       "      <td>To develop practical tools and guides to be ab...</td>\n",
       "    </tr>\n",
       "    <tr>\n",
       "      <th>8</th>\n",
       "      <td>Theme: Agriculture and Food Security</td>\n",
       "    </tr>\n",
       "    <tr>\n",
       "      <th>19</th>\n",
       "      <td>student to undertake 3 rotations before choosi...</td>\n",
       "    </tr>\n",
       "    <tr>\n",
       "      <th>23</th>\n",
       "      <td>NERC has made a significant investment in Eart...</td>\n",
       "    </tr>\n",
       "    <tr>\n",
       "      <th>27</th>\n",
       "      <td>The Business-led APPS2B Project aims to identi...</td>\n",
       "    </tr>\n",
       "    <tr>\n",
       "      <th>28</th>\n",
       "      <td>Not required</td>\n",
       "    </tr>\n",
       "    <tr>\n",
       "      <th>30</th>\n",
       "      <td>A Journey through Space and Time: an examinati...</td>\n",
       "    </tr>\n",
       "    <tr>\n",
       "      <th>31</th>\n",
       "      <td>&amp;quot;University of Brighton\\nSchool of Sport ...</td>\n",
       "    </tr>\n",
       "    <tr>\n",
       "      <th>32</th>\n",
       "      <td>To embed capability for sustainable growth thr...</td>\n",
       "    </tr>\n",
       "    <tr>\n",
       "      <th>59</th>\n",
       "      <td>tbc</td>\n",
       "    </tr>\n",
       "    <tr>\n",
       "      <th>64</th>\n",
       "      <td>The device measures physical grass growth on-f...</td>\n",
       "    </tr>\n",
       "    <tr>\n",
       "      <th>67</th>\n",
       "      <td>The aim of this M.Sc. programme is to produce ...</td>\n",
       "    </tr>\n",
       "    <tr>\n",
       "      <th>77</th>\n",
       "      <td>The summary was set out in the 2016 proposal f...</td>\n",
       "    </tr>\n",
       "    <tr>\n",
       "      <th>80</th>\n",
       "      <td>The HIV epidemic in Uganda disproportionately ...</td>\n",
       "    </tr>\n",
       "    <tr>\n",
       "      <th>84</th>\n",
       "      <td>To develop a quantifiable relationship between...</td>\n",
       "    </tr>\n",
       "    <tr>\n",
       "      <th>96</th>\n",
       "      <td>Please refer to Principal Investigator's Proposal</td>\n",
       "    </tr>\n",
       "    <tr>\n",
       "      <th>97</th>\n",
       "      <td>In The Gambia and other similar countries, man...</td>\n",
       "    </tr>\n",
       "    <tr>\n",
       "      <th>100</th>\n",
       "      <td>Design prototype of a device that can feed tel...</td>\n",
       "    </tr>\n",
       "    <tr>\n",
       "      <th>101</th>\n",
       "      <td>To embed enabling advanced materials and manuf...</td>\n",
       "    </tr>\n",
       "    <tr>\n",
       "      <th>102</th>\n",
       "      <td>As a company we are always growing and are con...</td>\n",
       "    </tr>\n",
       "    <tr>\n",
       "      <th>104</th>\n",
       "      <td>to be confirmed</td>\n",
       "    </tr>\n",
       "    <tr>\n",
       "      <th>106</th>\n",
       "      <td>To develop a demand-driven inventory-forecasti...</td>\n",
       "    </tr>\n",
       "    <tr>\n",
       "      <th>116</th>\n",
       "      <td>We propose to test the willingness of domestic...</td>\n",
       "    </tr>\n",
       "    <tr>\n",
       "      <th>132</th>\n",
       "      <td>The food industry expends a lot of effort in r...</td>\n",
       "    </tr>\n",
       "    <tr>\n",
       "      <th>135</th>\n",
       "      <td>The project focuses on the design of nanoparti...</td>\n",
       "    </tr>\n",
       "    <tr>\n",
       "      <th>141</th>\n",
       "      <td>The programme is designed principally for stud...</td>\n",
       "    </tr>\n",
       "    <tr>\n",
       "      <th>148</th>\n",
       "      <td>Please see the Objectives section on the JeS a...</td>\n",
       "    </tr>\n",
       "    <tr>\n",
       "      <th>157</th>\n",
       "      <td>Structural Healthcare has designed and tested ...</td>\n",
       "    </tr>\n",
       "    <tr>\n",
       "      <th>168</th>\n",
       "      <td>Research project details available in February...</td>\n",
       "    </tr>\n",
       "    <tr>\n",
       "      <th>...</th>\n",
       "      <td>...</td>\n",
       "    </tr>\n",
       "    <tr>\n",
       "      <th>72122</th>\n",
       "      <td>Year 1 - rotations</td>\n",
       "    </tr>\n",
       "    <tr>\n",
       "      <th>72124</th>\n",
       "      <td>To develop advanced high-power electric motor ...</td>\n",
       "    </tr>\n",
       "    <tr>\n",
       "      <th>72130</th>\n",
       "      <td>United Kingdom</td>\n",
       "    </tr>\n",
       "    <tr>\n",
       "      <th>72138</th>\n",
       "      <td>D-Flex Ltd has patented the design and manufac...</td>\n",
       "    </tr>\n",
       "    <tr>\n",
       "      <th>72148</th>\n",
       "      <td>The ExpAERO project will generate a deeper und...</td>\n",
       "    </tr>\n",
       "    <tr>\n",
       "      <th>72153</th>\n",
       "      <td>To create a control system for the positioning...</td>\n",
       "    </tr>\n",
       "    <tr>\n",
       "      <th>72156</th>\n",
       "      <td>The project will support fellowships that aim ...</td>\n",
       "    </tr>\n",
       "    <tr>\n",
       "      <th>72168</th>\n",
       "      <td>Signalling via phospholipase D (PLD) generates...</td>\n",
       "    </tr>\n",
       "    <tr>\n",
       "      <th>72169</th>\n",
       "      <td>Caring Cloud has used the Innovation Voucher s...</td>\n",
       "    </tr>\n",
       "    <tr>\n",
       "      <th>72194</th>\n",
       "      <td>Please see the details on the Queen Mary Unive...</td>\n",
       "    </tr>\n",
       "    <tr>\n",
       "      <th>72197</th>\n",
       "      <td>To create a dishwasher detergent for domestic ...</td>\n",
       "    </tr>\n",
       "    <tr>\n",
       "      <th>72202</th>\n",
       "      <td>The impossible's possibility: Creating a space...</td>\n",
       "    </tr>\n",
       "    <tr>\n",
       "      <th>72209</th>\n",
       "      <td>During the development of Foldi, important int...</td>\n",
       "    </tr>\n",
       "    <tr>\n",
       "      <th>72212</th>\n",
       "      <td>AutoMosys is a novel smart diagnostics system ...</td>\n",
       "    </tr>\n",
       "    <tr>\n",
       "      <th>72213</th>\n",
       "      <td>To design, commission and optimise a novel pro...</td>\n",
       "    </tr>\n",
       "    <tr>\n",
       "      <th>72220</th>\n",
       "      <td>We are developing a hand held automated treatm...</td>\n",
       "    </tr>\n",
       "    <tr>\n",
       "      <th>72227</th>\n",
       "      <td>To further develop DTV, Imperial College's own...</td>\n",
       "    </tr>\n",
       "    <tr>\n",
       "      <th>72250</th>\n",
       "      <td>United States of America</td>\n",
       "    </tr>\n",
       "    <tr>\n",
       "      <th>72255</th>\n",
       "      <td>Theo will be exploring the performance of the ...</td>\n",
       "    </tr>\n",
       "    <tr>\n",
       "      <th>72259</th>\n",
       "      <td>N/A (CDT in Cyber Security student - project d...</td>\n",
       "    </tr>\n",
       "    <tr>\n",
       "      <th>72298</th>\n",
       "      <td>To develop an environmentally responsive fabri...</td>\n",
       "    </tr>\n",
       "    <tr>\n",
       "      <th>72303</th>\n",
       "      <td>To develop a sound theoretical modelling of a ...</td>\n",
       "    </tr>\n",
       "    <tr>\n",
       "      <th>72325</th>\n",
       "      <td>To increase the product range and improve the ...</td>\n",
       "    </tr>\n",
       "    <tr>\n",
       "      <th>72327</th>\n",
       "      <td>To transform design and quotation capabilities...</td>\n",
       "    </tr>\n",
       "    <tr>\n",
       "      <th>72334</th>\n",
       "      <td>To develop and embed animal welfare measuremen...</td>\n",
       "    </tr>\n",
       "    <tr>\n",
       "      <th>72344</th>\n",
       "      <td>Obtaining expert advice from a knowledgeable s...</td>\n",
       "    </tr>\n",
       "    <tr>\n",
       "      <th>72345</th>\n",
       "      <td>This award covers the capital cost of procurin...</td>\n",
       "    </tr>\n",
       "    <tr>\n",
       "      <th>72346</th>\n",
       "      <td>To develop and embed machine learning capabili...</td>\n",
       "    </tr>\n",
       "    <tr>\n",
       "      <th>72349</th>\n",
       "      <td>To develop a set of Machine Learning tools tha...</td>\n",
       "    </tr>\n",
       "    <tr>\n",
       "      <th>72354</th>\n",
       "      <td>Recognising the water/energy/carbon nexus, Aqu...</td>\n",
       "    </tr>\n",
       "  </tbody>\n",
       "</table>\n",
       "<p>7426 rows × 1 columns</p>\n",
       "</div>"
      ],
      "text/plain": [
       "                                            abstractText\n",
       "0      We take aerial photos of construction sites us...\n",
       "6      To develop practical tools and guides to be ab...\n",
       "8                   Theme: Agriculture and Food Security\n",
       "19     student to undertake 3 rotations before choosi...\n",
       "23     NERC has made a significant investment in Eart...\n",
       "27     The Business-led APPS2B Project aims to identi...\n",
       "28                                          Not required\n",
       "30     A Journey through Space and Time: an examinati...\n",
       "31     &quot;University of Brighton\\nSchool of Sport ...\n",
       "32     To embed capability for sustainable growth thr...\n",
       "59                                                   tbc\n",
       "64     The device measures physical grass growth on-f...\n",
       "67     The aim of this M.Sc. programme is to produce ...\n",
       "77     The summary was set out in the 2016 proposal f...\n",
       "80     The HIV epidemic in Uganda disproportionately ...\n",
       "84     To develop a quantifiable relationship between...\n",
       "96     Please refer to Principal Investigator's Proposal\n",
       "97     In The Gambia and other similar countries, man...\n",
       "100    Design prototype of a device that can feed tel...\n",
       "101    To embed enabling advanced materials and manuf...\n",
       "102    As a company we are always growing and are con...\n",
       "104                                      to be confirmed\n",
       "106    To develop a demand-driven inventory-forecasti...\n",
       "116    We propose to test the willingness of domestic...\n",
       "132    The food industry expends a lot of effort in r...\n",
       "135    The project focuses on the design of nanoparti...\n",
       "141    The programme is designed principally for stud...\n",
       "148    Please see the Objectives section on the JeS a...\n",
       "157    Structural Healthcare has designed and tested ...\n",
       "168    Research project details available in February...\n",
       "...                                                  ...\n",
       "72122                                 Year 1 - rotations\n",
       "72124  To develop advanced high-power electric motor ...\n",
       "72130                                     United Kingdom\n",
       "72138  D-Flex Ltd has patented the design and manufac...\n",
       "72148  The ExpAERO project will generate a deeper und...\n",
       "72153  To create a control system for the positioning...\n",
       "72156  The project will support fellowships that aim ...\n",
       "72168  Signalling via phospholipase D (PLD) generates...\n",
       "72169  Caring Cloud has used the Innovation Voucher s...\n",
       "72194  Please see the details on the Queen Mary Unive...\n",
       "72197  To create a dishwasher detergent for domestic ...\n",
       "72202  The impossible's possibility: Creating a space...\n",
       "72209  During the development of Foldi, important int...\n",
       "72212  AutoMosys is a novel smart diagnostics system ...\n",
       "72213  To design, commission and optimise a novel pro...\n",
       "72220  We are developing a hand held automated treatm...\n",
       "72227  To further develop DTV, Imperial College's own...\n",
       "72250                           United States of America\n",
       "72255  Theo will be exploring the performance of the ...\n",
       "72259  N/A (CDT in Cyber Security student - project d...\n",
       "72298  To develop an environmentally responsive fabri...\n",
       "72303  To develop a sound theoretical modelling of a ...\n",
       "72325  To increase the product range and improve the ...\n",
       "72327  To transform design and quotation capabilities...\n",
       "72334  To develop and embed animal welfare measuremen...\n",
       "72344  Obtaining expert advice from a knowledgeable s...\n",
       "72345  This award covers the capital cost of procurin...\n",
       "72346  To develop and embed machine learning capabili...\n",
       "72349  To develop a set of Machine Learning tools tha...\n",
       "72354  Recognising the water/energy/carbon nexus, Aqu...\n",
       "\n",
       "[7426 rows x 1 columns]"
      ]
     },
     "execution_count": 271,
     "metadata": {},
     "output_type": "execute_result"
    }
   ],
   "source": [
    "gtr_predicted.loc[(gtr_predicted['physics']>0.1) & (gtr_predicted['social_sciences']>0.1),['abstractText']]"
   ]
  },
  {
   "cell_type": "markdown",
   "metadata": {},
   "source": [
    "#### Who funds what disciplines?"
   ]
  },
  {
   "cell_type": "code",
   "execution_count": 273,
   "metadata": {},
   "outputs": [
    {
     "data": {
      "text/plain": [
       "<matplotlib.legend.Legend at 0x13776ad30>"
      ]
     },
     "execution_count": 273,
     "metadata": {},
     "output_type": "execute_result"
    },
    {
     "data": {
      "image/png": "[encoded data removed]",
      "text/plain": [
       "<Figure size 360x504 with 1 Axes>"
      ]
     },
     "metadata": {},
     "output_type": "display_data"
    }
   ],
   "source": [
    "fig,ax = plt.subplots(figsize=(5,7))\n",
    "\n",
    "gtr_predicted.groupby(['leadFunder'])[discs].mean().plot.barh(ax=ax,width=0.8,title='Mean predicted probabilities by funder')\n",
    "\n",
    "ax.legend(bbox_to_anchor=(1,1))"
   ]
  },
  {
   "cell_type": "markdown",
   "metadata": {},
   "source": [
    "Makes sense. Each funder seems to focus on its 'core discipline'"
   ]
  },
  {
   "cell_type": "markdown",
   "metadata": {},
   "source": [
    "#### What are the trends over times?"
   ]
  },
  {
   "cell_type": "code",
   "execution_count": 274,
   "metadata": {},
   "outputs": [
    {
     "data": {
      "text/plain": [
       "<matplotlib.legend.Legend at 0x137baec18>"
      ]
     },
     "execution_count": 274,
     "metadata": {},
     "output_type": "execute_result"
    },
    {
     "data": {
      "image/png": "[encoded data removed]",
      "text/plain": [
       "<Figure size 576x360 with 1 Axes>"
      ]
     },
     "metadata": {},
     "output_type": "display_data"
    }
   ],
   "source": [
    "fig,ax = plt.subplots(figsize=(8,5))\n",
    "\n",
    "gtr_predicted.loc[(gtr_predicted.year>2006) & (gtr_predicted.year<2019)].groupby('year')[discs].mean().plot(ax=ax,title='Mean probability by year')\n",
    "\n",
    "ax.legend(bbox_to_anchor=(1,1))"
   ]
  },
  {
   "cell_type": "markdown",
   "metadata": {},
   "source": [
    "#### What about the grant type category?"
   ]
  },
  {
   "cell_type": "code",
   "execution_count": 275,
   "metadata": {},
   "outputs": [
    {
     "data": {
      "text/plain": [
       "<matplotlib.legend.Legend at 0x137deccf8>"
      ]
     },
     "execution_count": 275,
     "metadata": {},
     "output_type": "execute_result"
    },
    {
     "data": {
      "image/png": "[encoded data removed]",
      "text/plain": [
       "<Figure size 360x648 with 1 Axes>"
      ]
     },
     "metadata": {},
     "output_type": "display_data"
    }
   ],
   "source": [
    "fig,ax = plt.subplots(figsize=(5,9))\n",
    "\n",
    "gtr_predicted.groupby(['grantCategory'])[discs].mean().plot.barh(ax=ax,width=0.8,title='Mean predicted probabilities by grant category')\n",
    "\n",
    "ax.legend(bbox_to_anchor=(1,1))"
   ]
  },
  {
   "cell_type": "markdown",
   "metadata": {},
   "source": [
    "Some important differences here. For example...\n",
    "\n",
    "* Procurement is dominated by maths. Is this because it picks up IT procuremenr?\n",
    "* Proof of market / concept projects dominated by engineering and technology.\n",
    "* Vouchers / SIGs / SME support have a strong presence of physics, picking up access to facilities?"
   ]
  },
  {
   "cell_type": "markdown",
   "metadata": {},
   "source": [
    "#### And the impact types?"
   ]
  },
  {
   "cell_type": "code",
   "execution_count": 276,
   "metadata": {},
   "outputs": [],
   "source": [
    "impact_names = ['prods','ip','tech','spin','pubs']"
   ]
  },
  {
   "cell_type": "markdown",
   "metadata": {},
   "source": [
    "The loop below calculates the % of projects inside a discipline (measured as one with a predicted probability > 0.2) generating an impact of each of the types we are considering. "
   ]
  },
  {
   "cell_type": "code",
   "execution_count": 277,
   "metadata": {},
   "outputs": [],
   "source": [
    "results = []\n",
    "\n",
    "for x in discs:\n",
    "    \n",
    "    disc_imp = {}\n",
    "    \n",
    "    for impact in impact_names:\n",
    "        \n",
    "        out_pc = 100*pd.crosstab(\n",
    "            gtr_discs[x].apply(lambda x: 1 if x>0.2 else 0),gtr_discs[impact].apply(lambda x: 1 if x>0 else 0),normalize=0).loc[1,1]\n",
    "        \n",
    "        disc_imp[impact]=out_pc\n",
    "        \n",
    "    disc_out = pd.Series(disc_imp)\n",
    "    disc_out.name=x\n",
    "    \n",
    "    results.append(disc_out)"
   ]
  },
  {
   "cell_type": "code",
   "execution_count": 278,
   "metadata": {},
   "outputs": [
    {
     "data": {
      "text/plain": [
       "<matplotlib.axes._subplots.AxesSubplot at 0x13ce2bf28>"
      ]
     },
     "execution_count": 278,
     "metadata": {},
     "output_type": "execute_result"
    },
    {
     "data": {
      "image/png": "[encoded data removed]",
      "text/plain": [
       "<Figure size 432x288 with 1 Axes>"
      ]
     },
     "metadata": {},
     "output_type": "display_data"
    }
   ],
   "source": [
    "pd.concat(results,axis=1).plot.bar(title='% of projects with impact type by discipline')"
   ]
  },
  {
   "cell_type": "markdown",
   "metadata": {},
   "source": [
    "Again, this checks out. Medical sciences generate more 'products' (we saw before that this category is mostly used by that RC, maths projects generate more technology...)"
   ]
  },
  {
   "cell_type": "markdown",
   "metadata": {},
   "source": [
    "### Save for the other notebook"
   ]
  },
  {
   "cell_type": "code",
   "execution_count": 287,
   "metadata": {},
   "outputs": [],
   "source": [
    "gtr_predicted[['index']+list(discs)].to_csv(f'../data/processed/{today_str}_gtr_w_predicted_labels.csv')"
   ]
  },
  {
   "cell_type": "code",
   "execution_count": 288,
   "metadata": {},
   "outputs": [
    {
     "data": {
      "text/plain": [
       "Index(['biological_sciences', 'physics', 'engineering_technology',\n",
       "       'medical_sciences', 'social_sciences', 'mathematics_computing',\n",
       "       'environmental_sciences', 'arts_humanities'],\n",
       "      dtype='object')"
      ]
     },
     "execution_count": 288,
     "metadata": {},
     "output_type": "execute_result"
    }
   ],
   "source": [
    "discs"
   ]
  },
  {
   "cell_type": "code",
   "execution_count": null,
   "metadata": {},
   "outputs": [],
   "source": []
  }
 ],
 "metadata": {
  "kernelspec": {
   "display_name": "Python 3",
   "language": "python",
   "name": "python3"
  },
  "language_info": {
   "codemirror_mode": {
    "name": "ipython",
    "version": 3
   },
   "file_extension": ".py",
   "mimetype": "text/x-python",
   "name": "python",
   "nbconvert_exporter": "python",
   "pygments_lexer": "ipython3",
   "version": "3.7.1"
  }
 },
 "nbformat": 4,
 "nbformat_minor": 2
}
