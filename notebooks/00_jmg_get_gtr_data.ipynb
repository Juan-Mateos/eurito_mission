{
 "cells": [
  {
   "cell_type": "markdown",
   "metadata": {},
   "source": [
    "# Load GtR data"
   ]
  },
  {
   "cell_type": "code",
   "execution_count": 1,
   "metadata": {},
   "outputs": [],
   "source": [
    "from data_getters.core import get_engine\n",
    "from data_getters.inspector import get_schemas\n",
    "\n",
    "\n",
    "import pandas as pd\n",
    "import time\n",
    "from datetime import datetime\n",
    "today_str = str(datetime.now()).split(' ')[0]"
   ]
  },
  {
   "cell_type": "markdown",
   "metadata": {},
   "source": [
    "### Quick look at the schema"
   ]
  },
  {
   "cell_type": "code",
   "execution_count": 2,
   "metadata": {},
   "outputs": [
    {
     "name": "stdout",
     "output_type": "stream",
     "text": [
      "dict_keys(['crunchbase', 'onsOpenGeo', 'gtr', 'luigi', 'geographic', 'arxiv', 'meetup', 'nomis', 'wiktionary', 'nih'])\n"
     ]
    }
   ],
   "source": [
    "#Have a look at the schemas\n",
    "config_path = '/Users/jmateosgarcia/innovation-mapping.config'\n",
    "\n",
    "schemas = get_schemas(config_path)\n",
    "\n",
    "print(schemas.keys())"
   ]
  },
  {
   "cell_type": "code",
   "execution_count": 3,
   "metadata": {},
   "outputs": [
    {
     "name": "stdout",
     "output_type": "stream",
     "text": [
      "dict_keys(['gtr_funds', 'gtr_link_table', 'gtr_organisations', 'gtr_organisations_locations', 'gtr_outcomes_artisticandcreativeproducts', 'gtr_outcomes_collaborations', 'gtr_outcomes_disseminations', 'gtr_outcomes_furtherfundings', 'gtr_outcomes_impactsummaries', 'gtr_outcomes_intellectualproperties', 'gtr_outcomes_keyfindings', 'gtr_outcomes_policyinfluences', 'gtr_outcomes_products', 'gtr_outcomes_publications', 'gtr_outcomes_researchdatabaseandmodels', 'gtr_outcomes_researchmaterials', 'gtr_outcomes_softwareandtechnicalproducts', 'gtr_outcomes_spinouts', 'gtr_persons', 'gtr_projects', 'gtr_topic'])\n"
     ]
    }
   ],
   "source": [
    "print(schemas['gtr'].keys())"
   ]
  },
  {
   "cell_type": "code",
   "execution_count": 4,
   "metadata": {},
   "outputs": [
    {
     "name": "stdout",
     "output_type": "stream",
     "text": [
      "gtr_outcomes_artisticandcreativeproducts\n",
      "gtr_outcomes_collaborations\n",
      "gtr_outcomes_disseminations\n",
      "gtr_outcomes_furtherfundings\n",
      "gtr_outcomes_impactsummaries\n",
      "gtr_outcomes_intellectualproperties\n",
      "gtr_outcomes_keyfindings\n",
      "gtr_outcomes_policyinfluences\n",
      "gtr_outcomes_products\n",
      "gtr_outcomes_publications\n",
      "gtr_outcomes_researchdatabaseandmodels\n",
      "gtr_outcomes_researchmaterials\n",
      "gtr_outcomes_softwareandtechnicalproducts\n",
      "gtr_outcomes_spinouts\n"
     ]
    }
   ],
   "source": [
    "#Ok so we have different tables for different outcomes...\n",
    "\n",
    "for x in schemas['gtr'].keys():\n",
    "    if 'outcomes' in x:\n",
    "        print(x)\n"
   ]
  },
  {
   "cell_type": "code",
   "execution_count": 5,
   "metadata": {},
   "outputs": [
    {
     "name": "stdout",
     "output_type": "stream",
     "text": [
      "gtr_outcomes_intellectualproperties\n"
     ]
    }
   ],
   "source": [
    "#I don't think this has a schema\n",
    "print(schemas['gtr']['gtr_outcomes_intellectualproperties'])\n"
   ]
  },
  {
   "cell_type": "markdown",
   "metadata": {},
   "source": [
    "### Get some data"
   ]
  },
  {
   "cell_type": "code",
   "execution_count": 6,
   "metadata": {},
   "outputs": [],
   "source": [
    "gtr_tables = schemas['gtr'].keys()"
   ]
  },
  {
   "cell_type": "code",
   "execution_count": 7,
   "metadata": {},
   "outputs": [],
   "source": [
    "#Initialise the SQL engine\n",
    "engine = get_engine(config_path,pool_size=30, max_overflow=0)"
   ]
  },
  {
   "cell_type": "code",
   "execution_count": 8,
   "metadata": {},
   "outputs": [
    {
     "name": "stdout",
     "output_type": "stream",
     "text": [
      "gtr_funds\n",
      "gtr_link_table\n",
      "gtr_organisations\n",
      "gtr_organisations_locations\n",
      "gtr_outcomes_artisticandcreativeproducts\n",
      "gtr_outcomes_collaborations\n",
      "gtr_outcomes_disseminations\n",
      "gtr_outcomes_furtherfundings\n",
      "gtr_outcomes_impactsummaries\n",
      "gtr_outcomes_intellectualproperties\n",
      "gtr_outcomes_keyfindings\n",
      "gtr_outcomes_policyinfluences\n",
      "gtr_outcomes_products\n",
      "gtr_outcomes_publications\n",
      "gtr_outcomes_researchdatabaseandmodels\n",
      "gtr_outcomes_researchmaterials\n",
      "gtr_outcomes_softwareandtechnicalproducts\n",
      "gtr_outcomes_spinouts\n",
      "gtr_persons\n",
      "gtr_projects\n",
      "gtr_topic\n"
     ]
    }
   ],
   "source": [
    "check = []\n",
    "\n",
    "for table in gtr_tables:\n",
    "    \n",
    "    print(table)\n",
    "    \n",
    "    check.append(pd.read_sql_table(table,engine,chunksize=5000)) \n",
    "    \n",
    "    time.sleep(3)"
   ]
  },
  {
   "cell_type": "code",
   "execution_count": 9,
   "metadata": {},
   "outputs": [
    {
     "name": "stdout",
     "output_type": "stream",
     "text": [
      "gtr_funds\n",
      "====\n",
      "Index(['id', 'end', 'start', 'category', 'amount', 'currencyCode'], dtype='object')\n",
      "\n",
      "\n",
      "(86904, 6)\n",
      "\n",
      "\n",
      "gtr_link_table\n",
      "====\n",
      "Index(['id', 'project_id', 'rel', 'table_name'], dtype='object')\n",
      "\n",
      "\n",
      "(1747438, 4)\n",
      "\n",
      "\n",
      "gtr_organisations\n",
      "====\n",
      "Index(['id', 'name', 'addresses', 'projectCost', 'grantOffer'], dtype='object')\n",
      "\n",
      "\n",
      "(38868, 5)\n",
      "\n",
      "\n",
      "gtr_organisations_locations\n",
      "====\n",
      "Index(['id', 'country_name', 'country_alpha_2', 'country_alpha_3',\n",
      "       'country_numeric', 'continent', 'latitude', 'longitude'],\n",
      "      dtype='object')\n",
      "\n",
      "\n",
      "(38868, 8)\n",
      "\n",
      "\n",
      "gtr_outcomes_artisticandcreativeproducts\n",
      "====\n",
      "Index(['id', 'title', 'description', 'type', 'impact', 'yearFirstProvided'], dtype='object')\n",
      "\n",
      "\n",
      "(7124, 6)\n",
      "\n",
      "\n",
      "gtr_outcomes_collaborations\n",
      "====\n",
      "Index(['id', 'description', 'parentOrganisation',\n",
      "       'principalInvestigatorContribution', 'partnerContribution', 'start',\n",
      "       'sector', 'country', 'impact', 'childOrganisation'],\n",
      "      dtype='object')\n",
      "\n",
      "\n",
      "(97368, 10)\n",
      "\n",
      "\n",
      "gtr_outcomes_disseminations\n",
      "====\n",
      "Index(['id', 'description', 'form', 'primaryAudience', 'yearsOfDissemination',\n",
      "       'impact', 'partOfOfficialScheme', 'supportingUrl', 'geographicReach',\n",
      "       'typeOfPresentation'],\n",
      "      dtype='object')\n",
      "\n",
      "\n",
      "(234445, 10)\n",
      "\n",
      "\n",
      "gtr_outcomes_furtherfundings\n",
      "====\n",
      "Index(['id', 'end', 'description', 'organisation', 'fundingId', 'start',\n",
      "       'amount', 'currencyCode', 'sector', 'country', 'department'],\n",
      "      dtype='object')\n",
      "\n",
      "\n",
      "(65080, 11)\n",
      "\n",
      "\n",
      "gtr_outcomes_impactsummaries\n",
      "====\n",
      "Index(['id', 'description', 'impactTypes', 'sector', 'firstYearOfImpact'], dtype='object')\n",
      "\n",
      "\n",
      "(19317, 5)\n",
      "\n",
      "\n",
      "gtr_outcomes_intellectualproperties\n",
      "====\n",
      "Index(['id', 'title', 'description', 'protection', 'patentId',\n",
      "       'yearProtectionGranted', 'impact', 'licensed'],\n",
      "      dtype='object')\n",
      "\n",
      "\n",
      "(4023, 8)\n",
      "\n",
      "\n",
      "gtr_outcomes_keyfindings\n",
      "====\n",
      "Index(['id', 'description', 'exploitationPathways', 'sectors',\n",
      "       'supportingUrl'],\n",
      "      dtype='object')\n",
      "\n",
      "\n",
      "(27978, 5)\n",
      "\n",
      "\n",
      "gtr_outcomes_policyinfluences\n",
      "====\n",
      "Index(['id', 'influence', 'type', 'geographicReach', 'guidelineTitle',\n",
      "       'supportingUrl', 'impact'],\n",
      "      dtype='object')\n",
      "\n",
      "\n",
      "(22933, 7)\n",
      "\n",
      "\n",
      "gtr_outcomes_products\n",
      "====\n",
      "Index(['id', 'title', 'description', 'type', 'stage', 'status',\n",
      "       'yearDevelopmentCompleted', 'impact', 'supportingUrl'],\n",
      "      dtype='object')\n",
      "\n",
      "\n",
      "(2120, 9)\n",
      "\n",
      "\n",
      "gtr_outcomes_publications\n",
      "====\n",
      "Index(['id', 'title', 'type', 'journalTitle', 'datePublished',\n",
      "       'publicationUrl', 'pubMedId', 'issn', 'volumeTitle', 'doi', 'issue',\n",
      "       'author', 'isbn', 'chapterTitle', 'pageReference'],\n",
      "      dtype='object')\n",
      "\n",
      "\n",
      "(718681, 15)\n",
      "\n",
      "\n",
      "gtr_outcomes_researchdatabaseandmodels\n",
      "====\n",
      "Index(['id', 'title', 'description', 'type', 'impact', 'providedToOthers',\n",
      "       'yearFirstProvided', 'supportingUrl'],\n",
      "      dtype='object')\n",
      "\n",
      "\n",
      "(10393, 8)\n",
      "\n",
      "\n",
      "gtr_outcomes_researchmaterials\n",
      "====\n",
      "Index(['id', 'title', 'description', 'type', 'impact', 'providedToOthers',\n",
      "       'yearFirstProvided', 'supportingUrl'],\n",
      "      dtype='object')\n",
      "\n",
      "\n",
      "(15761, 8)\n",
      "\n",
      "\n",
      "gtr_outcomes_softwareandtechnicalproducts\n",
      "====\n",
      "Index(['id', 'title', 'description', 'type', 'impact', 'softwareOpenSourced',\n",
      "       'yearFirstProvided', 'supportingUrl'],\n",
      "      dtype='object')\n",
      "\n",
      "\n",
      "(6299, 8)\n",
      "\n",
      "\n",
      "gtr_outcomes_spinouts\n",
      "====\n",
      "Index(['id', 'description', 'companyName', 'impact', 'website',\n",
      "       'yearEstablished'],\n",
      "      dtype='object')\n",
      "\n",
      "\n",
      "(989, 6)\n",
      "\n",
      "\n",
      "gtr_persons\n",
      "====\n",
      "Index(['id', 'firstName', 'otherNames', 'surname'], dtype='object')\n",
      "\n",
      "\n",
      "(71880, 4)\n",
      "\n",
      "\n",
      "gtr_projects\n",
      "====\n",
      "Index(['id', 'end', 'title', 'status', 'grantCategory', 'leadFunder',\n",
      "       'abstractText', 'start', 'created', 'leadOrganisationDepartment',\n",
      "       'potentialImpact', 'techAbstractText'],\n",
      "      dtype='object')\n",
      "\n",
      "\n",
      "(86901, 12)\n",
      "\n",
      "\n",
      "gtr_topic\n",
      "====\n",
      "Index(['id', 'text', 'topic_type'], dtype='object')\n",
      "\n",
      "\n",
      "(748, 3)\n",
      "\n",
      "\n"
     ]
    }
   ],
   "source": [
    "all_data = []\n",
    "\n",
    "for n,t in enumerate(gtr_tables):\n",
    "    print(t)\n",
    "    print('====')\n",
    "\n",
    "    dfs = []\n",
    "    \n",
    "    for results in check[n]:\n",
    "        dfs.append(results)\n",
    "    \n",
    "    df = pd.concat(dfs)\n",
    "    \n",
    "    print(df.columns)\n",
    "    print('\\n')\n",
    "    print(df.shape)\n",
    "    \n",
    "    df.to_csv(f'../data/external/{today_str}_{t}.csv')\n",
    "    \n",
    "    all_data.append(df)\n",
    "    \n",
    "    \n",
    "    print('\\n')\n",
    "    "
   ]
  },
  {
   "cell_type": "code",
   "execution_count": null,
   "metadata": {},
   "outputs": [],
   "source": []
  }
 ],
 "metadata": {
  "kernelspec": {
   "display_name": "Python 3",
   "language": "python",
   "name": "python3"
  },
  "language_info": {
   "codemirror_mode": {
    "name": "ipython",
    "version": 3
   },
   "file_extension": ".py",
   "mimetype": "text/x-python",
   "name": "python",
   "nbconvert_exporter": "python",
   "pygments_lexer": "ipython3",
   "version": "3.6.8"
  }
 },
 "nbformat": 4,
 "nbformat_minor": 2
}
