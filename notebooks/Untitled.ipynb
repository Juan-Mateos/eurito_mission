{
 "cells": [
  {
   "cell_type": "markdown",
   "metadata": {},
   "source": [
    "# Microsoft Academic Graph AI classifier\n",
    "\n",
    "We train a classifier on 220K AI papers in MAK in order to identify which of them are in AI.\n",
    "\n",
    "The goal is to validate the results of our expanded keyword search in the Missions pilot. This analysis will also help us define a suitable classification strategy for the Smart data about AI paper"
   ]
  },
  {
   "cell_type": "markdown",
   "metadata": {},
   "source": [
    "### Preamble"
   ]
  },
  {
   "cell_type": "code",
   "execution_count": 34,
   "metadata": {},
   "outputs": [],
   "source": [
    "# Imports\n",
    "%matplotlib inline\n",
    "import matplotlib.pyplot as plt\n",
    "\n",
    "import ast"
   ]
  },
  {
   "cell_type": "code",
   "execution_count": 14,
   "metadata": {},
   "outputs": [],
   "source": [
    "def flatten_list(a_list):\n",
    "    return([x for el in a_list for x in el])"
   ]
  },
  {
   "cell_type": "markdown",
   "metadata": {},
   "source": [
    "### Load data"
   ]
  },
  {
   "cell_type": "code",
   "execution_count": 4,
   "metadata": {},
   "outputs": [
    {
     "data": {
      "text/plain": [
       "'/Users/jmateosgarcia/links/sc/data/external/mag/scotland_papers_data'"
      ]
     },
     "execution_count": 4,
     "metadata": {},
     "output_type": "execute_result"
    }
   ],
   "source": [
    "mag_dir = '/Users/jmateosgarcia/links/sc/data/external/mag/scotland_papers_data'\n",
    "mag_dir"
   ]
  },
  {
   "cell_type": "code",
   "execution_count": 6,
   "metadata": {},
   "outputs": [],
   "source": [
    "#paper_institutions = {}\n",
    "\n",
    "#Give them names\n",
    "\n",
    "paper_institutions = {x.split('.')[0]:[] for x in os.listdir(mag_dir+'/2010')}"
   ]
  },
  {
   "cell_type": "code",
   "execution_count": 7,
   "metadata": {},
   "outputs": [
    {
     "name": "stdout",
     "output_type": "stream",
     "text": [
      "2010\n",
      "2011\n",
      "2012\n",
      "2013\n",
      "2014\n",
      "2015\n",
      "2016\n",
      "2017\n",
      "2018\n"
     ]
    }
   ],
   "source": [
    "#For each year in the data we get the files.\n",
    "\n",
    "for year in np.arange(2010,2019):\n",
    "    \n",
    "    print(year)\n",
    "    \n",
    "    #List of files in the year directory\n",
    "    files = os.listdir(mag_dir+f'/{year}')\n",
    "    \n",
    "    for f in files:\n",
    "        #For each file, read the json\n",
    "        name = mag_dir+f'/{year}/'+f\n",
    "        \n",
    "        with open(name,'rb') as infile:\n",
    "            data = json.load(infile)\n",
    "        \n",
    "        #Append to the paper institutions (we get the key from the file names as above)\n",
    "        paper_institutions[f.split('.')[0]].append(data)"
   ]
  },
  {
   "cell_type": "code",
   "execution_count": 15,
   "metadata": {},
   "outputs": [],
   "source": [
    "#Flatten into a list with all papers\n",
    "\n",
    "papers_flat = flatten_list([flatten_list(x) for k,x in paper_institutions.items()])"
   ]
  },
  {
   "cell_type": "code",
   "execution_count": null,
   "metadata": {},
   "outputs": [],
   "source": [
    "#For the modelling, we are primarily interested in the absstract and they keywords - create a df with those\n",
    "\n",
    "papers_df = pd.concat([pd.DataFrame([{var:x[var] if var in x.keys() else np.nan for var in ['Id','F','E']} for x in papers_flat])])\n",
    "\n",
    "#Drop papers with missing abstracts or titles - they are not useful for prediction\n",
    "\n",
    "papers_df.dropna(axis=0,inplace=True)"
   ]
  },
  {
   "cell_type": "code",
   "execution_count": 56,
   "metadata": {},
   "outputs": [
    {
     "ename": "TypeError",
     "evalue": "the JSON object must be str, bytes or bytearray, not list",
     "output_type": "error",
     "traceback": [
      "\u001b[0;31m---------------------------------------------------------------------------\u001b[0m",
      "\u001b[0;31mTypeError\u001b[0m                                 Traceback (most recent call last)",
      "\u001b[0;32m<ipython-input-56-f9c8f6a56923>\u001b[0m in \u001b[0;36m<module>\u001b[0;34m()\u001b[0m\n\u001b[1;32m      1\u001b[0m \u001b[0;31m# Parse the strings into dicts.\u001b[0m\u001b[0;34m\u001b[0m\u001b[0;34m\u001b[0m\u001b[0;34m\u001b[0m\u001b[0m\n\u001b[1;32m      2\u001b[0m \u001b[0;34m\u001b[0m\u001b[0m\n\u001b[0;32m----> 3\u001b[0;31m \u001b[0mpapers_df\u001b[0m\u001b[0;34m[\u001b[0m\u001b[0;34m'E'\u001b[0m\u001b[0;34m]\u001b[0m\u001b[0;34m,\u001b[0m\u001b[0mpapers_df\u001b[0m\u001b[0;34m[\u001b[0m\u001b[0;34m'F'\u001b[0m\u001b[0;34m]\u001b[0m \u001b[0;34m=\u001b[0m \u001b[0;34m[\u001b[0m\u001b[0mpapers_df\u001b[0m\u001b[0;34m[\u001b[0m\u001b[0mvar\u001b[0m\u001b[0;34m]\u001b[0m\u001b[0;34m.\u001b[0m\u001b[0mapply\u001b[0m\u001b[0;34m(\u001b[0m\u001b[0;32mlambda\u001b[0m \u001b[0mx\u001b[0m\u001b[0;34m:\u001b[0m \u001b[0mjson\u001b[0m\u001b[0;34m.\u001b[0m\u001b[0mloads\u001b[0m\u001b[0;34m(\u001b[0m\u001b[0mx\u001b[0m\u001b[0;34m)\u001b[0m\u001b[0;34m)\u001b[0m \u001b[0;32mfor\u001b[0m \u001b[0mvar\u001b[0m \u001b[0;32min\u001b[0m \u001b[0;34m[\u001b[0m\u001b[0;34m'E'\u001b[0m\u001b[0;34m,\u001b[0m\u001b[0;34m'F'\u001b[0m\u001b[0;34m]\u001b[0m\u001b[0;34m]\u001b[0m\u001b[0;34m\u001b[0m\u001b[0;34m\u001b[0m\u001b[0m\n\u001b[0m",
      "\u001b[0;32m<ipython-input-56-f9c8f6a56923>\u001b[0m in \u001b[0;36m<listcomp>\u001b[0;34m(.0)\u001b[0m\n\u001b[1;32m      1\u001b[0m \u001b[0;31m# Parse the strings into dicts.\u001b[0m\u001b[0;34m\u001b[0m\u001b[0;34m\u001b[0m\u001b[0;34m\u001b[0m\u001b[0m\n\u001b[1;32m      2\u001b[0m \u001b[0;34m\u001b[0m\u001b[0m\n\u001b[0;32m----> 3\u001b[0;31m \u001b[0mpapers_df\u001b[0m\u001b[0;34m[\u001b[0m\u001b[0;34m'E'\u001b[0m\u001b[0;34m]\u001b[0m\u001b[0;34m,\u001b[0m\u001b[0mpapers_df\u001b[0m\u001b[0;34m[\u001b[0m\u001b[0;34m'F'\u001b[0m\u001b[0;34m]\u001b[0m \u001b[0;34m=\u001b[0m \u001b[0;34m[\u001b[0m\u001b[0mpapers_df\u001b[0m\u001b[0;34m[\u001b[0m\u001b[0mvar\u001b[0m\u001b[0;34m]\u001b[0m\u001b[0;34m.\u001b[0m\u001b[0mapply\u001b[0m\u001b[0;34m(\u001b[0m\u001b[0;32mlambda\u001b[0m \u001b[0mx\u001b[0m\u001b[0;34m:\u001b[0m \u001b[0mjson\u001b[0m\u001b[0;34m.\u001b[0m\u001b[0mloads\u001b[0m\u001b[0;34m(\u001b[0m\u001b[0mx\u001b[0m\u001b[0;34m)\u001b[0m\u001b[0;34m)\u001b[0m \u001b[0;32mfor\u001b[0m \u001b[0mvar\u001b[0m \u001b[0;32min\u001b[0m \u001b[0;34m[\u001b[0m\u001b[0;34m'E'\u001b[0m\u001b[0;34m,\u001b[0m\u001b[0;34m'F'\u001b[0m\u001b[0;34m]\u001b[0m\u001b[0;34m]\u001b[0m\u001b[0;34m\u001b[0m\u001b[0;34m\u001b[0m\u001b[0m\n\u001b[0m",
      "\u001b[0;32m/usr/local/lib/python3.7/site-packages/pandas/core/series.py\u001b[0m in \u001b[0;36mapply\u001b[0;34m(self, func, convert_dtype, args, **kwds)\u001b[0m\n\u001b[1;32m   3192\u001b[0m             \u001b[0;32melse\u001b[0m\u001b[0;34m:\u001b[0m\u001b[0;34m\u001b[0m\u001b[0;34m\u001b[0m\u001b[0m\n\u001b[1;32m   3193\u001b[0m                 \u001b[0mvalues\u001b[0m \u001b[0;34m=\u001b[0m \u001b[0mself\u001b[0m\u001b[0;34m.\u001b[0m\u001b[0mastype\u001b[0m\u001b[0;34m(\u001b[0m\u001b[0mobject\u001b[0m\u001b[0;34m)\u001b[0m\u001b[0;34m.\u001b[0m\u001b[0mvalues\u001b[0m\u001b[0;34m\u001b[0m\u001b[0;34m\u001b[0m\u001b[0m\n\u001b[0;32m-> 3194\u001b[0;31m                 \u001b[0mmapped\u001b[0m \u001b[0;34m=\u001b[0m \u001b[0mlib\u001b[0m\u001b[0;34m.\u001b[0m\u001b[0mmap_infer\u001b[0m\u001b[0;34m(\u001b[0m\u001b[0mvalues\u001b[0m\u001b[0;34m,\u001b[0m \u001b[0mf\u001b[0m\u001b[0;34m,\u001b[0m \u001b[0mconvert\u001b[0m\u001b[0;34m=\u001b[0m\u001b[0mconvert_dtype\u001b[0m\u001b[0;34m)\u001b[0m\u001b[0;34m\u001b[0m\u001b[0;34m\u001b[0m\u001b[0m\n\u001b[0m\u001b[1;32m   3195\u001b[0m \u001b[0;34m\u001b[0m\u001b[0m\n\u001b[1;32m   3196\u001b[0m         \u001b[0;32mif\u001b[0m \u001b[0mlen\u001b[0m\u001b[0;34m(\u001b[0m\u001b[0mmapped\u001b[0m\u001b[0;34m)\u001b[0m \u001b[0;32mand\u001b[0m \u001b[0misinstance\u001b[0m\u001b[0;34m(\u001b[0m\u001b[0mmapped\u001b[0m\u001b[0;34m[\u001b[0m\u001b[0;36m0\u001b[0m\u001b[0;34m]\u001b[0m\u001b[0;34m,\u001b[0m \u001b[0mSeries\u001b[0m\u001b[0;34m)\u001b[0m\u001b[0;34m:\u001b[0m\u001b[0;34m\u001b[0m\u001b[0;34m\u001b[0m\u001b[0m\n",
      "\u001b[0;32mpandas/_libs/src/inference.pyx\u001b[0m in \u001b[0;36mpandas._libs.lib.map_infer\u001b[0;34m()\u001b[0m\n",
      "\u001b[0;32m<ipython-input-56-f9c8f6a56923>\u001b[0m in \u001b[0;36m<lambda>\u001b[0;34m(x)\u001b[0m\n\u001b[1;32m      1\u001b[0m \u001b[0;31m# Parse the strings into dicts.\u001b[0m\u001b[0;34m\u001b[0m\u001b[0;34m\u001b[0m\u001b[0;34m\u001b[0m\u001b[0m\n\u001b[1;32m      2\u001b[0m \u001b[0;34m\u001b[0m\u001b[0m\n\u001b[0;32m----> 3\u001b[0;31m \u001b[0mpapers_df\u001b[0m\u001b[0;34m[\u001b[0m\u001b[0;34m'E'\u001b[0m\u001b[0;34m]\u001b[0m\u001b[0;34m,\u001b[0m\u001b[0mpapers_df\u001b[0m\u001b[0;34m[\u001b[0m\u001b[0;34m'F'\u001b[0m\u001b[0;34m]\u001b[0m \u001b[0;34m=\u001b[0m \u001b[0;34m[\u001b[0m\u001b[0mpapers_df\u001b[0m\u001b[0;34m[\u001b[0m\u001b[0mvar\u001b[0m\u001b[0;34m]\u001b[0m\u001b[0;34m.\u001b[0m\u001b[0mapply\u001b[0m\u001b[0;34m(\u001b[0m\u001b[0;32mlambda\u001b[0m \u001b[0mx\u001b[0m\u001b[0;34m:\u001b[0m \u001b[0mjson\u001b[0m\u001b[0;34m.\u001b[0m\u001b[0mloads\u001b[0m\u001b[0;34m(\u001b[0m\u001b[0mx\u001b[0m\u001b[0;34m)\u001b[0m\u001b[0;34m)\u001b[0m \u001b[0;32mfor\u001b[0m \u001b[0mvar\u001b[0m \u001b[0;32min\u001b[0m \u001b[0;34m[\u001b[0m\u001b[0;34m'E'\u001b[0m\u001b[0;34m,\u001b[0m\u001b[0;34m'F'\u001b[0m\u001b[0;34m]\u001b[0m\u001b[0;34m]\u001b[0m\u001b[0;34m\u001b[0m\u001b[0;34m\u001b[0m\u001b[0m\n\u001b[0m",
      "\u001b[0;32m/usr/local/Cellar/python/3.7.1/Frameworks/Python.framework/Versions/3.7/lib/python3.7/json/__init__.py\u001b[0m in \u001b[0;36mloads\u001b[0;34m(s, encoding, cls, object_hook, parse_float, parse_int, parse_constant, object_pairs_hook, **kw)\u001b[0m\n\u001b[1;32m    339\u001b[0m     \u001b[0;32melse\u001b[0m\u001b[0;34m:\u001b[0m\u001b[0;34m\u001b[0m\u001b[0;34m\u001b[0m\u001b[0m\n\u001b[1;32m    340\u001b[0m         \u001b[0;32mif\u001b[0m \u001b[0;32mnot\u001b[0m \u001b[0misinstance\u001b[0m\u001b[0;34m(\u001b[0m\u001b[0ms\u001b[0m\u001b[0;34m,\u001b[0m \u001b[0;34m(\u001b[0m\u001b[0mbytes\u001b[0m\u001b[0;34m,\u001b[0m \u001b[0mbytearray\u001b[0m\u001b[0;34m)\u001b[0m\u001b[0;34m)\u001b[0m\u001b[0;34m:\u001b[0m\u001b[0;34m\u001b[0m\u001b[0;34m\u001b[0m\u001b[0m\n\u001b[0;32m--> 341\u001b[0;31m             raise TypeError(f'the JSON object must be str, bytes or bytearray, '\n\u001b[0m\u001b[1;32m    342\u001b[0m                             f'not {s.__class__.__name__}')\n\u001b[1;32m    343\u001b[0m         \u001b[0ms\u001b[0m \u001b[0;34m=\u001b[0m \u001b[0ms\u001b[0m\u001b[0;34m.\u001b[0m\u001b[0mdecode\u001b[0m\u001b[0;34m(\u001b[0m\u001b[0mdetect_encoding\u001b[0m\u001b[0;34m(\u001b[0m\u001b[0ms\u001b[0m\u001b[0;34m)\u001b[0m\u001b[0;34m,\u001b[0m \u001b[0;34m'surrogatepass'\u001b[0m\u001b[0;34m)\u001b[0m\u001b[0;34m\u001b[0m\u001b[0;34m\u001b[0m\u001b[0m\n",
      "\u001b[0;31mTypeError\u001b[0m: the JSON object must be str, bytes or bytearray, not list"
     ]
    }
   ],
   "source": [
    "# Parse the strings into dicts.\n",
    "\n",
    "papers_df['E'],papers_df['F'] = [papers_df[var].apply(lambda x: json.loads(x)) for var in ['E','F']]"
   ]
  },
  {
   "cell_type": "code",
   "execution_count": null,
   "metadata": {},
   "outputs": [],
   "source": [
    "#Extract the abstracts\n",
    "papers_df['abstract'] = papers_df['E'].apply(lambda x:x['IA'])"
   ]
  },
  {
   "cell_type": "code",
   "execution_count": null,
   "metadata": {},
   "outputs": [],
   "source": [
    "#We can turn the inverted abstracts into abstracts removing the stopwords as we go. Fun programming problem"
   ]
  },
  {
   "cell_type": "code",
   "execution_count": 51,
   "metadata": {},
   "outputs": [
    {
     "data": {
      "text/plain": [
       "\u001b[0;31mSignature:\u001b[0m \u001b[0mast\u001b[0m\u001b[0;34m.\u001b[0m\u001b[0mliteral_eval\u001b[0m\u001b[0;34m(\u001b[0m\u001b[0mnode_or_string\u001b[0m\u001b[0;34m)\u001b[0m\u001b[0;34m\u001b[0m\u001b[0;34m\u001b[0m\u001b[0m\n",
       "\u001b[0;31mDocstring:\u001b[0m\n",
       "Safely evaluate an expression node or a string containing a Python\n",
       "expression.  The string or node provided may only consist of the following\n",
       "Python literal structures: strings, bytes, numbers, tuples, lists, dicts,\n",
       "sets, booleans, and None.\n",
       "\u001b[0;31mFile:\u001b[0m      /usr/local/Cellar/python/3.7.1/Frameworks/Python.framework/Versions/3.7/lib/python3.7/ast.py\n",
       "\u001b[0;31mType:\u001b[0m      function\n"
      ]
     },
     "metadata": {},
     "output_type": "display_data"
    }
   ],
   "source": [
    "?ast.literal_eval"
   ]
  },
  {
   "cell_type": "code",
   "execution_count": 55,
   "metadata": {},
   "outputs": [
    {
     "data": {
      "text/plain": [
       "{'DN': 'Exploring “Science As Culture” Through The European Science Museums Astronomy And Museum Education',\n",
       " 'IA': {'IndexLength': 149,\n",
       "  'InvertedIndex': {'The': [0, 61],\n",
       "   'Hellenic': [1, 37, 91],\n",
       "   'Physical': [2, 38, 92],\n",
       "   'Society': [3, 39, 93],\n",
       "   'is': [4, 18, 40, 84],\n",
       "   'a': [5, 41],\n",
       "   'scientific': [6],\n",
       "   'association': [7],\n",
       "   'with': [8, 127],\n",
       "   'an': [9, 66],\n",
       "   'intensive': [10],\n",
       "   'action': [11],\n",
       "   'in': [12, 125],\n",
       "   'the': [13,\n",
       "    21,\n",
       "    24,\n",
       "    36,\n",
       "    44,\n",
       "    57,\n",
       "    70,\n",
       "    77,\n",
       "    85,\n",
       "    88,\n",
       "    90,\n",
       "    96,\n",
       "    106,\n",
       "    110,\n",
       "    115,\n",
       "    119,\n",
       "    128,\n",
       "    138,\n",
       "    142,\n",
       "    147],\n",
       "   'field': [14],\n",
       "   'of': [15, 43, 76, 79, 81, 87, 102, 118, 123, 132, 146],\n",
       "   'education,': [16],\n",
       "   'which': [17, 83],\n",
       "   'governed': [19],\n",
       "   'by': [20],\n",
       "   'philosophy': [22],\n",
       "   'that': [23, 109],\n",
       "   'relationship': [25],\n",
       "   'between': [26, 69],\n",
       "   'science': [27],\n",
       "   'and': [28, 74, 95],\n",
       "   'society': [29],\n",
       "   'must': [30],\n",
       "   'be': [31],\n",
       "   'interactive.': [32],\n",
       "   'For': [33],\n",
       "   'this': [34],\n",
       "   'reason': [35],\n",
       "   'partner': [42],\n",
       "   'European': [45, 58],\n",
       "   'Grundtvig': [46],\n",
       "   'Lifelong': [47],\n",
       "   'Learning': [48],\n",
       "   'Project/Learning': [49],\n",
       "   'Partnerships,': [50],\n",
       "   'tilted:': [51],\n",
       "   'Exploring': [52],\n",
       "   '“Science': [53],\n",
       "   'as': [54],\n",
       "   'Culture”': [55],\n",
       "   'through': [56],\n",
       "   'Science': [59],\n",
       "   'Museums.': [60],\n",
       "   'program': [62],\n",
       "   'numbered': [63],\n",
       "   '07‐GRCO1‐GR04‐00025‐1': [64],\n",
       "   'constitutes': [65],\n",
       "   'educational': [67],\n",
       "   'collaboration': [68, 126],\n",
       "   'Semmelweis': [71],\n",
       "   'Museum': [72, 117],\n",
       "   'Library': [73],\n",
       "   'archives': [75],\n",
       "   'History': [78],\n",
       "   'Medicine': [80],\n",
       "   'Hungary,': [82],\n",
       "   'co‐ordinator': [86],\n",
       "   'project,': [89],\n",
       "   '(Greece)': [94],\n",
       "   'Aberdeen': [97],\n",
       "   'City': [98],\n",
       "   'Council': [99],\n",
       "   'Strategic': [100],\n",
       "   'Leadership': [101],\n",
       "   'United': [103],\n",
       "   'Kingdom.': [104],\n",
       "   'During': [105, 137],\n",
       "   'first': [107],\n",
       "   'year': [108, 140],\n",
       "   'european': [111],\n",
       "   'project': [112],\n",
       "   'was': [113],\n",
       "   'conducted,': [114],\n",
       "   'Physics': [116],\n",
       "   'greek': [120],\n",
       "   'aegean': [121],\n",
       "   'island': [122],\n",
       "   'Chios,': [124, 133],\n",
       "   'Second': [129, 143],\n",
       "   'Chance': [130, 144],\n",
       "   'School': [131, 145],\n",
       "   'also': [134],\n",
       "   'took': [135],\n",
       "   'part.': [136],\n",
       "   'academic': [139],\n",
       "   '2008–2009,': [141],\n",
       "   'Koridal...': [148]}},\n",
       " 'S': [{'Ty': 1, 'U': 'https://aip.scitation.org/doi/10.1063/1.3322354'},\n",
       "  {'Ty': 1, 'U': 'http://adsabs.harvard.edu/abs/2010AIPC.1203.1275L'},\n",
       "  {'Ty': 0,\n",
       "   'U': 'http://scitation.aip.org/content/aip/proceeding/aipcp/10.1063/1.3322354'},\n",
       "  {'Ty': 0, 'U': 'http://aip.scitation.org/doi/abs/10.1063/1.3322354'}],\n",
       " 'VFN': 'ORGANIZED BY THE HELLENIC PHYSICAL SOCIETY WITH THE COOPERATION OF THE PHYSICS DEPARTMENTS OF GREEK UNIVERSITIES: 7th International Conference of the Balkan Physical Union',\n",
       " 'V': 1203,\n",
       " 'I': 1,\n",
       " 'FP': 1275,\n",
       " 'LP': 1278,\n",
       " 'DOI': '10.1063/1.3322354',\n",
       " 'PR': [2369097968,\n",
       "  2034826947,\n",
       "  91070034,\n",
       "  2491031115,\n",
       "  625588176,\n",
       "  1984016526,\n",
       "  2368888448,\n",
       "  2439743788,\n",
       "  2323646495,\n",
       "  2076439757,\n",
       "  2178014588,\n",
       "  2480143698,\n",
       "  2385754267,\n",
       "  2393087192,\n",
       "  363787893,\n",
       "  1558324788,\n",
       "  2550382909,\n",
       "  2736414851,\n",
       "  2338557642,\n",
       "  1798376628,\n",
       "  2369097968,\n",
       "  2034826947,\n",
       "  91070034,\n",
       "  2491031115,\n",
       "  625588176,\n",
       "  1984016526,\n",
       "  2368888448,\n",
       "  2439743788,\n",
       "  2323646495,\n",
       "  2076439757,\n",
       "  2178014588,\n",
       "  2480143698,\n",
       "  2385754267,\n",
       "  2393087192,\n",
       "  363787893,\n",
       "  1558324788,\n",
       "  2550382909,\n",
       "  2736414851,\n",
       "  2338557642,\n",
       "  1798376628],\n",
       " 'ANF': [{'FN': 'Dimitra', 'LN': 'Lelingou', 'S': 1},\n",
       "  {'FN': 'Benedek', 'LN': 'Varga', 'S': 2},\n",
       "  {'FN': 'Katalin', 'LN': 'Czár', 'S': 3},\n",
       "  {'FN': 'Seema', 'LN': 'Sircar', 'S': 4},\n",
       "  {'FN': 'Allan', 'LN': 'Paterson', 'S': 5},\n",
       "  {'FN': 'Lilian', 'LN': 'Lindsay', 'S': 6},\n",
       "  {'FN': 'Andy', 'LN': 'Watson', 'S': 7},\n",
       "  {'FN': 'Christopher', 'LN': 'Croly', 'S': 8}],\n",
       " 'BV': 'ORGANIZED BY THE HELLENIC PHYSICAL SOCIETY WITH THE COOPERATION OF THE PHYSICS DEPARTMENTS OF GREEK UNIVERSITIES: 7th International Conference of the Balkan Physical Union',\n",
       " 'BT': 'p',\n",
       " 'PB': 'AIP Publishing'}"
      ]
     },
     "execution_count": 55,
     "metadata": {},
     "output_type": "execute_result"
    }
   ],
   "source": [
    "json.loads(papers_df['E'][0])"
   ]
  },
  {
   "cell_type": "code",
   "execution_count": null,
   "metadata": {},
   "outputs": [],
   "source": []
  }
 ],
 "metadata": {
  "kernelspec": {
   "display_name": "Python 3",
   "language": "python",
   "name": "python3"
  },
  "language_info": {
   "codemirror_mode": {
    "name": "ipython",
    "version": 3
   },
   "file_extension": ".py",
   "mimetype": "text/x-python",
   "name": "python",
   "nbconvert_exporter": "python",
   "pygments_lexer": "ipython3",
   "version": "3.7.1"
  }
 },
 "nbformat": 4,
 "nbformat_minor": 2
}
