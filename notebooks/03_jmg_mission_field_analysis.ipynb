{
 "cells": [
  {
   "cell_type": "markdown",
   "metadata": {},
   "source": [
    "# Mission field analysis\n",
    "\n",
    "We start the analisys of the enriched GTR dataset (see `01` and `02` notebooks)"
   ]
  },
  {
   "cell_type": "markdown",
   "metadata": {},
   "source": [
    "## Preamble"
   ]
  },
  {
   "cell_type": "code",
   "execution_count": 134,
   "metadata": {},
   "outputs": [],
   "source": [
    "%matplotlib inline\n",
    "\n",
    "import matplotlib.pyplot as plt"
   ]
  },
  {
   "cell_type": "markdown",
   "metadata": {},
   "source": [
    "## Load data"
   ]
  },
  {
   "cell_type": "code",
   "execution_count": 1,
   "metadata": {},
   "outputs": [],
   "source": [
    "projects = pd.read_csv('../data/processed/22_1_2019_projects_clean.csv')"
   ]
  },
  {
   "cell_type": "markdown",
   "metadata": {},
   "source": [
    "### Word embeddings query / Clio query?\n",
    "\n",
    "To keep things simple, we will train a w2v model, identify synonyms for a set of seed terms and query the data for those"
   ]
  },
  {
   "cell_type": "code",
   "execution_count": 9,
   "metadata": {},
   "outputs": [],
   "source": [
    "# %load lda_pipeline.py\n",
    "from gensim import corpora, models\n",
    "from string import punctuation\n",
    "from string import digits\n",
    "import re\n",
    "import pandas as pd\n",
    "import numpy as np\n",
    "from gensim.models import Word2Vec\n",
    "\n",
    "\n",
    "#Characters to drop\n",
    "drop_characters = re.sub('-','',punctuation)+digits\n",
    "\n",
    "#Stopwords\n",
    "from nltk.corpus import stopwords\n",
    "\n",
    "stop = stopwords.words('English')\n",
    "\n",
    "#Stem functions\n",
    "from nltk.stem import *\n",
    "stemmer = PorterStemmer()\n",
    "\n",
    "def flatten_list(a_list):\n",
    "    return([x for el in a_list for x in el])\n",
    "\n",
    "\n",
    "def clean_tokenise(string,drop_characters=drop_characters,stopwords=stop):\n",
    "    '''\n",
    "    Takes a string and cleans (makes lowercase and removes stopwords)\n",
    "    \n",
    "    '''\n",
    "    \n",
    "\n",
    "    #Lowercase\n",
    "    str_low = string.lower()\n",
    "    \n",
    "    \n",
    "    #Remove symbols and numbers\n",
    "    str_letters = re.sub('[{drop}]'.format(drop=drop_characters),'',str_low)\n",
    "    \n",
    "    \n",
    "    #Remove stopwords\n",
    "    clean = [x for x in str_letters.split(' ') if (x not in stop) & (x!='')]\n",
    "    \n",
    "    return(clean)\n",
    "\n",
    "\n",
    "class CleanTokenize():\n",
    "    '''\n",
    "    This class takes a list of strings and returns a tokenised, clean list of token lists ready\n",
    "    to be processed with the LdaPipeline\n",
    "    \n",
    "    It has a clean method to remove symbols and stopwords\n",
    "    \n",
    "    It has a bigram method to detect collocated words\n",
    "    \n",
    "    It has a stem method to stem words\n",
    "    \n",
    "    '''\n",
    "    \n",
    "    def __init__(self,corpus):\n",
    "        '''\n",
    "        Takes a corpus (list where each element is a string)\n",
    "        '''\n",
    "        \n",
    "        #Store\n",
    "        self.corpus = corpus\n",
    "        \n",
    "    def clean(self,drop=drop_characters,stopwords=stop):\n",
    "        '''\n",
    "        Removes strings and stopwords, \n",
    "        \n",
    "        '''\n",
    "        \n",
    "        cleaned = [clean_tokenise(doc,drop_characters=drop,stopwords=stop) for doc in self.corpus]\n",
    "        \n",
    "        self.tokenised = cleaned\n",
    "        return(self)\n",
    "    \n",
    "    def stem(self):\n",
    "        '''\n",
    "        Optional: stems words\n",
    "        \n",
    "        '''\n",
    "        #Stems each word in each tokenised sentence\n",
    "        stemmed = [[stemmer.stem(word) for word in sentence] for sentence in self.tokenised]\n",
    "    \n",
    "        self.tokenised = stemmed\n",
    "        return(self)\n",
    "        \n",
    "    \n",
    "    def bigram(self,threshold=10):\n",
    "        '''\n",
    "        Optional Create bigrams.\n",
    "        \n",
    "        '''\n",
    "        \n",
    "        #Colocation detector trained on the data\n",
    "        phrases = models.Phrases(self.tokenised,threshold=threshold)\n",
    "        \n",
    "        bigram = models.phrases.Phraser(phrases)\n",
    "        \n",
    "        self.tokenised = bigram[self.tokenised]\n",
    "        \n",
    "        return(self)\n",
    "        \n",
    "        \n",
    "        \n",
    "        \n",
    "\n",
    "class LdaPipeline():\n",
    "    '''\n",
    "    This class processes lists of keywords.\n",
    "    How does it work?\n",
    "    -It is initialised with a list where every element is a collection of keywords\n",
    "    -It has a method to filter keywords removing those that appear less than a set number of times\n",
    "    \n",
    "    -It has a method to process the filtered df into an object that gensim can work with\n",
    "    -It has a method to train the LDA model with the right parameters\n",
    "    -It has a method to predict the topics in a corpus\n",
    "    \n",
    "    '''\n",
    "    \n",
    "    def __init__(self,corpus):\n",
    "        '''\n",
    "        Takes the list of terms\n",
    "        '''\n",
    "        \n",
    "        #Store the corpus\n",
    "        self.tokenised = corpus\n",
    "        \n",
    "    def filter(self,minimum=5):\n",
    "        '''\n",
    "        Removes keywords that appear less than 5 times.\n",
    "        \n",
    "        '''\n",
    "        \n",
    "        #Load\n",
    "        tokenised = self.tokenised\n",
    "        \n",
    "        #Count tokens\n",
    "        token_counts = pd.Series([x for el in tokenised for x in el]).value_counts()\n",
    "        \n",
    "        #Tokens to keep\n",
    "        keep = token_counts.index[token_counts>minimum]\n",
    "        \n",
    "        #Filter\n",
    "        tokenised_filtered = [[x for x in el if x in keep] for el in tokenised]\n",
    "        \n",
    "        #Store\n",
    "        self.tokenised = tokenised_filtered\n",
    "        self.empty_groups = np.sum([len(x)==0 for x in tokenised_filtered])\n",
    "        \n",
    "        return(self)\n",
    "    \n",
    "    def clean(self):\n",
    "        '''\n",
    "        Remove symbols and numbers\n",
    "        \n",
    "        '''\n",
    "        \n",
    "        \n",
    "        \n",
    "    \n",
    "        \n",
    "    def process(self):\n",
    "        '''\n",
    "        This creates the bag of words we use in the gensim analysis\n",
    "        \n",
    "        '''\n",
    "        #Load the list of keywords\n",
    "        tokenised = self.tokenised\n",
    "        \n",
    "        #Create the dictionary\n",
    "        dictionary = corpora.Dictionary(tokenised)\n",
    "        \n",
    "        #Create the Bag of words. This converts keywords into ids\n",
    "        corpus = [dictionary.doc2bow(x) for x in tokenised]\n",
    "        \n",
    "        self.corpus = corpus\n",
    "        self.dictionary = dictionary\n",
    "        return(self)\n",
    "        \n",
    "    def tfidf(self):\n",
    "        '''\n",
    "        This is optional: We extract the term-frequency inverse document frequency of the words in\n",
    "        the corpus. The idea is to identify those keywords that are more salient in a document by normalising over\n",
    "        their frequency in the whole corpus\n",
    "        \n",
    "        '''\n",
    "        #Load the corpus\n",
    "        corpus = self.corpus\n",
    "        \n",
    "        #Fit a TFIDF model on the data\n",
    "        tfidf = models.TfidfModel(corpus)\n",
    "        \n",
    "        #Transform the corpus and save it\n",
    "        self.corpus = tfidf[corpus]\n",
    "        \n",
    "        return(self)\n",
    "    \n",
    "    def fit_lda(self,num_topics=20,passes=5,iterations=75,random_state=1803):\n",
    "        '''\n",
    "        \n",
    "        This fits the LDA model taking a set of keyword arguments.\n",
    "        #Number of passes, iterations and random state for reproducibility. We will have to consider\n",
    "        reproducibility eventually.\n",
    "        \n",
    "        '''\n",
    "        \n",
    "        #Load the corpus\n",
    "        corpus = self.corpus\n",
    "        \n",
    "        #Train the LDA model with the parameters we supplied\n",
    "        lda = models.LdaModel(corpus,id2word=self.dictionary,\n",
    "                              num_topics=num_topics,passes=passes,iterations=iterations,random_state=random_state)\n",
    "        \n",
    "        #Save the outputs\n",
    "        self.lda_model = lda\n",
    "        self.lda_topics = lda.show_topics(num_topics=num_topics)\n",
    "        \n",
    "\n",
    "        return(self)\n",
    "    \n",
    "    def predict_topics(self):\n",
    "        '''\n",
    "        This predicts the topic mix for every observation in the corpus\n",
    "        \n",
    "        '''\n",
    "        #Load the attributes we will be working with\n",
    "        lda = self.lda_model\n",
    "        corpus = self.corpus\n",
    "        \n",
    "        #Now we create a df\n",
    "        predicted = lda[corpus]\n",
    "        \n",
    "        #Convert this into a dataframe\n",
    "        predicted_df = pd.concat([pd.DataFrame({x[0]:x[1] for x in topics},\n",
    "                                              index=[num]) for num,topics in enumerate(predicted)]).fillna(0)\n",
    "        \n",
    "        self.predicted_df = predicted_df\n",
    "        \n",
    "        return(self)\n",
    "    "
   ]
  },
  {
   "cell_type": "code",
   "execution_count": 7,
   "metadata": {},
   "outputs": [],
   "source": [
    "#Create sentence corpus\n",
    "sentence_corpus = flatten_list([x.split('. ') for x in projects['abstract']])\n",
    "\n",
    "\n",
    "#Tokenize etc using the classes above\n",
    "sentence_tokenised = CleanTokenize(sentence_corpus).clean().bigram()\n",
    "\n",
    "#Also tokenise by documents so we can query them later\n",
    "corpus_tokenised = CleanTokenize(projects['abstract']).clean().bigram()\n"
   ]
  },
  {
   "cell_type": "code",
   "execution_count": 10,
   "metadata": {},
   "outputs": [],
   "source": [
    "#Training W2V\n",
    "w2v = Word2Vec(sentence_tokenised.tokenised)"
   ]
  },
  {
   "cell_type": "code",
   "execution_count": 11,
   "metadata": {},
   "outputs": [],
   "source": [
    "with open(f'../models/{today_str}_word_embeddings.p','wb') as outfile:\n",
    "    pickle.dump(w2v,outfile)"
   ]
  },
  {
   "cell_type": "code",
   "execution_count": 232,
   "metadata": {},
   "outputs": [],
   "source": [
    "def similarity_chaser(seed_list,model,similarity,occurrences=1):\n",
    "    '''\n",
    "    Takes a seed term and expands it with synonyms (above a certain similarity threshold)\n",
    "    \n",
    "    '''\n",
    "    \n",
    "    #All synonyms of the terms in the seed_list above a certain threshold\n",
    "    set_ws = flatten_list([[term[0] for term in model.most_similar(seed) if term[1]>similarity] for seed in seed_list])\n",
    "    \n",
    "    #return(set_ws)\n",
    "    \n",
    "    #This is the list of unique occurrences (what we want to return at the end)\n",
    "    set_ws_list = list(set(set_ws))\n",
    "    \n",
    "    #For each term, if it appears multiple times, we expand\n",
    "    for w in set_ws:\n",
    "        if set_ws.count(w)>occurrences:\n",
    "            \n",
    "            #As before\n",
    "            extra_words = [term[0] for term in model.most_similar(w) if term[1]>similarity]\n",
    "            \n",
    "            set_ws_list + extra_words\n",
    "            \n",
    "    #return(list(set(set_ws_list)))\n",
    "    return(set_ws_list)\n",
    "    \n",
    "\n",
    "    \n",
    "def querier(corpus,keywords,intersect=True):\n",
    "    '''\n",
    "    Loops over a tokenised corpus and returns the number of hits (number of times that any of the terms appears in the document)\n",
    "    \n",
    "    '''\n",
    "    #Intersection of tokens\n",
    "    if intersect==True:\n",
    "    \n",
    "        out = [len(set(keywords) & set(document)) for document in corpus]\n",
    "    \n",
    "    else:\n",
    "    #Otherwise it counts the total of tokens present in an abstract\n",
    "        \n",
    "        out = [np.sum([x.count(k) for k in keywords]) for x in corpus]\n",
    "    \n",
    "    \n",
    "    \n",
    "    return(out)\n",
    "    \n",
    "    "
   ]
  },
  {
   "cell_type": "markdown",
   "metadata": {},
   "source": [
    "### AI and Chronic diseases (crude keyword search-based)"
   ]
  },
  {
   "cell_type": "code",
   "execution_count": 13,
   "metadata": {},
   "outputs": [
    {
     "name": "stderr",
     "output_type": "stream",
     "text": [
      "/usr/local/lib/python3.7/site-packages/ipykernel_launcher.py:8: DeprecationWarning: Call to deprecated `most_similar` (Method will be removed in 4.0.0, use self.wv.most_similar() instead).\n",
      "  \n",
      "/usr/local/lib/python3.7/site-packages/gensim/matutils.py:737: FutureWarning: Conversion of the second argument of issubdtype from `int` to `np.signedinteger` is deprecated. In future, it will be treated as `np.int64 == np.dtype(int).type`.\n",
      "  if np.issubdtype(vec.dtype, np.int):\n",
      "/usr/local/lib/python3.7/site-packages/ipykernel_launcher.py:20: DeprecationWarning: Call to deprecated `most_similar` (Method will be removed in 4.0.0, use self.wv.most_similar() instead).\n"
     ]
    }
   ],
   "source": [
    "ai_expanded = similarity_chaser(seed_list=['machine_learning','artificial_intelligence','deep_learning','ai','machine_vision'],model=w2v,similarity=0.8)\n",
    "chronic_expanded = similarity_chaser(seed_list=['chronic_disease','chronic'],model=w2v,similarity=0.8)"
   ]
  },
  {
   "cell_type": "code",
   "execution_count": 284,
   "metadata": {},
   "outputs": [],
   "source": [
    "projects['has_ai'],projects['has_chronic'] = [querier(corpus_tokenised.tokenised,keys,\n",
    "                                                     intersect=True) for keys in [ai_expanded,chronic_expanded]]"
   ]
  },
  {
   "cell_type": "code",
   "execution_count": 289,
   "metadata": {},
   "outputs": [
    {
     "data": {
      "text/html": [
       "<div>\n",
       "<style scoped>\n",
       "    .dataframe tbody tr th:only-of-type {\n",
       "        vertical-align: middle;\n",
       "    }\n",
       "\n",
       "    .dataframe tbody tr th {\n",
       "        vertical-align: top;\n",
       "    }\n",
       "\n",
       "    .dataframe thead th {\n",
       "        text-align: right;\n",
       "    }\n",
       "</style>\n",
       "<table border=\"1\" class=\"dataframe\">\n",
       "  <thead>\n",
       "    <tr style=\"text-align: right;\">\n",
       "      <th></th>\n",
       "      <th>index</th>\n",
       "      <th>title</th>\n",
       "      <th>year</th>\n",
       "      <th>abstract</th>\n",
       "      <th>status</th>\n",
       "      <th>grant_category</th>\n",
       "      <th>funder</th>\n",
       "      <th>amount</th>\n",
       "      <th>biological_sciences</th>\n",
       "      <th>physics</th>\n",
       "      <th>...</th>\n",
       "      <th>arts_humanities</th>\n",
       "      <th>prods</th>\n",
       "      <th>ip</th>\n",
       "      <th>tech</th>\n",
       "      <th>spin</th>\n",
       "      <th>pubs</th>\n",
       "      <th>has_ai</th>\n",
       "      <th>has_chronic</th>\n",
       "      <th>has_age</th>\n",
       "      <th>has_inclusion</th>\n",
       "    </tr>\n",
       "  </thead>\n",
       "  <tbody>\n",
       "    <tr>\n",
       "      <th>409</th>\n",
       "      <td>01B6A723-34E3-4F13-9318-5257D1FC1D54</td>\n",
       "      <td>Non-invasive assessment and management of coro...</td>\n",
       "      <td>2018.0</td>\n",
       "      <td>The main aim is to improve and test software c...</td>\n",
       "      <td>Active</td>\n",
       "      <td>Fellowship</td>\n",
       "      <td>MRC</td>\n",
       "      <td>284559.0</td>\n",
       "      <td>0.000366</td>\n",
       "      <td>1.280349e-07</td>\n",
       "      <td>...</td>\n",
       "      <td>1.989821e-08</td>\n",
       "      <td>0.0</td>\n",
       "      <td>0.0</td>\n",
       "      <td>0.0</td>\n",
       "      <td>0.0</td>\n",
       "      <td>0.0</td>\n",
       "      <td>1</td>\n",
       "      <td>1</td>\n",
       "      <td>0</td>\n",
       "      <td>0</td>\n",
       "    </tr>\n",
       "    <tr>\n",
       "      <th>545</th>\n",
       "      <td>0248EE56-D9BA-4D29-A438-BA2BD05A3168</td>\n",
       "      <td>Micromechanical measurements in living embryos</td>\n",
       "      <td>2013.0</td>\n",
       "      <td>The embryo is a complex system wherein local t...</td>\n",
       "      <td>Closed</td>\n",
       "      <td>Research Grant</td>\n",
       "      <td>BBSRC</td>\n",
       "      <td>585065.0</td>\n",
       "      <td>0.469256</td>\n",
       "      <td>2.409735e-09</td>\n",
       "      <td>...</td>\n",
       "      <td>3.811508e-07</td>\n",
       "      <td>0.0</td>\n",
       "      <td>0.0</td>\n",
       "      <td>2.0</td>\n",
       "      <td>0.0</td>\n",
       "      <td>4.0</td>\n",
       "      <td>1</td>\n",
       "      <td>1</td>\n",
       "      <td>0</td>\n",
       "      <td>0</td>\n",
       "    </tr>\n",
       "    <tr>\n",
       "      <th>619</th>\n",
       "      <td>0283F735-409F-49A2-9DEB-2DCF4E8884D5</td>\n",
       "      <td>VIRTUAL REALITY ASSESSMENT AND REHABILITATION ...</td>\n",
       "      <td>2017.0</td>\n",
       "      <td>The proposed PhD project will use innovative, ...</td>\n",
       "      <td>Active</td>\n",
       "      <td>Studentship</td>\n",
       "      <td>EPSRC</td>\n",
       "      <td>0.0</td>\n",
       "      <td>0.000403</td>\n",
       "      <td>5.355883e-06</td>\n",
       "      <td>...</td>\n",
       "      <td>9.159070e-04</td>\n",
       "      <td>0.0</td>\n",
       "      <td>0.0</td>\n",
       "      <td>0.0</td>\n",
       "      <td>0.0</td>\n",
       "      <td>0.0</td>\n",
       "      <td>1</td>\n",
       "      <td>1</td>\n",
       "      <td>0</td>\n",
       "      <td>0</td>\n",
       "    </tr>\n",
       "    <tr>\n",
       "      <th>2586</th>\n",
       "      <td>0A62A025-8483-4E00-B724-7286B6DF772E</td>\n",
       "      <td>A Universal PAN Architecture for Monitoring Mu...</td>\n",
       "      <td>2008.0</td>\n",
       "      <td>People living with chronic medical conditions ...</td>\n",
       "      <td>Closed</td>\n",
       "      <td>Research Grant</td>\n",
       "      <td>EPSRC</td>\n",
       "      <td>179286.0</td>\n",
       "      <td>0.000147</td>\n",
       "      <td>3.143689e-04</td>\n",
       "      <td>...</td>\n",
       "      <td>3.501907e-02</td>\n",
       "      <td>0.0</td>\n",
       "      <td>0.0</td>\n",
       "      <td>0.0</td>\n",
       "      <td>0.0</td>\n",
       "      <td>0.0</td>\n",
       "      <td>1</td>\n",
       "      <td>1</td>\n",
       "      <td>0</td>\n",
       "      <td>0</td>\n",
       "    </tr>\n",
       "    <tr>\n",
       "      <th>3097</th>\n",
       "      <td>0C7B23FD-07CE-420B-B9FE-7C0860B83199</td>\n",
       "      <td>Learning MRI and histology image mappings for ...</td>\n",
       "      <td>2017.0</td>\n",
       "      <td>This project aims to exploit recent advances i...</td>\n",
       "      <td>Active</td>\n",
       "      <td>Research Grant</td>\n",
       "      <td>EPSRC</td>\n",
       "      <td>774254.0</td>\n",
       "      <td>0.000120</td>\n",
       "      <td>1.584342e-05</td>\n",
       "      <td>...</td>\n",
       "      <td>8.204334e-06</td>\n",
       "      <td>0.0</td>\n",
       "      <td>0.0</td>\n",
       "      <td>0.0</td>\n",
       "      <td>0.0</td>\n",
       "      <td>0.0</td>\n",
       "      <td>2</td>\n",
       "      <td>1</td>\n",
       "      <td>0</td>\n",
       "      <td>0</td>\n",
       "    </tr>\n",
       "  </tbody>\n",
       "</table>\n",
       "<p>5 rows × 25 columns</p>\n",
       "</div>"
      ],
      "text/plain": [
       "                                     index  \\\n",
       "409   01B6A723-34E3-4F13-9318-5257D1FC1D54   \n",
       "545   0248EE56-D9BA-4D29-A438-BA2BD05A3168   \n",
       "619   0283F735-409F-49A2-9DEB-2DCF4E8884D5   \n",
       "2586  0A62A025-8483-4E00-B724-7286B6DF772E   \n",
       "3097  0C7B23FD-07CE-420B-B9FE-7C0860B83199   \n",
       "\n",
       "                                                  title    year  \\\n",
       "409   Non-invasive assessment and management of coro...  2018.0   \n",
       "545      Micromechanical measurements in living embryos  2013.0   \n",
       "619   VIRTUAL REALITY ASSESSMENT AND REHABILITATION ...  2017.0   \n",
       "2586  A Universal PAN Architecture for Monitoring Mu...  2008.0   \n",
       "3097  Learning MRI and histology image mappings for ...  2017.0   \n",
       "\n",
       "                                               abstract  status  \\\n",
       "409   The main aim is to improve and test software c...  Active   \n",
       "545   The embryo is a complex system wherein local t...  Closed   \n",
       "619   The proposed PhD project will use innovative, ...  Active   \n",
       "2586  People living with chronic medical conditions ...  Closed   \n",
       "3097  This project aims to exploit recent advances i...  Active   \n",
       "\n",
       "      grant_category funder    amount  biological_sciences       physics  \\\n",
       "409       Fellowship    MRC  284559.0             0.000366  1.280349e-07   \n",
       "545   Research Grant  BBSRC  585065.0             0.469256  2.409735e-09   \n",
       "619      Studentship  EPSRC       0.0             0.000403  5.355883e-06   \n",
       "2586  Research Grant  EPSRC  179286.0             0.000147  3.143689e-04   \n",
       "3097  Research Grant  EPSRC  774254.0             0.000120  1.584342e-05   \n",
       "\n",
       "          ...        arts_humanities  prods   ip  tech  spin  pubs  has_ai  \\\n",
       "409       ...           1.989821e-08    0.0  0.0   0.0   0.0   0.0       1   \n",
       "545       ...           3.811508e-07    0.0  0.0   2.0   0.0   4.0       1   \n",
       "619       ...           9.159070e-04    0.0  0.0   0.0   0.0   0.0       1   \n",
       "2586      ...           3.501907e-02    0.0  0.0   0.0   0.0   0.0       1   \n",
       "3097      ...           8.204334e-06    0.0  0.0   0.0   0.0   0.0       2   \n",
       "\n",
       "      has_chronic  has_age  has_inclusion  \n",
       "409             1        0              0  \n",
       "545             1        0              0  \n",
       "619             1        0              0  \n",
       "2586            1        0              0  \n",
       "3097            1        0              0  \n",
       "\n",
       "[5 rows x 25 columns]"
      ]
     },
     "execution_count": 289,
     "metadata": {},
     "output_type": "execute_result"
    }
   ],
   "source": [
    "projects.loc[(projects['has_ai']>0) & (projects['has_chronic']>0)].head()"
   ]
  },
  {
   "cell_type": "markdown",
   "metadata": {},
   "source": [
    "Looks like the beginning of an approach"
   ]
  },
  {
   "cell_type": "markdown",
   "metadata": {},
   "source": [
    "## Mission field analysis\n",
    "\n",
    "### Descriptive statistics\n",
    "\n",
    "#### Mission field basics\n",
    "\n",
    "A mission field represents the combination of keywords (subjects/verbs/objects) that comprise a mission. \n",
    "\n",
    "For example, the potential mission field $MF_p$ for `using AI (AI) to prevent, diagnose and treat chronic diseases (C)` is formed by $AI \\cup C$. \n",
    "\n",
    "This captures the total of technological activity $AI$ that could be devoted to adressing the challenge $C$.\n",
    "\n",
    "The active mission field $MF_a$ is $AI \\cap C$, capturing the actual number of projects that combine the activities.\n",
    "\n",
    "Some hypotheses:\n",
    "\n",
    "* $\\frac{MF_a}{MF_p} < \\frac{A}{Total}$\n",
    "* $\\frac{MF_a}{MF_p} < \\frac{C}{Total}$\n",
    "\n",
    "This means that the challenge is underrepresented among the applications of the technology, and that the technology is underrepresented among the attempted solutions to the challenge.\n",
    "\n",
    "Note that the above is sort of assuming that the solution field and the challenge field are far apart in the knowledge space. We could test this if we mapped that, but it would require us to classify all projects into their topics. We can sort of proxy this for now by analyzing the organizational network in the three domains. "
   ]
  },
  {
   "cell_type": "code",
   "execution_count": 290,
   "metadata": {},
   "outputs": [
    {
     "name": "stdout",
     "output_type": "stream",
     "text": [
      "4797 56 2316 2537\n"
     ]
    }
   ],
   "source": [
    "#What's the size of the potential and effective mission field?\n",
    "\n",
    "#This means potential mission field dataframe\n",
    "pmf_df = projects.loc[(projects.has_ai==True)|(projects.has_chronic==True),:]\n",
    "\n",
    "#Active mission field\n",
    "amf_df = projects.loc[(projects.has_ai==True)&(projects.has_chronic==True),:]\n",
    "\n",
    "#Solution mission field\n",
    "smf_df = projects.loc[(projects.has_ai==True),:]\n",
    "\n",
    "#Challenge mission field\n",
    "cmf_df = projects.loc[(projects.has_chronic==True),:]\n",
    "\n",
    "print(len(pmf_df), len(amf_df), len(smf_df),len(cmf_df))\n"
   ]
  },
  {
   "cell_type": "code",
   "execution_count": 291,
   "metadata": {},
   "outputs": [
    {
     "name": "stdout",
     "output_type": "stream",
     "text": [
      "The main aim is to improve and test software capable of determining the patients fractional flow reserve, which gives an estimation of the severity of a vessel narrowing in the coronary arteries (which can lead to heart attacks). The software will be developed with a user-friendly interface, potentially allowing clinicians to use the software without specialist training in computational fluid dynamics. A data set of approximately 500 patients will also be collected, in collaboration with Derriford hospital, Plymouth.\n",
      "Treatment of cardiovascular disease CVD costs the UK healthcare system around &pound;9 billion per year, with a further &pound;19 billion per years estimated in economic costs (from statistics of the British heart foundation). Coronary heart disease (CHD) is the largest subset of cardiovascular disease, and is responsible for approximately 70,000 deaths per year in the UK alone. Heart attacks are responsible for the majority of CHD related deaths; which occurs when areas o\n",
      "\n",
      "\n",
      "The embryo is a complex system wherein local tissue displacement and deformation is the result of local and distant force-generating mechanisms coupled through the largely-unknown mechanical properties of the composite tissues. One particular case in point is that of neurulation, the process by which the early sheet of cells, called the neural ectoderm, folds itself into the three dimensional structure that is the framework upon which the vertebrate central nervous system grows. At its simplest, such as neurulation in the spinal cord, the process involves the folding of a sheet roughly into a cylinder but even that is poorly understood. Neurulation in the brain is far more complex but essential for us to understand; errors in its morphogenesis are the root cause of debilitating and fatal birth defects. Thanks to novel imaging and image processing technologies, we have made great strides in developing methods to capture the movements of cells and tissues. Three-dimensional time-lapse im\n",
      "\n",
      "\n",
      "The proposed PhD project will use innovative, multi-sensory technologies to develop novel assessment and rehabilitation tools relying on effective human-computer interaction. \n",
      "Visual Vertigo is a heterogeneous condition where certain visual environments trigger debilitating episodes of dizziness and nausea. Environments characterised by repetitive, high-contrast patterns (e.g. supermarkets), are commonly reported triggers but the reason for this is unknown. Current rehabilitation tools for Visual Vertigo are not always effective and patients frequently continue to experience symptoms for months or years after onset. Therefore such patients constitute 30-50% of time allocation in vestibular rehabilitation clinics. Given an aging population and the current under-diagnosis of vestibular problems, this health burden will increase. Thus more effective tools for stratified diagnosis and rehabilitation are urgently needed.\n",
      "In collaboration with audiological clinicians at University Hospital W\n",
      "\n",
      "\n",
      "People living with chronic medical conditions need regular and personalised care. Mobile healthcare, synergies of mobile computing, medical sensor, and communications technologies, provides services for the patient's vital signs to be monitored outside the clinical environment.Bluetooth wireless communication technology has been widely used in healthcare sector as cable replacement. ZigBee, an emerging ultra-low power wireless technology, has the potential to monitor multiple vital signs and environmental parameters. Bluetooth and ZigBee are envisioned as two important wireless technologies in patient monitoring. Some research projects have demonstrated the application of these two technologies in healthcare.However, until now Bluetooth and ZigBee devices can't interoperate in Bluetooth and ZigBee networks. It's expected a universal system which can accommodate these two wireless technologies is highly desirable.This project will research such a system architecture which can support Bl\n",
      "\n",
      "\n",
      "In the UK, mental ill health is the biggest cause of disability and the leading reason why people take time off work when they are unwell. People with mental disorders (such as schizophrenia, bipolar disorder and major depressive disorder) die on average 15-20 years earlier than those without, often from preventable causes such as suicide and cardiovascular disease. We now have increasing amounts of 'big data' that can help us understand why people develop mental disorders and why those with poor mental health also experience more physical illnesses such as diabetes, heart disease, cancer and stroke. \n",
      "\n",
      "Big data are defined by volume, variety and velocity. Volume refers to the quantity of data, variety refers to the numerous types of data and velocity refers to the speed of data processing. We now have the ability to combine large amounts of data that are routinely collected by the NHS and other novel studies such as the UK Biobank and Generation Scotland cohorts. By integrating a range\n",
      "\n",
      "\n"
     ]
    }
   ],
   "source": [
    "for x in amf_df.abstract[:5]:\n",
    "    print(x[:1000])\n",
    "    print('\\n')"
   ]
  },
  {
   "cell_type": "code",
   "execution_count": 292,
   "metadata": {},
   "outputs": [
    {
     "data": {
      "text/plain": [
       "<matplotlib.axes._subplots.AxesSubplot at 0x10f2aa630>"
      ]
     },
     "execution_count": 292,
     "metadata": {},
     "output_type": "execute_result"
    },
    {
     "data": {
      "image/png": "[encoded data removed]",
      "text/plain": [
       "<Figure size 432x288 with 1 Axes>"
      ]
     },
     "metadata": {},
     "output_type": "display_data"
    }
   ],
   "source": [
    "# Are our hypothesis above correct?\n",
    "\n",
    "comp= pd.Series([100*len(amf_df)/len(cmf_df),100*len(smf_df)/len(projects),\n",
    "                 100*len(amf_df)/len(cmf_df),100*len(cmf_df)/len(projects)],\n",
    "               index=['Solution as share of challenge','Solution as share of total',\n",
    "                     'Challenge as share of solution','Challenge as share of total'])\n",
    "comp.plot.bar(color=['blue','red','blue','red'],title='Representation of mission / challenge compared to total')\n"
   ]
  },
  {
   "cell_type": "markdown",
   "metadata": {},
   "source": [
    "The solution seems underrepresented in the challenge compared to the total of projects\n",
    "\n",
    "The challenge seems underrepresented in the solution compared to the total of projects"
   ]
  },
  {
   "cell_type": "markdown",
   "metadata": {},
   "source": [
    "#### Trends\n",
    "\n",
    "We assume growth in the effective mission field but potentially slower than either of its components (there is some sort of barrier preventing the application of the solution to the challenge).\n",
    "\n",
    "$\\frac{\\delta MF_a}{\\delta t} < \\frac{\\delta A}{\\delta t}$\n",
    "\n",
    "$\\frac{\\delta MF_a}{\\delta t} < \\frac{\\delta C}{\\delta t}$"
   ]
  },
  {
   "cell_type": "code",
   "execution_count": 293,
   "metadata": {},
   "outputs": [
    {
     "data": {
      "text/plain": [
       "<matplotlib.axes._subplots.AxesSubplot at 0x10f556978>"
      ]
     },
     "execution_count": 293,
     "metadata": {},
     "output_type": "execute_result"
    },
    {
     "data": {
      "image/png": "[encoded data removed]",
      "text/plain": [
       "<Figure size 432x288 with 1 Axes>"
      ]
     },
     "metadata": {},
     "output_type": "display_data"
    }
   ],
   "source": [
    "trends = pd.concat([df.year.value_counts(normalize=1) for df in [amf_df,smf_df,cmf_df]],axis=1)\n",
    "\n",
    "trends.columns =['active mission_field','all_ai','all_chronic']\n",
    "trends = trends.loc[(trends.index>2006) & (trends.index<2019)]\n",
    "\n",
    "trends.rolling(window=2).mean().plot(title='Research trends in active mission field versus components \\n (2-year rolling average)')"
   ]
  },
  {
   "cell_type": "markdown",
   "metadata": {},
   "source": [
    "Recent period is relatively more important for AI and the active mission field. This suggests a diffusion of AI into the treatment of chronic diseases."
   ]
  },
  {
   "cell_type": "code",
   "execution_count": 294,
   "metadata": {},
   "outputs": [
    {
     "data": {
      "text/plain": [
       "<matplotlib.axes._subplots.AxesSubplot at 0x10ee34a58>"
      ]
     },
     "execution_count": 294,
     "metadata": {},
     "output_type": "execute_result"
    },
    {
     "data": {
      "image/png": "[encoded data removed]",
      "text/plain": [
       "<Figure size 432x288 with 1 Axes>"
      ]
     },
     "metadata": {},
     "output_type": "display_data"
    }
   ],
   "source": [
    "trends_as_share = pd.concat([df.year.value_counts() for df in [amf_df,smf_df,cmf_df]],axis=1)\n",
    "\n",
    "trends_as_share.columns = ['mission','solution','challenge']\n",
    "\n",
    "trends_as_share['mission_field_solution_share'],trends_as_share['mission_field_challenge_share'] = [\n",
    "    trends_as_share['mission']/trends_as_share[x] for x in ['solution','challenge']]\n",
    "\n",
    "(100*trends_as_share.loc[(trends_as_share.index>2006) & (trends_as_share.index<2019),\n",
    "                   ['mission_field_solution_share','mission_field_challenge_share']]).rolling(window=2).mean().plot()\n"
   ]
  },
  {
   "cell_type": "markdown",
   "metadata": {},
   "source": [
    "This one picks up the mission active field as a share of solution and challenge"
   ]
  },
  {
   "cell_type": "code",
   "execution_count": 295,
   "metadata": {},
   "outputs": [
    {
     "data": {
      "text/plain": [
       "<matplotlib.axes._subplots.AxesSubplot at 0x10f694358>"
      ]
     },
     "execution_count": 295,
     "metadata": {},
     "output_type": "execute_result"
    },
    {
     "data": {
      "image/png": "[encoded data removed]",
      "text/plain": [
       "<Figure size 432x288 with 1 Axes>"
      ]
     },
     "metadata": {},
     "output_type": "display_data"
    }
   ],
   "source": [
    "funding_trends = pd.concat([df.groupby('year')['amount'].sum() for df in [amf_df,smf_df,cmf_df]],axis=1)\n",
    "\n",
    "funding_shares = funding_trends.apply(lambda x: x/x.sum(),axis=0)\n",
    "funding_shares = funding_shares.loc[(funding_shares.index>2006) & (funding_shares.index<2018)]\n",
    "\n",
    "funding_shares.columns = ['active_mission_field','all_ai','all_chronic']\n",
    "\n",
    "funding_shares.rolling(window=2).mean().plot()"
   ]
  },
  {
   "cell_type": "markdown",
   "metadata": {},
   "source": [
    "! What happened after 2015?"
   ]
  },
  {
   "cell_type": "code",
   "execution_count": 296,
   "metadata": {},
   "outputs": [
    {
     "name": "stdout",
     "output_type": "stream",
     "text": [
      "The global economy is undergoing a data-driven revolution. Exponential growth in the volume of personal and professional data is raising huge new opportunities and challenges for organisations and individuals. Properly processed and analysed, data can lead to radical innovations, enabling significant value creation. Worldwide revenues for big data analytics are estimated to grow from nearly $122bn in 2015 to more than $187bn in 2019, an increase of more than 50% over the period.\n",
      "\n",
      "However, whilst the enormous potential for data innovation to increase productivity across all organisations is widely recognised, many organisations will not benefit due to an acute skills shortage. PwC's 2015 Annual CEO Survey found that 80% of UK CEOs see data analytics as a key strand of their strategy and a source of competitive advantage, 73% believe that availability of key skills is a major threat. Subsequently, various Government funded reports have supported this conclusion, recognising that the digi\n",
      "=====\n",
      "=====\n",
      "Hybrid autonomous systems are those where groups of people are in direct, ongoing interaction with groups of autonomous robots or autonomous software. \n",
      "\n",
      "One prominent current example involves rush-hour traffic made up of a mixture of cars driven by people and cars driven by smart algorithms. However, emerging technologies in robotics, AI and ICT mean that hybrid autonomous systems of this kind will become increasingly common in a much wider set of situations: \n",
      "\n",
      "Emerging technologies in robotics, AI and ICT mean that hybrid autonomous systems of this kind will become increasingly common in a much wider set of situations: \n",
      "\n",
      " - a mixture of autonomous and human-operated drones making deliveries or monitoring public spaces; \n",
      " - a mixture of human traders and autonomous trading agents buying and selling stocks; \n",
      " - a mixture of autonomous and human-operated trains and trams providing efficient, integrated public transport; \n",
      " - autonomous systems assisting with search and rescue missions in \n",
      "=====\n",
      "=====\n",
      "Cognitive impairment is the hallmark of dementia. Cognitive problems, such as difficulties with memory, language and reasoning, are the most obvious, frustrating and debilitating aspects of most neurodegenerative diseases. As a result, assessment of a person's cognition is a vital component of both diagnostic services and research investigations, and is the most common outcome measure by which the effectiveness of potential pharmaceutical and non-pharmaceutical therapies is judged. However, many traditional paper-and-pencil cognitive assessments have a number of limitations, including the lack of independence across tests, the qualitative nature of cognitive profiling, the influence of practice effects, a failure to capture some critical aspects of performance, a limited dynamic range, the complexity of some test instructions, and their inability to adequately assess some domains of cognition. Whilst sophisticated computational techniques are now used routinely to analyze neuroimaging \n",
      "=====\n",
      "=====\n",
      "The relentless growth of the amount, variety, availability, and the rate of change of data has profoundly transformed essentially all aspects of human life. The Big Data revolution has created a paradox: While we create and collect more data than ever before, it is not always easy to unlock the information it contains. To turn the easy availability of data into a major scientific and economic advantage, it is imperative that we create analytic tools that would be equal to the challenge presented by the complexity of modern data.\n",
      "In recent years, breakthroughs in topological data analysis and machine learning have paved the way for significant progress towards creating efficient and reliable tools to extract information from data.\n",
      "\n",
      "Our proposal has been designed to address the scope of the call as follows.\n",
      "To 'convert the vast amounts of data produced into understandable, actionable information' we will create a powerful fusion of machine learning, statistics, and topological data analy\n",
      "=====\n",
      "=====\n",
      "In order to relieve pressure on an increasingly overstretched NHS, there is an ever-growing need to deliver more efficient, effective, patient-centric care in the community. New intelligent healthcare technologies have the potential to deliver this care relieve the pressure, in the form of simple-to-use digital technologies in people's home that support self-care and reduce the need for routine interventions from healthcare professionals.\n",
      "\n",
      "Therefore, the SCAMPI consortium will develop a new form of computerised toolkit that will allow someone living in their own home with a chronic condition, together with their relatives, carers and healthcare professionals, to self-manage both their care of the condition and life with it. People will interact with the new toolkit through a new form of intelligent visual care plan, called VIZ-CARE. Any care plan is a documented agreement between a patient and healthcare professionals about the patient's care goals and qualities to maintain or work tow\n",
      "=====\n",
      "=====\n"
     ]
    }
   ],
   "source": [
    "for a in amf_df.loc[amf_df.year>2014].sort_values('amount',ascending=False)['abstract'][:5]:\n",
    "    print(a[:1000])\n",
    "    \n",
    "    print('=====')\n",
    "    print('=====')\n",
    "    "
   ]
  },
  {
   "cell_type": "markdown",
   "metadata": {},
   "source": [
    "Several of the projects that we identify are quite broad and only set out to do chronic diseases among many other things. We need a better filter"
   ]
  },
  {
   "cell_type": "markdown",
   "metadata": {},
   "source": [
    "#### Funding\n",
    "\n",
    "The funder for the mission fied might be different from the funder for the constituent parts. I would expect the mission funder to be related (closer) to the challenge."
   ]
  },
  {
   "cell_type": "code",
   "execution_count": 297,
   "metadata": {},
   "outputs": [
    {
     "name": "stderr",
     "output_type": "stream",
     "text": [
      "/usr/local/lib/python3.7/site-packages/ipykernel_launcher.py:1: FutureWarning: Sorting because non-concatenation axis is not aligned. A future version\n",
      "of pandas will change to not sort by default.\n",
      "\n",
      "To accept the future behavior, pass 'sort=False'.\n",
      "\n",
      "To retain the current behavior and silence the warning, pass 'sort=True'.\n",
      "\n",
      "  \"\"\"Entry point for launching an IPython kernel.\n"
     ]
    },
    {
     "data": {
      "text/plain": [
       "<matplotlib.legend.Legend at 0x10f312d30>"
      ]
     },
     "execution_count": 297,
     "metadata": {},
     "output_type": "execute_result"
    },
    {
     "data": {
      "image/png": "[encoded data removed]",
      "text/plain": [
       "<Figure size 432x288 with 1 Axes>"
      ]
     },
     "metadata": {},
     "output_type": "display_data"
    }
   ],
   "source": [
    "funders = pd.concat([df['funder'].value_counts(normalize=1) for df in [amf_df,smf_df,cmf_df]],axis=1)\n",
    "\n",
    "funders.columns = ['mission','solution','challenge']\n",
    "\n",
    "fig,ax = plt.subplots()\n",
    "\n",
    "funders.T.plot.bar(stacked=True,ax=ax,title='Funder distribution by type')\n",
    "ax.legend(bbox_to_anchor=(1,1))"
   ]
  },
  {
   "cell_type": "code",
   "execution_count": 298,
   "metadata": {},
   "outputs": [
    {
     "data": {
      "text/plain": [
       "<matplotlib.axes._subplots.AxesSubplot at 0x10fa9d908>"
      ]
     },
     "execution_count": 298,
     "metadata": {},
     "output_type": "execute_result"
    },
    {
     "data": {
      "image/png": "[encoded data removed]",
      "text/plain": [
       "<Figure size 432x288 with 1 Axes>"
      ]
     },
     "metadata": {},
     "output_type": "display_data"
    }
   ],
   "source": [
    "pd.crosstab(amf_df['year'],amf_df['funder']).plot.bar(stacked=True,title='Funder activity in active mission field')"
   ]
  },
  {
   "cell_type": "markdown",
   "metadata": {},
   "source": [
    "#### Discipline mix\n",
    "\n",
    "The effective mission field will contain a higher level of discipline diversity than the constituent parts (although here we need to remember that the constituent parts might also be related to other missions we are not capturing)."
   ]
  },
  {
   "cell_type": "code",
   "execution_count": 299,
   "metadata": {},
   "outputs": [],
   "source": [
    "from scipy.stats import entropy\n",
    "\n",
    "discs = ['biological_sciences', 'physics', 'engineering_technology',\n",
    "       'medical_sciences', 'social_sciences', 'mathematics_computing',\n",
    "       'environmental_sciences', 'arts_humanities']\n",
    "\n"
   ]
  },
  {
   "cell_type": "code",
   "execution_count": 300,
   "metadata": {},
   "outputs": [
    {
     "data": {
      "text/plain": [
       "<matplotlib.legend.Legend at 0x10ffa0ef0>"
      ]
     },
     "execution_count": 300,
     "metadata": {},
     "output_type": "execute_result"
    },
    {
     "data": {
      "image/png": "[encoded data removed]",
      "text/plain": [
       "<Figure size 720x360 with 1 Axes>"
      ]
     },
     "metadata": {},
     "output_type": "display_data"
    }
   ],
   "source": [
    "amf_ent,sol_ent,chal_ent = [df[discs].apply(entropy,axis=1) for df in [amf_df,smf_df,cmf_df]]\n",
    "\n",
    "fig,ax = plt.subplots(figsize=(10,5))\n",
    "\n",
    "ax.hist(amf_ent,bins=20,color='blue',alpha=0.5,density=True)\n",
    "ax.hist(sol_ent,bins=20,color='red',alpha=0.5,density=True)\n",
    "ax.hist(chal_ent,bins=20,color='green',alpha=0.5,density=True)\n",
    "ax.legend(['mission_field','solution','challenge'])"
   ]
  },
  {
   "cell_type": "code",
   "execution_count": 301,
   "metadata": {},
   "outputs": [
    {
     "data": {
      "text/plain": [
       "<matplotlib.axes._subplots.AxesSubplot at 0x110178a58>"
      ]
     },
     "execution_count": 301,
     "metadata": {},
     "output_type": "execute_result"
    },
    {
     "data": {
      "image/png": "[encoded data removed]",
      "text/plain": [
       "<Figure size 432x288 with 1 Axes>"
      ]
     },
     "metadata": {},
     "output_type": "display_data"
    }
   ],
   "source": [
    "disc_distr = pd.concat([df[discs].applymap(lambda x: x>0.1).sum(axis=1).value_counts(normalize=True) \n",
    "                                  for df in [amf_df,smf_df,cmf_df]],axis=1).fillna(0)\n",
    "\n",
    "\n",
    "disc_distr.columns = ['mission','solution','challenge']\n",
    "\n",
    "disc_distr.T.plot.bar(title='Share of projects with n disciplines')"
   ]
  },
  {
   "cell_type": "markdown",
   "metadata": {},
   "source": [
    "It does seem that the mission field tends to combine projects with multiple disciplines"
   ]
  },
  {
   "cell_type": "markdown",
   "metadata": {},
   "source": [
    "### Impacts"
   ]
  },
  {
   "cell_type": "code",
   "execution_count": 302,
   "metadata": {},
   "outputs": [
    {
     "data": {
      "text/plain": [
       "<matplotlib.collections.LineCollection at 0x10f172518>"
      ]
     },
     "execution_count": 302,
     "metadata": {},
     "output_type": "execute_result"
    },
    {
     "data": {
      "image/png": "[encoded data removed]",
      "text/plain": [
       "<Figure size 432x288 with 1 Axes>"
      ]
     },
     "metadata": {},
     "output_type": "display_data"
    }
   ],
   "source": [
    "imps = ['prods', 'ip', 'tech', 'spin', 'pubs']\n",
    "\n",
    "\n",
    "imps_share = pd.concat([df[imps].mean() for df in [amf_df,smf_df,cmf_df]],axis=1)\n",
    "imps_share.columns = ['mission','solution','challenge']\n",
    "\n",
    "fig,ax = plt.subplots()\n",
    "\n",
    "(imps_share.T/imps_share.T.mean()).plot.bar(ax=ax,title='Outputs compared to the mean')\n",
    "\n",
    "ax.hlines(y=1,xmin=-1,xmax=3,linestyles=':')"
   ]
  },
  {
   "cell_type": "markdown",
   "metadata": {},
   "source": [
    "Mission projects tend to generate less technological outputs although this could be because they are on average younger"
   ]
  },
  {
   "cell_type": "code",
   "execution_count": 303,
   "metadata": {},
   "outputs": [
    {
     "data": {
      "text/plain": [
       "<matplotlib.collections.LineCollection at 0x110f644a8>"
      ]
     },
     "execution_count": 303,
     "metadata": {},
     "output_type": "execute_result"
    },
    {
     "data": {
      "image/png": "[encoded data removed]",
      "text/plain": [
       "<Figure size 432x288 with 1 Axes>"
      ]
     },
     "metadata": {},
     "output_type": "display_data"
    }
   ],
   "source": [
    "imps_share_y = pd.concat([df.loc[df.year>2012,imps].mean() for df in [amf_df,smf_df,cmf_df]],axis=1)\n",
    "imps_share_y.columns = ['mission','solution','challenge']\n",
    "\n",
    "fig,ax = plt.subplots()\n",
    "\n",
    "(imps_share_y.T/imps_share_y.T.mean()).plot.bar(ax=ax,title='Outputs compared to the mean (post 2012 projects)')\n",
    "\n",
    "ax.hlines(y=1,xmin=-1,xmax=3,linestyles=':')"
   ]
  },
  {
   "cell_type": "markdown",
   "metadata": {},
   "source": [
    "Somewhat interestingly, when we constrain the analysis to post-2012 projects, the mission field tends to generate more IP. I doubt the differences are significant though"
   ]
  },
  {
   "cell_type": "markdown",
   "metadata": {},
   "source": [
    "**One concern with all the above is that some of the projects we pick up are very generic. I also worry that we might be missing some relevant projects without the keywords**\n",
    "\n",
    "Maybe we could use doc2vec to find docs which are highly similar to some high chronic disease scoring projects?\n",
    "\n",
    "Let's see."
   ]
  },
  {
   "cell_type": "markdown",
   "metadata": {},
   "source": [
    "## Doc2Vec project expansion\n",
    "\n",
    "We train a doc2vec model that looks for projects which are semantically closed to those we identify as highly relevant for the challenge"
   ]
  },
  {
   "cell_type": "code",
   "execution_count": 307,
   "metadata": {},
   "outputs": [],
   "source": [
    "from gensim.models.doc2vec import Doc2Vec, TaggedDocument"
   ]
  },
  {
   "cell_type": "code",
   "execution_count": 317,
   "metadata": {},
   "outputs": [],
   "source": [
    "tagged_documents = [TaggedDocument(doc,[num]) for num,doc in enumerate(corpus_tokenised.tokenised)]"
   ]
  },
  {
   "cell_type": "code",
   "execution_count": 318,
   "metadata": {},
   "outputs": [],
   "source": [
    "d2v = Doc2Vec(tagged_documents)"
   ]
  },
  {
   "cell_type": "code",
   "execution_count": 340,
   "metadata": {},
   "outputs": [],
   "source": [
    "#Ok, now I want to find the most similar documents a list of projects with \n",
    "#more than 1 occurrence of chronic related words and more than one occurrence of chronic occurring words\n",
    "projects['has_ai_n'],projects['has_chronic_n'] = [querier(corpus_tokenised.tokenised,keys,\n",
    "                                                     intersect=False) for keys in [ai_expanded,chronic_expanded]]\n"
   ]
  },
  {
   "cell_type": "code",
   "execution_count": 457,
   "metadata": {},
   "outputs": [
    {
     "data": {
      "text/plain": [
       "[16341, 24993, 29266, 35236, 47396, 68873]"
      ]
     },
     "execution_count": 457,
     "metadata": {},
     "output_type": "execute_result"
    }
   ],
   "source": [
    "high_indices = list(projects.reset_index(drop=True).loc[(projects.has_ai_n>1) & (projects.has_chronic_n>1)].index)\n",
    "\n",
    "high_indices"
   ]
  },
  {
   "cell_type": "code",
   "execution_count": 468,
   "metadata": {},
   "outputs": [
    {
     "name": "stderr",
     "output_type": "stream",
     "text": [
      "/usr/local/lib/python3.7/site-packages/gensim/matutils.py:737: FutureWarning: Conversion of the second argument of issubdtype from `int` to `np.signedinteger` is deprecated. In future, it will be treated as `np.int64 == np.dtype(int).type`.\n",
      "  if np.issubdtype(vec.dtype, np.int):\n"
     ]
    }
   ],
   "source": [
    "#This extracts those projects that are semantically closer to the initial list. \n",
    "\n",
    "close_docs = []\n",
    "\n",
    "for ind in high_indices:\n",
    "    sims = d2v.docvecs.most_similar([d2v.infer_vector(tagged_documents[ind].words)],topn=20)\n",
    "    \n",
    "    #Here we remove those projects that were already identified as high indices\n",
    "    close_docs.append([s[0] for s in sims if (s[0] not in high_indices) & (s[1]>0.6)])\n"
   ]
  },
  {
   "cell_type": "code",
   "execution_count": 469,
   "metadata": {},
   "outputs": [
    {
     "name": "stdout",
     "output_type": "stream",
     "text": [
      "Skin Reflectance and Face Shape Estimation Using Photometric Stereo\n",
      "PrivInfer - Programming Languages for Differential Privacy: Conditioning and Inference\n",
      "Wearable neuroimaging technologies for the neonatal intensive care unit: mapping sensorimotor disruption in infants at risk of cerebral palsy.\n",
      "Projective Limit Techniques and Representation Theorems in Bayesian Nonparametrics\n",
      "Investigating newborn brain function and behaviour associated with prematurity and brain injury\n",
      "An investigation into the use of shrinkage methods to alleviate over-fitting of prognostic models for independent and clustered data with few events\n",
      "Multidimensional and Multiparametric Quantitative Cardiac MRI from Continuous Free-Breathing Acquisition\n",
      "Intelligent search assistance\n",
      "EnAKTing the Unbounded Data Web: Challenges in Web Science\n",
      "Argudas - argumentation-based data sharing across gene expression databases\n",
      "SAMS - Software Architecture for Mental health Self management\n",
      "An EPSRC National Research Facility to facilitate Data Science in the Physical Sciences: The Physical Sciences Data science Service (PSDS)\n",
      "Information geometry for Bayesian hierarchical models\n",
      "Developing probabilistic frameworks for the detailed analysis of insect visual navigation behaviours\n",
      "Automated Analysis of Cartilage Thickness and Tissue Quality from MRI\n",
      "Unified probabilistic latent variable modelling strategies to accelerate endotype discovery in longitudinal studies\n",
      "Artificial Intelligence in Medical Treatment Decisions and Diagnosis\n",
      "Practical Data-intensive Secure Computation: a Data Structural Approach\n",
      "Addressing non-response in health survey data to refine alcohol consumption estimates in Scotland\n",
      "Information geometry of graphs\n",
      "Brain Machine Interfaces based on Subcortical LFP Signals for Neuroprosthetic Control and Neurofeedback Therapy\n",
      "Making data FAIR using InterMine\n",
      "Developing statistical methodology in longitudinal modelling of biomarkers\n",
      "Identifying molecular drivers and early diagnostic biomarkers in breast cancer leptomeningeal metastasis by the interrogation of cerebrospinal fluid\n",
      "Can observational data be used to determine drug effectiveness?\n",
      "The UPBEAT RCT mother-child study. Stratifying and treating obese pregnant women to prevent adverse pregnancy, perinatal and longer term outcomes.\n",
      "UNITED KINGDOM CHILDHOOD ACUTE LYMPHOBLASTIC LEUKAEMIA RANDOMISED TRIAL 2003 (MRC UKALL 2003)\n",
      "Linking electronic health records with passive smartphone activity data to predict outcomes in psychotic disorders\n",
      "Developing targeted therapeutics for keratinizing skin disorders\n",
      "Personalized Exploration of Imagery Database\n",
      "Parikh Matrices - Complexity and Applications\n",
      "Signal Processing for Ultrasound Diagnosis of Cardiac Output\n",
      "Early identification of Alzheimer's disease: dynamic biomarkers for enrichment of trials\n",
      "Using linked electronic health records to identify patients at high risk of severe liver disease and its complications\n",
      "Multistate clinical prediction models in renal replacement therapy\n",
      "Development and Assessment of a Genetic and Environmental Risk Model for Colorectal Cancer\n",
      "BCI-Me: Using Brain Computer Interfaces and Bio-feedback to Track and Provide Interventions for Anxiety\n",
      "MICA: Optogenetic dissection of homeostatic and Hebbian components of cortical plasticity\n",
      "Identification and modelling of tactile channels mediating the perception of supra-threshold vibration at the hand\n",
      "Analysis of Longitudinal Data with Varying Numbers of Measurements\n",
      "Applications of probabilistic machine learning to medical biostatistics\n",
      "Understanding age-related changes in processing facial emotion\n",
      "Balancing resource and energy usage for optimal performance in a neural system\n",
      "NIRG: Taming the skew - empowering Mendelian randomization trials by controlling stratification bias\n",
      "Building a robust Data Science toolset via Computational Rough Paths: Localised Regression based on the Signature Method\n",
      "Novelty detection algorithms for behavioural analysis in healthcare\n",
      "Optimal feedback control of a neuromotor interface\n",
      "Personalized Exploration of Imagery Database\n",
      "MRC APBI STratification and Extreme Response Mechanism IN Diabetes - MASTERMIND\n",
      "Treating amblyopia by digestion of the extracellular matrix and stimulation of axonal growth in the visual cortex\n",
      "Understanding the role of the Glycine Cleavage System in Neural Tube Defects\n",
      "Smart Mobility (resubmission)\n",
      "SESAME: Sensing for Sport and Managed Exercise\n",
      "Behavioural and biological predictors of flow parsing performance across the adult lifespan\n",
      "iTract: Islands of Tractability in Ontology-Based Data Access\n",
      "Efficient Querying of Inconsistent Data\n",
      "Using perceptual learning to understand and influence face recognition\n",
      "Quantitative methods for the assessment of systematic error in observational studies: improving causal research\n",
      "MICA: Minimising Mortality from Alcoholic Hepatitis\n",
      "Enhancing cognition and memory via mobile brain stimulation\n",
      "Piezoelectric Nano-Fibre Based Acoustic Sensors for Artificial Cochlea\n",
      "EAR: Eye-based Activity Recognition\n",
      "Effects of antipsychotics: linking brain structural imaging changes to cellular alterations and evaluating mitigation st\n",
      "Gene therapy for CLN5 Batten disease\n",
      "A new noradrenergic strategy to treat Impulsivity in Progressive Supranuclear Palsy\n",
      "Score!: Scalable and Complete Reasoning with Incomplete Ontology Reasoners\n",
      "Real-time Intelligent Map-matching Algorithms for Advanced Transport Telematics Systems (RiMATTS)\n",
      "Next Generation Prenatal Screening - Improving Detection, Diagnosis and Treatment of Genetic Disease\n",
      "Development and application of statistical methods for addressing the heterogeneity of data collection intervals common in longitudinal datasets\n",
      "Optimal screening and surveillance regimes for early diagnosis of cancer and precision medicine using mathematical modelling\n",
      "Characterising the D-Galactosamine Rat Model of Hepatorenal Syndrome\n",
      "Advanced Bayesian Computation for Cross-Disciplinary Research\n",
      "Data integration for large scale ecological models\n",
      "Markov Chain Monte Carlo Random Effects Modelling in Diffusion MRI: a New Window on Microstructure and White Matter Architecture\n",
      "Testing view-based and 3D models of human navigation and spatial perception\n",
      "Computer aided diagnosis of neurological damage to improve care for infants born prematurely\n",
      "Balancing resource and energy usage for optimal performance in a neural system\n",
      "Clinical, genetic and immune determinants of drug immunogenicity in psoriasis\n",
      "Robust Component Analysis for Facial Analysis and Recognition in the Wild\n",
      "The Impact of &quot;Offset-Deafness&quot; on Perception and Cortical Processing of Speech Sounds in Noise\n",
      "Developmental Dyslexia: An Educational Neuroscience Approach\n",
      "Brain-Computer Interface for Monitoring and Inducing Affective States\n",
      "Improving diagnosis and treatment for the quantified patient\n",
      "Brain Mechanisms underlying Performance in ITD Processing: Biophysics to Behaviour\n",
      "Methods for joint modelling of multiple longitudinal and survival outcomes\n",
      "MICA: HD-CSF: Studying cerebrospinal fluid to understand key CNS pathobiological targets in Huntington's disease\n",
      "Methods for the Indirect estimation of health state utilities\n",
      "Leeds Beckett University and Citu(One) Limited\n",
      "Surface electromyography for brain-machine interface applications\n",
      "Vitamin D and health: genome-wide analysis and insights from Mendelian randomisation.\n",
      "Identifying patient-specific brain dynamics markers in Post-Traumatic Stress Disorder and Cognitive Treatment Response.\n",
      "A machine learning approach to understanding comorbidity between mental and physical health conditions\n",
      "Adaptive Models of Human Motion\n",
      "Patient-Specific Simulation of the Heart Organ for Diagnosis\n",
      "Addressing non-response in health survey data to refine alcohol consumption estimates in Scotland\n",
      "Machine Learning of Genetic, Clinical and Environmental Data for Early Morbidity Detection in the UK Biobank.\n",
      "Variational Approximation Approaches for Efficient Clinical Predictions\n",
      "Sequential Monte Carlo in Random Environments\n"
     ]
    }
   ],
   "source": [
    "sims = set(flatten_list(close_docs))\n",
    "\n",
    "for t in projects.iloc[list(sims)]['title']:\n",
    "    print(t)"
   ]
  },
  {
   "cell_type": "markdown",
   "metadata": {},
   "source": [
    "Some of them look quite relevant. Others, not so much. "
   ]
  },
  {
   "cell_type": "markdown",
   "metadata": {},
   "source": [
    "### Next steps (Friday)\n",
    "\n",
    "* Produce a better query system: a better seed list would help.\n",
    "* Package the descriptive stat generator into a function or class. This should be generic enough to accept dfs from other sources (eg H2020 and OpenAIRE).\n",
    "* Reimplement and test the above. Check how many of the new projects were already captured by the two broader categories\n",
    "* Organisation visualisation\n",
    "\n",
    "### Other combinations\n",
    "* Integrate with TRL analysis\n",
    "* Integrate with SDG analysis\n",
    "* Check social media discussion around papers\n"
   ]
  },
  {
   "cell_type": "markdown",
   "metadata": {},
   "source": [
    "### Ageing and inclusion/inequality (crude keyword search-based)"
   ]
  },
  {
   "cell_type": "code",
   "execution_count": 243,
   "metadata": {},
   "outputs": [
    {
     "name": "stderr",
     "output_type": "stream",
     "text": [
      "/usr/local/lib/python3.7/site-packages/ipykernel_launcher.py:8: DeprecationWarning: Call to deprecated `most_similar` (Method will be removed in 4.0.0, use self.wv.most_similar() instead).\n",
      "  \n",
      "/usr/local/lib/python3.7/site-packages/gensim/matutils.py:737: FutureWarning: Conversion of the second argument of issubdtype from `int` to `np.signedinteger` is deprecated. In future, it will be treated as `np.int64 == np.dtype(int).type`.\n",
      "  if np.issubdtype(vec.dtype, np.int):\n"
     ]
    }
   ],
   "source": [
    "age_expanded = synonym_chaser(seed_list=['ageing','aging'],model=w2v,similarity=0.8)\n",
    "inclusion_expanded = synonym_chaser(seed_list=['inclusion','inclusiveness','inclusive','inequality'],model=w2v,similarity=0.8)"
   ]
  },
  {
   "cell_type": "code",
   "execution_count": 244,
   "metadata": {},
   "outputs": [],
   "source": [
    "projects['has_age'],projects['has_inclusion'] = [querier(corpus_tokenised.tokenised,keys) for keys in [age_expanded,inclusion_expanded]]"
   ]
  },
  {
   "cell_type": "code",
   "execution_count": 245,
   "metadata": {},
   "outputs": [
    {
     "data": {
      "text/html": [
       "<div>\n",
       "<style scoped>\n",
       "    .dataframe tbody tr th:only-of-type {\n",
       "        vertical-align: middle;\n",
       "    }\n",
       "\n",
       "    .dataframe tbody tr th {\n",
       "        vertical-align: top;\n",
       "    }\n",
       "\n",
       "    .dataframe thead th {\n",
       "        text-align: right;\n",
       "    }\n",
       "</style>\n",
       "<table border=\"1\" class=\"dataframe\">\n",
       "  <thead>\n",
       "    <tr style=\"text-align: right;\">\n",
       "      <th>has_inclusion</th>\n",
       "      <th>False</th>\n",
       "      <th>True</th>\n",
       "    </tr>\n",
       "    <tr>\n",
       "      <th>has_age</th>\n",
       "      <th></th>\n",
       "      <th></th>\n",
       "    </tr>\n",
       "  </thead>\n",
       "  <tbody>\n",
       "    <tr>\n",
       "      <th>False</th>\n",
       "      <td>68628</td>\n",
       "      <td>1727</td>\n",
       "    </tr>\n",
       "    <tr>\n",
       "      <th>True</th>\n",
       "      <td>1964</td>\n",
       "      <td>37</td>\n",
       "    </tr>\n",
       "  </tbody>\n",
       "</table>\n",
       "</div>"
      ],
      "text/plain": [
       "has_inclusion  False  True \n",
       "has_age                    \n",
       "False          68628   1727\n",
       "True            1964     37"
      ]
     },
     "execution_count": 245,
     "metadata": {},
     "output_type": "execute_result"
    }
   ],
   "source": [
    "pd.crosstab(projects['has_age']>0,projects['has_inclusion']>0)"
   ]
  },
  {
   "cell_type": "code",
   "execution_count": 20,
   "metadata": {},
   "outputs": [
    {
     "data": {
      "text/html": [
       "<div>\n",
       "<style scoped>\n",
       "    .dataframe tbody tr th:only-of-type {\n",
       "        vertical-align: middle;\n",
       "    }\n",
       "\n",
       "    .dataframe tbody tr th {\n",
       "        vertical-align: top;\n",
       "    }\n",
       "\n",
       "    .dataframe thead th {\n",
       "        text-align: right;\n",
       "    }\n",
       "</style>\n",
       "<table border=\"1\" class=\"dataframe\">\n",
       "  <thead>\n",
       "    <tr style=\"text-align: right;\">\n",
       "      <th></th>\n",
       "      <th>index</th>\n",
       "      <th>title</th>\n",
       "      <th>year</th>\n",
       "      <th>abstract</th>\n",
       "      <th>status</th>\n",
       "      <th>grant_category</th>\n",
       "      <th>funder</th>\n",
       "      <th>amount</th>\n",
       "      <th>biological_sciences</th>\n",
       "      <th>physics</th>\n",
       "      <th>...</th>\n",
       "      <th>arts_humanities</th>\n",
       "      <th>prods</th>\n",
       "      <th>ip</th>\n",
       "      <th>tech</th>\n",
       "      <th>spin</th>\n",
       "      <th>pubs</th>\n",
       "      <th>has_ai</th>\n",
       "      <th>has_chronic</th>\n",
       "      <th>has_age</th>\n",
       "      <th>has_inclusion</th>\n",
       "    </tr>\n",
       "  </thead>\n",
       "  <tbody>\n",
       "    <tr>\n",
       "      <th>2370</th>\n",
       "      <td>098AFC90-05C9-4F53-A584-F780EA2BD004</td>\n",
       "      <td>MECHANISM OF INFLAMMATION IN ENVIRONMENTAL ENT...</td>\n",
       "      <td>2018.0</td>\n",
       "      <td>Malnutrition is the greatest barrier to health...</td>\n",
       "      <td>Active</td>\n",
       "      <td>Fellowship</td>\n",
       "      <td>MRC</td>\n",
       "      <td>815863.0</td>\n",
       "      <td>0.000027</td>\n",
       "      <td>1.192120e-08</td>\n",
       "      <td>...</td>\n",
       "      <td>0.000001</td>\n",
       "      <td>0.0</td>\n",
       "      <td>0.0</td>\n",
       "      <td>0.0</td>\n",
       "      <td>0.0</td>\n",
       "      <td>0.0</td>\n",
       "      <td>0</td>\n",
       "      <td>1</td>\n",
       "      <td>1</td>\n",
       "      <td>1</td>\n",
       "    </tr>\n",
       "    <tr>\n",
       "      <th>2656</th>\n",
       "      <td>0AA6BCA6-50DD-4767-87B2-AFE0D7399233</td>\n",
       "      <td>Enabling Ongoingness: Content Creation &amp;amp; C...</td>\n",
       "      <td>2017.0</td>\n",
       "      <td>The 'oldest old' are the fastest growing age g...</td>\n",
       "      <td>Active</td>\n",
       "      <td>Research Grant</td>\n",
       "      <td>EPSRC</td>\n",
       "      <td>885437.0</td>\n",
       "      <td>0.000029</td>\n",
       "      <td>1.483308e-09</td>\n",
       "      <td>...</td>\n",
       "      <td>0.415132</td>\n",
       "      <td>0.0</td>\n",
       "      <td>0.0</td>\n",
       "      <td>0.0</td>\n",
       "      <td>0.0</td>\n",
       "      <td>0.0</td>\n",
       "      <td>0</td>\n",
       "      <td>0</td>\n",
       "      <td>1</td>\n",
       "      <td>1</td>\n",
       "    </tr>\n",
       "    <tr>\n",
       "      <th>10048</th>\n",
       "      <td>27E22B78-1328-4874-B4A1-A2BBD48F00D7</td>\n",
       "      <td>Causes of heterogeneity in ageing - the Whiteh...</td>\n",
       "      <td>2010.0</td>\n",
       "      <td>When the Whitehall II study started in 1985 it...</td>\n",
       "      <td>Closed</td>\n",
       "      <td>Research Grant</td>\n",
       "      <td>MRC</td>\n",
       "      <td>2099998.0</td>\n",
       "      <td>0.000966</td>\n",
       "      <td>4.291643e-08</td>\n",
       "      <td>...</td>\n",
       "      <td>0.000847</td>\n",
       "      <td>0.0</td>\n",
       "      <td>0.0</td>\n",
       "      <td>0.0</td>\n",
       "      <td>0.0</td>\n",
       "      <td>944.0</td>\n",
       "      <td>0</td>\n",
       "      <td>1</td>\n",
       "      <td>3</td>\n",
       "      <td>1</td>\n",
       "    </tr>\n",
       "    <tr>\n",
       "      <th>10142</th>\n",
       "      <td>2835D915-D062-4B01-89BC-140637C6A54D</td>\n",
       "      <td>How do neighbourhood deprivation and neighbour...</td>\n",
       "      <td>2017.0</td>\n",
       "      <td>How do neighbourhood deprivation and neighbour...</td>\n",
       "      <td>Active</td>\n",
       "      <td>Studentship</td>\n",
       "      <td>ESRC</td>\n",
       "      <td>0.0</td>\n",
       "      <td>0.001661</td>\n",
       "      <td>4.205033e-06</td>\n",
       "      <td>...</td>\n",
       "      <td>0.001017</td>\n",
       "      <td>0.0</td>\n",
       "      <td>0.0</td>\n",
       "      <td>0.0</td>\n",
       "      <td>0.0</td>\n",
       "      <td>0.0</td>\n",
       "      <td>0</td>\n",
       "      <td>0</td>\n",
       "      <td>1</td>\n",
       "      <td>1</td>\n",
       "    </tr>\n",
       "    <tr>\n",
       "      <th>10178</th>\n",
       "      <td>28649AB9-D8A5-4017-905A-7A4147D98915</td>\n",
       "      <td>Family Demography and Health in Low- and Middl...</td>\n",
       "      <td>2013.0</td>\n",
       "      <td>Intergenerational relations involve the exchan...</td>\n",
       "      <td>Closed</td>\n",
       "      <td>Research Grant</td>\n",
       "      <td>ESRC</td>\n",
       "      <td>17070.0</td>\n",
       "      <td>0.000142</td>\n",
       "      <td>1.276702e-07</td>\n",
       "      <td>...</td>\n",
       "      <td>0.002074</td>\n",
       "      <td>0.0</td>\n",
       "      <td>0.0</td>\n",
       "      <td>0.0</td>\n",
       "      <td>0.0</td>\n",
       "      <td>14.0</td>\n",
       "      <td>0</td>\n",
       "      <td>0</td>\n",
       "      <td>1</td>\n",
       "      <td>1</td>\n",
       "    </tr>\n",
       "  </tbody>\n",
       "</table>\n",
       "<p>5 rows × 25 columns</p>\n",
       "</div>"
      ],
      "text/plain": [
       "                                      index  \\\n",
       "2370   098AFC90-05C9-4F53-A584-F780EA2BD004   \n",
       "2656   0AA6BCA6-50DD-4767-87B2-AFE0D7399233   \n",
       "10048  27E22B78-1328-4874-B4A1-A2BBD48F00D7   \n",
       "10142  2835D915-D062-4B01-89BC-140637C6A54D   \n",
       "10178  28649AB9-D8A5-4017-905A-7A4147D98915   \n",
       "\n",
       "                                                   title    year  \\\n",
       "2370   MECHANISM OF INFLAMMATION IN ENVIRONMENTAL ENT...  2018.0   \n",
       "2656   Enabling Ongoingness: Content Creation &amp; C...  2017.0   \n",
       "10048  Causes of heterogeneity in ageing - the Whiteh...  2010.0   \n",
       "10142  How do neighbourhood deprivation and neighbour...  2017.0   \n",
       "10178  Family Demography and Health in Low- and Middl...  2013.0   \n",
       "\n",
       "                                                abstract  status  \\\n",
       "2370   Malnutrition is the greatest barrier to health...  Active   \n",
       "2656   The 'oldest old' are the fastest growing age g...  Active   \n",
       "10048  When the Whitehall II study started in 1985 it...  Closed   \n",
       "10142  How do neighbourhood deprivation and neighbour...  Active   \n",
       "10178  Intergenerational relations involve the exchan...  Closed   \n",
       "\n",
       "       grant_category funder     amount  biological_sciences       physics  \\\n",
       "2370       Fellowship    MRC   815863.0             0.000027  1.192120e-08   \n",
       "2656   Research Grant  EPSRC   885437.0             0.000029  1.483308e-09   \n",
       "10048  Research Grant    MRC  2099998.0             0.000966  4.291643e-08   \n",
       "10142     Studentship   ESRC        0.0             0.001661  4.205033e-06   \n",
       "10178  Research Grant   ESRC    17070.0             0.000142  1.276702e-07   \n",
       "\n",
       "           ...        arts_humanities  prods   ip  tech  spin   pubs  has_ai  \\\n",
       "2370       ...               0.000001    0.0  0.0   0.0   0.0    0.0       0   \n",
       "2656       ...               0.415132    0.0  0.0   0.0   0.0    0.0       0   \n",
       "10048      ...               0.000847    0.0  0.0   0.0   0.0  944.0       0   \n",
       "10142      ...               0.001017    0.0  0.0   0.0   0.0    0.0       0   \n",
       "10178      ...               0.002074    0.0  0.0   0.0   0.0   14.0       0   \n",
       "\n",
       "       has_chronic  has_age  has_inclusion  \n",
       "2370             1        1              1  \n",
       "2656             0        1              1  \n",
       "10048            1        3              1  \n",
       "10142            0        1              1  \n",
       "10178            0        1              1  \n",
       "\n",
       "[5 rows x 25 columns]"
      ]
     },
     "execution_count": 20,
     "metadata": {},
     "output_type": "execute_result"
    }
   ],
   "source": [
    "projects.loc[(projects['has_age']>0) & (projects['has_inclusion']>0)].head()"
   ]
  },
  {
   "cell_type": "code",
   "execution_count": null,
   "metadata": {},
   "outputs": [],
   "source": []
  },
  {
   "cell_type": "code",
   "execution_count": 25,
   "metadata": {},
   "outputs": [
    {
     "data": {
      "text/plain": [
       "733.3333333333334"
      ]
     },
     "execution_count": 25,
     "metadata": {},
     "output_type": "execute_result"
    }
   ],
   "source": [
    "1100*2/3"
   ]
  },
  {
   "cell_type": "code",
   "execution_count": null,
   "metadata": {},
   "outputs": [],
   "source": []
  }
 ],
 "metadata": {
  "kernelspec": {
   "display_name": "Python 3",
   "language": "python",
   "name": "python3"
  },
  "language_info": {
   "codemirror_mode": {
    "name": "ipython",
    "version": 3
   },
   "file_extension": ".py",
   "mimetype": "text/x-python",
   "name": "python",
   "nbconvert_exporter": "python",
   "pygments_lexer": "ipython3",
   "version": "3.7.1"
  }
 },
 "nbformat": 4,
 "nbformat_minor": 2
}
